{
 "cells": [
  {
   "cell_type": "markdown",
   "metadata": {
    "toc": true
   },
   "source": [
    "<h1>Table of Contents<span class=\"tocSkip\"></span></h1>\n",
    "<div class=\"toc\"><ul class=\"toc-item\"><li><span><a href=\"#Описание-тарифов\" data-toc-modified-id=\"Описание-тарифов-1\"><span class=\"toc-item-num\">1&nbsp;&nbsp;</span>Описание тарифов</a></span></li><li><span><a href=\"#Описание-данных\" data-toc-modified-id=\"Описание-данных-2\"><span class=\"toc-item-num\">2&nbsp;&nbsp;</span>Описание данных</a></span></li><li><span><a href=\"#Задачи\" data-toc-modified-id=\"Задачи-3\"><span class=\"toc-item-num\">3&nbsp;&nbsp;</span>Задачи</a></span></li><li><span><a href=\"#Изучение-данных-из-файлов\" data-toc-modified-id=\"Изучение-данных-из-файлов-4\"><span class=\"toc-item-num\">4&nbsp;&nbsp;</span>Изучение данных из файлов</a></span><ul class=\"toc-item\"><li><span><a href=\"#Таблица-по-звонкам-df_calls\" data-toc-modified-id=\"Таблица-по-звонкам-df_calls-4.1\"><span class=\"toc-item-num\">4.1&nbsp;&nbsp;</span>Таблица по звонкам df_calls</a></span></li><li><span><a href=\"#Таблица-с-данными-об-использовании-интернета-df_internet\" data-toc-modified-id=\"Таблица-с-данными-об-использовании-интернета-df_internet-4.2\"><span class=\"toc-item-num\">4.2&nbsp;&nbsp;</span>Таблица с данными об использовании интернета df_internet</a></span></li><li><span><a href=\"#Таблица-с-информацией-о-сообщениях-df_messages\" data-toc-modified-id=\"Таблица-с-информацией-о-сообщениях-df_messages-4.3\"><span class=\"toc-item-num\">4.3&nbsp;&nbsp;</span>Таблица с информацией о сообщениях df_messages</a></span></li><li><span><a href=\"#Таблица-с-данными-о-тарифах-df_tariffs\" data-toc-modified-id=\"Таблица-с-данными-о-тарифах-df_tariffs-4.4\"><span class=\"toc-item-num\">4.4&nbsp;&nbsp;</span>Таблица с данными о тарифах df_tariffs</a></span></li><li><span><a href=\"#Таблица-с-данными-о-пользователях-df_users\" data-toc-modified-id=\"Таблица-с-данными-о-пользователях-df_users-4.5\"><span class=\"toc-item-num\">4.5&nbsp;&nbsp;</span>Таблица с данными о пользователях df_users</a></span></li><li><span><a href=\"#Проверка-данных-на-дубликаты\" data-toc-modified-id=\"Проверка-данных-на-дубликаты-4.6\"><span class=\"toc-item-num\">4.6&nbsp;&nbsp;</span>Проверка данных на дубликаты</a></span></li></ul></li><li><span><a href=\"#Предобработка-данных\" data-toc-modified-id=\"Предобработка-данных-5\"><span class=\"toc-item-num\">5&nbsp;&nbsp;</span>Предобработка данных</a></span><ul class=\"toc-item\"><li><span><a href=\"#df_calls\" data-toc-modified-id=\"df_calls-5.1\"><span class=\"toc-item-num\">5.1&nbsp;&nbsp;</span>df_calls</a></span></li><li><span><a href=\"#df_internet\" data-toc-modified-id=\"df_internet-5.2\"><span class=\"toc-item-num\">5.2&nbsp;&nbsp;</span>df_internet</a></span></li><li><span><a href=\"#df_messages\" data-toc-modified-id=\"df_messages-5.3\"><span class=\"toc-item-num\">5.3&nbsp;&nbsp;</span>df_messages</a></span></li><li><span><a href=\"#df_users\" data-toc-modified-id=\"df_users-5.4\"><span class=\"toc-item-num\">5.4&nbsp;&nbsp;</span>df_users</a></span></li><li><span><a href=\"#Вывод\" data-toc-modified-id=\"Вывод-5.5\"><span class=\"toc-item-num\">5.5&nbsp;&nbsp;</span>Вывод</a></span></li></ul></li><li><span><a href=\"#Подготовка-данных\" data-toc-modified-id=\"Подготовка-данных-6\"><span class=\"toc-item-num\">6&nbsp;&nbsp;</span>Подготовка данных</a></span><ul class=\"toc-item\"><li><span><a href=\"#Количество-сделанных-звонков-и-израсходованных-минут-разговора\" data-toc-modified-id=\"Количество-сделанных-звонков-и-израсходованных-минут-разговора-6.1\"><span class=\"toc-item-num\">6.1&nbsp;&nbsp;</span>Количество сделанных звонков и израсходованных минут разговора</a></span></li><li><span><a href=\"#Количество-отправленных-сообщений-по-месяцам\" data-toc-modified-id=\"Количество-отправленных-сообщений-по-месяцам-6.2\"><span class=\"toc-item-num\">6.2&nbsp;&nbsp;</span>Количество отправленных сообщений по месяцам</a></span></li><li><span><a href=\"#Объем-израсходованного-интернет-трафика-по-месяцам\" data-toc-modified-id=\"Объем-израсходованного-интернет-трафика-по-месяцам-6.3\"><span class=\"toc-item-num\">6.3&nbsp;&nbsp;</span>Объем израсходованного интернет-трафика по месяцам</a></span></li><li><span><a href=\"#Объединение-таблиц\" data-toc-modified-id=\"Объединение-таблиц-6.4\"><span class=\"toc-item-num\">6.4&nbsp;&nbsp;</span>Объединение таблиц</a></span></li><li><span><a href=\"#Расчет-помесячной-выручки-с-каждого-пользователя\" data-toc-modified-id=\"Расчет-помесячной-выручки-с-каждого-пользователя-6.5\"><span class=\"toc-item-num\">6.5&nbsp;&nbsp;</span>Расчет помесячной выручки с каждого пользователя</a></span></li><li><span><a href=\"#Работа-с-пропущенными-значениями\" data-toc-modified-id=\"Работа-с-пропущенными-значениями-6.6\"><span class=\"toc-item-num\">6.6&nbsp;&nbsp;</span>Работа с пропущенными значениями</a></span></li><li><span><a href=\"#Перерасход-минут\" data-toc-modified-id=\"Перерасход-минут-6.7\"><span class=\"toc-item-num\">6.7&nbsp;&nbsp;</span>Перерасход минут</a></span></li><li><span><a href=\"#Перерасход-сообщений\" data-toc-modified-id=\"Перерасход-сообщений-6.8\"><span class=\"toc-item-num\">6.8&nbsp;&nbsp;</span>Перерасход сообщений</a></span></li><li><span><a href=\"#Перерасход-интернет-трафика\" data-toc-modified-id=\"Перерасход-интернет-трафика-6.9\"><span class=\"toc-item-num\">6.9&nbsp;&nbsp;</span>Перерасход интернет-трафика</a></span></li><li><span><a href=\"#Вывод\" data-toc-modified-id=\"Вывод-6.10\"><span class=\"toc-item-num\">6.10&nbsp;&nbsp;</span>Вывод</a></span></li></ul></li><li><span><a href=\"#Анализ-данных\" data-toc-modified-id=\"Анализ-данных-7\"><span class=\"toc-item-num\">7&nbsp;&nbsp;</span>Анализ данных</a></span><ul class=\"toc-item\"><li><span><a href=\"#Потребность-в-минутах-звонков-в-месяц\" data-toc-modified-id=\"Потребность-в-минутах-звонков-в-месяц-7.1\"><span class=\"toc-item-num\">7.1&nbsp;&nbsp;</span>Потребность в минутах звонков в месяц</a></span><ul class=\"toc-item\"><li><span><a href=\"#Гистограммы\" data-toc-modified-id=\"Гистограммы-7.1.1\"><span class=\"toc-item-num\">7.1.1&nbsp;&nbsp;</span>Гистограммы</a></span><ul class=\"toc-item\"><li><span><a href=\"#Тариф-Ultra\" data-toc-modified-id=\"Тариф-Ultra-7.1.1.1\"><span class=\"toc-item-num\">7.1.1.1&nbsp;&nbsp;</span>Тариф Ultra</a></span></li><li><span><a href=\"#Тариф-Smart\" data-toc-modified-id=\"Тариф-Smart-7.1.1.2\"><span class=\"toc-item-num\">7.1.1.2&nbsp;&nbsp;</span>Тариф Smart</a></span></li></ul></li><li><span><a href=\"#Дисперсия-и-стандартное-отклонение-по-звонкам\" data-toc-modified-id=\"Дисперсия-и-стандартное-отклонение-по-звонкам-7.1.2\"><span class=\"toc-item-num\">7.1.2&nbsp;&nbsp;</span>Дисперсия и стандартное отклонение по звонкам</a></span></li><li><span><a href=\"#Перерасход-звонков\" data-toc-modified-id=\"Перерасход-звонков-7.1.3\"><span class=\"toc-item-num\">7.1.3&nbsp;&nbsp;</span>Перерасход звонков</a></span></li><li><span><a href=\"#Вывод\" data-toc-modified-id=\"Вывод-7.1.4\"><span class=\"toc-item-num\">7.1.4&nbsp;&nbsp;</span>Вывод</a></span></li></ul></li><li><span><a href=\"#Потребность-в-сообщениях-в-месяц\" data-toc-modified-id=\"Потребность-в-сообщениях-в-месяц-7.2\"><span class=\"toc-item-num\">7.2&nbsp;&nbsp;</span>Потребность в сообщениях в месяц</a></span><ul class=\"toc-item\"><li><span><a href=\"#Гистограммы\" data-toc-modified-id=\"Гистограммы-7.2.1\"><span class=\"toc-item-num\">7.2.1&nbsp;&nbsp;</span>Гистограммы</a></span><ul class=\"toc-item\"><li><span><a href=\"#Тариф-Ultra\" data-toc-modified-id=\"Тариф-Ultra-7.2.1.1\"><span class=\"toc-item-num\">7.2.1.1&nbsp;&nbsp;</span>Тариф Ultra</a></span></li><li><span><a href=\"#Тариф-Smart\" data-toc-modified-id=\"Тариф-Smart-7.2.1.2\"><span class=\"toc-item-num\">7.2.1.2&nbsp;&nbsp;</span>Тариф Smart</a></span></li></ul></li><li><span><a href=\"#Дисперсия-и-стандартное-отклонение-по-сообщениям\" data-toc-modified-id=\"Дисперсия-и-стандартное-отклонение-по-сообщениям-7.2.2\"><span class=\"toc-item-num\">7.2.2&nbsp;&nbsp;</span>Дисперсия и стандартное отклонение по сообщениям</a></span></li><li><span><a href=\"#Перерасход-сообщений\" data-toc-modified-id=\"Перерасход-сообщений-7.2.3\"><span class=\"toc-item-num\">7.2.3&nbsp;&nbsp;</span>Перерасход сообщений</a></span></li><li><span><a href=\"#Вывод\" data-toc-modified-id=\"Вывод-7.2.4\"><span class=\"toc-item-num\">7.2.4&nbsp;&nbsp;</span>Вывод</a></span></li></ul></li><li><span><a href=\"#Потребность-в-интернет-трафике-в-месяц\" data-toc-modified-id=\"Потребность-в-интернет-трафике-в-месяц-7.3\"><span class=\"toc-item-num\">7.3&nbsp;&nbsp;</span>Потребность в интернет-трафике в месяц</a></span><ul class=\"toc-item\"><li><span><a href=\"#Гистограммы\" data-toc-modified-id=\"Гистограммы-7.3.1\"><span class=\"toc-item-num\">7.3.1&nbsp;&nbsp;</span>Гистограммы</a></span><ul class=\"toc-item\"><li><span><a href=\"#Тариф-Ultra\" data-toc-modified-id=\"Тариф-Ultra-7.3.1.1\"><span class=\"toc-item-num\">7.3.1.1&nbsp;&nbsp;</span>Тариф Ultra</a></span></li><li><span><a href=\"#Тариф-Smart\" data-toc-modified-id=\"Тариф-Smart-7.3.1.2\"><span class=\"toc-item-num\">7.3.1.2&nbsp;&nbsp;</span>Тариф Smart</a></span></li></ul></li><li><span><a href=\"#Дисперсия-для-интернет-трафика\" data-toc-modified-id=\"Дисперсия-для-интернет-трафика-7.3.2\"><span class=\"toc-item-num\">7.3.2&nbsp;&nbsp;</span>Дисперсия для интернет-трафика</a></span></li><li><span><a href=\"#Перерасход-трафика\" data-toc-modified-id=\"Перерасход-трафика-7.3.3\"><span class=\"toc-item-num\">7.3.3&nbsp;&nbsp;</span>Перерасход трафика</a></span></li><li><span><a href=\"#Вывод\" data-toc-modified-id=\"Вывод-7.3.4\"><span class=\"toc-item-num\">7.3.4&nbsp;&nbsp;</span>Вывод</a></span></li></ul></li><li><span><a href=\"#Дисперсия,-стандартное-отклонение-и-гистограммы-по-выручке\" data-toc-modified-id=\"Дисперсия,-стандартное-отклонение-и-гистограммы-по-выручке-7.4\"><span class=\"toc-item-num\">7.4&nbsp;&nbsp;</span>Дисперсия, стандартное отклонение и гистограммы по выручке</a></span></li><li><span><a href=\"#Вывод-по-анализу-данных\" data-toc-modified-id=\"Вывод-по-анализу-данных-7.5\"><span class=\"toc-item-num\">7.5&nbsp;&nbsp;</span>Вывод по анализу данных</a></span></li></ul></li><li><span><a href=\"#Проверка-гипотез\" data-toc-modified-id=\"Проверка-гипотез-8\"><span class=\"toc-item-num\">8&nbsp;&nbsp;</span>Проверка гипотез</a></span><ul class=\"toc-item\"><li><span><a href=\"#Проверка-гипотезы-&quot;средняя-выручка-пользователей-тарифов-«Ультра»-и-«Смарт»-различаются&quot;\" data-toc-modified-id=\"Проверка-гипотезы-&quot;средняя-выручка-пользователей-тарифов-«Ультра»-и-«Смарт»-различаются&quot;-8.1\"><span class=\"toc-item-num\">8.1&nbsp;&nbsp;</span>Проверка гипотезы \"средняя выручка пользователей тарифов «Ультра» и «Смарт» различаются\"</a></span></li><li><span><a href=\"#Проверка-гипотезы-&quot;средняя-выручка-пользователей-из-Москвы-отличается-от-выручки-пользователей-из-других-регионов&quot;\" data-toc-modified-id=\"Проверка-гипотезы-&quot;средняя-выручка-пользователей-из-Москвы-отличается-от-выручки-пользователей-из-других-регионов&quot;-8.2\"><span class=\"toc-item-num\">8.2&nbsp;&nbsp;</span>Проверка гипотезы \"средняя выручка пользователей из Москвы отличается от выручки пользователей из других регионов\"</a></span></li></ul></li><li><span><a href=\"#Вывод\" data-toc-modified-id=\"Вывод-9\"><span class=\"toc-item-num\">9&nbsp;&nbsp;</span>Вывод</a></span></li></ul></div>"
   ]
  },
  {
   "cell_type": "markdown",
   "metadata": {},
   "source": [
    "# Исследование тарифов оператора сотовой связи\n",
    "Нужно сделать предварительный анализ тарифов на небольшой выборке клиентов. В таблице данные о 500 клиентах.\n",
    "**Нужно проанализировать поведение клиентов и сделать вывод — какой тариф лучше.**"
   ]
  },
  {
   "cell_type": "markdown",
   "metadata": {},
   "source": [
    "## Описание тарифов\n",
    "**Тариф «Смарт»**\n",
    "1.\tЕжемесячная плата: 550 рублей\n",
    "2.\tВключено 500 минут разговора, 50 сообщений и 15 Гб интернет-трафика\n",
    "3.\tСтоимость услуг сверх тарифного пакета:\n",
    "    * минута разговора: 3 рубля\n",
    "    * сообщение: 3 рубля\n",
    "    * 1 Гб интернет-трафика: 200 рублей\n",
    "\n",
    "\n",
    "**Тариф «Ультра»**\n",
    "1.\tЕжемесячная плата: 1950 рублей\n",
    "2.\tВключено 3000 минут разговора, 1000 сообщений и 30 Гб интернет-трафика\n",
    "3.\tСтоимость услуг сверх тарифного пакета:\n",
    "    * минута разговора: 1 рубль\n",
    "    * сообщение: 1 рубль\n",
    "    * 1 Гб интернет-трафика: 150 рублей\n",
    "    \n",
    "**Примечание:**\n",
    "Оператор всегда округляет секунды до минут, а мегабайты — до гигабайт. Каждый звонок округляется отдельно: даже если он длился всего 1 секунду, будет засчитан как 1 минута.\n",
    "Для веб-трафика отдельные сессии не считаются. Вместо этого общая сумма за месяц округляется в бо́льшую сторону. Если абонент использует 1025 мегабайт в этом месяце, с него возьмут плату за 2 гигабайта."
   ]
  },
  {
   "cell_type": "markdown",
   "metadata": {},
   "source": [
    "## Описание данных\n",
    "**Таблица users (информация о пользователях):**\n",
    "\n",
    "* user_id — уникальный идентификатор пользователя\n",
    "* first_name — имя пользователя\n",
    "* last_name — фамилия пользователя\n",
    "* age — возраст пользователя (годы)\n",
    "* reg_date — дата подключения тарифа (день, месяц, год)\n",
    "* churn_date — дата прекращения пользования тарифом (если значение пропущено, то тариф ещё действовал на момент выгрузки данных)\n",
    "* city — город проживания пользователя\n",
    "* tarif — название тарифного плана\n",
    "\n",
    "**Таблица calls (информация о звонках):**\n",
    "\n",
    "* id — уникальный номер звонка\n",
    "* call_date — дата звонка\n",
    "* duration — длительность звонка в минутах\n",
    "* user_id — идентификатор пользователя, сделавшего звонок\n",
    "\n",
    "**Таблица messages (информация о сообщениях):**\n",
    "\n",
    "* id — уникальный номер сообщения\n",
    "* message_date — дата сообщения\n",
    "* user_id — идентификатор пользователя, отправившего сообщение\n",
    "\n",
    "**Таблица internet (информация об интернет-сессиях):**\n",
    "\n",
    "* id — уникальный номер сессии\n",
    "* mb_used — объём потраченного за сессию интернет-трафика (в мегабайтах)\n",
    "* session_date — дата интернет-сессии\n",
    "* user_id — идентификатор пользователя\n",
    "\n",
    "**Таблица tariffs (информация о тарифах):**\n",
    "\n",
    "* tariff_name — название тарифа\n",
    "* rub_monthly_fee — ежемесячная абонентская плата в рублях\n",
    "* minutes_included — количество минут разговора в месяц, включённых в абонентскую плату\n",
    "* messages_included — количество сообщений в месяц, включённых в абонентскую плату\n",
    "* mb_per_month_included — объём интернет-трафика, включённого в абонентскую плату (в мегабайтах)\n",
    "* rub_per_minute — стоимость минуты разговора сверх тарифного пакета (например, если в тарифе 100 минут разговора в месяц, то со 101 минуты будет взиматься плата)\n",
    "* rub_per_message — стоимость отправки сообщения сверх тарифного пакета\n",
    "* rub_per_gb — стоимость дополнительного гигабайта интернет-трафика сверх тарифного пакета (1 гигабайт = 1024 мегабайта)"
   ]
  },
  {
   "cell_type": "markdown",
   "metadata": {},
   "source": [
    "## Задачи\n",
    "Посчитайте для каждого пользователя:\n",
    "* количество сделанных звонков и израсходованных минут разговора по месяцам;\n",
    "* количество отправленных сообщений по месяцам;\n",
    "* объем израсходованного интернет-трафика по месяцам;\n",
    "* помесячную выручку с каждого пользователя (вычтите бесплатный лимит из суммарного количества звонков, сообщений и интернет-трафика; остаток умножьте на значение из тарифного плана; прибавьте абонентскую плату, соответствующую тарифному плану)."
   ]
  },
  {
   "cell_type": "markdown",
   "metadata": {},
   "source": [
    "## Изучение данных из файлов"
   ]
  },
  {
   "cell_type": "code",
   "execution_count": 1,
   "metadata": {},
   "outputs": [],
   "source": [
    "import pandas as pd\n",
    "import math as mt\n",
    "import numpy as np\n",
    "from scipy import stats as st\n",
    "import matplotlib.pyplot as plt\n",
    "import seaborn as sns"
   ]
  },
  {
   "cell_type": "markdown",
   "metadata": {},
   "source": [
    "### Таблица по звонкам df_calls"
   ]
  },
  {
   "cell_type": "code",
   "execution_count": 2,
   "metadata": {
    "scrolled": false
   },
   "outputs": [
    {
     "name": "stdout",
     "output_type": "stream",
     "text": [
      "<class 'pandas.core.frame.DataFrame'>\n",
      "RangeIndex: 202607 entries, 0 to 202606\n",
      "Data columns (total 4 columns):\n",
      " #   Column     Non-Null Count   Dtype  \n",
      "---  ------     --------------   -----  \n",
      " 0   id         202607 non-null  object \n",
      " 1   call_date  202607 non-null  object \n",
      " 2   duration   202607 non-null  float64\n",
      " 3   user_id    202607 non-null  int64  \n",
      "dtypes: float64(1), int64(1), object(2)\n",
      "memory usage: 6.2+ MB\n"
     ]
    },
    {
     "data": {
      "text/html": [
       "<div>\n",
       "<style scoped>\n",
       "    .dataframe tbody tr th:only-of-type {\n",
       "        vertical-align: middle;\n",
       "    }\n",
       "\n",
       "    .dataframe tbody tr th {\n",
       "        vertical-align: top;\n",
       "    }\n",
       "\n",
       "    .dataframe thead th {\n",
       "        text-align: right;\n",
       "    }\n",
       "</style>\n",
       "<table border=\"1\" class=\"dataframe\">\n",
       "  <thead>\n",
       "    <tr style=\"text-align: right;\">\n",
       "      <th></th>\n",
       "      <th>id</th>\n",
       "      <th>call_date</th>\n",
       "      <th>duration</th>\n",
       "      <th>user_id</th>\n",
       "    </tr>\n",
       "  </thead>\n",
       "  <tbody>\n",
       "    <tr>\n",
       "      <th>0</th>\n",
       "      <td>1000_0</td>\n",
       "      <td>2018-07-25</td>\n",
       "      <td>0.00</td>\n",
       "      <td>1000</td>\n",
       "    </tr>\n",
       "    <tr>\n",
       "      <th>1</th>\n",
       "      <td>1000_1</td>\n",
       "      <td>2018-08-17</td>\n",
       "      <td>0.00</td>\n",
       "      <td>1000</td>\n",
       "    </tr>\n",
       "    <tr>\n",
       "      <th>2</th>\n",
       "      <td>1000_2</td>\n",
       "      <td>2018-06-11</td>\n",
       "      <td>2.85</td>\n",
       "      <td>1000</td>\n",
       "    </tr>\n",
       "    <tr>\n",
       "      <th>3</th>\n",
       "      <td>1000_3</td>\n",
       "      <td>2018-09-21</td>\n",
       "      <td>13.80</td>\n",
       "      <td>1000</td>\n",
       "    </tr>\n",
       "    <tr>\n",
       "      <th>4</th>\n",
       "      <td>1000_4</td>\n",
       "      <td>2018-12-15</td>\n",
       "      <td>5.18</td>\n",
       "      <td>1000</td>\n",
       "    </tr>\n",
       "  </tbody>\n",
       "</table>\n",
       "</div>"
      ],
      "text/plain": [
       "       id   call_date  duration  user_id\n",
       "0  1000_0  2018-07-25      0.00     1000\n",
       "1  1000_1  2018-08-17      0.00     1000\n",
       "2  1000_2  2018-06-11      2.85     1000\n",
       "3  1000_3  2018-09-21     13.80     1000\n",
       "4  1000_4  2018-12-15      5.18     1000"
      ]
     },
     "execution_count": 2,
     "metadata": {},
     "output_type": "execute_result"
    }
   ],
   "source": [
    "df_calls = pd.read_csv('calls.csv')\n",
    "df_calls.info()\n",
    "df_calls.head()"
   ]
  },
  {
   "cell_type": "markdown",
   "metadata": {},
   "source": [
    "Из информации о таблице видно, что данные в столбце car_date с типом object, их нужно будет перевести в datetime.\n",
    "Остальные данные на первый взгляд впорядке."
   ]
  },
  {
   "cell_type": "markdown",
   "metadata": {},
   "source": [
    "### Таблица с данными об использовании интернета df_internet"
   ]
  },
  {
   "cell_type": "code",
   "execution_count": 3,
   "metadata": {
    "scrolled": true
   },
   "outputs": [
    {
     "name": "stdout",
     "output_type": "stream",
     "text": [
      "<class 'pandas.core.frame.DataFrame'>\n",
      "RangeIndex: 149396 entries, 0 to 149395\n",
      "Data columns (total 5 columns):\n",
      " #   Column        Non-Null Count   Dtype  \n",
      "---  ------        --------------   -----  \n",
      " 0   Unnamed: 0    149396 non-null  int64  \n",
      " 1   id            149396 non-null  object \n",
      " 2   mb_used       149396 non-null  float64\n",
      " 3   session_date  149396 non-null  object \n",
      " 4   user_id       149396 non-null  int64  \n",
      "dtypes: float64(1), int64(2), object(2)\n",
      "memory usage: 5.7+ MB\n"
     ]
    },
    {
     "data": {
      "text/html": [
       "<div>\n",
       "<style scoped>\n",
       "    .dataframe tbody tr th:only-of-type {\n",
       "        vertical-align: middle;\n",
       "    }\n",
       "\n",
       "    .dataframe tbody tr th {\n",
       "        vertical-align: top;\n",
       "    }\n",
       "\n",
       "    .dataframe thead th {\n",
       "        text-align: right;\n",
       "    }\n",
       "</style>\n",
       "<table border=\"1\" class=\"dataframe\">\n",
       "  <thead>\n",
       "    <tr style=\"text-align: right;\">\n",
       "      <th></th>\n",
       "      <th>Unnamed: 0</th>\n",
       "      <th>id</th>\n",
       "      <th>mb_used</th>\n",
       "      <th>session_date</th>\n",
       "      <th>user_id</th>\n",
       "    </tr>\n",
       "  </thead>\n",
       "  <tbody>\n",
       "    <tr>\n",
       "      <th>0</th>\n",
       "      <td>0</td>\n",
       "      <td>1000_0</td>\n",
       "      <td>112.95</td>\n",
       "      <td>2018-11-25</td>\n",
       "      <td>1000</td>\n",
       "    </tr>\n",
       "    <tr>\n",
       "      <th>1</th>\n",
       "      <td>1</td>\n",
       "      <td>1000_1</td>\n",
       "      <td>1052.81</td>\n",
       "      <td>2018-09-07</td>\n",
       "      <td>1000</td>\n",
       "    </tr>\n",
       "    <tr>\n",
       "      <th>2</th>\n",
       "      <td>2</td>\n",
       "      <td>1000_2</td>\n",
       "      <td>1197.26</td>\n",
       "      <td>2018-06-25</td>\n",
       "      <td>1000</td>\n",
       "    </tr>\n",
       "    <tr>\n",
       "      <th>3</th>\n",
       "      <td>3</td>\n",
       "      <td>1000_3</td>\n",
       "      <td>550.27</td>\n",
       "      <td>2018-08-22</td>\n",
       "      <td>1000</td>\n",
       "    </tr>\n",
       "    <tr>\n",
       "      <th>4</th>\n",
       "      <td>4</td>\n",
       "      <td>1000_4</td>\n",
       "      <td>302.56</td>\n",
       "      <td>2018-09-24</td>\n",
       "      <td>1000</td>\n",
       "    </tr>\n",
       "  </tbody>\n",
       "</table>\n",
       "</div>"
      ],
      "text/plain": [
       "   Unnamed: 0      id  mb_used session_date  user_id\n",
       "0           0  1000_0   112.95   2018-11-25     1000\n",
       "1           1  1000_1  1052.81   2018-09-07     1000\n",
       "2           2  1000_2  1197.26   2018-06-25     1000\n",
       "3           3  1000_3   550.27   2018-08-22     1000\n",
       "4           4  1000_4   302.56   2018-09-24     1000"
      ]
     },
     "execution_count": 3,
     "metadata": {},
     "output_type": "execute_result"
    }
   ],
   "source": [
    "df_internet = pd.read_csv('internet.csv')\n",
    "df_internet.info()\n",
    "df_internet.head()"
   ]
  },
  {
   "cell_type": "markdown",
   "metadata": {},
   "source": [
    "Из данных о таблице видно, что появился лишний столбец Unnamed: 0, который не указан в описании таблицы, предположительно, это лишний индекс.\n",
    "Так же в столбце session_date находятся данные с типом object, их нужно будет перевести в datetime. \n"
   ]
  },
  {
   "cell_type": "markdown",
   "metadata": {},
   "source": [
    "### Таблица с информацией о сообщениях df_messages"
   ]
  },
  {
   "cell_type": "code",
   "execution_count": 4,
   "metadata": {
    "scrolled": false
   },
   "outputs": [
    {
     "name": "stdout",
     "output_type": "stream",
     "text": [
      "<class 'pandas.core.frame.DataFrame'>\n",
      "RangeIndex: 123036 entries, 0 to 123035\n",
      "Data columns (total 3 columns):\n",
      " #   Column        Non-Null Count   Dtype \n",
      "---  ------        --------------   ----- \n",
      " 0   id            123036 non-null  object\n",
      " 1   message_date  123036 non-null  object\n",
      " 2   user_id       123036 non-null  int64 \n",
      "dtypes: int64(1), object(2)\n",
      "memory usage: 2.8+ MB\n"
     ]
    },
    {
     "data": {
      "text/html": [
       "<div>\n",
       "<style scoped>\n",
       "    .dataframe tbody tr th:only-of-type {\n",
       "        vertical-align: middle;\n",
       "    }\n",
       "\n",
       "    .dataframe tbody tr th {\n",
       "        vertical-align: top;\n",
       "    }\n",
       "\n",
       "    .dataframe thead th {\n",
       "        text-align: right;\n",
       "    }\n",
       "</style>\n",
       "<table border=\"1\" class=\"dataframe\">\n",
       "  <thead>\n",
       "    <tr style=\"text-align: right;\">\n",
       "      <th></th>\n",
       "      <th>id</th>\n",
       "      <th>message_date</th>\n",
       "      <th>user_id</th>\n",
       "    </tr>\n",
       "  </thead>\n",
       "  <tbody>\n",
       "    <tr>\n",
       "      <th>0</th>\n",
       "      <td>1000_0</td>\n",
       "      <td>2018-06-27</td>\n",
       "      <td>1000</td>\n",
       "    </tr>\n",
       "    <tr>\n",
       "      <th>1</th>\n",
       "      <td>1000_1</td>\n",
       "      <td>2018-10-08</td>\n",
       "      <td>1000</td>\n",
       "    </tr>\n",
       "    <tr>\n",
       "      <th>2</th>\n",
       "      <td>1000_2</td>\n",
       "      <td>2018-08-04</td>\n",
       "      <td>1000</td>\n",
       "    </tr>\n",
       "    <tr>\n",
       "      <th>3</th>\n",
       "      <td>1000_3</td>\n",
       "      <td>2018-06-16</td>\n",
       "      <td>1000</td>\n",
       "    </tr>\n",
       "    <tr>\n",
       "      <th>4</th>\n",
       "      <td>1000_4</td>\n",
       "      <td>2018-12-05</td>\n",
       "      <td>1000</td>\n",
       "    </tr>\n",
       "  </tbody>\n",
       "</table>\n",
       "</div>"
      ],
      "text/plain": [
       "       id message_date  user_id\n",
       "0  1000_0   2018-06-27     1000\n",
       "1  1000_1   2018-10-08     1000\n",
       "2  1000_2   2018-08-04     1000\n",
       "3  1000_3   2018-06-16     1000\n",
       "4  1000_4   2018-12-05     1000"
      ]
     },
     "execution_count": 4,
     "metadata": {},
     "output_type": "execute_result"
    }
   ],
   "source": [
    "df_messages = pd.read_csv('messages.csv')\n",
    "df_messages.info()\n",
    "df_messages.head()"
   ]
  },
  {
   "cell_type": "markdown",
   "metadata": {},
   "source": [
    "В столбце message_date находятся данные с типом object, их нужно будет перевести в datetime."
   ]
  },
  {
   "cell_type": "markdown",
   "metadata": {},
   "source": [
    "### Таблица с данными о тарифах df_tariffs"
   ]
  },
  {
   "cell_type": "code",
   "execution_count": 5,
   "metadata": {
    "scrolled": false
   },
   "outputs": [
    {
     "name": "stdout",
     "output_type": "stream",
     "text": [
      "<class 'pandas.core.frame.DataFrame'>\n",
      "RangeIndex: 2 entries, 0 to 1\n",
      "Data columns (total 8 columns):\n",
      " #   Column                 Non-Null Count  Dtype \n",
      "---  ------                 --------------  ----- \n",
      " 0   messages_included      2 non-null      int64 \n",
      " 1   mb_per_month_included  2 non-null      int64 \n",
      " 2   minutes_included       2 non-null      int64 \n",
      " 3   rub_monthly_fee        2 non-null      int64 \n",
      " 4   rub_per_gb             2 non-null      int64 \n",
      " 5   rub_per_message        2 non-null      int64 \n",
      " 6   rub_per_minute         2 non-null      int64 \n",
      " 7   tariff_name            2 non-null      object\n",
      "dtypes: int64(7), object(1)\n",
      "memory usage: 256.0+ bytes\n"
     ]
    },
    {
     "data": {
      "text/html": [
       "<div>\n",
       "<style scoped>\n",
       "    .dataframe tbody tr th:only-of-type {\n",
       "        vertical-align: middle;\n",
       "    }\n",
       "\n",
       "    .dataframe tbody tr th {\n",
       "        vertical-align: top;\n",
       "    }\n",
       "\n",
       "    .dataframe thead th {\n",
       "        text-align: right;\n",
       "    }\n",
       "</style>\n",
       "<table border=\"1\" class=\"dataframe\">\n",
       "  <thead>\n",
       "    <tr style=\"text-align: right;\">\n",
       "      <th></th>\n",
       "      <th>messages_included</th>\n",
       "      <th>mb_per_month_included</th>\n",
       "      <th>minutes_included</th>\n",
       "      <th>rub_monthly_fee</th>\n",
       "      <th>rub_per_gb</th>\n",
       "      <th>rub_per_message</th>\n",
       "      <th>rub_per_minute</th>\n",
       "      <th>tariff_name</th>\n",
       "    </tr>\n",
       "  </thead>\n",
       "  <tbody>\n",
       "    <tr>\n",
       "      <th>0</th>\n",
       "      <td>50</td>\n",
       "      <td>15360</td>\n",
       "      <td>500</td>\n",
       "      <td>550</td>\n",
       "      <td>200</td>\n",
       "      <td>3</td>\n",
       "      <td>3</td>\n",
       "      <td>smart</td>\n",
       "    </tr>\n",
       "    <tr>\n",
       "      <th>1</th>\n",
       "      <td>1000</td>\n",
       "      <td>30720</td>\n",
       "      <td>3000</td>\n",
       "      <td>1950</td>\n",
       "      <td>150</td>\n",
       "      <td>1</td>\n",
       "      <td>1</td>\n",
       "      <td>ultra</td>\n",
       "    </tr>\n",
       "  </tbody>\n",
       "</table>\n",
       "</div>"
      ],
      "text/plain": [
       "   messages_included  mb_per_month_included  minutes_included  \\\n",
       "0                 50                  15360               500   \n",
       "1               1000                  30720              3000   \n",
       "\n",
       "   rub_monthly_fee  rub_per_gb  rub_per_message  rub_per_minute tariff_name  \n",
       "0              550         200                3               3       smart  \n",
       "1             1950         150                1               1       ultra  "
      ]
     },
     "execution_count": 5,
     "metadata": {},
     "output_type": "execute_result"
    }
   ],
   "source": [
    "df_tariffs = pd.read_csv('tariffs.csv')\n",
    "df_tariffs.info()\n",
    "df_tariffs"
   ]
  },
  {
   "cell_type": "markdown",
   "metadata": {},
   "source": [
    "### Таблица с данными о пользователях df_users"
   ]
  },
  {
   "cell_type": "code",
   "execution_count": 6,
   "metadata": {
    "scrolled": false
   },
   "outputs": [
    {
     "name": "stdout",
     "output_type": "stream",
     "text": [
      "<class 'pandas.core.frame.DataFrame'>\n",
      "RangeIndex: 500 entries, 0 to 499\n",
      "Data columns (total 8 columns):\n",
      " #   Column      Non-Null Count  Dtype \n",
      "---  ------      --------------  ----- \n",
      " 0   user_id     500 non-null    int64 \n",
      " 1   age         500 non-null    int64 \n",
      " 2   churn_date  38 non-null     object\n",
      " 3   city        500 non-null    object\n",
      " 4   first_name  500 non-null    object\n",
      " 5   last_name   500 non-null    object\n",
      " 6   reg_date    500 non-null    object\n",
      " 7   tariff      500 non-null    object\n",
      "dtypes: int64(2), object(6)\n",
      "memory usage: 31.4+ KB\n"
     ]
    },
    {
     "data": {
      "text/html": [
       "<div>\n",
       "<style scoped>\n",
       "    .dataframe tbody tr th:only-of-type {\n",
       "        vertical-align: middle;\n",
       "    }\n",
       "\n",
       "    .dataframe tbody tr th {\n",
       "        vertical-align: top;\n",
       "    }\n",
       "\n",
       "    .dataframe thead th {\n",
       "        text-align: right;\n",
       "    }\n",
       "</style>\n",
       "<table border=\"1\" class=\"dataframe\">\n",
       "  <thead>\n",
       "    <tr style=\"text-align: right;\">\n",
       "      <th></th>\n",
       "      <th>user_id</th>\n",
       "      <th>age</th>\n",
       "      <th>churn_date</th>\n",
       "      <th>city</th>\n",
       "      <th>first_name</th>\n",
       "      <th>last_name</th>\n",
       "      <th>reg_date</th>\n",
       "      <th>tariff</th>\n",
       "    </tr>\n",
       "  </thead>\n",
       "  <tbody>\n",
       "    <tr>\n",
       "      <th>0</th>\n",
       "      <td>1000</td>\n",
       "      <td>52</td>\n",
       "      <td>NaN</td>\n",
       "      <td>Краснодар</td>\n",
       "      <td>Рафаил</td>\n",
       "      <td>Верещагин</td>\n",
       "      <td>2018-05-25</td>\n",
       "      <td>ultra</td>\n",
       "    </tr>\n",
       "    <tr>\n",
       "      <th>1</th>\n",
       "      <td>1001</td>\n",
       "      <td>41</td>\n",
       "      <td>NaN</td>\n",
       "      <td>Москва</td>\n",
       "      <td>Иван</td>\n",
       "      <td>Ежов</td>\n",
       "      <td>2018-11-01</td>\n",
       "      <td>smart</td>\n",
       "    </tr>\n",
       "    <tr>\n",
       "      <th>2</th>\n",
       "      <td>1002</td>\n",
       "      <td>59</td>\n",
       "      <td>NaN</td>\n",
       "      <td>Стерлитамак</td>\n",
       "      <td>Евгений</td>\n",
       "      <td>Абрамович</td>\n",
       "      <td>2018-06-17</td>\n",
       "      <td>smart</td>\n",
       "    </tr>\n",
       "    <tr>\n",
       "      <th>3</th>\n",
       "      <td>1003</td>\n",
       "      <td>23</td>\n",
       "      <td>NaN</td>\n",
       "      <td>Москва</td>\n",
       "      <td>Белла</td>\n",
       "      <td>Белякова</td>\n",
       "      <td>2018-08-17</td>\n",
       "      <td>ultra</td>\n",
       "    </tr>\n",
       "    <tr>\n",
       "      <th>4</th>\n",
       "      <td>1004</td>\n",
       "      <td>68</td>\n",
       "      <td>NaN</td>\n",
       "      <td>Новокузнецк</td>\n",
       "      <td>Татьяна</td>\n",
       "      <td>Авдеенко</td>\n",
       "      <td>2018-05-14</td>\n",
       "      <td>ultra</td>\n",
       "    </tr>\n",
       "  </tbody>\n",
       "</table>\n",
       "</div>"
      ],
      "text/plain": [
       "   user_id  age churn_date         city first_name  last_name    reg_date  \\\n",
       "0     1000   52        NaN    Краснодар     Рафаил  Верещагин  2018-05-25   \n",
       "1     1001   41        NaN       Москва       Иван       Ежов  2018-11-01   \n",
       "2     1002   59        NaN  Стерлитамак    Евгений  Абрамович  2018-06-17   \n",
       "3     1003   23        NaN       Москва      Белла   Белякова  2018-08-17   \n",
       "4     1004   68        NaN  Новокузнецк    Татьяна   Авдеенко  2018-05-14   \n",
       "\n",
       "  tariff  \n",
       "0  ultra  \n",
       "1  smart  \n",
       "2  smart  \n",
       "3  ultra  \n",
       "4  ultra  "
      ]
     },
     "execution_count": 6,
     "metadata": {},
     "output_type": "execute_result"
    }
   ],
   "source": [
    "df_users = pd.read_csv('users.csv')\n",
    "df_users.info()\n",
    "df_users.head()"
   ]
  },
  {
   "cell_type": "markdown",
   "metadata": {},
   "source": [
    "В столбце **churn_date** находятся данные с типом object, их нужно будет перевести в datetime. В столбце**churn_date** есть пропущенные значения, но по условиям задачи это сигнализирует о том, что на момент выгрузки данных тариф еще действовал."
   ]
  },
  {
   "cell_type": "markdown",
   "metadata": {},
   "source": [
    "### Проверка данных на дубликаты"
   ]
  },
  {
   "cell_type": "code",
   "execution_count": 7,
   "metadata": {},
   "outputs": [
    {
     "data": {
      "text/plain": [
       "0"
      ]
     },
     "execution_count": 7,
     "metadata": {},
     "output_type": "execute_result"
    }
   ],
   "source": [
    "df_calls.duplicated().sum()"
   ]
  },
  {
   "cell_type": "code",
   "execution_count": 8,
   "metadata": {},
   "outputs": [
    {
     "data": {
      "text/plain": [
       "0"
      ]
     },
     "execution_count": 8,
     "metadata": {},
     "output_type": "execute_result"
    }
   ],
   "source": [
    "df_internet.duplicated().sum()"
   ]
  },
  {
   "cell_type": "code",
   "execution_count": 9,
   "metadata": {},
   "outputs": [
    {
     "data": {
      "text/plain": [
       "0"
      ]
     },
     "execution_count": 9,
     "metadata": {},
     "output_type": "execute_result"
    }
   ],
   "source": [
    "df_messages.duplicated().sum()"
   ]
  },
  {
   "cell_type": "code",
   "execution_count": 10,
   "metadata": {
    "scrolled": true
   },
   "outputs": [
    {
     "data": {
      "text/plain": [
       "0"
      ]
     },
     "execution_count": 10,
     "metadata": {},
     "output_type": "execute_result"
    }
   ],
   "source": [
    "df_users.duplicated().sum()"
   ]
  },
  {
   "cell_type": "markdown",
   "metadata": {},
   "source": [
    "## Предобработка данных\n",
    "Во всех датафреймах перевожу столбцы с датами в тип datetime и смотрю, что творится в других столбцах.\n"
   ]
  },
  {
   "cell_type": "markdown",
   "metadata": {},
   "source": [
    "### df_calls"
   ]
  },
  {
   "cell_type": "code",
   "execution_count": 11,
   "metadata": {
    "scrolled": true
   },
   "outputs": [
    {
     "name": "stdout",
     "output_type": "stream",
     "text": [
      "<class 'pandas.core.frame.DataFrame'>\n",
      "RangeIndex: 202607 entries, 0 to 202606\n",
      "Data columns (total 4 columns):\n",
      " #   Column     Non-Null Count   Dtype         \n",
      "---  ------     --------------   -----         \n",
      " 0   id         202607 non-null  object        \n",
      " 1   call_date  202607 non-null  datetime64[ns]\n",
      " 2   duration   202607 non-null  float64       \n",
      " 3   user_id    202607 non-null  int64         \n",
      "dtypes: datetime64[ns](1), float64(1), int64(1), object(1)\n",
      "memory usage: 6.2+ MB\n"
     ]
    }
   ],
   "source": [
    "df_calls['call_date'] = pd.to_datetime(df_calls['call_date'], format ='%Y-%m-%d')\n",
    "df_calls.info()"
   ]
  },
  {
   "cell_type": "code",
   "execution_count": 12,
   "metadata": {
    "scrolled": false
   },
   "outputs": [
    {
     "data": {
      "text/plain": [
       "492"
      ]
     },
     "execution_count": 12,
     "metadata": {},
     "output_type": "execute_result"
    }
   ],
   "source": [
    "df_calls['user_id'].value_counts().count() # 8 пользователей из 500 в 2018 году никуда не звонили."
   ]
  },
  {
   "cell_type": "code",
   "execution_count": 13,
   "metadata": {
    "scrolled": false
   },
   "outputs": [
    {
     "data": {
      "text/plain": [
       "count    202607.000000\n",
       "mean          6.755887\n",
       "std           5.843365\n",
       "min           0.000000\n",
       "25%           1.300000\n",
       "50%           6.000000\n",
       "75%          10.700000\n",
       "max          38.000000\n",
       "Name: duration, dtype: float64"
      ]
     },
     "execution_count": 13,
     "metadata": {},
     "output_type": "execute_result"
    }
   ],
   "source": [
    "df_calls['duration'].describe()"
   ]
  },
  {
   "cell_type": "markdown",
   "metadata": {},
   "source": [
    "В столбце **duration** нет аномальных значений, можно округлять значения в большую сторону, так как округление до целых минут идет по каждому звонку."
   ]
  },
  {
   "cell_type": "code",
   "execution_count": 14,
   "metadata": {
    "scrolled": true
   },
   "outputs": [
    {
     "data": {
      "text/html": [
       "<div>\n",
       "<style scoped>\n",
       "    .dataframe tbody tr th:only-of-type {\n",
       "        vertical-align: middle;\n",
       "    }\n",
       "\n",
       "    .dataframe tbody tr th {\n",
       "        vertical-align: top;\n",
       "    }\n",
       "\n",
       "    .dataframe thead th {\n",
       "        text-align: right;\n",
       "    }\n",
       "</style>\n",
       "<table border=\"1\" class=\"dataframe\">\n",
       "  <thead>\n",
       "    <tr style=\"text-align: right;\">\n",
       "      <th></th>\n",
       "      <th>id</th>\n",
       "      <th>call_date</th>\n",
       "      <th>duration</th>\n",
       "      <th>user_id</th>\n",
       "    </tr>\n",
       "  </thead>\n",
       "  <tbody>\n",
       "    <tr>\n",
       "      <th>0</th>\n",
       "      <td>1000_0</td>\n",
       "      <td>2018-07-25</td>\n",
       "      <td>0.0</td>\n",
       "      <td>1000</td>\n",
       "    </tr>\n",
       "    <tr>\n",
       "      <th>1</th>\n",
       "      <td>1000_1</td>\n",
       "      <td>2018-08-17</td>\n",
       "      <td>0.0</td>\n",
       "      <td>1000</td>\n",
       "    </tr>\n",
       "    <tr>\n",
       "      <th>2</th>\n",
       "      <td>1000_2</td>\n",
       "      <td>2018-06-11</td>\n",
       "      <td>3.0</td>\n",
       "      <td>1000</td>\n",
       "    </tr>\n",
       "    <tr>\n",
       "      <th>3</th>\n",
       "      <td>1000_3</td>\n",
       "      <td>2018-09-21</td>\n",
       "      <td>14.0</td>\n",
       "      <td>1000</td>\n",
       "    </tr>\n",
       "    <tr>\n",
       "      <th>4</th>\n",
       "      <td>1000_4</td>\n",
       "      <td>2018-12-15</td>\n",
       "      <td>6.0</td>\n",
       "      <td>1000</td>\n",
       "    </tr>\n",
       "    <tr>\n",
       "      <th>5</th>\n",
       "      <td>1000_5</td>\n",
       "      <td>2018-11-02</td>\n",
       "      <td>0.0</td>\n",
       "      <td>1000</td>\n",
       "    </tr>\n",
       "    <tr>\n",
       "      <th>6</th>\n",
       "      <td>1000_6</td>\n",
       "      <td>2018-10-18</td>\n",
       "      <td>0.0</td>\n",
       "      <td>1000</td>\n",
       "    </tr>\n",
       "    <tr>\n",
       "      <th>7</th>\n",
       "      <td>1000_7</td>\n",
       "      <td>2018-08-22</td>\n",
       "      <td>19.0</td>\n",
       "      <td>1000</td>\n",
       "    </tr>\n",
       "    <tr>\n",
       "      <th>8</th>\n",
       "      <td>1000_8</td>\n",
       "      <td>2018-09-15</td>\n",
       "      <td>19.0</td>\n",
       "      <td>1000</td>\n",
       "    </tr>\n",
       "    <tr>\n",
       "      <th>9</th>\n",
       "      <td>1000_9</td>\n",
       "      <td>2018-08-15</td>\n",
       "      <td>0.0</td>\n",
       "      <td>1000</td>\n",
       "    </tr>\n",
       "  </tbody>\n",
       "</table>\n",
       "</div>"
      ],
      "text/plain": [
       "       id  call_date  duration  user_id\n",
       "0  1000_0 2018-07-25       0.0     1000\n",
       "1  1000_1 2018-08-17       0.0     1000\n",
       "2  1000_2 2018-06-11       3.0     1000\n",
       "3  1000_3 2018-09-21      14.0     1000\n",
       "4  1000_4 2018-12-15       6.0     1000\n",
       "5  1000_5 2018-11-02       0.0     1000\n",
       "6  1000_6 2018-10-18       0.0     1000\n",
       "7  1000_7 2018-08-22      19.0     1000\n",
       "8  1000_8 2018-09-15      19.0     1000\n",
       "9  1000_9 2018-08-15       0.0     1000"
      ]
     },
     "execution_count": 14,
     "metadata": {},
     "output_type": "execute_result"
    }
   ],
   "source": [
    "df_calls['duration'] = np.ceil(df_calls['duration'])\n",
    "df_calls.head(10)"
   ]
  },
  {
   "cell_type": "markdown",
   "metadata": {},
   "source": [
    "### df_internet"
   ]
  },
  {
   "cell_type": "code",
   "execution_count": 15,
   "metadata": {
    "scrolled": false
   },
   "outputs": [
    {
     "name": "stdout",
     "output_type": "stream",
     "text": [
      "<class 'pandas.core.frame.DataFrame'>\n",
      "RangeIndex: 149396 entries, 0 to 149395\n",
      "Data columns (total 5 columns):\n",
      " #   Column        Non-Null Count   Dtype         \n",
      "---  ------        --------------   -----         \n",
      " 0   Unnamed: 0    149396 non-null  int64         \n",
      " 1   id            149396 non-null  object        \n",
      " 2   mb_used       149396 non-null  float64       \n",
      " 3   session_date  149396 non-null  datetime64[ns]\n",
      " 4   user_id       149396 non-null  int64         \n",
      "dtypes: datetime64[ns](1), float64(1), int64(2), object(1)\n",
      "memory usage: 5.7+ MB\n"
     ]
    }
   ],
   "source": [
    "df_internet['session_date'] = pd.to_datetime(df_internet['session_date'], format ='%Y-%m-%d')\n",
    "df_internet.info()"
   ]
  },
  {
   "cell_type": "code",
   "execution_count": 16,
   "metadata": {},
   "outputs": [
    {
     "data": {
      "text/plain": [
       "497"
      ]
     },
     "execution_count": 16,
     "metadata": {},
     "output_type": "execute_result"
    }
   ],
   "source": [
    "df_internet['user_id'].value_counts().count() # 3 пользователя ни разу не воспользовались интернетом за 2018 год"
   ]
  },
  {
   "cell_type": "code",
   "execution_count": 17,
   "metadata": {
    "scrolled": true
   },
   "outputs": [
    {
     "data": {
      "text/plain": [
       "count    149396.000000\n",
       "mean        370.192426\n",
       "std         278.300951\n",
       "min           0.000000\n",
       "25%         138.187500\n",
       "50%         348.015000\n",
       "75%         559.552500\n",
       "max        1724.830000\n",
       "Name: mb_used, dtype: float64"
      ]
     },
     "execution_count": 17,
     "metadata": {},
     "output_type": "execute_result"
    }
   ],
   "source": [
    "df_internet['mb_used'].describe()"
   ]
  },
  {
   "cell_type": "markdown",
   "metadata": {},
   "source": [
    "В столбце **mb_used** аномальных значений нет. Округлять значения пока рано, нужно посчитать суммарное количество по месяцам.  "
   ]
  },
  {
   "cell_type": "markdown",
   "metadata": {},
   "source": [
    "### df_messages"
   ]
  },
  {
   "cell_type": "code",
   "execution_count": 18,
   "metadata": {},
   "outputs": [
    {
     "name": "stdout",
     "output_type": "stream",
     "text": [
      "<class 'pandas.core.frame.DataFrame'>\n",
      "RangeIndex: 123036 entries, 0 to 123035\n",
      "Data columns (total 3 columns):\n",
      " #   Column        Non-Null Count   Dtype         \n",
      "---  ------        --------------   -----         \n",
      " 0   id            123036 non-null  object        \n",
      " 1   message_date  123036 non-null  datetime64[ns]\n",
      " 2   user_id       123036 non-null  int64         \n",
      "dtypes: datetime64[ns](1), int64(1), object(1)\n",
      "memory usage: 2.8+ MB\n"
     ]
    }
   ],
   "source": [
    "df_messages['message_date'] = pd.to_datetime(df_messages['message_date'], format ='%Y-%m-%d')\n",
    "df_messages.info()"
   ]
  },
  {
   "cell_type": "code",
   "execution_count": 19,
   "metadata": {
    "scrolled": true
   },
   "outputs": [
    {
     "data": {
      "text/plain": [
       "426"
      ]
     },
     "execution_count": 19,
     "metadata": {},
     "output_type": "execute_result"
    }
   ],
   "source": [
    "df_messages['user_id'].value_counts().count() # 24 пользователя не отправили ни одной смски"
   ]
  },
  {
   "cell_type": "markdown",
   "metadata": {},
   "source": [
    "### df_users"
   ]
  },
  {
   "cell_type": "code",
   "execution_count": 20,
   "metadata": {},
   "outputs": [
    {
     "name": "stdout",
     "output_type": "stream",
     "text": [
      "<class 'pandas.core.frame.DataFrame'>\n",
      "RangeIndex: 500 entries, 0 to 499\n",
      "Data columns (total 8 columns):\n",
      " #   Column      Non-Null Count  Dtype         \n",
      "---  ------      --------------  -----         \n",
      " 0   user_id     500 non-null    int64         \n",
      " 1   age         500 non-null    int64         \n",
      " 2   churn_date  38 non-null     object        \n",
      " 3   city        500 non-null    object        \n",
      " 4   first_name  500 non-null    object        \n",
      " 5   last_name   500 non-null    object        \n",
      " 6   reg_date    500 non-null    datetime64[ns]\n",
      " 7   tariff      500 non-null    object        \n",
      "dtypes: datetime64[ns](1), int64(2), object(5)\n",
      "memory usage: 31.4+ KB\n"
     ]
    }
   ],
   "source": [
    "df_users['reg_date'] =  pd.to_datetime(df_users['reg_date'], format ='%Y-%m-%d')\n",
    "df_users.info()"
   ]
  },
  {
   "cell_type": "code",
   "execution_count": 21,
   "metadata": {
    "scrolled": true
   },
   "outputs": [
    {
     "data": {
      "text/plain": [
       "smart    351\n",
       "ultra    149\n",
       "Name: tariff, dtype: int64"
      ]
     },
     "execution_count": 21,
     "metadata": {},
     "output_type": "execute_result"
    }
   ],
   "source": [
    "df_users['tariff'].value_counts() # тарифа всего два, как и должно быть."
   ]
  },
  {
   "cell_type": "markdown",
   "metadata": {},
   "source": [
    "### Вывод\n",
    "Все данные, содержащие информацию о дате были с типом object, для них был изменен тип данных на datetime во всех датасетах, где они встретились.\n",
    "Пропущенные значения были только в таблице с данными о пользователях в столбце churn_date, но их я оставляю без изменения, так как пропущенные значения означают, что тариф все еще действовал на момент выгрузки данных.\n"
   ]
  },
  {
   "cell_type": "markdown",
   "metadata": {},
   "source": [
    "## Подготовка данных"
   ]
  },
  {
   "cell_type": "markdown",
   "metadata": {},
   "source": [
    "### Количество сделанных звонков и израсходованных минут разговора\n",
    "Добавляю столбец с месяцамив таблицу df_calls."
   ]
  },
  {
   "cell_type": "code",
   "execution_count": 22,
   "metadata": {
    "scrolled": true
   },
   "outputs": [
    {
     "data": {
      "text/html": [
       "<div>\n",
       "<style scoped>\n",
       "    .dataframe tbody tr th:only-of-type {\n",
       "        vertical-align: middle;\n",
       "    }\n",
       "\n",
       "    .dataframe tbody tr th {\n",
       "        vertical-align: top;\n",
       "    }\n",
       "\n",
       "    .dataframe thead th {\n",
       "        text-align: right;\n",
       "    }\n",
       "</style>\n",
       "<table border=\"1\" class=\"dataframe\">\n",
       "  <thead>\n",
       "    <tr style=\"text-align: right;\">\n",
       "      <th></th>\n",
       "      <th>id</th>\n",
       "      <th>call_date</th>\n",
       "      <th>duration</th>\n",
       "      <th>user_id</th>\n",
       "      <th>month</th>\n",
       "      <th>age</th>\n",
       "      <th>churn_date</th>\n",
       "      <th>city</th>\n",
       "      <th>first_name</th>\n",
       "      <th>last_name</th>\n",
       "      <th>reg_date</th>\n",
       "      <th>tariff</th>\n",
       "    </tr>\n",
       "  </thead>\n",
       "  <tbody>\n",
       "    <tr>\n",
       "      <th>0</th>\n",
       "      <td>1000_0</td>\n",
       "      <td>2018-07-25</td>\n",
       "      <td>0.0</td>\n",
       "      <td>1000</td>\n",
       "      <td>2018-07-01</td>\n",
       "      <td>52</td>\n",
       "      <td>NaN</td>\n",
       "      <td>Краснодар</td>\n",
       "      <td>Рафаил</td>\n",
       "      <td>Верещагин</td>\n",
       "      <td>2018-05-25</td>\n",
       "      <td>ultra</td>\n",
       "    </tr>\n",
       "    <tr>\n",
       "      <th>1</th>\n",
       "      <td>1000_1</td>\n",
       "      <td>2018-08-17</td>\n",
       "      <td>0.0</td>\n",
       "      <td>1000</td>\n",
       "      <td>2018-08-01</td>\n",
       "      <td>52</td>\n",
       "      <td>NaN</td>\n",
       "      <td>Краснодар</td>\n",
       "      <td>Рафаил</td>\n",
       "      <td>Верещагин</td>\n",
       "      <td>2018-05-25</td>\n",
       "      <td>ultra</td>\n",
       "    </tr>\n",
       "    <tr>\n",
       "      <th>2</th>\n",
       "      <td>1000_2</td>\n",
       "      <td>2018-06-11</td>\n",
       "      <td>3.0</td>\n",
       "      <td>1000</td>\n",
       "      <td>2018-06-01</td>\n",
       "      <td>52</td>\n",
       "      <td>NaN</td>\n",
       "      <td>Краснодар</td>\n",
       "      <td>Рафаил</td>\n",
       "      <td>Верещагин</td>\n",
       "      <td>2018-05-25</td>\n",
       "      <td>ultra</td>\n",
       "    </tr>\n",
       "    <tr>\n",
       "      <th>3</th>\n",
       "      <td>1000_3</td>\n",
       "      <td>2018-09-21</td>\n",
       "      <td>14.0</td>\n",
       "      <td>1000</td>\n",
       "      <td>2018-09-01</td>\n",
       "      <td>52</td>\n",
       "      <td>NaN</td>\n",
       "      <td>Краснодар</td>\n",
       "      <td>Рафаил</td>\n",
       "      <td>Верещагин</td>\n",
       "      <td>2018-05-25</td>\n",
       "      <td>ultra</td>\n",
       "    </tr>\n",
       "    <tr>\n",
       "      <th>4</th>\n",
       "      <td>1000_4</td>\n",
       "      <td>2018-12-15</td>\n",
       "      <td>6.0</td>\n",
       "      <td>1000</td>\n",
       "      <td>2018-12-01</td>\n",
       "      <td>52</td>\n",
       "      <td>NaN</td>\n",
       "      <td>Краснодар</td>\n",
       "      <td>Рафаил</td>\n",
       "      <td>Верещагин</td>\n",
       "      <td>2018-05-25</td>\n",
       "      <td>ultra</td>\n",
       "    </tr>\n",
       "  </tbody>\n",
       "</table>\n",
       "</div>"
      ],
      "text/plain": [
       "       id  call_date  duration  user_id      month  age churn_date       city  \\\n",
       "0  1000_0 2018-07-25       0.0     1000 2018-07-01   52        NaN  Краснодар   \n",
       "1  1000_1 2018-08-17       0.0     1000 2018-08-01   52        NaN  Краснодар   \n",
       "2  1000_2 2018-06-11       3.0     1000 2018-06-01   52        NaN  Краснодар   \n",
       "3  1000_3 2018-09-21      14.0     1000 2018-09-01   52        NaN  Краснодар   \n",
       "4  1000_4 2018-12-15       6.0     1000 2018-12-01   52        NaN  Краснодар   \n",
       "\n",
       "  first_name  last_name   reg_date tariff  \n",
       "0     Рафаил  Верещагин 2018-05-25  ultra  \n",
       "1     Рафаил  Верещагин 2018-05-25  ultra  \n",
       "2     Рафаил  Верещагин 2018-05-25  ultra  \n",
       "3     Рафаил  Верещагин 2018-05-25  ultra  \n",
       "4     Рафаил  Верещагин 2018-05-25  ultra  "
      ]
     },
     "execution_count": 22,
     "metadata": {},
     "output_type": "execute_result"
    }
   ],
   "source": [
    "df_calls['month'] = df_calls['call_date'].astype('datetime64[M]')\n",
    "df_calls = df_calls.merge(df_users, on='user_id', how = 'left')\n",
    "df_calls.head()"
   ]
  },
  {
   "cell_type": "markdown",
   "metadata": {},
   "source": [
    "Ищу количество сделанных звонков и израсходованных минут разговора по месяцам для каждого пользователя."
   ]
  },
  {
   "cell_type": "code",
   "execution_count": 23,
   "metadata": {},
   "outputs": [
    {
     "data": {
      "text/html": [
       "<div>\n",
       "<style scoped>\n",
       "    .dataframe tbody tr th:only-of-type {\n",
       "        vertical-align: middle;\n",
       "    }\n",
       "\n",
       "    .dataframe tbody tr th {\n",
       "        vertical-align: top;\n",
       "    }\n",
       "\n",
       "    .dataframe thead th {\n",
       "        text-align: right;\n",
       "    }\n",
       "</style>\n",
       "<table border=\"1\" class=\"dataframe\">\n",
       "  <thead>\n",
       "    <tr style=\"text-align: right;\">\n",
       "      <th></th>\n",
       "      <th></th>\n",
       "      <th>calls_count</th>\n",
       "      <th>calls_duration</th>\n",
       "    </tr>\n",
       "    <tr>\n",
       "      <th>user_id</th>\n",
       "      <th>month</th>\n",
       "      <th></th>\n",
       "      <th></th>\n",
       "    </tr>\n",
       "  </thead>\n",
       "  <tbody>\n",
       "    <tr>\n",
       "      <th rowspan=\"5\" valign=\"top\">1000</th>\n",
       "      <th>2018-05-01</th>\n",
       "      <td>22</td>\n",
       "      <td>159.0</td>\n",
       "    </tr>\n",
       "    <tr>\n",
       "      <th>2018-06-01</th>\n",
       "      <td>43</td>\n",
       "      <td>172.0</td>\n",
       "    </tr>\n",
       "    <tr>\n",
       "      <th>2018-07-01</th>\n",
       "      <td>47</td>\n",
       "      <td>340.0</td>\n",
       "    </tr>\n",
       "    <tr>\n",
       "      <th>2018-08-01</th>\n",
       "      <td>52</td>\n",
       "      <td>408.0</td>\n",
       "    </tr>\n",
       "    <tr>\n",
       "      <th>2018-09-01</th>\n",
       "      <td>58</td>\n",
       "      <td>466.0</td>\n",
       "    </tr>\n",
       "  </tbody>\n",
       "</table>\n",
       "</div>"
      ],
      "text/plain": [
       "                    calls_count  calls_duration\n",
       "user_id month                                  \n",
       "1000    2018-05-01           22           159.0\n",
       "        2018-06-01           43           172.0\n",
       "        2018-07-01           47           340.0\n",
       "        2018-08-01           52           408.0\n",
       "        2018-09-01           58           466.0"
      ]
     },
     "execution_count": 23,
     "metadata": {},
     "output_type": "execute_result"
    }
   ],
   "source": [
    "calls_group = df_calls.groupby(['user_id', 'month']).agg({'id':'count','duration':'sum'})\n",
    "calls_group.columns = ['calls_count', 'calls_duration']\n",
    "calls_group.head()"
   ]
  },
  {
   "cell_type": "markdown",
   "metadata": {},
   "source": [
    "### Количество отправленных сообщений по месяцам\n",
    "\n",
    "Добавляю в таблицу столбец с месяцами в таблицу df_messages."
   ]
  },
  {
   "cell_type": "code",
   "execution_count": 24,
   "metadata": {
    "scrolled": true
   },
   "outputs": [
    {
     "data": {
      "text/html": [
       "<div>\n",
       "<style scoped>\n",
       "    .dataframe tbody tr th:only-of-type {\n",
       "        vertical-align: middle;\n",
       "    }\n",
       "\n",
       "    .dataframe tbody tr th {\n",
       "        vertical-align: top;\n",
       "    }\n",
       "\n",
       "    .dataframe thead th {\n",
       "        text-align: right;\n",
       "    }\n",
       "</style>\n",
       "<table border=\"1\" class=\"dataframe\">\n",
       "  <thead>\n",
       "    <tr style=\"text-align: right;\">\n",
       "      <th></th>\n",
       "      <th>id</th>\n",
       "      <th>message_date</th>\n",
       "      <th>user_id</th>\n",
       "      <th>month</th>\n",
       "    </tr>\n",
       "  </thead>\n",
       "  <tbody>\n",
       "    <tr>\n",
       "      <th>0</th>\n",
       "      <td>1000_0</td>\n",
       "      <td>2018-06-27</td>\n",
       "      <td>1000</td>\n",
       "      <td>2018-07-01</td>\n",
       "    </tr>\n",
       "    <tr>\n",
       "      <th>1</th>\n",
       "      <td>1000_1</td>\n",
       "      <td>2018-10-08</td>\n",
       "      <td>1000</td>\n",
       "      <td>2018-08-01</td>\n",
       "    </tr>\n",
       "    <tr>\n",
       "      <th>2</th>\n",
       "      <td>1000_2</td>\n",
       "      <td>2018-08-04</td>\n",
       "      <td>1000</td>\n",
       "      <td>2018-06-01</td>\n",
       "    </tr>\n",
       "    <tr>\n",
       "      <th>3</th>\n",
       "      <td>1000_3</td>\n",
       "      <td>2018-06-16</td>\n",
       "      <td>1000</td>\n",
       "      <td>2018-09-01</td>\n",
       "    </tr>\n",
       "    <tr>\n",
       "      <th>4</th>\n",
       "      <td>1000_4</td>\n",
       "      <td>2018-12-05</td>\n",
       "      <td>1000</td>\n",
       "      <td>2018-12-01</td>\n",
       "    </tr>\n",
       "  </tbody>\n",
       "</table>\n",
       "</div>"
      ],
      "text/plain": [
       "       id message_date  user_id      month\n",
       "0  1000_0   2018-06-27     1000 2018-07-01\n",
       "1  1000_1   2018-10-08     1000 2018-08-01\n",
       "2  1000_2   2018-08-04     1000 2018-06-01\n",
       "3  1000_3   2018-06-16     1000 2018-09-01\n",
       "4  1000_4   2018-12-05     1000 2018-12-01"
      ]
     },
     "execution_count": 24,
     "metadata": {},
     "output_type": "execute_result"
    }
   ],
   "source": [
    "df_messages['month'] = df_calls['call_date'].astype('datetime64[M]')\n",
    "df_messages.head()"
   ]
  },
  {
   "cell_type": "markdown",
   "metadata": {},
   "source": [
    "Ищу количество отправленных сообщений по месяцам для каждого пользователя."
   ]
  },
  {
   "cell_type": "code",
   "execution_count": 25,
   "metadata": {},
   "outputs": [
    {
     "data": {
      "text/plain": [
       "user_id  month     \n",
       "1000     2018-05-01    22\n",
       "         2018-06-01    43\n",
       "         2018-07-01    47\n",
       "         2018-08-01    53\n",
       "         2018-09-01    59\n",
       "                       ..\n",
       "1499     2018-08-01    24\n",
       "         2018-09-01    20\n",
       "         2018-10-01    35\n",
       "         2018-11-01    37\n",
       "         2018-12-01    29\n",
       "Name: id, Length: 3741, dtype: int64"
      ]
     },
     "execution_count": 25,
     "metadata": {},
     "output_type": "execute_result"
    }
   ],
   "source": [
    "messages_group = df_messages.groupby(['user_id', 'month'])['id'].count()\n",
    "messages_group"
   ]
  },
  {
   "cell_type": "markdown",
   "metadata": {},
   "source": [
    "### Объем израсходованного интернет-трафика по месяцам\n",
    "Добавляю в таблицу столбец с месяцами в таблицу df_internet."
   ]
  },
  {
   "cell_type": "code",
   "execution_count": 26,
   "metadata": {},
   "outputs": [
    {
     "data": {
      "text/html": [
       "<div>\n",
       "<style scoped>\n",
       "    .dataframe tbody tr th:only-of-type {\n",
       "        vertical-align: middle;\n",
       "    }\n",
       "\n",
       "    .dataframe tbody tr th {\n",
       "        vertical-align: top;\n",
       "    }\n",
       "\n",
       "    .dataframe thead th {\n",
       "        text-align: right;\n",
       "    }\n",
       "</style>\n",
       "<table border=\"1\" class=\"dataframe\">\n",
       "  <thead>\n",
       "    <tr style=\"text-align: right;\">\n",
       "      <th></th>\n",
       "      <th>Unnamed: 0</th>\n",
       "      <th>id</th>\n",
       "      <th>mb_used</th>\n",
       "      <th>session_date</th>\n",
       "      <th>user_id</th>\n",
       "    </tr>\n",
       "  </thead>\n",
       "  <tbody>\n",
       "    <tr>\n",
       "      <th>0</th>\n",
       "      <td>0</td>\n",
       "      <td>1000_0</td>\n",
       "      <td>112.95</td>\n",
       "      <td>2018-11-25</td>\n",
       "      <td>1000</td>\n",
       "    </tr>\n",
       "    <tr>\n",
       "      <th>1</th>\n",
       "      <td>1</td>\n",
       "      <td>1000_1</td>\n",
       "      <td>1052.81</td>\n",
       "      <td>2018-09-07</td>\n",
       "      <td>1000</td>\n",
       "    </tr>\n",
       "    <tr>\n",
       "      <th>2</th>\n",
       "      <td>2</td>\n",
       "      <td>1000_2</td>\n",
       "      <td>1197.26</td>\n",
       "      <td>2018-06-25</td>\n",
       "      <td>1000</td>\n",
       "    </tr>\n",
       "    <tr>\n",
       "      <th>3</th>\n",
       "      <td>3</td>\n",
       "      <td>1000_3</td>\n",
       "      <td>550.27</td>\n",
       "      <td>2018-08-22</td>\n",
       "      <td>1000</td>\n",
       "    </tr>\n",
       "    <tr>\n",
       "      <th>4</th>\n",
       "      <td>4</td>\n",
       "      <td>1000_4</td>\n",
       "      <td>302.56</td>\n",
       "      <td>2018-09-24</td>\n",
       "      <td>1000</td>\n",
       "    </tr>\n",
       "  </tbody>\n",
       "</table>\n",
       "</div>"
      ],
      "text/plain": [
       "   Unnamed: 0      id  mb_used session_date  user_id\n",
       "0           0  1000_0   112.95   2018-11-25     1000\n",
       "1           1  1000_1  1052.81   2018-09-07     1000\n",
       "2           2  1000_2  1197.26   2018-06-25     1000\n",
       "3           3  1000_3   550.27   2018-08-22     1000\n",
       "4           4  1000_4   302.56   2018-09-24     1000"
      ]
     },
     "execution_count": 26,
     "metadata": {},
     "output_type": "execute_result"
    }
   ],
   "source": [
    "df_internet.head()"
   ]
  },
  {
   "cell_type": "code",
   "execution_count": 27,
   "metadata": {},
   "outputs": [
    {
     "data": {
      "text/html": [
       "<div>\n",
       "<style scoped>\n",
       "    .dataframe tbody tr th:only-of-type {\n",
       "        vertical-align: middle;\n",
       "    }\n",
       "\n",
       "    .dataframe tbody tr th {\n",
       "        vertical-align: top;\n",
       "    }\n",
       "\n",
       "    .dataframe thead th {\n",
       "        text-align: right;\n",
       "    }\n",
       "</style>\n",
       "<table border=\"1\" class=\"dataframe\">\n",
       "  <thead>\n",
       "    <tr style=\"text-align: right;\">\n",
       "      <th></th>\n",
       "      <th>Unnamed: 0</th>\n",
       "      <th>id</th>\n",
       "      <th>mb_used</th>\n",
       "      <th>session_date</th>\n",
       "      <th>user_id</th>\n",
       "      <th>month</th>\n",
       "    </tr>\n",
       "  </thead>\n",
       "  <tbody>\n",
       "    <tr>\n",
       "      <th>0</th>\n",
       "      <td>0</td>\n",
       "      <td>1000_0</td>\n",
       "      <td>112.95</td>\n",
       "      <td>2018-11-25</td>\n",
       "      <td>1000</td>\n",
       "      <td>2018-11-01</td>\n",
       "    </tr>\n",
       "    <tr>\n",
       "      <th>1</th>\n",
       "      <td>1</td>\n",
       "      <td>1000_1</td>\n",
       "      <td>1052.81</td>\n",
       "      <td>2018-09-07</td>\n",
       "      <td>1000</td>\n",
       "      <td>2018-09-01</td>\n",
       "    </tr>\n",
       "    <tr>\n",
       "      <th>2</th>\n",
       "      <td>2</td>\n",
       "      <td>1000_2</td>\n",
       "      <td>1197.26</td>\n",
       "      <td>2018-06-25</td>\n",
       "      <td>1000</td>\n",
       "      <td>2018-06-01</td>\n",
       "    </tr>\n",
       "    <tr>\n",
       "      <th>3</th>\n",
       "      <td>3</td>\n",
       "      <td>1000_3</td>\n",
       "      <td>550.27</td>\n",
       "      <td>2018-08-22</td>\n",
       "      <td>1000</td>\n",
       "      <td>2018-08-01</td>\n",
       "    </tr>\n",
       "    <tr>\n",
       "      <th>4</th>\n",
       "      <td>4</td>\n",
       "      <td>1000_4</td>\n",
       "      <td>302.56</td>\n",
       "      <td>2018-09-24</td>\n",
       "      <td>1000</td>\n",
       "      <td>2018-09-01</td>\n",
       "    </tr>\n",
       "  </tbody>\n",
       "</table>\n",
       "</div>"
      ],
      "text/plain": [
       "   Unnamed: 0      id  mb_used session_date  user_id      month\n",
       "0           0  1000_0   112.95   2018-11-25     1000 2018-11-01\n",
       "1           1  1000_1  1052.81   2018-09-07     1000 2018-09-01\n",
       "2           2  1000_2  1197.26   2018-06-25     1000 2018-06-01\n",
       "3           3  1000_3   550.27   2018-08-22     1000 2018-08-01\n",
       "4           4  1000_4   302.56   2018-09-24     1000 2018-09-01"
      ]
     },
     "execution_count": 27,
     "metadata": {},
     "output_type": "execute_result"
    }
   ],
   "source": [
    "df_internet['month'] = df_internet['session_date'].astype('datetime64[M]')\n",
    "df_internet.head()"
   ]
  },
  {
   "cell_type": "markdown",
   "metadata": {},
   "source": [
    "Ищу объем интернет трафика по месяцам для каждого пользователя."
   ]
  },
  {
   "cell_type": "code",
   "execution_count": 28,
   "metadata": {},
   "outputs": [
    {
     "data": {
      "text/plain": [
       "user_id  month     \n",
       "1000     2018-05-01     2253.49\n",
       "         2018-06-01    23233.77\n",
       "         2018-07-01    14003.64\n",
       "         2018-08-01    14055.93\n",
       "         2018-09-01    14568.91\n",
       "                         ...   \n",
       "1498     2018-10-01    20579.36\n",
       "1499     2018-09-01     1845.75\n",
       "         2018-10-01    17788.51\n",
       "         2018-11-01    17963.31\n",
       "         2018-12-01    13055.58\n",
       "Name: mb_used, Length: 3203, dtype: float64"
      ]
     },
     "execution_count": 28,
     "metadata": {},
     "output_type": "execute_result"
    }
   ],
   "source": [
    "internet_group = df_internet.groupby(['user_id', 'month'])['mb_used'].sum()\n",
    "internet_group"
   ]
  },
  {
   "cell_type": "markdown",
   "metadata": {},
   "source": [
    "### Объединение таблиц"
   ]
  },
  {
   "cell_type": "code",
   "execution_count": 29,
   "metadata": {
    "scrolled": true
   },
   "outputs": [
    {
     "data": {
      "text/html": [
       "<div>\n",
       "<style scoped>\n",
       "    .dataframe tbody tr th:only-of-type {\n",
       "        vertical-align: middle;\n",
       "    }\n",
       "\n",
       "    .dataframe tbody tr th {\n",
       "        vertical-align: top;\n",
       "    }\n",
       "\n",
       "    .dataframe thead th {\n",
       "        text-align: right;\n",
       "    }\n",
       "</style>\n",
       "<table border=\"1\" class=\"dataframe\">\n",
       "  <thead>\n",
       "    <tr style=\"text-align: right;\">\n",
       "      <th></th>\n",
       "      <th></th>\n",
       "      <th>calls_count</th>\n",
       "      <th>calls_duration</th>\n",
       "      <th>messages</th>\n",
       "      <th>mb_used</th>\n",
       "    </tr>\n",
       "    <tr>\n",
       "      <th>user_id</th>\n",
       "      <th>month</th>\n",
       "      <th></th>\n",
       "      <th></th>\n",
       "      <th></th>\n",
       "      <th></th>\n",
       "    </tr>\n",
       "  </thead>\n",
       "  <tbody>\n",
       "    <tr>\n",
       "      <th rowspan=\"5\" valign=\"top\">1000</th>\n",
       "      <th>2018-05-01</th>\n",
       "      <td>22.0</td>\n",
       "      <td>159.0</td>\n",
       "      <td>22.0</td>\n",
       "      <td>2253.49</td>\n",
       "    </tr>\n",
       "    <tr>\n",
       "      <th>2018-06-01</th>\n",
       "      <td>43.0</td>\n",
       "      <td>172.0</td>\n",
       "      <td>43.0</td>\n",
       "      <td>23233.77</td>\n",
       "    </tr>\n",
       "    <tr>\n",
       "      <th>2018-07-01</th>\n",
       "      <td>47.0</td>\n",
       "      <td>340.0</td>\n",
       "      <td>47.0</td>\n",
       "      <td>14003.64</td>\n",
       "    </tr>\n",
       "    <tr>\n",
       "      <th>2018-08-01</th>\n",
       "      <td>52.0</td>\n",
       "      <td>408.0</td>\n",
       "      <td>53.0</td>\n",
       "      <td>14055.93</td>\n",
       "    </tr>\n",
       "    <tr>\n",
       "      <th>2018-09-01</th>\n",
       "      <td>58.0</td>\n",
       "      <td>466.0</td>\n",
       "      <td>59.0</td>\n",
       "      <td>14568.91</td>\n",
       "    </tr>\n",
       "  </tbody>\n",
       "</table>\n",
       "</div>"
      ],
      "text/plain": [
       "                    calls_count  calls_duration  messages   mb_used\n",
       "user_id month                                                      \n",
       "1000    2018-05-01         22.0           159.0      22.0   2253.49\n",
       "        2018-06-01         43.0           172.0      43.0  23233.77\n",
       "        2018-07-01         47.0           340.0      47.0  14003.64\n",
       "        2018-08-01         52.0           408.0      53.0  14055.93\n",
       "        2018-09-01         58.0           466.0      59.0  14568.91"
      ]
     },
     "execution_count": 29,
     "metadata": {},
     "output_type": "execute_result"
    }
   ],
   "source": [
    "df = calls_group.merge(messages_group, on= ['user_id','month'], how='outer')\n",
    "df = df.merge(internet_group,on= ['user_id','month'], how='outer')\n",
    "df.columns = ['calls_count','calls_duration','messages','mb_used']\n",
    "df.head()"
   ]
  },
  {
   "cell_type": "markdown",
   "metadata": {},
   "source": [
    "Добавляю в таблицу данные о пользователях. Для этого убираю индексы."
   ]
  },
  {
   "cell_type": "code",
   "execution_count": 30,
   "metadata": {
    "scrolled": true
   },
   "outputs": [
    {
     "data": {
      "text/html": [
       "<div>\n",
       "<style scoped>\n",
       "    .dataframe tbody tr th:only-of-type {\n",
       "        vertical-align: middle;\n",
       "    }\n",
       "\n",
       "    .dataframe tbody tr th {\n",
       "        vertical-align: top;\n",
       "    }\n",
       "\n",
       "    .dataframe thead th {\n",
       "        text-align: right;\n",
       "    }\n",
       "</style>\n",
       "<table border=\"1\" class=\"dataframe\">\n",
       "  <thead>\n",
       "    <tr style=\"text-align: right;\">\n",
       "      <th></th>\n",
       "      <th>user_id</th>\n",
       "      <th>month</th>\n",
       "      <th>calls_count</th>\n",
       "      <th>calls_duration</th>\n",
       "      <th>messages</th>\n",
       "      <th>mb_used</th>\n",
       "    </tr>\n",
       "  </thead>\n",
       "  <tbody>\n",
       "    <tr>\n",
       "      <th>0</th>\n",
       "      <td>1000</td>\n",
       "      <td>2018-05-01</td>\n",
       "      <td>22.0</td>\n",
       "      <td>159.0</td>\n",
       "      <td>22.0</td>\n",
       "      <td>2253.49</td>\n",
       "    </tr>\n",
       "    <tr>\n",
       "      <th>1</th>\n",
       "      <td>1000</td>\n",
       "      <td>2018-06-01</td>\n",
       "      <td>43.0</td>\n",
       "      <td>172.0</td>\n",
       "      <td>43.0</td>\n",
       "      <td>23233.77</td>\n",
       "    </tr>\n",
       "    <tr>\n",
       "      <th>2</th>\n",
       "      <td>1000</td>\n",
       "      <td>2018-07-01</td>\n",
       "      <td>47.0</td>\n",
       "      <td>340.0</td>\n",
       "      <td>47.0</td>\n",
       "      <td>14003.64</td>\n",
       "    </tr>\n",
       "    <tr>\n",
       "      <th>3</th>\n",
       "      <td>1000</td>\n",
       "      <td>2018-08-01</td>\n",
       "      <td>52.0</td>\n",
       "      <td>408.0</td>\n",
       "      <td>53.0</td>\n",
       "      <td>14055.93</td>\n",
       "    </tr>\n",
       "    <tr>\n",
       "      <th>4</th>\n",
       "      <td>1000</td>\n",
       "      <td>2018-09-01</td>\n",
       "      <td>58.0</td>\n",
       "      <td>466.0</td>\n",
       "      <td>59.0</td>\n",
       "      <td>14568.91</td>\n",
       "    </tr>\n",
       "    <tr>\n",
       "      <th>...</th>\n",
       "      <td>...</td>\n",
       "      <td>...</td>\n",
       "      <td>...</td>\n",
       "      <td>...</td>\n",
       "      <td>...</td>\n",
       "      <td>...</td>\n",
       "    </tr>\n",
       "    <tr>\n",
       "      <th>4531</th>\n",
       "      <td>1499</td>\n",
       "      <td>2018-05-01</td>\n",
       "      <td>NaN</td>\n",
       "      <td>NaN</td>\n",
       "      <td>6.0</td>\n",
       "      <td>NaN</td>\n",
       "    </tr>\n",
       "    <tr>\n",
       "      <th>4532</th>\n",
       "      <td>1499</td>\n",
       "      <td>2018-06-01</td>\n",
       "      <td>NaN</td>\n",
       "      <td>NaN</td>\n",
       "      <td>5.0</td>\n",
       "      <td>NaN</td>\n",
       "    </tr>\n",
       "    <tr>\n",
       "      <th>4533</th>\n",
       "      <td>1499</td>\n",
       "      <td>2018-07-01</td>\n",
       "      <td>NaN</td>\n",
       "      <td>NaN</td>\n",
       "      <td>25.0</td>\n",
       "      <td>NaN</td>\n",
       "    </tr>\n",
       "    <tr>\n",
       "      <th>4534</th>\n",
       "      <td>1499</td>\n",
       "      <td>2018-08-01</td>\n",
       "      <td>NaN</td>\n",
       "      <td>NaN</td>\n",
       "      <td>24.0</td>\n",
       "      <td>NaN</td>\n",
       "    </tr>\n",
       "    <tr>\n",
       "      <th>4535</th>\n",
       "      <td>1476</td>\n",
       "      <td>2018-04-01</td>\n",
       "      <td>NaN</td>\n",
       "      <td>NaN</td>\n",
       "      <td>NaN</td>\n",
       "      <td>530.78</td>\n",
       "    </tr>\n",
       "  </tbody>\n",
       "</table>\n",
       "<p>4536 rows × 6 columns</p>\n",
       "</div>"
      ],
      "text/plain": [
       "      user_id      month  calls_count  calls_duration  messages   mb_used\n",
       "0        1000 2018-05-01         22.0           159.0      22.0   2253.49\n",
       "1        1000 2018-06-01         43.0           172.0      43.0  23233.77\n",
       "2        1000 2018-07-01         47.0           340.0      47.0  14003.64\n",
       "3        1000 2018-08-01         52.0           408.0      53.0  14055.93\n",
       "4        1000 2018-09-01         58.0           466.0      59.0  14568.91\n",
       "...       ...        ...          ...             ...       ...       ...\n",
       "4531     1499 2018-05-01          NaN             NaN       6.0       NaN\n",
       "4532     1499 2018-06-01          NaN             NaN       5.0       NaN\n",
       "4533     1499 2018-07-01          NaN             NaN      25.0       NaN\n",
       "4534     1499 2018-08-01          NaN             NaN      24.0       NaN\n",
       "4535     1476 2018-04-01          NaN             NaN       NaN    530.78\n",
       "\n",
       "[4536 rows x 6 columns]"
      ]
     },
     "execution_count": 30,
     "metadata": {},
     "output_type": "execute_result"
    }
   ],
   "source": [
    "df = df.reset_index()\n",
    "df"
   ]
  },
  {
   "cell_type": "code",
   "execution_count": 31,
   "metadata": {},
   "outputs": [
    {
     "data": {
      "text/html": [
       "<div>\n",
       "<style scoped>\n",
       "    .dataframe tbody tr th:only-of-type {\n",
       "        vertical-align: middle;\n",
       "    }\n",
       "\n",
       "    .dataframe tbody tr th {\n",
       "        vertical-align: top;\n",
       "    }\n",
       "\n",
       "    .dataframe thead th {\n",
       "        text-align: right;\n",
       "    }\n",
       "</style>\n",
       "<table border=\"1\" class=\"dataframe\">\n",
       "  <thead>\n",
       "    <tr style=\"text-align: right;\">\n",
       "      <th></th>\n",
       "      <th>user_id</th>\n",
       "      <th>month</th>\n",
       "      <th>calls_count</th>\n",
       "      <th>calls_duration</th>\n",
       "      <th>messages</th>\n",
       "      <th>mb_used</th>\n",
       "      <th>age</th>\n",
       "      <th>churn_date</th>\n",
       "      <th>city</th>\n",
       "      <th>first_name</th>\n",
       "      <th>last_name</th>\n",
       "      <th>reg_date</th>\n",
       "      <th>tariff</th>\n",
       "    </tr>\n",
       "  </thead>\n",
       "  <tbody>\n",
       "    <tr>\n",
       "      <th>0</th>\n",
       "      <td>1000</td>\n",
       "      <td>2018-05-01</td>\n",
       "      <td>22.0</td>\n",
       "      <td>159.0</td>\n",
       "      <td>22.0</td>\n",
       "      <td>2253.49</td>\n",
       "      <td>52</td>\n",
       "      <td>NaN</td>\n",
       "      <td>Краснодар</td>\n",
       "      <td>Рафаил</td>\n",
       "      <td>Верещагин</td>\n",
       "      <td>2018-05-25</td>\n",
       "      <td>ultra</td>\n",
       "    </tr>\n",
       "    <tr>\n",
       "      <th>1</th>\n",
       "      <td>1000</td>\n",
       "      <td>2018-06-01</td>\n",
       "      <td>43.0</td>\n",
       "      <td>172.0</td>\n",
       "      <td>43.0</td>\n",
       "      <td>23233.77</td>\n",
       "      <td>52</td>\n",
       "      <td>NaN</td>\n",
       "      <td>Краснодар</td>\n",
       "      <td>Рафаил</td>\n",
       "      <td>Верещагин</td>\n",
       "      <td>2018-05-25</td>\n",
       "      <td>ultra</td>\n",
       "    </tr>\n",
       "    <tr>\n",
       "      <th>2</th>\n",
       "      <td>1000</td>\n",
       "      <td>2018-07-01</td>\n",
       "      <td>47.0</td>\n",
       "      <td>340.0</td>\n",
       "      <td>47.0</td>\n",
       "      <td>14003.64</td>\n",
       "      <td>52</td>\n",
       "      <td>NaN</td>\n",
       "      <td>Краснодар</td>\n",
       "      <td>Рафаил</td>\n",
       "      <td>Верещагин</td>\n",
       "      <td>2018-05-25</td>\n",
       "      <td>ultra</td>\n",
       "    </tr>\n",
       "    <tr>\n",
       "      <th>3</th>\n",
       "      <td>1000</td>\n",
       "      <td>2018-08-01</td>\n",
       "      <td>52.0</td>\n",
       "      <td>408.0</td>\n",
       "      <td>53.0</td>\n",
       "      <td>14055.93</td>\n",
       "      <td>52</td>\n",
       "      <td>NaN</td>\n",
       "      <td>Краснодар</td>\n",
       "      <td>Рафаил</td>\n",
       "      <td>Верещагин</td>\n",
       "      <td>2018-05-25</td>\n",
       "      <td>ultra</td>\n",
       "    </tr>\n",
       "    <tr>\n",
       "      <th>4</th>\n",
       "      <td>1000</td>\n",
       "      <td>2018-09-01</td>\n",
       "      <td>58.0</td>\n",
       "      <td>466.0</td>\n",
       "      <td>59.0</td>\n",
       "      <td>14568.91</td>\n",
       "      <td>52</td>\n",
       "      <td>NaN</td>\n",
       "      <td>Краснодар</td>\n",
       "      <td>Рафаил</td>\n",
       "      <td>Верещагин</td>\n",
       "      <td>2018-05-25</td>\n",
       "      <td>ultra</td>\n",
       "    </tr>\n",
       "    <tr>\n",
       "      <th>5</th>\n",
       "      <td>1000</td>\n",
       "      <td>2018-10-01</td>\n",
       "      <td>57.0</td>\n",
       "      <td>350.0</td>\n",
       "      <td>57.0</td>\n",
       "      <td>14702.49</td>\n",
       "      <td>52</td>\n",
       "      <td>NaN</td>\n",
       "      <td>Краснодар</td>\n",
       "      <td>Рафаил</td>\n",
       "      <td>Верещагин</td>\n",
       "      <td>2018-05-25</td>\n",
       "      <td>ultra</td>\n",
       "    </tr>\n",
       "    <tr>\n",
       "      <th>6</th>\n",
       "      <td>1000</td>\n",
       "      <td>2018-11-01</td>\n",
       "      <td>43.0</td>\n",
       "      <td>338.0</td>\n",
       "      <td>103.0</td>\n",
       "      <td>14756.47</td>\n",
       "      <td>52</td>\n",
       "      <td>NaN</td>\n",
       "      <td>Краснодар</td>\n",
       "      <td>Рафаил</td>\n",
       "      <td>Верещагин</td>\n",
       "      <td>2018-05-25</td>\n",
       "      <td>ultra</td>\n",
       "    </tr>\n",
       "    <tr>\n",
       "      <th>7</th>\n",
       "      <td>1000</td>\n",
       "      <td>2018-12-01</td>\n",
       "      <td>46.0</td>\n",
       "      <td>333.0</td>\n",
       "      <td>112.0</td>\n",
       "      <td>9817.61</td>\n",
       "      <td>52</td>\n",
       "      <td>NaN</td>\n",
       "      <td>Краснодар</td>\n",
       "      <td>Рафаил</td>\n",
       "      <td>Верещагин</td>\n",
       "      <td>2018-05-25</td>\n",
       "      <td>ultra</td>\n",
       "    </tr>\n",
       "    <tr>\n",
       "      <th>8</th>\n",
       "      <td>1001</td>\n",
       "      <td>2018-11-01</td>\n",
       "      <td>59.0</td>\n",
       "      <td>430.0</td>\n",
       "      <td>NaN</td>\n",
       "      <td>18429.34</td>\n",
       "      <td>41</td>\n",
       "      <td>NaN</td>\n",
       "      <td>Москва</td>\n",
       "      <td>Иван</td>\n",
       "      <td>Ежов</td>\n",
       "      <td>2018-11-01</td>\n",
       "      <td>smart</td>\n",
       "    </tr>\n",
       "    <tr>\n",
       "      <th>9</th>\n",
       "      <td>1001</td>\n",
       "      <td>2018-12-01</td>\n",
       "      <td>63.0</td>\n",
       "      <td>414.0</td>\n",
       "      <td>NaN</td>\n",
       "      <td>14036.66</td>\n",
       "      <td>41</td>\n",
       "      <td>NaN</td>\n",
       "      <td>Москва</td>\n",
       "      <td>Иван</td>\n",
       "      <td>Ежов</td>\n",
       "      <td>2018-11-01</td>\n",
       "      <td>smart</td>\n",
       "    </tr>\n",
       "    <tr>\n",
       "      <th>10</th>\n",
       "      <td>1002</td>\n",
       "      <td>2018-06-01</td>\n",
       "      <td>15.0</td>\n",
       "      <td>117.0</td>\n",
       "      <td>7.0</td>\n",
       "      <td>10856.82</td>\n",
       "      <td>59</td>\n",
       "      <td>NaN</td>\n",
       "      <td>Стерлитамак</td>\n",
       "      <td>Евгений</td>\n",
       "      <td>Абрамович</td>\n",
       "      <td>2018-06-17</td>\n",
       "      <td>smart</td>\n",
       "    </tr>\n",
       "    <tr>\n",
       "      <th>11</th>\n",
       "      <td>1002</td>\n",
       "      <td>2018-07-01</td>\n",
       "      <td>26.0</td>\n",
       "      <td>214.0</td>\n",
       "      <td>8.0</td>\n",
       "      <td>17580.10</td>\n",
       "      <td>59</td>\n",
       "      <td>NaN</td>\n",
       "      <td>Стерлитамак</td>\n",
       "      <td>Евгений</td>\n",
       "      <td>Абрамович</td>\n",
       "      <td>2018-06-17</td>\n",
       "      <td>smart</td>\n",
       "    </tr>\n",
       "    <tr>\n",
       "      <th>12</th>\n",
       "      <td>1002</td>\n",
       "      <td>2018-08-01</td>\n",
       "      <td>42.0</td>\n",
       "      <td>289.0</td>\n",
       "      <td>13.0</td>\n",
       "      <td>20319.26</td>\n",
       "      <td>59</td>\n",
       "      <td>NaN</td>\n",
       "      <td>Стерлитамак</td>\n",
       "      <td>Евгений</td>\n",
       "      <td>Абрамович</td>\n",
       "      <td>2018-06-17</td>\n",
       "      <td>smart</td>\n",
       "    </tr>\n",
       "    <tr>\n",
       "      <th>13</th>\n",
       "      <td>1002</td>\n",
       "      <td>2018-09-01</td>\n",
       "      <td>36.0</td>\n",
       "      <td>206.0</td>\n",
       "      <td>10.0</td>\n",
       "      <td>16691.08</td>\n",
       "      <td>59</td>\n",
       "      <td>NaN</td>\n",
       "      <td>Стерлитамак</td>\n",
       "      <td>Евгений</td>\n",
       "      <td>Абрамович</td>\n",
       "      <td>2018-06-17</td>\n",
       "      <td>smart</td>\n",
       "    </tr>\n",
       "    <tr>\n",
       "      <th>14</th>\n",
       "      <td>1002</td>\n",
       "      <td>2018-10-01</td>\n",
       "      <td>33.0</td>\n",
       "      <td>212.0</td>\n",
       "      <td>9.0</td>\n",
       "      <td>13888.25</td>\n",
       "      <td>59</td>\n",
       "      <td>NaN</td>\n",
       "      <td>Стерлитамак</td>\n",
       "      <td>Евгений</td>\n",
       "      <td>Абрамович</td>\n",
       "      <td>2018-06-17</td>\n",
       "      <td>smart</td>\n",
       "    </tr>\n",
       "    <tr>\n",
       "      <th>15</th>\n",
       "      <td>1002</td>\n",
       "      <td>2018-11-01</td>\n",
       "      <td>32.0</td>\n",
       "      <td>243.0</td>\n",
       "      <td>15.0</td>\n",
       "      <td>18587.28</td>\n",
       "      <td>59</td>\n",
       "      <td>NaN</td>\n",
       "      <td>Стерлитамак</td>\n",
       "      <td>Евгений</td>\n",
       "      <td>Абрамович</td>\n",
       "      <td>2018-06-17</td>\n",
       "      <td>smart</td>\n",
       "    </tr>\n",
       "    <tr>\n",
       "      <th>16</th>\n",
       "      <td>1002</td>\n",
       "      <td>2018-12-01</td>\n",
       "      <td>33.0</td>\n",
       "      <td>236.0</td>\n",
       "      <td>8.0</td>\n",
       "      <td>18113.73</td>\n",
       "      <td>59</td>\n",
       "      <td>NaN</td>\n",
       "      <td>Стерлитамак</td>\n",
       "      <td>Евгений</td>\n",
       "      <td>Абрамович</td>\n",
       "      <td>2018-06-17</td>\n",
       "      <td>smart</td>\n",
       "    </tr>\n",
       "    <tr>\n",
       "      <th>17</th>\n",
       "      <td>1003</td>\n",
       "      <td>2018-08-01</td>\n",
       "      <td>55.0</td>\n",
       "      <td>380.0</td>\n",
       "      <td>55.0</td>\n",
       "      <td>8565.21</td>\n",
       "      <td>23</td>\n",
       "      <td>NaN</td>\n",
       "      <td>Москва</td>\n",
       "      <td>Белла</td>\n",
       "      <td>Белякова</td>\n",
       "      <td>2018-08-17</td>\n",
       "      <td>ultra</td>\n",
       "    </tr>\n",
       "    <tr>\n",
       "      <th>18</th>\n",
       "      <td>1003</td>\n",
       "      <td>2018-09-01</td>\n",
       "      <td>134.0</td>\n",
       "      <td>961.0</td>\n",
       "      <td>81.0</td>\n",
       "      <td>12468.87</td>\n",
       "      <td>23</td>\n",
       "      <td>NaN</td>\n",
       "      <td>Москва</td>\n",
       "      <td>Белла</td>\n",
       "      <td>Белякова</td>\n",
       "      <td>2018-08-17</td>\n",
       "      <td>ultra</td>\n",
       "    </tr>\n",
       "    <tr>\n",
       "      <th>19</th>\n",
       "      <td>1003</td>\n",
       "      <td>2018-10-01</td>\n",
       "      <td>108.0</td>\n",
       "      <td>855.0</td>\n",
       "      <td>77.0</td>\n",
       "      <td>14768.14</td>\n",
       "      <td>23</td>\n",
       "      <td>NaN</td>\n",
       "      <td>Москва</td>\n",
       "      <td>Белла</td>\n",
       "      <td>Белякова</td>\n",
       "      <td>2018-08-17</td>\n",
       "      <td>ultra</td>\n",
       "    </tr>\n",
       "  </tbody>\n",
       "</table>\n",
       "</div>"
      ],
      "text/plain": [
       "    user_id      month  calls_count  calls_duration  messages   mb_used  age  \\\n",
       "0      1000 2018-05-01         22.0           159.0      22.0   2253.49   52   \n",
       "1      1000 2018-06-01         43.0           172.0      43.0  23233.77   52   \n",
       "2      1000 2018-07-01         47.0           340.0      47.0  14003.64   52   \n",
       "3      1000 2018-08-01         52.0           408.0      53.0  14055.93   52   \n",
       "4      1000 2018-09-01         58.0           466.0      59.0  14568.91   52   \n",
       "5      1000 2018-10-01         57.0           350.0      57.0  14702.49   52   \n",
       "6      1000 2018-11-01         43.0           338.0     103.0  14756.47   52   \n",
       "7      1000 2018-12-01         46.0           333.0     112.0   9817.61   52   \n",
       "8      1001 2018-11-01         59.0           430.0       NaN  18429.34   41   \n",
       "9      1001 2018-12-01         63.0           414.0       NaN  14036.66   41   \n",
       "10     1002 2018-06-01         15.0           117.0       7.0  10856.82   59   \n",
       "11     1002 2018-07-01         26.0           214.0       8.0  17580.10   59   \n",
       "12     1002 2018-08-01         42.0           289.0      13.0  20319.26   59   \n",
       "13     1002 2018-09-01         36.0           206.0      10.0  16691.08   59   \n",
       "14     1002 2018-10-01         33.0           212.0       9.0  13888.25   59   \n",
       "15     1002 2018-11-01         32.0           243.0      15.0  18587.28   59   \n",
       "16     1002 2018-12-01         33.0           236.0       8.0  18113.73   59   \n",
       "17     1003 2018-08-01         55.0           380.0      55.0   8565.21   23   \n",
       "18     1003 2018-09-01        134.0           961.0      81.0  12468.87   23   \n",
       "19     1003 2018-10-01        108.0           855.0      77.0  14768.14   23   \n",
       "\n",
       "   churn_date         city first_name  last_name   reg_date tariff  \n",
       "0         NaN    Краснодар     Рафаил  Верещагин 2018-05-25  ultra  \n",
       "1         NaN    Краснодар     Рафаил  Верещагин 2018-05-25  ultra  \n",
       "2         NaN    Краснодар     Рафаил  Верещагин 2018-05-25  ultra  \n",
       "3         NaN    Краснодар     Рафаил  Верещагин 2018-05-25  ultra  \n",
       "4         NaN    Краснодар     Рафаил  Верещагин 2018-05-25  ultra  \n",
       "5         NaN    Краснодар     Рафаил  Верещагин 2018-05-25  ultra  \n",
       "6         NaN    Краснодар     Рафаил  Верещагин 2018-05-25  ultra  \n",
       "7         NaN    Краснодар     Рафаил  Верещагин 2018-05-25  ultra  \n",
       "8         NaN       Москва       Иван       Ежов 2018-11-01  smart  \n",
       "9         NaN       Москва       Иван       Ежов 2018-11-01  smart  \n",
       "10        NaN  Стерлитамак    Евгений  Абрамович 2018-06-17  smart  \n",
       "11        NaN  Стерлитамак    Евгений  Абрамович 2018-06-17  smart  \n",
       "12        NaN  Стерлитамак    Евгений  Абрамович 2018-06-17  smart  \n",
       "13        NaN  Стерлитамак    Евгений  Абрамович 2018-06-17  smart  \n",
       "14        NaN  Стерлитамак    Евгений  Абрамович 2018-06-17  smart  \n",
       "15        NaN  Стерлитамак    Евгений  Абрамович 2018-06-17  smart  \n",
       "16        NaN  Стерлитамак    Евгений  Абрамович 2018-06-17  smart  \n",
       "17        NaN       Москва      Белла   Белякова 2018-08-17  ultra  \n",
       "18        NaN       Москва      Белла   Белякова 2018-08-17  ultra  \n",
       "19        NaN       Москва      Белла   Белякова 2018-08-17  ultra  "
      ]
     },
     "execution_count": 31,
     "metadata": {},
     "output_type": "execute_result"
    }
   ],
   "source": [
    "df = df.merge(df_users, on='user_id', how='left', suffixes=('_df','_users'))\n",
    "df.head(20)"
   ]
  },
  {
   "cell_type": "markdown",
   "metadata": {},
   "source": [
    "### Расчет помесячной выручки с каждого пользователя\n",
    "Еще раз вызываю информацию о тарифах, добавляю данные в общую таблицу."
   ]
  },
  {
   "cell_type": "code",
   "execution_count": 32,
   "metadata": {},
   "outputs": [
    {
     "data": {
      "text/html": [
       "<div>\n",
       "<style scoped>\n",
       "    .dataframe tbody tr th:only-of-type {\n",
       "        vertical-align: middle;\n",
       "    }\n",
       "\n",
       "    .dataframe tbody tr th {\n",
       "        vertical-align: top;\n",
       "    }\n",
       "\n",
       "    .dataframe thead th {\n",
       "        text-align: right;\n",
       "    }\n",
       "</style>\n",
       "<table border=\"1\" class=\"dataframe\">\n",
       "  <thead>\n",
       "    <tr style=\"text-align: right;\">\n",
       "      <th></th>\n",
       "      <th>messages_included</th>\n",
       "      <th>mb_per_month_included</th>\n",
       "      <th>minutes_included</th>\n",
       "      <th>rub_monthly_fee</th>\n",
       "      <th>rub_per_gb</th>\n",
       "      <th>rub_per_message</th>\n",
       "      <th>rub_per_minute</th>\n",
       "      <th>tariff_name</th>\n",
       "    </tr>\n",
       "  </thead>\n",
       "  <tbody>\n",
       "    <tr>\n",
       "      <th>0</th>\n",
       "      <td>50</td>\n",
       "      <td>15360</td>\n",
       "      <td>500</td>\n",
       "      <td>550</td>\n",
       "      <td>200</td>\n",
       "      <td>3</td>\n",
       "      <td>3</td>\n",
       "      <td>smart</td>\n",
       "    </tr>\n",
       "    <tr>\n",
       "      <th>1</th>\n",
       "      <td>1000</td>\n",
       "      <td>30720</td>\n",
       "      <td>3000</td>\n",
       "      <td>1950</td>\n",
       "      <td>150</td>\n",
       "      <td>1</td>\n",
       "      <td>1</td>\n",
       "      <td>ultra</td>\n",
       "    </tr>\n",
       "  </tbody>\n",
       "</table>\n",
       "</div>"
      ],
      "text/plain": [
       "   messages_included  mb_per_month_included  minutes_included  \\\n",
       "0                 50                  15360               500   \n",
       "1               1000                  30720              3000   \n",
       "\n",
       "   rub_monthly_fee  rub_per_gb  rub_per_message  rub_per_minute tariff_name  \n",
       "0              550         200                3               3       smart  \n",
       "1             1950         150                1               1       ultra  "
      ]
     },
     "execution_count": 32,
     "metadata": {},
     "output_type": "execute_result"
    }
   ],
   "source": [
    "df_tariffs"
   ]
  },
  {
   "cell_type": "code",
   "execution_count": 33,
   "metadata": {
    "scrolled": true
   },
   "outputs": [
    {
     "data": {
      "text/html": [
       "<div>\n",
       "<style scoped>\n",
       "    .dataframe tbody tr th:only-of-type {\n",
       "        vertical-align: middle;\n",
       "    }\n",
       "\n",
       "    .dataframe tbody tr th {\n",
       "        vertical-align: top;\n",
       "    }\n",
       "\n",
       "    .dataframe thead th {\n",
       "        text-align: right;\n",
       "    }\n",
       "</style>\n",
       "<table border=\"1\" class=\"dataframe\">\n",
       "  <thead>\n",
       "    <tr style=\"text-align: right;\">\n",
       "      <th></th>\n",
       "      <th>user_id</th>\n",
       "      <th>month</th>\n",
       "      <th>calls_count</th>\n",
       "      <th>calls_duration</th>\n",
       "      <th>messages</th>\n",
       "      <th>mb_used</th>\n",
       "      <th>age</th>\n",
       "      <th>churn_date</th>\n",
       "      <th>city</th>\n",
       "      <th>first_name</th>\n",
       "      <th>...</th>\n",
       "      <th>reg_date</th>\n",
       "      <th>tariff</th>\n",
       "      <th>messages_included</th>\n",
       "      <th>mb_per_month_included</th>\n",
       "      <th>minutes_included</th>\n",
       "      <th>rub_monthly_fee</th>\n",
       "      <th>rub_per_gb</th>\n",
       "      <th>rub_per_message</th>\n",
       "      <th>rub_per_minute</th>\n",
       "      <th>tariff_name</th>\n",
       "    </tr>\n",
       "  </thead>\n",
       "  <tbody>\n",
       "    <tr>\n",
       "      <th>0</th>\n",
       "      <td>1000</td>\n",
       "      <td>2018-05-01</td>\n",
       "      <td>22.0</td>\n",
       "      <td>159.0</td>\n",
       "      <td>22.0</td>\n",
       "      <td>2253.49</td>\n",
       "      <td>52</td>\n",
       "      <td>NaN</td>\n",
       "      <td>Краснодар</td>\n",
       "      <td>Рафаил</td>\n",
       "      <td>...</td>\n",
       "      <td>2018-05-25</td>\n",
       "      <td>ultra</td>\n",
       "      <td>1000</td>\n",
       "      <td>30720</td>\n",
       "      <td>3000</td>\n",
       "      <td>1950</td>\n",
       "      <td>150</td>\n",
       "      <td>1</td>\n",
       "      <td>1</td>\n",
       "      <td>ultra</td>\n",
       "    </tr>\n",
       "    <tr>\n",
       "      <th>1</th>\n",
       "      <td>1000</td>\n",
       "      <td>2018-06-01</td>\n",
       "      <td>43.0</td>\n",
       "      <td>172.0</td>\n",
       "      <td>43.0</td>\n",
       "      <td>23233.77</td>\n",
       "      <td>52</td>\n",
       "      <td>NaN</td>\n",
       "      <td>Краснодар</td>\n",
       "      <td>Рафаил</td>\n",
       "      <td>...</td>\n",
       "      <td>2018-05-25</td>\n",
       "      <td>ultra</td>\n",
       "      <td>1000</td>\n",
       "      <td>30720</td>\n",
       "      <td>3000</td>\n",
       "      <td>1950</td>\n",
       "      <td>150</td>\n",
       "      <td>1</td>\n",
       "      <td>1</td>\n",
       "      <td>ultra</td>\n",
       "    </tr>\n",
       "    <tr>\n",
       "      <th>2</th>\n",
       "      <td>1000</td>\n",
       "      <td>2018-07-01</td>\n",
       "      <td>47.0</td>\n",
       "      <td>340.0</td>\n",
       "      <td>47.0</td>\n",
       "      <td>14003.64</td>\n",
       "      <td>52</td>\n",
       "      <td>NaN</td>\n",
       "      <td>Краснодар</td>\n",
       "      <td>Рафаил</td>\n",
       "      <td>...</td>\n",
       "      <td>2018-05-25</td>\n",
       "      <td>ultra</td>\n",
       "      <td>1000</td>\n",
       "      <td>30720</td>\n",
       "      <td>3000</td>\n",
       "      <td>1950</td>\n",
       "      <td>150</td>\n",
       "      <td>1</td>\n",
       "      <td>1</td>\n",
       "      <td>ultra</td>\n",
       "    </tr>\n",
       "    <tr>\n",
       "      <th>3</th>\n",
       "      <td>1000</td>\n",
       "      <td>2018-08-01</td>\n",
       "      <td>52.0</td>\n",
       "      <td>408.0</td>\n",
       "      <td>53.0</td>\n",
       "      <td>14055.93</td>\n",
       "      <td>52</td>\n",
       "      <td>NaN</td>\n",
       "      <td>Краснодар</td>\n",
       "      <td>Рафаил</td>\n",
       "      <td>...</td>\n",
       "      <td>2018-05-25</td>\n",
       "      <td>ultra</td>\n",
       "      <td>1000</td>\n",
       "      <td>30720</td>\n",
       "      <td>3000</td>\n",
       "      <td>1950</td>\n",
       "      <td>150</td>\n",
       "      <td>1</td>\n",
       "      <td>1</td>\n",
       "      <td>ultra</td>\n",
       "    </tr>\n",
       "    <tr>\n",
       "      <th>4</th>\n",
       "      <td>1000</td>\n",
       "      <td>2018-09-01</td>\n",
       "      <td>58.0</td>\n",
       "      <td>466.0</td>\n",
       "      <td>59.0</td>\n",
       "      <td>14568.91</td>\n",
       "      <td>52</td>\n",
       "      <td>NaN</td>\n",
       "      <td>Краснодар</td>\n",
       "      <td>Рафаил</td>\n",
       "      <td>...</td>\n",
       "      <td>2018-05-25</td>\n",
       "      <td>ultra</td>\n",
       "      <td>1000</td>\n",
       "      <td>30720</td>\n",
       "      <td>3000</td>\n",
       "      <td>1950</td>\n",
       "      <td>150</td>\n",
       "      <td>1</td>\n",
       "      <td>1</td>\n",
       "      <td>ultra</td>\n",
       "    </tr>\n",
       "    <tr>\n",
       "      <th>...</th>\n",
       "      <td>...</td>\n",
       "      <td>...</td>\n",
       "      <td>...</td>\n",
       "      <td>...</td>\n",
       "      <td>...</td>\n",
       "      <td>...</td>\n",
       "      <td>...</td>\n",
       "      <td>...</td>\n",
       "      <td>...</td>\n",
       "      <td>...</td>\n",
       "      <td>...</td>\n",
       "      <td>...</td>\n",
       "      <td>...</td>\n",
       "      <td>...</td>\n",
       "      <td>...</td>\n",
       "      <td>...</td>\n",
       "      <td>...</td>\n",
       "      <td>...</td>\n",
       "      <td>...</td>\n",
       "      <td>...</td>\n",
       "      <td>...</td>\n",
       "    </tr>\n",
       "    <tr>\n",
       "      <th>4531</th>\n",
       "      <td>1499</td>\n",
       "      <td>2018-05-01</td>\n",
       "      <td>NaN</td>\n",
       "      <td>NaN</td>\n",
       "      <td>6.0</td>\n",
       "      <td>NaN</td>\n",
       "      <td>35</td>\n",
       "      <td>NaN</td>\n",
       "      <td>Пермь</td>\n",
       "      <td>Гектор</td>\n",
       "      <td>...</td>\n",
       "      <td>2018-09-27</td>\n",
       "      <td>smart</td>\n",
       "      <td>50</td>\n",
       "      <td>15360</td>\n",
       "      <td>500</td>\n",
       "      <td>550</td>\n",
       "      <td>200</td>\n",
       "      <td>3</td>\n",
       "      <td>3</td>\n",
       "      <td>smart</td>\n",
       "    </tr>\n",
       "    <tr>\n",
       "      <th>4532</th>\n",
       "      <td>1499</td>\n",
       "      <td>2018-06-01</td>\n",
       "      <td>NaN</td>\n",
       "      <td>NaN</td>\n",
       "      <td>5.0</td>\n",
       "      <td>NaN</td>\n",
       "      <td>35</td>\n",
       "      <td>NaN</td>\n",
       "      <td>Пермь</td>\n",
       "      <td>Гектор</td>\n",
       "      <td>...</td>\n",
       "      <td>2018-09-27</td>\n",
       "      <td>smart</td>\n",
       "      <td>50</td>\n",
       "      <td>15360</td>\n",
       "      <td>500</td>\n",
       "      <td>550</td>\n",
       "      <td>200</td>\n",
       "      <td>3</td>\n",
       "      <td>3</td>\n",
       "      <td>smart</td>\n",
       "    </tr>\n",
       "    <tr>\n",
       "      <th>4533</th>\n",
       "      <td>1499</td>\n",
       "      <td>2018-07-01</td>\n",
       "      <td>NaN</td>\n",
       "      <td>NaN</td>\n",
       "      <td>25.0</td>\n",
       "      <td>NaN</td>\n",
       "      <td>35</td>\n",
       "      <td>NaN</td>\n",
       "      <td>Пермь</td>\n",
       "      <td>Гектор</td>\n",
       "      <td>...</td>\n",
       "      <td>2018-09-27</td>\n",
       "      <td>smart</td>\n",
       "      <td>50</td>\n",
       "      <td>15360</td>\n",
       "      <td>500</td>\n",
       "      <td>550</td>\n",
       "      <td>200</td>\n",
       "      <td>3</td>\n",
       "      <td>3</td>\n",
       "      <td>smart</td>\n",
       "    </tr>\n",
       "    <tr>\n",
       "      <th>4534</th>\n",
       "      <td>1499</td>\n",
       "      <td>2018-08-01</td>\n",
       "      <td>NaN</td>\n",
       "      <td>NaN</td>\n",
       "      <td>24.0</td>\n",
       "      <td>NaN</td>\n",
       "      <td>35</td>\n",
       "      <td>NaN</td>\n",
       "      <td>Пермь</td>\n",
       "      <td>Гектор</td>\n",
       "      <td>...</td>\n",
       "      <td>2018-09-27</td>\n",
       "      <td>smart</td>\n",
       "      <td>50</td>\n",
       "      <td>15360</td>\n",
       "      <td>500</td>\n",
       "      <td>550</td>\n",
       "      <td>200</td>\n",
       "      <td>3</td>\n",
       "      <td>3</td>\n",
       "      <td>smart</td>\n",
       "    </tr>\n",
       "    <tr>\n",
       "      <th>4535</th>\n",
       "      <td>1476</td>\n",
       "      <td>2018-04-01</td>\n",
       "      <td>NaN</td>\n",
       "      <td>NaN</td>\n",
       "      <td>NaN</td>\n",
       "      <td>530.78</td>\n",
       "      <td>50</td>\n",
       "      <td>NaN</td>\n",
       "      <td>Москва</td>\n",
       "      <td>Валентина</td>\n",
       "      <td>...</td>\n",
       "      <td>2018-04-30</td>\n",
       "      <td>ultra</td>\n",
       "      <td>1000</td>\n",
       "      <td>30720</td>\n",
       "      <td>3000</td>\n",
       "      <td>1950</td>\n",
       "      <td>150</td>\n",
       "      <td>1</td>\n",
       "      <td>1</td>\n",
       "      <td>ultra</td>\n",
       "    </tr>\n",
       "  </tbody>\n",
       "</table>\n",
       "<p>4536 rows × 21 columns</p>\n",
       "</div>"
      ],
      "text/plain": [
       "      user_id      month  calls_count  calls_duration  messages   mb_used  \\\n",
       "0        1000 2018-05-01         22.0           159.0      22.0   2253.49   \n",
       "1        1000 2018-06-01         43.0           172.0      43.0  23233.77   \n",
       "2        1000 2018-07-01         47.0           340.0      47.0  14003.64   \n",
       "3        1000 2018-08-01         52.0           408.0      53.0  14055.93   \n",
       "4        1000 2018-09-01         58.0           466.0      59.0  14568.91   \n",
       "...       ...        ...          ...             ...       ...       ...   \n",
       "4531     1499 2018-05-01          NaN             NaN       6.0       NaN   \n",
       "4532     1499 2018-06-01          NaN             NaN       5.0       NaN   \n",
       "4533     1499 2018-07-01          NaN             NaN      25.0       NaN   \n",
       "4534     1499 2018-08-01          NaN             NaN      24.0       NaN   \n",
       "4535     1476 2018-04-01          NaN             NaN       NaN    530.78   \n",
       "\n",
       "      age churn_date       city first_name  ...   reg_date tariff  \\\n",
       "0      52        NaN  Краснодар     Рафаил  ... 2018-05-25  ultra   \n",
       "1      52        NaN  Краснодар     Рафаил  ... 2018-05-25  ultra   \n",
       "2      52        NaN  Краснодар     Рафаил  ... 2018-05-25  ultra   \n",
       "3      52        NaN  Краснодар     Рафаил  ... 2018-05-25  ultra   \n",
       "4      52        NaN  Краснодар     Рафаил  ... 2018-05-25  ultra   \n",
       "...   ...        ...        ...        ...  ...        ...    ...   \n",
       "4531   35        NaN      Пермь     Гектор  ... 2018-09-27  smart   \n",
       "4532   35        NaN      Пермь     Гектор  ... 2018-09-27  smart   \n",
       "4533   35        NaN      Пермь     Гектор  ... 2018-09-27  smart   \n",
       "4534   35        NaN      Пермь     Гектор  ... 2018-09-27  smart   \n",
       "4535   50        NaN     Москва  Валентина  ... 2018-04-30  ultra   \n",
       "\n",
       "     messages_included  mb_per_month_included  minutes_included  \\\n",
       "0                 1000                  30720              3000   \n",
       "1                 1000                  30720              3000   \n",
       "2                 1000                  30720              3000   \n",
       "3                 1000                  30720              3000   \n",
       "4                 1000                  30720              3000   \n",
       "...                ...                    ...               ...   \n",
       "4531                50                  15360               500   \n",
       "4532                50                  15360               500   \n",
       "4533                50                  15360               500   \n",
       "4534                50                  15360               500   \n",
       "4535              1000                  30720              3000   \n",
       "\n",
       "      rub_monthly_fee  rub_per_gb  rub_per_message  rub_per_minute  \\\n",
       "0                1950         150                1               1   \n",
       "1                1950         150                1               1   \n",
       "2                1950         150                1               1   \n",
       "3                1950         150                1               1   \n",
       "4                1950         150                1               1   \n",
       "...               ...         ...              ...             ...   \n",
       "4531              550         200                3               3   \n",
       "4532              550         200                3               3   \n",
       "4533              550         200                3               3   \n",
       "4534              550         200                3               3   \n",
       "4535             1950         150                1               1   \n",
       "\n",
       "      tariff_name  \n",
       "0           ultra  \n",
       "1           ultra  \n",
       "2           ultra  \n",
       "3           ultra  \n",
       "4           ultra  \n",
       "...           ...  \n",
       "4531        smart  \n",
       "4532        smart  \n",
       "4533        smart  \n",
       "4534        smart  \n",
       "4535        ultra  \n",
       "\n",
       "[4536 rows x 21 columns]"
      ]
     },
     "execution_count": 33,
     "metadata": {},
     "output_type": "execute_result"
    }
   ],
   "source": [
    "df = df.merge(df_tariffs, left_on='tariff', right_on='tariff_name', how='left')\n",
    "df"
   ]
  },
  {
   "cell_type": "markdown",
   "metadata": {},
   "source": [
    "### Работа с пропущенными значениями\n",
    "Проверяю полученную таблицу на пропущенные значения."
   ]
  },
  {
   "cell_type": "code",
   "execution_count": 34,
   "metadata": {},
   "outputs": [
    {
     "data": {
      "text/plain": [
       "user_id                     0\n",
       "month                       0\n",
       "calls_count              1362\n",
       "calls_duration           1362\n",
       "messages                  795\n",
       "mb_used                  1333\n",
       "age                         0\n",
       "churn_date               4248\n",
       "city                        0\n",
       "first_name                  0\n",
       "last_name                   0\n",
       "reg_date                    0\n",
       "tariff                      0\n",
       "messages_included           0\n",
       "mb_per_month_included       0\n",
       "minutes_included            0\n",
       "rub_monthly_fee             0\n",
       "rub_per_gb                  0\n",
       "rub_per_message             0\n",
       "rub_per_minute              0\n",
       "tariff_name                 0\n",
       "dtype: int64"
      ]
     },
     "execution_count": 34,
     "metadata": {},
     "output_type": "execute_result"
    }
   ],
   "source": [
    "df.isna().sum()"
   ]
  },
  {
   "cell_type": "markdown",
   "metadata": {},
   "source": [
    "Для столбцов calls_count, calls_duration, messages, mb_used пропущенные значения меняю на ноль, так как это означает, что пользователь не использовал в какой-то месяц звонки, сообщения или интернет."
   ]
  },
  {
   "cell_type": "code",
   "execution_count": 35,
   "metadata": {},
   "outputs": [
    {
     "data": {
      "text/plain": [
       "user_id                     0\n",
       "month                       0\n",
       "calls_count                 0\n",
       "calls_duration              0\n",
       "messages                    0\n",
       "mb_used                     0\n",
       "age                         0\n",
       "churn_date               4248\n",
       "city                        0\n",
       "first_name                  0\n",
       "last_name                   0\n",
       "reg_date                    0\n",
       "tariff                      0\n",
       "messages_included           0\n",
       "mb_per_month_included       0\n",
       "minutes_included            0\n",
       "rub_monthly_fee             0\n",
       "rub_per_gb                  0\n",
       "rub_per_message             0\n",
       "rub_per_minute              0\n",
       "tariff_name                 0\n",
       "dtype: int64"
      ]
     },
     "execution_count": 35,
     "metadata": {},
     "output_type": "execute_result"
    }
   ],
   "source": [
    "df['calls_count'] = df['calls_count'].fillna(0)\n",
    "df['calls_duration'] = df['calls_duration'].fillna(0)\n",
    "df['messages'] = df['messages'].fillna(0)\n",
    "df['mb_used'] = df['mb_used'].fillna(0)\n",
    "df.isna().sum()"
   ]
  },
  {
   "cell_type": "markdown",
   "metadata": {},
   "source": [
    "### Перерасход минут"
   ]
  },
  {
   "cell_type": "markdown",
   "metadata": {},
   "source": [
    "Вычитаю бесплатный лимит из суммарного количества звонков. Пишу функцию, которая будет возвращать перерасход минут или ноль, если перерасхода не было."
   ]
  },
  {
   "cell_type": "code",
   "execution_count": 36,
   "metadata": {},
   "outputs": [],
   "source": [
    "def minutes_count(row):\n",
    "    minutes = row['calls_duration'] - row['minutes_included'] \n",
    "    if minutes >0:\n",
    "        return minutes\n",
    "    if minutes<= 0:\n",
    "        return 0\n",
    "    return 0"
   ]
  },
  {
   "cell_type": "code",
   "execution_count": 37,
   "metadata": {},
   "outputs": [
    {
     "data": {
      "text/html": [
       "<div>\n",
       "<style scoped>\n",
       "    .dataframe tbody tr th:only-of-type {\n",
       "        vertical-align: middle;\n",
       "    }\n",
       "\n",
       "    .dataframe tbody tr th {\n",
       "        vertical-align: top;\n",
       "    }\n",
       "\n",
       "    .dataframe thead th {\n",
       "        text-align: right;\n",
       "    }\n",
       "</style>\n",
       "<table border=\"1\" class=\"dataframe\">\n",
       "  <thead>\n",
       "    <tr style=\"text-align: right;\">\n",
       "      <th></th>\n",
       "      <th>user_id</th>\n",
       "      <th>month</th>\n",
       "      <th>calls_count</th>\n",
       "      <th>calls_duration</th>\n",
       "      <th>messages</th>\n",
       "      <th>mb_used</th>\n",
       "      <th>age</th>\n",
       "      <th>churn_date</th>\n",
       "      <th>city</th>\n",
       "      <th>first_name</th>\n",
       "      <th>...</th>\n",
       "      <th>tariff</th>\n",
       "      <th>messages_included</th>\n",
       "      <th>mb_per_month_included</th>\n",
       "      <th>minutes_included</th>\n",
       "      <th>rub_monthly_fee</th>\n",
       "      <th>rub_per_gb</th>\n",
       "      <th>rub_per_message</th>\n",
       "      <th>rub_per_minute</th>\n",
       "      <th>tariff_name</th>\n",
       "      <th>extra_minutes</th>\n",
       "    </tr>\n",
       "  </thead>\n",
       "  <tbody>\n",
       "    <tr>\n",
       "      <th>32</th>\n",
       "      <td>1005</td>\n",
       "      <td>2018-03-01</td>\n",
       "      <td>77.0</td>\n",
       "      <td>606.0</td>\n",
       "      <td>51.0</td>\n",
       "      <td>11104.25</td>\n",
       "      <td>67</td>\n",
       "      <td>NaN</td>\n",
       "      <td>Набережные Челны</td>\n",
       "      <td>Афанасий</td>\n",
       "      <td>...</td>\n",
       "      <td>smart</td>\n",
       "      <td>50</td>\n",
       "      <td>15360</td>\n",
       "      <td>500</td>\n",
       "      <td>550</td>\n",
       "      <td>200</td>\n",
       "      <td>3</td>\n",
       "      <td>3</td>\n",
       "      <td>smart</td>\n",
       "      <td>106</td>\n",
       "    </tr>\n",
       "    <tr>\n",
       "      <th>33</th>\n",
       "      <td>1005</td>\n",
       "      <td>2018-04-01</td>\n",
       "      <td>101.0</td>\n",
       "      <td>712.0</td>\n",
       "      <td>59.0</td>\n",
       "      <td>9351.72</td>\n",
       "      <td>67</td>\n",
       "      <td>NaN</td>\n",
       "      <td>Набережные Челны</td>\n",
       "      <td>Афанасий</td>\n",
       "      <td>...</td>\n",
       "      <td>smart</td>\n",
       "      <td>50</td>\n",
       "      <td>15360</td>\n",
       "      <td>500</td>\n",
       "      <td>550</td>\n",
       "      <td>200</td>\n",
       "      <td>3</td>\n",
       "      <td>3</td>\n",
       "      <td>smart</td>\n",
       "      <td>212</td>\n",
       "    </tr>\n",
       "    <tr>\n",
       "      <th>34</th>\n",
       "      <td>1005</td>\n",
       "      <td>2018-05-01</td>\n",
       "      <td>73.0</td>\n",
       "      <td>595.0</td>\n",
       "      <td>59.0</td>\n",
       "      <td>7865.53</td>\n",
       "      <td>67</td>\n",
       "      <td>NaN</td>\n",
       "      <td>Набережные Челны</td>\n",
       "      <td>Афанасий</td>\n",
       "      <td>...</td>\n",
       "      <td>smart</td>\n",
       "      <td>50</td>\n",
       "      <td>15360</td>\n",
       "      <td>500</td>\n",
       "      <td>550</td>\n",
       "      <td>200</td>\n",
       "      <td>3</td>\n",
       "      <td>3</td>\n",
       "      <td>smart</td>\n",
       "      <td>95</td>\n",
       "    </tr>\n",
       "    <tr>\n",
       "      <th>35</th>\n",
       "      <td>1005</td>\n",
       "      <td>2018-06-01</td>\n",
       "      <td>80.0</td>\n",
       "      <td>612.0</td>\n",
       "      <td>50.0</td>\n",
       "      <td>9863.19</td>\n",
       "      <td>67</td>\n",
       "      <td>NaN</td>\n",
       "      <td>Набережные Челны</td>\n",
       "      <td>Афанасий</td>\n",
       "      <td>...</td>\n",
       "      <td>smart</td>\n",
       "      <td>50</td>\n",
       "      <td>15360</td>\n",
       "      <td>500</td>\n",
       "      <td>550</td>\n",
       "      <td>200</td>\n",
       "      <td>3</td>\n",
       "      <td>3</td>\n",
       "      <td>smart</td>\n",
       "      <td>112</td>\n",
       "    </tr>\n",
       "    <tr>\n",
       "      <th>36</th>\n",
       "      <td>1005</td>\n",
       "      <td>2018-07-01</td>\n",
       "      <td>77.0</td>\n",
       "      <td>569.0</td>\n",
       "      <td>46.0</td>\n",
       "      <td>7694.56</td>\n",
       "      <td>67</td>\n",
       "      <td>NaN</td>\n",
       "      <td>Набережные Челны</td>\n",
       "      <td>Афанасий</td>\n",
       "      <td>...</td>\n",
       "      <td>smart</td>\n",
       "      <td>50</td>\n",
       "      <td>15360</td>\n",
       "      <td>500</td>\n",
       "      <td>550</td>\n",
       "      <td>200</td>\n",
       "      <td>3</td>\n",
       "      <td>3</td>\n",
       "      <td>smart</td>\n",
       "      <td>69</td>\n",
       "    </tr>\n",
       "  </tbody>\n",
       "</table>\n",
       "<p>5 rows × 22 columns</p>\n",
       "</div>"
      ],
      "text/plain": [
       "    user_id      month  calls_count  calls_duration  messages   mb_used  age  \\\n",
       "32     1005 2018-03-01         77.0           606.0      51.0  11104.25   67   \n",
       "33     1005 2018-04-01        101.0           712.0      59.0   9351.72   67   \n",
       "34     1005 2018-05-01         73.0           595.0      59.0   7865.53   67   \n",
       "35     1005 2018-06-01         80.0           612.0      50.0   9863.19   67   \n",
       "36     1005 2018-07-01         77.0           569.0      46.0   7694.56   67   \n",
       "\n",
       "   churn_date              city first_name  ... tariff messages_included  \\\n",
       "32        NaN  Набережные Челны   Афанасий  ...  smart                50   \n",
       "33        NaN  Набережные Челны   Афанасий  ...  smart                50   \n",
       "34        NaN  Набережные Челны   Афанасий  ...  smart                50   \n",
       "35        NaN  Набережные Челны   Афанасий  ...  smart                50   \n",
       "36        NaN  Набережные Челны   Афанасий  ...  smart                50   \n",
       "\n",
       "   mb_per_month_included  minutes_included  rub_monthly_fee  rub_per_gb  \\\n",
       "32                 15360               500              550         200   \n",
       "33                 15360               500              550         200   \n",
       "34                 15360               500              550         200   \n",
       "35                 15360               500              550         200   \n",
       "36                 15360               500              550         200   \n",
       "\n",
       "    rub_per_message  rub_per_minute  tariff_name  extra_minutes  \n",
       "32                3               3        smart            106  \n",
       "33                3               3        smart            212  \n",
       "34                3               3        smart             95  \n",
       "35                3               3        smart            112  \n",
       "36                3               3        smart             69  \n",
       "\n",
       "[5 rows x 22 columns]"
      ]
     },
     "execution_count": 37,
     "metadata": {},
     "output_type": "execute_result"
    }
   ],
   "source": [
    "df['extra_minutes'] = df.apply(minutes_count, axis=1).astype('int')\n",
    "df.query('extra_minutes>0').head()"
   ]
  },
  {
   "cell_type": "markdown",
   "metadata": {},
   "source": [
    "### Перерасход сообщений"
   ]
  },
  {
   "cell_type": "markdown",
   "metadata": {},
   "source": [
    "Вычитаю бесплатный лимит из суммарного количества сообщений за месяц. Пишу функцию, которая будет возвращать перерасход сообщений или ноль, если перерасхода не было."
   ]
  },
  {
   "cell_type": "code",
   "execution_count": 38,
   "metadata": {},
   "outputs": [],
   "source": [
    "def messages_count(row):\n",
    "    messages = row['messages'] - row['messages_included'] \n",
    "    if messages >0:\n",
    "        return messages\n",
    "    if messages<= 0:\n",
    "        return 0\n",
    "    return 0"
   ]
  },
  {
   "cell_type": "code",
   "execution_count": 39,
   "metadata": {
    "scrolled": true
   },
   "outputs": [
    {
     "data": {
      "text/html": [
       "<div>\n",
       "<style scoped>\n",
       "    .dataframe tbody tr th:only-of-type {\n",
       "        vertical-align: middle;\n",
       "    }\n",
       "\n",
       "    .dataframe tbody tr th {\n",
       "        vertical-align: top;\n",
       "    }\n",
       "\n",
       "    .dataframe thead th {\n",
       "        text-align: right;\n",
       "    }\n",
       "</style>\n",
       "<table border=\"1\" class=\"dataframe\">\n",
       "  <thead>\n",
       "    <tr style=\"text-align: right;\">\n",
       "      <th></th>\n",
       "      <th>user_id</th>\n",
       "      <th>month</th>\n",
       "      <th>calls_count</th>\n",
       "      <th>calls_duration</th>\n",
       "      <th>messages</th>\n",
       "      <th>mb_used</th>\n",
       "      <th>age</th>\n",
       "      <th>churn_date</th>\n",
       "      <th>city</th>\n",
       "      <th>first_name</th>\n",
       "      <th>last_name</th>\n",
       "      <th>reg_date</th>\n",
       "      <th>tariff</th>\n",
       "      <th>messages_included</th>\n",
       "      <th>mb_per_month_included</th>\n",
       "      <th>minutes_included</th>\n",
       "      <th>rub_monthly_fee</th>\n",
       "      <th>rub_per_gb</th>\n",
       "      <th>rub_per_message</th>\n",
       "      <th>rub_per_minute</th>\n",
       "      <th>tariff_name</th>\n",
       "      <th>extra_minutes</th>\n",
       "      <th>extra_messages</th>\n",
       "    </tr>\n",
       "  </thead>\n",
       "  <tbody>\n",
       "    <tr>\n",
       "      <th>32</th>\n",
       "      <td>1005</td>\n",
       "      <td>2018-03-01</td>\n",
       "      <td>77.0</td>\n",
       "      <td>606.0</td>\n",
       "      <td>51.0</td>\n",
       "      <td>11104.25</td>\n",
       "      <td>67</td>\n",
       "      <td>NaN</td>\n",
       "      <td>Набережные Челны</td>\n",
       "      <td>Афанасий</td>\n",
       "      <td>Горлов</td>\n",
       "      <td>2018-01-25</td>\n",
       "      <td>smart</td>\n",
       "      <td>50</td>\n",
       "      <td>15360</td>\n",
       "      <td>500</td>\n",
       "      <td>550</td>\n",
       "      <td>200</td>\n",
       "      <td>3</td>\n",
       "      <td>3</td>\n",
       "      <td>smart</td>\n",
       "      <td>106</td>\n",
       "      <td>1</td>\n",
       "    </tr>\n",
       "    <tr>\n",
       "      <th>33</th>\n",
       "      <td>1005</td>\n",
       "      <td>2018-04-01</td>\n",
       "      <td>101.0</td>\n",
       "      <td>712.0</td>\n",
       "      <td>59.0</td>\n",
       "      <td>9351.72</td>\n",
       "      <td>67</td>\n",
       "      <td>NaN</td>\n",
       "      <td>Набережные Челны</td>\n",
       "      <td>Афанасий</td>\n",
       "      <td>Горлов</td>\n",
       "      <td>2018-01-25</td>\n",
       "      <td>smart</td>\n",
       "      <td>50</td>\n",
       "      <td>15360</td>\n",
       "      <td>500</td>\n",
       "      <td>550</td>\n",
       "      <td>200</td>\n",
       "      <td>3</td>\n",
       "      <td>3</td>\n",
       "      <td>smart</td>\n",
       "      <td>212</td>\n",
       "      <td>9</td>\n",
       "    </tr>\n",
       "    <tr>\n",
       "      <th>34</th>\n",
       "      <td>1005</td>\n",
       "      <td>2018-05-01</td>\n",
       "      <td>73.0</td>\n",
       "      <td>595.0</td>\n",
       "      <td>59.0</td>\n",
       "      <td>7865.53</td>\n",
       "      <td>67</td>\n",
       "      <td>NaN</td>\n",
       "      <td>Набережные Челны</td>\n",
       "      <td>Афанасий</td>\n",
       "      <td>Горлов</td>\n",
       "      <td>2018-01-25</td>\n",
       "      <td>smart</td>\n",
       "      <td>50</td>\n",
       "      <td>15360</td>\n",
       "      <td>500</td>\n",
       "      <td>550</td>\n",
       "      <td>200</td>\n",
       "      <td>3</td>\n",
       "      <td>3</td>\n",
       "      <td>smart</td>\n",
       "      <td>95</td>\n",
       "      <td>9</td>\n",
       "    </tr>\n",
       "    <tr>\n",
       "      <th>38</th>\n",
       "      <td>1005</td>\n",
       "      <td>2018-09-01</td>\n",
       "      <td>66.0</td>\n",
       "      <td>479.0</td>\n",
       "      <td>61.0</td>\n",
       "      <td>7016.46</td>\n",
       "      <td>67</td>\n",
       "      <td>NaN</td>\n",
       "      <td>Набережные Челны</td>\n",
       "      <td>Афанасий</td>\n",
       "      <td>Горлов</td>\n",
       "      <td>2018-01-25</td>\n",
       "      <td>smart</td>\n",
       "      <td>50</td>\n",
       "      <td>15360</td>\n",
       "      <td>500</td>\n",
       "      <td>550</td>\n",
       "      <td>200</td>\n",
       "      <td>3</td>\n",
       "      <td>3</td>\n",
       "      <td>smart</td>\n",
       "      <td>0</td>\n",
       "      <td>11</td>\n",
       "    </tr>\n",
       "    <tr>\n",
       "      <th>39</th>\n",
       "      <td>1005</td>\n",
       "      <td>2018-10-01</td>\n",
       "      <td>100.0</td>\n",
       "      <td>723.0</td>\n",
       "      <td>57.0</td>\n",
       "      <td>7800.93</td>\n",
       "      <td>67</td>\n",
       "      <td>NaN</td>\n",
       "      <td>Набережные Челны</td>\n",
       "      <td>Афанасий</td>\n",
       "      <td>Горлов</td>\n",
       "      <td>2018-01-25</td>\n",
       "      <td>smart</td>\n",
       "      <td>50</td>\n",
       "      <td>15360</td>\n",
       "      <td>500</td>\n",
       "      <td>550</td>\n",
       "      <td>200</td>\n",
       "      <td>3</td>\n",
       "      <td>3</td>\n",
       "      <td>smart</td>\n",
       "      <td>223</td>\n",
       "      <td>7</td>\n",
       "    </tr>\n",
       "  </tbody>\n",
       "</table>\n",
       "</div>"
      ],
      "text/plain": [
       "    user_id      month  calls_count  calls_duration  messages   mb_used  age  \\\n",
       "32     1005 2018-03-01         77.0           606.0      51.0  11104.25   67   \n",
       "33     1005 2018-04-01        101.0           712.0      59.0   9351.72   67   \n",
       "34     1005 2018-05-01         73.0           595.0      59.0   7865.53   67   \n",
       "38     1005 2018-09-01         66.0           479.0      61.0   7016.46   67   \n",
       "39     1005 2018-10-01        100.0           723.0      57.0   7800.93   67   \n",
       "\n",
       "   churn_date              city first_name last_name   reg_date tariff  \\\n",
       "32        NaN  Набережные Челны   Афанасий    Горлов 2018-01-25  smart   \n",
       "33        NaN  Набережные Челны   Афанасий    Горлов 2018-01-25  smart   \n",
       "34        NaN  Набережные Челны   Афанасий    Горлов 2018-01-25  smart   \n",
       "38        NaN  Набережные Челны   Афанасий    Горлов 2018-01-25  smart   \n",
       "39        NaN  Набережные Челны   Афанасий    Горлов 2018-01-25  smart   \n",
       "\n",
       "    messages_included  mb_per_month_included  minutes_included  \\\n",
       "32                 50                  15360               500   \n",
       "33                 50                  15360               500   \n",
       "34                 50                  15360               500   \n",
       "38                 50                  15360               500   \n",
       "39                 50                  15360               500   \n",
       "\n",
       "    rub_monthly_fee  rub_per_gb  rub_per_message  rub_per_minute tariff_name  \\\n",
       "32              550         200                3               3       smart   \n",
       "33              550         200                3               3       smart   \n",
       "34              550         200                3               3       smart   \n",
       "38              550         200                3               3       smart   \n",
       "39              550         200                3               3       smart   \n",
       "\n",
       "    extra_minutes  extra_messages  \n",
       "32            106               1  \n",
       "33            212               9  \n",
       "34             95               9  \n",
       "38              0              11  \n",
       "39            223               7  "
      ]
     },
     "execution_count": 39,
     "metadata": {},
     "output_type": "execute_result"
    }
   ],
   "source": [
    "df['extra_messages'] = df.apply(messages_count, axis=1).astype('int')\n",
    "pd.set_option('display.max_columns', None)\n",
    "df.query('extra_messages>0').head()"
   ]
  },
  {
   "cell_type": "markdown",
   "metadata": {},
   "source": [
    "### Перерасход интернет-трафика"
   ]
  },
  {
   "cell_type": "markdown",
   "metadata": {},
   "source": [
    "Пишу еще одну функцию, которая посчитает перерасход интернет-трафика."
   ]
  },
  {
   "cell_type": "code",
   "execution_count": 40,
   "metadata": {},
   "outputs": [],
   "source": [
    "def traffic_count(row):\n",
    "    traffic = row['mb_used'] - row['mb_per_month_included'] \n",
    "    if traffic >0:\n",
    "        return traffic/1024\n",
    "    if traffic<= 0:\n",
    "        return 0\n",
    "    return 0"
   ]
  },
  {
   "cell_type": "code",
   "execution_count": 41,
   "metadata": {
    "scrolled": true
   },
   "outputs": [
    {
     "data": {
      "text/html": [
       "<div>\n",
       "<style scoped>\n",
       "    .dataframe tbody tr th:only-of-type {\n",
       "        vertical-align: middle;\n",
       "    }\n",
       "\n",
       "    .dataframe tbody tr th {\n",
       "        vertical-align: top;\n",
       "    }\n",
       "\n",
       "    .dataframe thead th {\n",
       "        text-align: right;\n",
       "    }\n",
       "</style>\n",
       "<table border=\"1\" class=\"dataframe\">\n",
       "  <thead>\n",
       "    <tr style=\"text-align: right;\">\n",
       "      <th></th>\n",
       "      <th>user_id</th>\n",
       "      <th>month</th>\n",
       "      <th>calls_count</th>\n",
       "      <th>calls_duration</th>\n",
       "      <th>messages</th>\n",
       "      <th>mb_used</th>\n",
       "      <th>age</th>\n",
       "      <th>churn_date</th>\n",
       "      <th>city</th>\n",
       "      <th>first_name</th>\n",
       "      <th>last_name</th>\n",
       "      <th>reg_date</th>\n",
       "      <th>tariff</th>\n",
       "      <th>messages_included</th>\n",
       "      <th>mb_per_month_included</th>\n",
       "      <th>minutes_included</th>\n",
       "      <th>rub_monthly_fee</th>\n",
       "      <th>rub_per_gb</th>\n",
       "      <th>rub_per_message</th>\n",
       "      <th>rub_per_minute</th>\n",
       "      <th>tariff_name</th>\n",
       "      <th>extra_minutes</th>\n",
       "      <th>extra_messages</th>\n",
       "      <th>extra_traffic</th>\n",
       "    </tr>\n",
       "  </thead>\n",
       "  <tbody>\n",
       "    <tr>\n",
       "      <th>8</th>\n",
       "      <td>1001</td>\n",
       "      <td>2018-11-01</td>\n",
       "      <td>59.0</td>\n",
       "      <td>430.0</td>\n",
       "      <td>0.0</td>\n",
       "      <td>18429.34</td>\n",
       "      <td>41</td>\n",
       "      <td>NaN</td>\n",
       "      <td>Москва</td>\n",
       "      <td>Иван</td>\n",
       "      <td>Ежов</td>\n",
       "      <td>2018-11-01</td>\n",
       "      <td>smart</td>\n",
       "      <td>50</td>\n",
       "      <td>15360</td>\n",
       "      <td>500</td>\n",
       "      <td>550</td>\n",
       "      <td>200</td>\n",
       "      <td>3</td>\n",
       "      <td>3</td>\n",
       "      <td>smart</td>\n",
       "      <td>0</td>\n",
       "      <td>0</td>\n",
       "      <td>2.997402</td>\n",
       "    </tr>\n",
       "    <tr>\n",
       "      <th>11</th>\n",
       "      <td>1002</td>\n",
       "      <td>2018-07-01</td>\n",
       "      <td>26.0</td>\n",
       "      <td>214.0</td>\n",
       "      <td>8.0</td>\n",
       "      <td>17580.10</td>\n",
       "      <td>59</td>\n",
       "      <td>NaN</td>\n",
       "      <td>Стерлитамак</td>\n",
       "      <td>Евгений</td>\n",
       "      <td>Абрамович</td>\n",
       "      <td>2018-06-17</td>\n",
       "      <td>smart</td>\n",
       "      <td>50</td>\n",
       "      <td>15360</td>\n",
       "      <td>500</td>\n",
       "      <td>550</td>\n",
       "      <td>200</td>\n",
       "      <td>3</td>\n",
       "      <td>3</td>\n",
       "      <td>smart</td>\n",
       "      <td>0</td>\n",
       "      <td>0</td>\n",
       "      <td>2.168066</td>\n",
       "    </tr>\n",
       "    <tr>\n",
       "      <th>12</th>\n",
       "      <td>1002</td>\n",
       "      <td>2018-08-01</td>\n",
       "      <td>42.0</td>\n",
       "      <td>289.0</td>\n",
       "      <td>13.0</td>\n",
       "      <td>20319.26</td>\n",
       "      <td>59</td>\n",
       "      <td>NaN</td>\n",
       "      <td>Стерлитамак</td>\n",
       "      <td>Евгений</td>\n",
       "      <td>Абрамович</td>\n",
       "      <td>2018-06-17</td>\n",
       "      <td>smart</td>\n",
       "      <td>50</td>\n",
       "      <td>15360</td>\n",
       "      <td>500</td>\n",
       "      <td>550</td>\n",
       "      <td>200</td>\n",
       "      <td>3</td>\n",
       "      <td>3</td>\n",
       "      <td>smart</td>\n",
       "      <td>0</td>\n",
       "      <td>0</td>\n",
       "      <td>4.843027</td>\n",
       "    </tr>\n",
       "    <tr>\n",
       "      <th>13</th>\n",
       "      <td>1002</td>\n",
       "      <td>2018-09-01</td>\n",
       "      <td>36.0</td>\n",
       "      <td>206.0</td>\n",
       "      <td>10.0</td>\n",
       "      <td>16691.08</td>\n",
       "      <td>59</td>\n",
       "      <td>NaN</td>\n",
       "      <td>Стерлитамак</td>\n",
       "      <td>Евгений</td>\n",
       "      <td>Абрамович</td>\n",
       "      <td>2018-06-17</td>\n",
       "      <td>smart</td>\n",
       "      <td>50</td>\n",
       "      <td>15360</td>\n",
       "      <td>500</td>\n",
       "      <td>550</td>\n",
       "      <td>200</td>\n",
       "      <td>3</td>\n",
       "      <td>3</td>\n",
       "      <td>smart</td>\n",
       "      <td>0</td>\n",
       "      <td>0</td>\n",
       "      <td>1.299883</td>\n",
       "    </tr>\n",
       "    <tr>\n",
       "      <th>15</th>\n",
       "      <td>1002</td>\n",
       "      <td>2018-11-01</td>\n",
       "      <td>32.0</td>\n",
       "      <td>243.0</td>\n",
       "      <td>15.0</td>\n",
       "      <td>18587.28</td>\n",
       "      <td>59</td>\n",
       "      <td>NaN</td>\n",
       "      <td>Стерлитамак</td>\n",
       "      <td>Евгений</td>\n",
       "      <td>Абрамович</td>\n",
       "      <td>2018-06-17</td>\n",
       "      <td>smart</td>\n",
       "      <td>50</td>\n",
       "      <td>15360</td>\n",
       "      <td>500</td>\n",
       "      <td>550</td>\n",
       "      <td>200</td>\n",
       "      <td>3</td>\n",
       "      <td>3</td>\n",
       "      <td>smart</td>\n",
       "      <td>0</td>\n",
       "      <td>0</td>\n",
       "      <td>3.151641</td>\n",
       "    </tr>\n",
       "  </tbody>\n",
       "</table>\n",
       "</div>"
      ],
      "text/plain": [
       "    user_id      month  calls_count  calls_duration  messages   mb_used  age  \\\n",
       "8      1001 2018-11-01         59.0           430.0       0.0  18429.34   41   \n",
       "11     1002 2018-07-01         26.0           214.0       8.0  17580.10   59   \n",
       "12     1002 2018-08-01         42.0           289.0      13.0  20319.26   59   \n",
       "13     1002 2018-09-01         36.0           206.0      10.0  16691.08   59   \n",
       "15     1002 2018-11-01         32.0           243.0      15.0  18587.28   59   \n",
       "\n",
       "   churn_date         city first_name  last_name   reg_date tariff  \\\n",
       "8         NaN       Москва       Иван       Ежов 2018-11-01  smart   \n",
       "11        NaN  Стерлитамак    Евгений  Абрамович 2018-06-17  smart   \n",
       "12        NaN  Стерлитамак    Евгений  Абрамович 2018-06-17  smart   \n",
       "13        NaN  Стерлитамак    Евгений  Абрамович 2018-06-17  smart   \n",
       "15        NaN  Стерлитамак    Евгений  Абрамович 2018-06-17  smart   \n",
       "\n",
       "    messages_included  mb_per_month_included  minutes_included  \\\n",
       "8                  50                  15360               500   \n",
       "11                 50                  15360               500   \n",
       "12                 50                  15360               500   \n",
       "13                 50                  15360               500   \n",
       "15                 50                  15360               500   \n",
       "\n",
       "    rub_monthly_fee  rub_per_gb  rub_per_message  rub_per_minute tariff_name  \\\n",
       "8               550         200                3               3       smart   \n",
       "11              550         200                3               3       smart   \n",
       "12              550         200                3               3       smart   \n",
       "13              550         200                3               3       smart   \n",
       "15              550         200                3               3       smart   \n",
       "\n",
       "    extra_minutes  extra_messages  extra_traffic  \n",
       "8               0               0       2.997402  \n",
       "11              0               0       2.168066  \n",
       "12              0               0       4.843027  \n",
       "13              0               0       1.299883  \n",
       "15              0               0       3.151641  "
      ]
     },
     "execution_count": 41,
     "metadata": {},
     "output_type": "execute_result"
    }
   ],
   "source": [
    "df['extra_traffic'] = df.apply(traffic_count, axis=1)\n",
    "df.query('extra_traffic>0').head()"
   ]
  },
  {
   "cell_type": "markdown",
   "metadata": {},
   "source": [
    "Округляю перерасход трафика в большую сторону."
   ]
  },
  {
   "cell_type": "code",
   "execution_count": 42,
   "metadata": {},
   "outputs": [
    {
     "data": {
      "text/html": [
       "<div>\n",
       "<style scoped>\n",
       "    .dataframe tbody tr th:only-of-type {\n",
       "        vertical-align: middle;\n",
       "    }\n",
       "\n",
       "    .dataframe tbody tr th {\n",
       "        vertical-align: top;\n",
       "    }\n",
       "\n",
       "    .dataframe thead th {\n",
       "        text-align: right;\n",
       "    }\n",
       "</style>\n",
       "<table border=\"1\" class=\"dataframe\">\n",
       "  <thead>\n",
       "    <tr style=\"text-align: right;\">\n",
       "      <th></th>\n",
       "      <th>user_id</th>\n",
       "      <th>month</th>\n",
       "      <th>calls_count</th>\n",
       "      <th>calls_duration</th>\n",
       "      <th>messages</th>\n",
       "      <th>mb_used</th>\n",
       "      <th>age</th>\n",
       "      <th>churn_date</th>\n",
       "      <th>city</th>\n",
       "      <th>first_name</th>\n",
       "      <th>last_name</th>\n",
       "      <th>reg_date</th>\n",
       "      <th>tariff</th>\n",
       "      <th>messages_included</th>\n",
       "      <th>mb_per_month_included</th>\n",
       "      <th>minutes_included</th>\n",
       "      <th>rub_monthly_fee</th>\n",
       "      <th>rub_per_gb</th>\n",
       "      <th>rub_per_message</th>\n",
       "      <th>rub_per_minute</th>\n",
       "      <th>tariff_name</th>\n",
       "      <th>extra_minutes</th>\n",
       "      <th>extra_messages</th>\n",
       "      <th>extra_traffic</th>\n",
       "    </tr>\n",
       "  </thead>\n",
       "  <tbody>\n",
       "    <tr>\n",
       "      <th>8</th>\n",
       "      <td>1001</td>\n",
       "      <td>2018-11-01</td>\n",
       "      <td>59.0</td>\n",
       "      <td>430.0</td>\n",
       "      <td>0.0</td>\n",
       "      <td>18429.34</td>\n",
       "      <td>41</td>\n",
       "      <td>NaN</td>\n",
       "      <td>Москва</td>\n",
       "      <td>Иван</td>\n",
       "      <td>Ежов</td>\n",
       "      <td>2018-11-01</td>\n",
       "      <td>smart</td>\n",
       "      <td>50</td>\n",
       "      <td>15360</td>\n",
       "      <td>500</td>\n",
       "      <td>550</td>\n",
       "      <td>200</td>\n",
       "      <td>3</td>\n",
       "      <td>3</td>\n",
       "      <td>smart</td>\n",
       "      <td>0</td>\n",
       "      <td>0</td>\n",
       "      <td>3.0</td>\n",
       "    </tr>\n",
       "    <tr>\n",
       "      <th>11</th>\n",
       "      <td>1002</td>\n",
       "      <td>2018-07-01</td>\n",
       "      <td>26.0</td>\n",
       "      <td>214.0</td>\n",
       "      <td>8.0</td>\n",
       "      <td>17580.10</td>\n",
       "      <td>59</td>\n",
       "      <td>NaN</td>\n",
       "      <td>Стерлитамак</td>\n",
       "      <td>Евгений</td>\n",
       "      <td>Абрамович</td>\n",
       "      <td>2018-06-17</td>\n",
       "      <td>smart</td>\n",
       "      <td>50</td>\n",
       "      <td>15360</td>\n",
       "      <td>500</td>\n",
       "      <td>550</td>\n",
       "      <td>200</td>\n",
       "      <td>3</td>\n",
       "      <td>3</td>\n",
       "      <td>smart</td>\n",
       "      <td>0</td>\n",
       "      <td>0</td>\n",
       "      <td>3.0</td>\n",
       "    </tr>\n",
       "    <tr>\n",
       "      <th>12</th>\n",
       "      <td>1002</td>\n",
       "      <td>2018-08-01</td>\n",
       "      <td>42.0</td>\n",
       "      <td>289.0</td>\n",
       "      <td>13.0</td>\n",
       "      <td>20319.26</td>\n",
       "      <td>59</td>\n",
       "      <td>NaN</td>\n",
       "      <td>Стерлитамак</td>\n",
       "      <td>Евгений</td>\n",
       "      <td>Абрамович</td>\n",
       "      <td>2018-06-17</td>\n",
       "      <td>smart</td>\n",
       "      <td>50</td>\n",
       "      <td>15360</td>\n",
       "      <td>500</td>\n",
       "      <td>550</td>\n",
       "      <td>200</td>\n",
       "      <td>3</td>\n",
       "      <td>3</td>\n",
       "      <td>smart</td>\n",
       "      <td>0</td>\n",
       "      <td>0</td>\n",
       "      <td>5.0</td>\n",
       "    </tr>\n",
       "    <tr>\n",
       "      <th>13</th>\n",
       "      <td>1002</td>\n",
       "      <td>2018-09-01</td>\n",
       "      <td>36.0</td>\n",
       "      <td>206.0</td>\n",
       "      <td>10.0</td>\n",
       "      <td>16691.08</td>\n",
       "      <td>59</td>\n",
       "      <td>NaN</td>\n",
       "      <td>Стерлитамак</td>\n",
       "      <td>Евгений</td>\n",
       "      <td>Абрамович</td>\n",
       "      <td>2018-06-17</td>\n",
       "      <td>smart</td>\n",
       "      <td>50</td>\n",
       "      <td>15360</td>\n",
       "      <td>500</td>\n",
       "      <td>550</td>\n",
       "      <td>200</td>\n",
       "      <td>3</td>\n",
       "      <td>3</td>\n",
       "      <td>smart</td>\n",
       "      <td>0</td>\n",
       "      <td>0</td>\n",
       "      <td>2.0</td>\n",
       "    </tr>\n",
       "    <tr>\n",
       "      <th>15</th>\n",
       "      <td>1002</td>\n",
       "      <td>2018-11-01</td>\n",
       "      <td>32.0</td>\n",
       "      <td>243.0</td>\n",
       "      <td>15.0</td>\n",
       "      <td>18587.28</td>\n",
       "      <td>59</td>\n",
       "      <td>NaN</td>\n",
       "      <td>Стерлитамак</td>\n",
       "      <td>Евгений</td>\n",
       "      <td>Абрамович</td>\n",
       "      <td>2018-06-17</td>\n",
       "      <td>smart</td>\n",
       "      <td>50</td>\n",
       "      <td>15360</td>\n",
       "      <td>500</td>\n",
       "      <td>550</td>\n",
       "      <td>200</td>\n",
       "      <td>3</td>\n",
       "      <td>3</td>\n",
       "      <td>smart</td>\n",
       "      <td>0</td>\n",
       "      <td>0</td>\n",
       "      <td>4.0</td>\n",
       "    </tr>\n",
       "  </tbody>\n",
       "</table>\n",
       "</div>"
      ],
      "text/plain": [
       "    user_id      month  calls_count  calls_duration  messages   mb_used  age  \\\n",
       "8      1001 2018-11-01         59.0           430.0       0.0  18429.34   41   \n",
       "11     1002 2018-07-01         26.0           214.0       8.0  17580.10   59   \n",
       "12     1002 2018-08-01         42.0           289.0      13.0  20319.26   59   \n",
       "13     1002 2018-09-01         36.0           206.0      10.0  16691.08   59   \n",
       "15     1002 2018-11-01         32.0           243.0      15.0  18587.28   59   \n",
       "\n",
       "   churn_date         city first_name  last_name   reg_date tariff  \\\n",
       "8         NaN       Москва       Иван       Ежов 2018-11-01  smart   \n",
       "11        NaN  Стерлитамак    Евгений  Абрамович 2018-06-17  smart   \n",
       "12        NaN  Стерлитамак    Евгений  Абрамович 2018-06-17  smart   \n",
       "13        NaN  Стерлитамак    Евгений  Абрамович 2018-06-17  smart   \n",
       "15        NaN  Стерлитамак    Евгений  Абрамович 2018-06-17  smart   \n",
       "\n",
       "    messages_included  mb_per_month_included  minutes_included  \\\n",
       "8                  50                  15360               500   \n",
       "11                 50                  15360               500   \n",
       "12                 50                  15360               500   \n",
       "13                 50                  15360               500   \n",
       "15                 50                  15360               500   \n",
       "\n",
       "    rub_monthly_fee  rub_per_gb  rub_per_message  rub_per_minute tariff_name  \\\n",
       "8               550         200                3               3       smart   \n",
       "11              550         200                3               3       smart   \n",
       "12              550         200                3               3       smart   \n",
       "13              550         200                3               3       smart   \n",
       "15              550         200                3               3       smart   \n",
       "\n",
       "    extra_minutes  extra_messages  extra_traffic  \n",
       "8               0               0            3.0  \n",
       "11              0               0            3.0  \n",
       "12              0               0            5.0  \n",
       "13              0               0            2.0  \n",
       "15              0               0            4.0  "
      ]
     },
     "execution_count": 42,
     "metadata": {},
     "output_type": "execute_result"
    }
   ],
   "source": [
    "df['extra_traffic'] = np.ceil(df['extra_traffic'])\n",
    "df.query('extra_traffic>0').head()"
   ]
  },
  {
   "cell_type": "markdown",
   "metadata": {},
   "source": [
    "Рассчитываю, какую сумму нужно доплатить абоненту за месяц, умножая перасход по сообщениям, минутам звонков и гигабайтам на стоимость из тарифного плана и прибавляю абонентскую плату."
   ]
  },
  {
   "cell_type": "code",
   "execution_count": 43,
   "metadata": {
    "scrolled": false
   },
   "outputs": [
    {
     "data": {
      "text/html": [
       "<div>\n",
       "<style scoped>\n",
       "    .dataframe tbody tr th:only-of-type {\n",
       "        vertical-align: middle;\n",
       "    }\n",
       "\n",
       "    .dataframe tbody tr th {\n",
       "        vertical-align: top;\n",
       "    }\n",
       "\n",
       "    .dataframe thead th {\n",
       "        text-align: right;\n",
       "    }\n",
       "</style>\n",
       "<table border=\"1\" class=\"dataframe\">\n",
       "  <thead>\n",
       "    <tr style=\"text-align: right;\">\n",
       "      <th></th>\n",
       "      <th>user_id</th>\n",
       "      <th>month</th>\n",
       "      <th>calls_count</th>\n",
       "      <th>calls_duration</th>\n",
       "      <th>messages</th>\n",
       "      <th>mb_used</th>\n",
       "      <th>age</th>\n",
       "      <th>churn_date</th>\n",
       "      <th>city</th>\n",
       "      <th>first_name</th>\n",
       "      <th>last_name</th>\n",
       "      <th>reg_date</th>\n",
       "      <th>tariff</th>\n",
       "      <th>messages_included</th>\n",
       "      <th>mb_per_month_included</th>\n",
       "      <th>minutes_included</th>\n",
       "      <th>rub_monthly_fee</th>\n",
       "      <th>rub_per_gb</th>\n",
       "      <th>rub_per_message</th>\n",
       "      <th>rub_per_minute</th>\n",
       "      <th>tariff_name</th>\n",
       "      <th>extra_minutes</th>\n",
       "      <th>extra_messages</th>\n",
       "      <th>extra_traffic</th>\n",
       "      <th>total_cost</th>\n",
       "    </tr>\n",
       "  </thead>\n",
       "  <tbody>\n",
       "    <tr>\n",
       "      <th>8</th>\n",
       "      <td>1001</td>\n",
       "      <td>2018-11-01</td>\n",
       "      <td>59.0</td>\n",
       "      <td>430.0</td>\n",
       "      <td>0.0</td>\n",
       "      <td>18429.34</td>\n",
       "      <td>41</td>\n",
       "      <td>NaN</td>\n",
       "      <td>Москва</td>\n",
       "      <td>Иван</td>\n",
       "      <td>Ежов</td>\n",
       "      <td>2018-11-01</td>\n",
       "      <td>smart</td>\n",
       "      <td>50</td>\n",
       "      <td>15360</td>\n",
       "      <td>500</td>\n",
       "      <td>550</td>\n",
       "      <td>200</td>\n",
       "      <td>3</td>\n",
       "      <td>3</td>\n",
       "      <td>smart</td>\n",
       "      <td>0</td>\n",
       "      <td>0</td>\n",
       "      <td>3.0</td>\n",
       "      <td>1150.0</td>\n",
       "    </tr>\n",
       "    <tr>\n",
       "      <th>11</th>\n",
       "      <td>1002</td>\n",
       "      <td>2018-07-01</td>\n",
       "      <td>26.0</td>\n",
       "      <td>214.0</td>\n",
       "      <td>8.0</td>\n",
       "      <td>17580.10</td>\n",
       "      <td>59</td>\n",
       "      <td>NaN</td>\n",
       "      <td>Стерлитамак</td>\n",
       "      <td>Евгений</td>\n",
       "      <td>Абрамович</td>\n",
       "      <td>2018-06-17</td>\n",
       "      <td>smart</td>\n",
       "      <td>50</td>\n",
       "      <td>15360</td>\n",
       "      <td>500</td>\n",
       "      <td>550</td>\n",
       "      <td>200</td>\n",
       "      <td>3</td>\n",
       "      <td>3</td>\n",
       "      <td>smart</td>\n",
       "      <td>0</td>\n",
       "      <td>0</td>\n",
       "      <td>3.0</td>\n",
       "      <td>1150.0</td>\n",
       "    </tr>\n",
       "    <tr>\n",
       "      <th>12</th>\n",
       "      <td>1002</td>\n",
       "      <td>2018-08-01</td>\n",
       "      <td>42.0</td>\n",
       "      <td>289.0</td>\n",
       "      <td>13.0</td>\n",
       "      <td>20319.26</td>\n",
       "      <td>59</td>\n",
       "      <td>NaN</td>\n",
       "      <td>Стерлитамак</td>\n",
       "      <td>Евгений</td>\n",
       "      <td>Абрамович</td>\n",
       "      <td>2018-06-17</td>\n",
       "      <td>smart</td>\n",
       "      <td>50</td>\n",
       "      <td>15360</td>\n",
       "      <td>500</td>\n",
       "      <td>550</td>\n",
       "      <td>200</td>\n",
       "      <td>3</td>\n",
       "      <td>3</td>\n",
       "      <td>smart</td>\n",
       "      <td>0</td>\n",
       "      <td>0</td>\n",
       "      <td>5.0</td>\n",
       "      <td>1550.0</td>\n",
       "    </tr>\n",
       "    <tr>\n",
       "      <th>13</th>\n",
       "      <td>1002</td>\n",
       "      <td>2018-09-01</td>\n",
       "      <td>36.0</td>\n",
       "      <td>206.0</td>\n",
       "      <td>10.0</td>\n",
       "      <td>16691.08</td>\n",
       "      <td>59</td>\n",
       "      <td>NaN</td>\n",
       "      <td>Стерлитамак</td>\n",
       "      <td>Евгений</td>\n",
       "      <td>Абрамович</td>\n",
       "      <td>2018-06-17</td>\n",
       "      <td>smart</td>\n",
       "      <td>50</td>\n",
       "      <td>15360</td>\n",
       "      <td>500</td>\n",
       "      <td>550</td>\n",
       "      <td>200</td>\n",
       "      <td>3</td>\n",
       "      <td>3</td>\n",
       "      <td>smart</td>\n",
       "      <td>0</td>\n",
       "      <td>0</td>\n",
       "      <td>2.0</td>\n",
       "      <td>950.0</td>\n",
       "    </tr>\n",
       "    <tr>\n",
       "      <th>15</th>\n",
       "      <td>1002</td>\n",
       "      <td>2018-11-01</td>\n",
       "      <td>32.0</td>\n",
       "      <td>243.0</td>\n",
       "      <td>15.0</td>\n",
       "      <td>18587.28</td>\n",
       "      <td>59</td>\n",
       "      <td>NaN</td>\n",
       "      <td>Стерлитамак</td>\n",
       "      <td>Евгений</td>\n",
       "      <td>Абрамович</td>\n",
       "      <td>2018-06-17</td>\n",
       "      <td>smart</td>\n",
       "      <td>50</td>\n",
       "      <td>15360</td>\n",
       "      <td>500</td>\n",
       "      <td>550</td>\n",
       "      <td>200</td>\n",
       "      <td>3</td>\n",
       "      <td>3</td>\n",
       "      <td>smart</td>\n",
       "      <td>0</td>\n",
       "      <td>0</td>\n",
       "      <td>4.0</td>\n",
       "      <td>1350.0</td>\n",
       "    </tr>\n",
       "  </tbody>\n",
       "</table>\n",
       "</div>"
      ],
      "text/plain": [
       "    user_id      month  calls_count  calls_duration  messages   mb_used  age  \\\n",
       "8      1001 2018-11-01         59.0           430.0       0.0  18429.34   41   \n",
       "11     1002 2018-07-01         26.0           214.0       8.0  17580.10   59   \n",
       "12     1002 2018-08-01         42.0           289.0      13.0  20319.26   59   \n",
       "13     1002 2018-09-01         36.0           206.0      10.0  16691.08   59   \n",
       "15     1002 2018-11-01         32.0           243.0      15.0  18587.28   59   \n",
       "\n",
       "   churn_date         city first_name  last_name   reg_date tariff  \\\n",
       "8         NaN       Москва       Иван       Ежов 2018-11-01  smart   \n",
       "11        NaN  Стерлитамак    Евгений  Абрамович 2018-06-17  smart   \n",
       "12        NaN  Стерлитамак    Евгений  Абрамович 2018-06-17  smart   \n",
       "13        NaN  Стерлитамак    Евгений  Абрамович 2018-06-17  smart   \n",
       "15        NaN  Стерлитамак    Евгений  Абрамович 2018-06-17  smart   \n",
       "\n",
       "    messages_included  mb_per_month_included  minutes_included  \\\n",
       "8                  50                  15360               500   \n",
       "11                 50                  15360               500   \n",
       "12                 50                  15360               500   \n",
       "13                 50                  15360               500   \n",
       "15                 50                  15360               500   \n",
       "\n",
       "    rub_monthly_fee  rub_per_gb  rub_per_message  rub_per_minute tariff_name  \\\n",
       "8               550         200                3               3       smart   \n",
       "11              550         200                3               3       smart   \n",
       "12              550         200                3               3       smart   \n",
       "13              550         200                3               3       smart   \n",
       "15              550         200                3               3       smart   \n",
       "\n",
       "    extra_minutes  extra_messages  extra_traffic  total_cost  \n",
       "8               0               0            3.0      1150.0  \n",
       "11              0               0            3.0      1150.0  \n",
       "12              0               0            5.0      1550.0  \n",
       "13              0               0            2.0       950.0  \n",
       "15              0               0            4.0      1350.0  "
      ]
     },
     "execution_count": 43,
     "metadata": {},
     "output_type": "execute_result"
    }
   ],
   "source": [
    "df['total_cost'] = (df['extra_minutes']*df['rub_per_minute']\n",
    "                    + df['extra_messages']*df['rub_per_message']\n",
    "                    + df['extra_traffic']*df['rub_per_gb']\n",
    "                   + df['rub_monthly_fee'])\n",
    "df.query('total_cost>rub_monthly_fee').head()"
   ]
  },
  {
   "cell_type": "markdown",
   "metadata": {},
   "source": [
    "Перевожу в тип integer значения в столбцах calls_count и calls_duration и messages."
   ]
  },
  {
   "cell_type": "code",
   "execution_count": 44,
   "metadata": {},
   "outputs": [],
   "source": [
    "df = df.astype({'calls_count':'int', 'calls_duration': 'int', 'messages':'int'})"
   ]
  },
  {
   "cell_type": "code",
   "execution_count": 45,
   "metadata": {},
   "outputs": [
    {
     "name": "stdout",
     "output_type": "stream",
     "text": [
      "Перерасход средств относительно всех данных по месяцам 40%\n",
      "Перерасход средств по тарифу Smart от всех данных по месяцам 37%\n",
      "Перерасход средств по тарифу Ultra от всех данных по месяцам 3%\n"
     ]
    }
   ],
   "source": [
    "a = df.query('total_cost>rub_monthly_fee')['total_cost'].count()/df.shape[0]\n",
    "b = df.query('total_cost>rub_monthly_fee and tariff_name == \"smart\"')['total_cost'].count()/df.shape[0]\n",
    "c = df.query('total_cost>rub_monthly_fee and tariff_name == \"ultra\"')['total_cost'].count()/df.shape[0]\n",
    "print(f'Перерасход средств относительно всех данных по месяцам {a:.0%}')\n",
    "print(f'Перерасход средств по тарифу Smart от всех данных по месяцам {b:.0%}')\n",
    "print(f'Перерасход средств по тарифу Ultra от всех данных по месяцам {c:.0%}')"
   ]
  },
  {
   "cell_type": "markdown",
   "metadata": {},
   "source": [
    "### Вывод\n",
    "В 40% случаев пользователи превышали установленные тарифом ограничения по сообщениям, минутам звонков и гигабайтам интернета.\n",
    "Чаще всего перерасход средств происходил у пользователей тарифа Ultra.\n",
    "\n",
    "Перехожу к анализу данных."
   ]
  },
  {
   "cell_type": "markdown",
   "metadata": {},
   "source": [
    "## Анализ данных\n",
    "\n",
    "**Задача**: Опишите поведение клиентов оператора, исходя из выборки.  \n",
    "* Сколько минут разговора, сколько сообщений и какой объём интернет-трафика требуется пользователям каждого тарифа в месяц?  \n",
    "* Посчитайте среднее количество, дисперсию и стандартное отклонение.  \n",
    "* Постройте гистограммы.  \n",
    "* Опишите распределения."
   ]
  },
  {
   "cell_type": "markdown",
   "metadata": {},
   "source": [
    "Ишу, скольо минут разговора, сколько сообщений и какой объём интернет-трафика требуется пользователям каждого тарифа в месяц."
   ]
  },
  {
   "cell_type": "code",
   "execution_count": 46,
   "metadata": {
    "scrolled": true
   },
   "outputs": [
    {
     "data": {
      "text/html": [
       "<div>\n",
       "<style scoped>\n",
       "    .dataframe tbody tr th:only-of-type {\n",
       "        vertical-align: middle;\n",
       "    }\n",
       "\n",
       "    .dataframe tbody tr th {\n",
       "        vertical-align: top;\n",
       "    }\n",
       "\n",
       "    .dataframe thead th {\n",
       "        text-align: right;\n",
       "    }\n",
       "</style>\n",
       "<table border=\"1\" class=\"dataframe\">\n",
       "  <thead>\n",
       "    <tr style=\"text-align: right;\">\n",
       "      <th></th>\n",
       "      <th>user_id</th>\n",
       "      <th>month</th>\n",
       "      <th>calls_count</th>\n",
       "      <th>calls_duration</th>\n",
       "      <th>messages</th>\n",
       "      <th>mb_used</th>\n",
       "      <th>age</th>\n",
       "      <th>churn_date</th>\n",
       "      <th>city</th>\n",
       "      <th>first_name</th>\n",
       "      <th>last_name</th>\n",
       "      <th>reg_date</th>\n",
       "      <th>tariff</th>\n",
       "      <th>messages_included</th>\n",
       "      <th>mb_per_month_included</th>\n",
       "      <th>minutes_included</th>\n",
       "      <th>rub_monthly_fee</th>\n",
       "      <th>rub_per_gb</th>\n",
       "      <th>rub_per_message</th>\n",
       "      <th>rub_per_minute</th>\n",
       "      <th>tariff_name</th>\n",
       "      <th>extra_minutes</th>\n",
       "      <th>extra_messages</th>\n",
       "      <th>extra_traffic</th>\n",
       "      <th>total_cost</th>\n",
       "    </tr>\n",
       "  </thead>\n",
       "  <tbody>\n",
       "    <tr>\n",
       "      <th>0</th>\n",
       "      <td>1000</td>\n",
       "      <td>2018-05-01</td>\n",
       "      <td>22</td>\n",
       "      <td>159</td>\n",
       "      <td>22</td>\n",
       "      <td>2253.49</td>\n",
       "      <td>52</td>\n",
       "      <td>NaN</td>\n",
       "      <td>Краснодар</td>\n",
       "      <td>Рафаил</td>\n",
       "      <td>Верещагин</td>\n",
       "      <td>2018-05-25</td>\n",
       "      <td>ultra</td>\n",
       "      <td>1000</td>\n",
       "      <td>30720</td>\n",
       "      <td>3000</td>\n",
       "      <td>1950</td>\n",
       "      <td>150</td>\n",
       "      <td>1</td>\n",
       "      <td>1</td>\n",
       "      <td>ultra</td>\n",
       "      <td>0</td>\n",
       "      <td>0</td>\n",
       "      <td>0.0</td>\n",
       "      <td>1950.0</td>\n",
       "    </tr>\n",
       "    <tr>\n",
       "      <th>1</th>\n",
       "      <td>1000</td>\n",
       "      <td>2018-06-01</td>\n",
       "      <td>43</td>\n",
       "      <td>172</td>\n",
       "      <td>43</td>\n",
       "      <td>23233.77</td>\n",
       "      <td>52</td>\n",
       "      <td>NaN</td>\n",
       "      <td>Краснодар</td>\n",
       "      <td>Рафаил</td>\n",
       "      <td>Верещагин</td>\n",
       "      <td>2018-05-25</td>\n",
       "      <td>ultra</td>\n",
       "      <td>1000</td>\n",
       "      <td>30720</td>\n",
       "      <td>3000</td>\n",
       "      <td>1950</td>\n",
       "      <td>150</td>\n",
       "      <td>1</td>\n",
       "      <td>1</td>\n",
       "      <td>ultra</td>\n",
       "      <td>0</td>\n",
       "      <td>0</td>\n",
       "      <td>0.0</td>\n",
       "      <td>1950.0</td>\n",
       "    </tr>\n",
       "    <tr>\n",
       "      <th>2</th>\n",
       "      <td>1000</td>\n",
       "      <td>2018-07-01</td>\n",
       "      <td>47</td>\n",
       "      <td>340</td>\n",
       "      <td>47</td>\n",
       "      <td>14003.64</td>\n",
       "      <td>52</td>\n",
       "      <td>NaN</td>\n",
       "      <td>Краснодар</td>\n",
       "      <td>Рафаил</td>\n",
       "      <td>Верещагин</td>\n",
       "      <td>2018-05-25</td>\n",
       "      <td>ultra</td>\n",
       "      <td>1000</td>\n",
       "      <td>30720</td>\n",
       "      <td>3000</td>\n",
       "      <td>1950</td>\n",
       "      <td>150</td>\n",
       "      <td>1</td>\n",
       "      <td>1</td>\n",
       "      <td>ultra</td>\n",
       "      <td>0</td>\n",
       "      <td>0</td>\n",
       "      <td>0.0</td>\n",
       "      <td>1950.0</td>\n",
       "    </tr>\n",
       "    <tr>\n",
       "      <th>3</th>\n",
       "      <td>1000</td>\n",
       "      <td>2018-08-01</td>\n",
       "      <td>52</td>\n",
       "      <td>408</td>\n",
       "      <td>53</td>\n",
       "      <td>14055.93</td>\n",
       "      <td>52</td>\n",
       "      <td>NaN</td>\n",
       "      <td>Краснодар</td>\n",
       "      <td>Рафаил</td>\n",
       "      <td>Верещагин</td>\n",
       "      <td>2018-05-25</td>\n",
       "      <td>ultra</td>\n",
       "      <td>1000</td>\n",
       "      <td>30720</td>\n",
       "      <td>3000</td>\n",
       "      <td>1950</td>\n",
       "      <td>150</td>\n",
       "      <td>1</td>\n",
       "      <td>1</td>\n",
       "      <td>ultra</td>\n",
       "      <td>0</td>\n",
       "      <td>0</td>\n",
       "      <td>0.0</td>\n",
       "      <td>1950.0</td>\n",
       "    </tr>\n",
       "    <tr>\n",
       "      <th>4</th>\n",
       "      <td>1000</td>\n",
       "      <td>2018-09-01</td>\n",
       "      <td>58</td>\n",
       "      <td>466</td>\n",
       "      <td>59</td>\n",
       "      <td>14568.91</td>\n",
       "      <td>52</td>\n",
       "      <td>NaN</td>\n",
       "      <td>Краснодар</td>\n",
       "      <td>Рафаил</td>\n",
       "      <td>Верещагин</td>\n",
       "      <td>2018-05-25</td>\n",
       "      <td>ultra</td>\n",
       "      <td>1000</td>\n",
       "      <td>30720</td>\n",
       "      <td>3000</td>\n",
       "      <td>1950</td>\n",
       "      <td>150</td>\n",
       "      <td>1</td>\n",
       "      <td>1</td>\n",
       "      <td>ultra</td>\n",
       "      <td>0</td>\n",
       "      <td>0</td>\n",
       "      <td>0.0</td>\n",
       "      <td>1950.0</td>\n",
       "    </tr>\n",
       "  </tbody>\n",
       "</table>\n",
       "</div>"
      ],
      "text/plain": [
       "   user_id      month  calls_count  calls_duration  messages   mb_used  age  \\\n",
       "0     1000 2018-05-01           22             159        22   2253.49   52   \n",
       "1     1000 2018-06-01           43             172        43  23233.77   52   \n",
       "2     1000 2018-07-01           47             340        47  14003.64   52   \n",
       "3     1000 2018-08-01           52             408        53  14055.93   52   \n",
       "4     1000 2018-09-01           58             466        59  14568.91   52   \n",
       "\n",
       "  churn_date       city first_name  last_name   reg_date tariff  \\\n",
       "0        NaN  Краснодар     Рафаил  Верещагин 2018-05-25  ultra   \n",
       "1        NaN  Краснодар     Рафаил  Верещагин 2018-05-25  ultra   \n",
       "2        NaN  Краснодар     Рафаил  Верещагин 2018-05-25  ultra   \n",
       "3        NaN  Краснодар     Рафаил  Верещагин 2018-05-25  ultra   \n",
       "4        NaN  Краснодар     Рафаил  Верещагин 2018-05-25  ultra   \n",
       "\n",
       "   messages_included  mb_per_month_included  minutes_included  \\\n",
       "0               1000                  30720              3000   \n",
       "1               1000                  30720              3000   \n",
       "2               1000                  30720              3000   \n",
       "3               1000                  30720              3000   \n",
       "4               1000                  30720              3000   \n",
       "\n",
       "   rub_monthly_fee  rub_per_gb  rub_per_message  rub_per_minute tariff_name  \\\n",
       "0             1950         150                1               1       ultra   \n",
       "1             1950         150                1               1       ultra   \n",
       "2             1950         150                1               1       ultra   \n",
       "3             1950         150                1               1       ultra   \n",
       "4             1950         150                1               1       ultra   \n",
       "\n",
       "   extra_minutes  extra_messages  extra_traffic  total_cost  \n",
       "0              0               0            0.0      1950.0  \n",
       "1              0               0            0.0      1950.0  \n",
       "2              0               0            0.0      1950.0  \n",
       "3              0               0            0.0      1950.0  \n",
       "4              0               0            0.0      1950.0  "
      ]
     },
     "execution_count": 46,
     "metadata": {},
     "output_type": "execute_result"
    }
   ],
   "source": [
    "df.head()"
   ]
  },
  {
   "cell_type": "code",
   "execution_count": 47,
   "metadata": {
    "scrolled": true
   },
   "outputs": [
    {
     "data": {
      "text/html": [
       "<div>\n",
       "<style scoped>\n",
       "    .dataframe tbody tr th:only-of-type {\n",
       "        vertical-align: middle;\n",
       "    }\n",
       "\n",
       "    .dataframe tbody tr th {\n",
       "        vertical-align: top;\n",
       "    }\n",
       "\n",
       "    .dataframe thead th {\n",
       "        text-align: right;\n",
       "    }\n",
       "</style>\n",
       "<table border=\"1\" class=\"dataframe\">\n",
       "  <thead>\n",
       "    <tr style=\"text-align: right;\">\n",
       "      <th></th>\n",
       "      <th>messages_included</th>\n",
       "      <th>mb_per_month_included</th>\n",
       "      <th>minutes_included</th>\n",
       "      <th>rub_monthly_fee</th>\n",
       "      <th>rub_per_gb</th>\n",
       "      <th>rub_per_message</th>\n",
       "      <th>rub_per_minute</th>\n",
       "      <th>tariff_name</th>\n",
       "    </tr>\n",
       "  </thead>\n",
       "  <tbody>\n",
       "    <tr>\n",
       "      <th>0</th>\n",
       "      <td>50</td>\n",
       "      <td>15360</td>\n",
       "      <td>500</td>\n",
       "      <td>550</td>\n",
       "      <td>200</td>\n",
       "      <td>3</td>\n",
       "      <td>3</td>\n",
       "      <td>smart</td>\n",
       "    </tr>\n",
       "    <tr>\n",
       "      <th>1</th>\n",
       "      <td>1000</td>\n",
       "      <td>30720</td>\n",
       "      <td>3000</td>\n",
       "      <td>1950</td>\n",
       "      <td>150</td>\n",
       "      <td>1</td>\n",
       "      <td>1</td>\n",
       "      <td>ultra</td>\n",
       "    </tr>\n",
       "  </tbody>\n",
       "</table>\n",
       "</div>"
      ],
      "text/plain": [
       "   messages_included  mb_per_month_included  minutes_included  \\\n",
       "0                 50                  15360               500   \n",
       "1               1000                  30720              3000   \n",
       "\n",
       "   rub_monthly_fee  rub_per_gb  rub_per_message  rub_per_minute tariff_name  \n",
       "0              550         200                3               3       smart  \n",
       "1             1950         150                1               1       ultra  "
      ]
     },
     "execution_count": 47,
     "metadata": {},
     "output_type": "execute_result"
    }
   ],
   "source": [
    "df_tariffs"
   ]
  },
  {
   "cell_type": "markdown",
   "metadata": {},
   "source": [
    "### Потребность в минутах звонков в месяц"
   ]
  },
  {
   "cell_type": "markdown",
   "metadata": {},
   "source": [
    "Смотрю среднее, медиану и стандартное отклонение по тарифу Ultra методом describe."
   ]
  },
  {
   "cell_type": "code",
   "execution_count": 48,
   "metadata": {
    "scrolled": true
   },
   "outputs": [
    {
     "data": {
      "text/plain": [
       "count    1381.000000\n",
       "mean      375.614772\n",
       "std       358.733106\n",
       "min         0.000000\n",
       "25%         0.000000\n",
       "50%       332.000000\n",
       "75%       643.000000\n",
       "max      1673.000000\n",
       "Name: calls_duration, dtype: float64"
      ]
     },
     "execution_count": 48,
     "metadata": {},
     "output_type": "execute_result"
    }
   ],
   "source": [
    "df.query('tariff_name==\"ultra\"')['calls_duration'].describe()"
   ]
  },
  {
   "cell_type": "markdown",
   "metadata": {},
   "source": [
    "25% от данных содержат нули, это значит, что пользователи никуда не звонили в этот месяц или звонили и сбрасывали, или был сбой звонка. Меня интересуют те, кто разговаривал, поэтому я убираю из выборки все значения, равные нулю, предварительно посчитав, сколько таких значений."
   ]
  },
  {
   "cell_type": "code",
   "execution_count": 49,
   "metadata": {
    "scrolled": false
   },
   "outputs": [
    {
     "name": "stdout",
     "output_type": "stream",
     "text": [
      "434 строки с нулями в тарифе Ultra\n",
      "1381 строк с тарифом Ultra\n",
      "31% строк не содержат ни одной минуты звонка для тарифа Ultra\n"
     ]
    }
   ],
   "source": [
    "print(df.query('tariff_name==\"ultra\" and calls_duration == 0')['calls_duration'].count(), 'строки с нулями в тарифе Ultra')\n",
    "ultra = df.query('tariff_name==\"ultra\"')['user_id'].count()\n",
    "print(ultra, 'строк с тарифом Ultra')\n",
    "print(f'{434/1381:.0%} строк не содержат ни одной минуты звонка для тарифа Ultra')"
   ]
  },
  {
   "cell_type": "code",
   "execution_count": 50,
   "metadata": {},
   "outputs": [],
   "source": [
    "norm_calls_ultra = df.query('tariff_name==\"ultra\" and calls_duration > 0') # убираю нулевую продолжительность звонка"
   ]
  },
  {
   "cell_type": "markdown",
   "metadata": {},
   "source": [
    "Еще раз смотрю среднее, медиану и стандартное отклонение по тарифу Ultra."
   ]
  },
  {
   "cell_type": "code",
   "execution_count": 51,
   "metadata": {
    "scrolled": true
   },
   "outputs": [
    {
     "data": {
      "text/plain": [
       "count     947.000000\n",
       "mean      547.755016\n",
       "std       305.513385\n",
       "min         1.000000\n",
       "25%       311.000000\n",
       "50%       529.000000\n",
       "75%       758.000000\n",
       "max      1673.000000\n",
       "Name: calls_duration, dtype: float64"
      ]
     },
     "execution_count": 51,
     "metadata": {},
     "output_type": "execute_result"
    }
   ],
   "source": [
    "norm_calls_ultra['calls_duration'].describe()"
   ]
  },
  {
   "cell_type": "markdown",
   "metadata": {},
   "source": [
    "Стандартное отклонение уменьшилось с 359 до 306, среднее и медиана выросли. строю диаграмму размаха, чтобы проверить наличие аномальных значений и их количество."
   ]
  },
  {
   "cell_type": "code",
   "execution_count": 52,
   "metadata": {
    "scrolled": false
   },
   "outputs": [
    {
     "data": {
      "image/png": "[encoded data removed]",
      "text/plain": [
       "<Figure size 432x288 with 1 Axes>"
      ]
     },
     "metadata": {
      "needs_background": "light"
     },
     "output_type": "display_data"
    }
   ],
   "source": [
    "norm_calls_ultra.boxplot('calls_duration');"
   ]
  },
  {
   "cell_type": "markdown",
   "metadata": {},
   "source": [
    "В выборке присутствуют единичные аномальные значения, оставлю их."
   ]
  },
  {
   "cell_type": "markdown",
   "metadata": {},
   "source": [
    "Для тарифиа Smart так же убираю все значения, равные нулю и проверю, сколько таких значений было."
   ]
  },
  {
   "cell_type": "code",
   "execution_count": 53,
   "metadata": {
    "scrolled": true
   },
   "outputs": [
    {
     "name": "stdout",
     "output_type": "stream",
     "text": [
      "934 строки с нулевыми значениями продолжительности звонка в тарифе Smart\n",
      "3155 строк с тарифом Smart\n",
      "30% строк не содержат ни одной минуты звонка для тарифа Smart\n"
     ]
    }
   ],
   "source": [
    "print(df.query('tariff_name==\"smart\" and calls_duration == 0')['calls_duration'].count(), \n",
    "      'строки с нулевыми значениями продолжительности звонка в тарифе Smart')\n",
    "smart  = df.query('tariff_name==\"smart\"')['user_id'].count()\n",
    "print(smart, 'строк с тарифом Smart')\n",
    "print(f'{934/3155:.0%} строк не содержат ни одной минуты звонка для тарифа Smart')"
   ]
  },
  {
   "cell_type": "code",
   "execution_count": 54,
   "metadata": {
    "scrolled": true
   },
   "outputs": [],
   "source": [
    "norm_calls_smart = df.query('tariff_name==\"smart\" and calls_duration > 0') #убираю нулевые значения из тарифа Smart"
   ]
  },
  {
   "cell_type": "markdown",
   "metadata": {},
   "source": [
    "Смотрю медиану, среднее и стандартное отклонение для очищенных данных."
   ]
  },
  {
   "cell_type": "code",
   "execution_count": 55,
   "metadata": {
    "scrolled": false
   },
   "outputs": [
    {
     "data": {
      "text/plain": [
       "count    2221.000000\n",
       "mean      419.440342\n",
       "std       188.992403\n",
       "min         2.000000\n",
       "25%       285.000000\n",
       "50%       423.000000\n",
       "75%       546.000000\n",
       "max      1435.000000\n",
       "Name: calls_duration, dtype: float64"
      ]
     },
     "execution_count": 55,
     "metadata": {},
     "output_type": "execute_result"
    }
   ],
   "source": [
    "norm_calls_smart['calls_duration'].describe()"
   ]
  },
  {
   "cell_type": "markdown",
   "metadata": {},
   "source": [
    "Строю диаграмму размаха для тарифа Smart по очищенным данным."
   ]
  },
  {
   "cell_type": "code",
   "execution_count": 56,
   "metadata": {
    "scrolled": false
   },
   "outputs": [
    {
     "data": {
      "image/png": "[encoded data removed]",
      "text/plain": [
       "<Figure size 432x288 with 1 Axes>"
      ]
     },
     "metadata": {
      "needs_background": "light"
     },
     "output_type": "display_data"
    }
   ],
   "source": [
    "norm_calls_smart.boxplot('calls_duration');"
   ]
  },
  {
   "cell_type": "markdown",
   "metadata": {},
   "source": [
    "Для тарифа Smart существуют аномальные значения, но их количество незначительное, оставляю."
   ]
  },
  {
   "cell_type": "markdown",
   "metadata": {},
   "source": [
    "Посчитаю наглядно, сколько нужно сообщений пользователям по каждому тарифу."
   ]
  },
  {
   "cell_type": "code",
   "execution_count": 57,
   "metadata": {
    "scrolled": true
   },
   "outputs": [
    {
     "name": "stdout",
     "output_type": "stream",
     "text": [
      "Пользователям тарифа Ultra в среднем нужно 529.0 из 3000 минут в месяц.\n",
      "Пользователям тарифа Smart в среднем нужно 423.0 из 500 минут в месяц.\n"
     ]
    }
   ],
   "source": [
    "print('Пользователям тарифа Ultra в среднем нужно',\n",
    "      norm_calls_ultra['calls_duration'].median(), \n",
    "      'из',\n",
    "      df_tariffs['minutes_included'].loc[1],\n",
    "      'минут в месяц.')\n",
    "\n",
    "print('Пользователям тарифа Smart в среднем нужно',\n",
    "      norm_calls_smart['calls_duration'].median(),\n",
    "      'из',\n",
    "      df_tariffs['minutes_included'].loc[0],\n",
    "      'минут в месяц.')"
   ]
  },
  {
   "cell_type": "code",
   "execution_count": 58,
   "metadata": {
    "scrolled": true
   },
   "outputs": [
    {
     "data": {
      "text/plain": [
       "271"
      ]
     },
     "execution_count": 58,
     "metadata": {},
     "output_type": "execute_result"
    }
   ],
   "source": [
    "df.query('calls_duration == 0')['last_name'].value_counts().count()\n",
    "# такое количество пользователей не совершали ни одного звонка в течение месяца хотя бы раз"
   ]
  },
  {
   "cell_type": "markdown",
   "metadata": {},
   "source": [
    "#### Гистограммы"
   ]
  },
  {
   "cell_type": "markdown",
   "metadata": {},
   "source": [
    "##### Тариф Ultra"
   ]
  },
  {
   "cell_type": "code",
   "execution_count": 59,
   "metadata": {
    "scrolled": false
   },
   "outputs": [
    {
     "data": {
      "image/png": "[encoded data removed]",
      "text/plain": [
       "<Figure size 432x288 with 1 Axes>"
      ]
     },
     "metadata": {
      "needs_background": "light"
     },
     "output_type": "display_data"
    }
   ],
   "source": [
    "norm_calls_ultra['calls_duration'].plot(kind='hist', title = 'Расход минут на тарифе Ultra')\n",
    "plt.xlabel('Количество минут в месяц', color='green')\n",
    "plt.ylabel('Частота появления значения', color='green');"
   ]
  },
  {
   "cell_type": "markdown",
   "metadata": {},
   "source": [
    "Гистограмма скошена влево, что подтверждается данными, полученными методом describe. Среднее - 529, а медиана - 547."
   ]
  },
  {
   "cell_type": "markdown",
   "metadata": {},
   "source": [
    "##### Тариф Smart"
   ]
  },
  {
   "cell_type": "code",
   "execution_count": 60,
   "metadata": {
    "scrolled": false
   },
   "outputs": [
    {
     "data": {
      "image/png": "[encoded data removed]",
      "text/plain": [
       "<Figure size 432x288 with 1 Axes>"
      ]
     },
     "metadata": {
      "needs_background": "light"
     },
     "output_type": "display_data"
    }
   ],
   "source": [
    "norm_calls_smart['calls_duration'].plot(kind='hist', title = 'Расход минут на тарифе  Smart')\n",
    "plt.xlabel('Количество минут в месяц', color='green')\n",
    "plt.ylabel('Частота появления значения', color='green');"
   ]
  },
  {
   "cell_type": "markdown",
   "metadata": {},
   "source": [
    "Гистограмма слегка скошена влево, среднее -  419, а медиана - 423."
   ]
  },
  {
   "cell_type": "markdown",
   "metadata": {},
   "source": [
    "#### Дисперсия и стандартное отклонение по звонкам"
   ]
  },
  {
   "cell_type": "markdown",
   "metadata": {},
   "source": [
    "Нахожу дисперсию и стандартное отклонение по отбоим тарифам и по первоначальному датасету методом var."
   ]
  },
  {
   "cell_type": "code",
   "execution_count": 61,
   "metadata": {
    "scrolled": true
   },
   "outputs": [
    {
     "name": "stdout",
     "output_type": "stream",
     "text": [
      "Дисперсия по тарифу Ultra: 93338\n",
      "Стандартное отклонение по тарифу Ultra: 306\n",
      "\n",
      "Дисперсия по тарифу Smart: 35718\n",
      "Стандартное отклонение по тарифу Smart: 189\n",
      "\n",
      "Дисперсия для всего датасета: 83519\n",
      "Стандартное отклонение для всего датасета: 289\n"
     ]
    }
   ],
   "source": [
    "print('Дисперсия по тарифу Ultra:', round(np.var(norm_calls_ultra['calls_duration'], ddof = 1)))\n",
    "print('Стандартное отклонение по тарифу Ultra:', round(np.std(norm_calls_ultra['calls_duration'], ddof = 1)))\n",
    "print()\n",
    "print('Дисперсия по тарифу Smart:', round(np.var(norm_calls_smart['calls_duration'], ddof = 1)))\n",
    "print('Стандартное отклонение по тарифу Smart:', round(np.std(norm_calls_smart['calls_duration'], ddof = 1)))\n",
    "print()\n",
    "print('Дисперсия для всего датасета:', round(np.var(df['calls_duration'], ddof = 1)))\n",
    "print('Стандартное отклонение для всего датасета:', round(np.std(df['calls_duration'], ddof = 1)))"
   ]
  },
  {
   "cell_type": "markdown",
   "metadata": {},
   "source": [
    "По правилу трех сигм нахожу правую сторону интервала, в которую попадут все значения по продолжительности звонков."
   ]
  },
  {
   "cell_type": "code",
   "execution_count": 62,
   "metadata": {},
   "outputs": [
    {
     "name": "stdout",
     "output_type": "stream",
     "text": [
      "З сигмы для Ultra по звонкам: 1464.295170236832\n",
      "З сигмы для Smart по звонкам: 986.417552316999\n"
     ]
    }
   ],
   "source": [
    "print('З сигмы для Ultra по звонкам:',\n",
    "      (norm_calls_ultra['calls_duration'].mean() + 3*np.std(norm_calls_ultra['calls_duration'], ddof = 1)))\n",
    "\n",
    "print('З сигмы для Smart по звонкам:',\n",
    "      (norm_calls_smart['calls_duration'].mean() + 3*np.std(norm_calls_smart['calls_duration'], ddof = 1)))"
   ]
  },
  {
   "cell_type": "markdown",
   "metadata": {},
   "source": [
    "#### Перерасход звонков"
   ]
  },
  {
   "cell_type": "code",
   "execution_count": 63,
   "metadata": {
    "scrolled": true
   },
   "outputs": [
    {
     "name": "stdout",
     "output_type": "stream",
     "text": [
      "754 месяца из 4536 пользователи не укладывались в тарифы по продолжительности звонков\n",
      "Из которых на тарифе Ultra было 0 месяцев с перерасходом, что составило 0% от всех месяцев по тарифу Ultra\n",
      "А на тарифе Smart было 754 месяцев с перерасходом, что составило 24% от всех месяцев по тарифу Smart\n"
     ]
    }
   ],
   "source": [
    "a = df.query('extra_minutes >0')['user_id'].count()\n",
    "b = df.query('extra_minutes >0 and tariff_name==\"smart\"')['user_id'].count()\n",
    "c = df.query('extra_minutes >0 and tariff_name==\"ultra\"')['user_id'].count()\n",
    "print(f'{a} месяца из {ultra + smart} пользователи не укладывались в тарифы по продолжительности звонков')\n",
    "print(f'Из которых на тарифе Ultra было {c} месяцев с перерасходом, что составило {c/ultra:.0%} от всех месяцев по тарифу Ultra')\n",
    "print(f'А на тарифе Smart было {b} месяцев с перерасходом, что составило {b/smart:.0%} от всех месяцев по тарифу Smart')"
   ]
  },
  {
   "cell_type": "markdown",
   "metadata": {},
   "source": [
    "#### Вывод\n",
    "В среднем пользователям на обоих тарифах необходимо **Ultra** - **529 минуты в месяц**, **Smart** - **423 минуты в месяц**. Эти значения не превышают указанные в тарифах.  \n",
    "\n",
    "Стандартное отклонение для **Ultra - 306 минут**, **для Smart - 189 минут**.  \n",
    "**31%** записей по тарифу Ultra не содержат ни одной минуты звонка, а в тарифе Smart - **30%**.  \n",
    "\n",
    "У **271** пользователей был хотя бы один месяц в который они не совершили ни одного звонка.  \n",
    "\n",
    "Гистограммы для обоих тарифов выглядят как нормальное распределение.  \n",
    "\n",
    "Дисперсия и стандартное отклонение для тарифа Ultra больше, чем для тарифа Smart:\n",
    "* Ultra: дисперсия - 93338, стандартное отклонение - 305\n",
    "* Smart: дисперсия - 35718, стандартное отклонение - 188  \n",
    "\n",
    "По правилу трех сигм нашла правую часть интервала, в который поместятся 99% значений для тарифов:\n",
    "* для тарифа Ultra верхней границей будет 1464 минуты звонков, это означает, что в 99% случаях пользователи не израсходуют 1538 минут из 3000 минут лимита.  \n",
    "* для тарифа Smart верхней границей будет 986 минут звонков, это означает, что пользователи будут регулярно переплачивать за дополнительные минуты.\n",
    "\n",
    "Все перерасходы средств по звонкам совершались на тарифе Smart и составили 24% от всех месяцев по тармифу Smart."
   ]
  },
  {
   "cell_type": "markdown",
   "metadata": {},
   "source": [
    "### Потребность в сообщениях в месяц"
   ]
  },
  {
   "cell_type": "code",
   "execution_count": 64,
   "metadata": {
    "scrolled": true
   },
   "outputs": [
    {
     "name": "stdout",
     "output_type": "stream",
     "text": [
      "795 строк с месяцами без сообщений\n",
      "251 строк с месяцами без сообщений на тарифе Ultra\n",
      "544 строк с месяцами без сообщений на тарифе Smart\n",
      "184 пользователя хотя бы один месяц не писали ни одного сообщения\n",
      "18% строк без сообщений на тарифе Ultra\n",
      "18% строк без сообщений на тарифе Smart\n"
     ]
    }
   ],
   "source": [
    "print(df.query('messages == 0')['messages'].count(), 'строк с месяцами без сообщений')\n",
    "\n",
    "print(df.query('messages == 0 and tariff_name==\"ultra\"')['messages'].count(), \n",
    "      'строк с месяцами без сообщений на тарифе Ultra')\n",
    "\n",
    "print(df.query('messages == 0 and tariff_name==\"smart\"')['messages'].count(), \n",
    "      'строк с месяцами без сообщений на тарифе Smart')\n",
    "\n",
    "print(df.query('messages == 0')['last_name'].value_counts().count(), \n",
    "      'пользователя хотя бы один месяц не писали ни одного сообщения')\n",
    "print(f'{251/ ultra:.0%} строк без сообщений на тарифе Ultra')\n",
    "print(f'{554/smart:.0%} строк без сообщений на тарифе Smart')"
   ]
  },
  {
   "cell_type": "markdown",
   "metadata": {},
   "source": [
    "Убираю нулевые значения из выборок, чтобы они не мешали, так как интересует поведение тех, кто сообщения писал."
   ]
  },
  {
   "cell_type": "code",
   "execution_count": 65,
   "metadata": {},
   "outputs": [],
   "source": [
    "norm_messages_ultra = df.query('tariff_name==\"ultra\" and messages > 0')\n",
    "norm_messages_smart = df.query('tariff_name==\"smart\" and messages > 0')"
   ]
  },
  {
   "cell_type": "markdown",
   "metadata": {},
   "source": [
    "Смотрю среднее, медиану и стандартное отклонение методом describe по очищенным данным для тарифа Ultra."
   ]
  },
  {
   "cell_type": "code",
   "execution_count": 66,
   "metadata": {
    "scrolled": true
   },
   "outputs": [
    {
     "data": {
      "text/plain": [
       "count    1130.000000\n",
       "mean       43.029204\n",
       "std        46.164435\n",
       "min         1.000000\n",
       "25%        12.000000\n",
       "50%        29.000000\n",
       "75%        60.000000\n",
       "max       445.000000\n",
       "Name: messages, dtype: float64"
      ]
     },
     "execution_count": 66,
     "metadata": {},
     "output_type": "execute_result"
    }
   ],
   "source": [
    "norm_messages_ultra['messages'].describe()"
   ]
  },
  {
   "cell_type": "markdown",
   "metadata": {},
   "source": [
    "Медиана меньше среднего арифметического, стандартное отклонение 46.  \n",
    "Строю диаграмму размаха, чтобы посмотреть наличие аномальных значений."
   ]
  },
  {
   "cell_type": "code",
   "execution_count": 67,
   "metadata": {
    "scrolled": false
   },
   "outputs": [
    {
     "data": {
      "image/png": "[encoded data removed]",
      "text/plain": [
       "<Figure size 432x288 with 1 Axes>"
      ]
     },
     "metadata": {
      "needs_background": "light"
     },
     "output_type": "display_data"
    }
   ],
   "source": [
    "norm_messages_ultra.boxplot('messages');"
   ]
  },
  {
   "cell_type": "markdown",
   "metadata": {},
   "source": [
    "На тарифе Ultra есть много аномальных значений, выходящих за правый(верхний) \"ус\" диаграммы. Так же как и со звонками, получается, что пользователи тарифа Ultra используют сообщения очень по-разному."
   ]
  },
  {
   "cell_type": "markdown",
   "metadata": {},
   "source": [
    "Смотрю среднее, медиану и стандартное отклонение методом describe по очищенным данным для тарифа Smart."
   ]
  },
  {
   "cell_type": "code",
   "execution_count": 68,
   "metadata": {
    "scrolled": true
   },
   "outputs": [
    {
     "data": {
      "text/plain": [
       "count    2611.000000\n",
       "mean       28.499809\n",
       "std        31.470139\n",
       "min         1.000000\n",
       "25%         7.000000\n",
       "50%        18.000000\n",
       "75%        38.500000\n",
       "max       268.000000\n",
       "Name: messages, dtype: float64"
      ]
     },
     "execution_count": 68,
     "metadata": {},
     "output_type": "execute_result"
    }
   ],
   "source": [
    "norm_messages_smart['messages'].describe()"
   ]
  },
  {
   "cell_type": "markdown",
   "metadata": {},
   "source": [
    "Медиана меньше среднего, стандартное отклонение - 28.  \n",
    "Строю диаграмму размаха."
   ]
  },
  {
   "cell_type": "code",
   "execution_count": 69,
   "metadata": {
    "scrolled": false
   },
   "outputs": [
    {
     "data": {
      "image/png": "[encoded data removed]",
      "text/plain": [
       "<Figure size 432x288 with 1 Axes>"
      ]
     },
     "metadata": {
      "needs_background": "light"
     },
     "output_type": "display_data"
    }
   ],
   "source": [
    "norm_messages_smart.boxplot('messages');"
   ]
  },
  {
   "cell_type": "markdown",
   "metadata": {},
   "source": [
    "На тарифе Smart много аномальных значений, выходящих за правый(верхний) \"ус\" диаграммы. Пользователям тарифа Smart нужно разное количество сообщений в месяц, многим не хватает тех, что входят в тариф."
   ]
  },
  {
   "cell_type": "markdown",
   "metadata": {},
   "source": [
    "Посчитаю наглядно, сколько сообщений нужно пользователям на разных тарифах в месяц."
   ]
  },
  {
   "cell_type": "code",
   "execution_count": 70,
   "metadata": {},
   "outputs": [
    {
     "name": "stdout",
     "output_type": "stream",
     "text": [
      "Пользователям тарифа Ultra в среднем нужно 29.0 из 1000 сообщений в месяц.\n",
      "Пользователям тарифа Smart в среднем нужно 18.0 из 50 сообщений в месяц.\n"
     ]
    }
   ],
   "source": [
    "print('Пользователям тарифа Ultra в среднем нужно',\n",
    "      norm_messages_ultra['messages'].median(),\n",
    "      'из',\n",
    "      df_tariffs['messages_included'].loc[1],\n",
    "      'сообщений в месяц.')\n",
    "print('Пользователям тарифа Smart в среднем нужно',\n",
    "      norm_messages_smart['messages'].median(),\n",
    "      'из',\n",
    "      df_tariffs['messages_included'].loc[0],\n",
    "      'сообщений в месяц.')"
   ]
  },
  {
   "cell_type": "markdown",
   "metadata": {},
   "source": [
    "#### Гистограммы"
   ]
  },
  {
   "cell_type": "markdown",
   "metadata": {},
   "source": [
    "##### Тариф Ultra"
   ]
  },
  {
   "cell_type": "code",
   "execution_count": 71,
   "metadata": {
    "scrolled": true
   },
   "outputs": [
    {
     "data": {
      "image/png": "[encoded data removed]",
      "text/plain": [
       "<Figure size 432x288 with 1 Axes>"
      ]
     },
     "metadata": {
      "needs_background": "light"
     },
     "output_type": "display_data"
    }
   ],
   "source": [
    "norm_messages_ultra['messages'].plot(kind='hist', title = 'Расход сообщений на тарифе Ultra', grid = True)\n",
    "plt.xlabel('Количество сообщений в месяц', color='green')\n",
    "plt.ylabel('Частота появления значения', color='green');"
   ]
  },
  {
   "cell_type": "markdown",
   "metadata": {},
   "source": [
    "Медиана меньше среднего, график скошен вправо."
   ]
  },
  {
   "cell_type": "markdown",
   "metadata": {},
   "source": [
    "##### Тариф Smart"
   ]
  },
  {
   "cell_type": "code",
   "execution_count": 72,
   "metadata": {
    "scrolled": false
   },
   "outputs": [
    {
     "data": {
      "image/png": "[encoded data removed]",
      "text/plain": [
       "<Figure size 432x288 with 1 Axes>"
      ]
     },
     "metadata": {
      "needs_background": "light"
     },
     "output_type": "display_data"
    }
   ],
   "source": [
    "norm_messages_smart['messages'].plot(kind='hist', title = 'Расход сообщений на тарифе Smart', grid = True)\n",
    "plt.xlabel('Количество сообщений в месяц', color='green')\n",
    "plt.ylabel('Частота появления значения', color='green');"
   ]
  },
  {
   "cell_type": "markdown",
   "metadata": {},
   "source": [
    "Медиана меньше среднего, график скошен вправо."
   ]
  },
  {
   "cell_type": "markdown",
   "metadata": {},
   "source": [
    "#### Дисперсия и стандартное отклонение по сообщениям\n",
    "Нахожу дисперсию и стандартное отклонение по отбоим тарифам и по первоначальному датасету методом var."
   ]
  },
  {
   "cell_type": "code",
   "execution_count": 73,
   "metadata": {
    "scrolled": true
   },
   "outputs": [
    {
     "name": "stdout",
     "output_type": "stream",
     "text": [
      "Дисперсия по тарифу Ultra: 2131\n",
      "Стандартное отклонение по тарифу Ultra: 46\n",
      "\n",
      "Дисперсия по тарифу Smart: 990\n",
      "Стандартное отклонение по тарифу Smart: 31\n",
      "\n",
      "Дисперсия для всего датасета: 1294\n",
      "Стандартное отклонение для всего датасета: 36\n"
     ]
    }
   ],
   "source": [
    "print('Дисперсия по тарифу Ultra:', round(np.var(norm_messages_ultra['messages'], ddof = 1)))\n",
    "print('Стандартное отклонение по тарифу Ultra:', round(np.std(norm_messages_ultra['messages'], ddof = 1)))\n",
    "print()\n",
    "print('Дисперсия по тарифу Smart:', round(np.var(norm_messages_smart['messages'], ddof = 1)))\n",
    "print('Стандартное отклонение по тарифу Smart:', round(np.std(norm_messages_smart['messages'], ddof = 1)))\n",
    "print()\n",
    "print('Дисперсия для всего датасета:', round(np.var(df['messages'], ddof = 1)))\n",
    "print('Стандартное отклонение для всего датасета:', round(np.std(df['messages'], ddof = 1)))"
   ]
  },
  {
   "cell_type": "markdown",
   "metadata": {},
   "source": [
    "По правилу трех сигм ищу верхнюю границу по расходу сообщений."
   ]
  },
  {
   "cell_type": "code",
   "execution_count": 74,
   "metadata": {},
   "outputs": [
    {
     "name": "stdout",
     "output_type": "stream",
     "text": [
      "З сигмы для Ultra по сообщениям: 181.52250781513925\n",
      "З сигмы для Smart по сообщениям: 122.91022489712113\n"
     ]
    }
   ],
   "source": [
    "print('З сигмы для Ultra по сообщениям:',\n",
    "      (norm_messages_ultra['messages'].mean() + 3*np.std(norm_messages_ultra['messages'], ddof = 1)))\n",
    "\n",
    "print('З сигмы для Smart по сообщениям:',\n",
    "      (norm_messages_smart['messages'].mean() + 3*np.std(norm_messages_smart['messages'], ddof = 1)))"
   ]
  },
  {
   "cell_type": "markdown",
   "metadata": {},
   "source": [
    "#### Перерасход сообщений"
   ]
  },
  {
   "cell_type": "code",
   "execution_count": 75,
   "metadata": {},
   "outputs": [
    {
     "name": "stdout",
     "output_type": "stream",
     "text": [
      "464 месяца из 4536 пользователи не укладывались в тарифы по количеству сообщений.\n",
      "Из которых на тарифе Ultra было 0 месяцев с перерасходом, что составило 0% от всех месяцев по тарифу Ultra\n",
      "А на тарифе Smart было 464 месяцев с перерасходом, что составило 15% от всех месяцев по тарифу Smart\n"
     ]
    }
   ],
   "source": [
    "a = df.query('extra_messages >0')['user_id'].count()\n",
    "b = df.query('extra_messages >0 and tariff_name==\"smart\"')['user_id'].count()\n",
    "c = df.query('extra_messages >0 and tariff_name==\"ultra\"')['user_id'].count()\n",
    "print(f'{a} месяца из {ultra + smart} пользователи не укладывались в тарифы по количеству сообщений.')\n",
    "print(f'Из которых на тарифе Ultra было {c} месяцев с перерасходом, что составило {c/ultra:.0%} от всех месяцев по тарифу Ultra')\n",
    "print(f'А на тарифе Smart было {b} месяцев с перерасходом, что составило {b/smart:.0%} от всех месяцев по тарифу Smart')"
   ]
  },
  {
   "cell_type": "markdown",
   "metadata": {},
   "source": [
    "#### Вывод\n",
    "В среднем пользователям на обоих тарифах необходимо на тарифе Ultra - 29 сообщений, на тарифе Smart - 18 сообщений. Эти значения не превышают указанные в тарифах. \n",
    "\n",
    "На обоих тарифах по 18% строк содержат информацию о том, что пользовтель не отправил ни одного сообщения за месяц.  \n",
    "184 пользователя хотя бы один месяц не писали ни одного сообщения. \n",
    "\n",
    "Пользователи ведут себя примерно одинаково, гистограммы и диаграммы размаха похожи.  \n",
    "Для обоих тарифах много значений выходят за крайнюю границу диаграммы размаха. Это значит, что многие пользователи пишут гораздо больше сообщений, чем обычный пользователь.\n",
    "\n",
    "Дисперсия и стандартное отклонение по тарифу Ultra больше, чем по тарифу Smart:\n",
    "* Ultra: дисперсия - 2131, стандартное отклонение - 46.\n",
    "* Smart: дисперсия - 990, стандартное отклонение - 31.\n",
    "\n",
    "Воспользовавшись правилом трех сигм, установила, что:  \n",
    "* для тарифа Ultra в 99% случаев пользователи не отправят в месяц более 181 сообщения, таким образом переплатив за 819 сообщений из 1000,  \n",
    "* для тарифа Smart в 99% случаев пользователи не отправят в месяц более 122 сообщений, тем самым переплатив за сообщения, превышиющие лимит в 50 сообщений.\n",
    "\n",
    "Перерасход сообщений был только на тарифе Smart и составил 15%."
   ]
  },
  {
   "cell_type": "markdown",
   "metadata": {},
   "source": [
    "### Потребность в интернет-трафике в месяц"
   ]
  },
  {
   "cell_type": "code",
   "execution_count": 76,
   "metadata": {
    "scrolled": true
   },
   "outputs": [
    {
     "name": "stdout",
     "output_type": "stream",
     "text": [
      "1335 строк с месяцами без использования интернета\n",
      "407 строк с месяцами без интернета на тарифе Ultra\n",
      "928 строк с месяцами без интернета на тарифе Smart\n",
      "268 пользователя хотя бы один месяц не использовали интернет\n",
      "29% строк с нулевым использованием интернета на тарифе Ultra\n",
      "29% строк с нулевым использованием интернета на тарифе Smart\n"
     ]
    }
   ],
   "source": [
    "print(df.query('mb_used == 0')['messages'].count(), 'строк с месяцами без использования интернета')\n",
    "\n",
    "print(df.query('mb_used == 0 and tariff_name==\"ultra\"')['messages'].count(), \n",
    "      'строк с месяцами без интернета на тарифе Ultra')\n",
    "\n",
    "print(df.query('mb_used == 0 and tariff_name==\"smart\"')['messages'].count(), \n",
    "      'строк с месяцами без интернета на тарифе Smart')\n",
    "\n",
    "print(df.query('mb_used == 0')['last_name'].value_counts().count(), \n",
    "      'пользователя хотя бы один месяц не использовали интернет')\n",
    "print(f'{407/ultra:.0%} строк с нулевым использованием интернета на тарифе Ultra')\n",
    "print(f'{928/smart:.0%} строк с нулевым использованием интернета на тарифе Smart')"
   ]
  },
  {
   "cell_type": "markdown",
   "metadata": {},
   "source": [
    "Убираю строки с нулевыми значениями, так как интересны те, кто интернетом пользовались."
   ]
  },
  {
   "cell_type": "code",
   "execution_count": 77,
   "metadata": {},
   "outputs": [],
   "source": [
    "norm_traffic_ultra = df.query('tariff_name==\"ultra\" and mb_used >0')\n",
    "norm_traffic_smart = df.query('tariff_name==\"smart\" and mb_used >0')"
   ]
  },
  {
   "cell_type": "markdown",
   "metadata": {},
   "source": [
    "Считаю медиану, среднее и стандартное отклонение методом np.var() для тарифа **Ultra**."
   ]
  },
  {
   "cell_type": "code",
   "execution_count": 78,
   "metadata": {},
   "outputs": [
    {
     "name": "stdout",
     "output_type": "stream",
     "text": [
      "Медиана: 19409.025\n",
      "Среднее арифметическое: 19688.678778234094\n",
      "Стандартное отклонение: 9928.134987416308\n"
     ]
    }
   ],
   "source": [
    "print('Медиана:', norm_traffic_ultra['mb_used'].median())\n",
    "print('Среднее арифметическое:', norm_traffic_ultra['mb_used'].mean())\n",
    "print('Стандартное отклонение:',np.std(norm_traffic_ultra['mb_used'], ddof = 1))"
   ]
  },
  {
   "cell_type": "markdown",
   "metadata": {},
   "source": [
    "Медианное значение близко к среднему.  \n",
    "Строю диаграмму размаха, чтобы посмотреть аномальные значения."
   ]
  },
  {
   "cell_type": "code",
   "execution_count": 79,
   "metadata": {
    "scrolled": true
   },
   "outputs": [
    {
     "data": {
      "image/png": "[encoded data removed]",
      "text/plain": [
       "<Figure size 432x288 with 1 Axes>"
      ]
     },
     "metadata": {
      "needs_background": "light"
     },
     "output_type": "display_data"
    }
   ],
   "source": [
    "norm_traffic_ultra.boxplot('mb_used');"
   ]
  },
  {
   "cell_type": "markdown",
   "metadata": {},
   "source": [
    "Практически не осталось аномальных значений."
   ]
  },
  {
   "cell_type": "markdown",
   "metadata": {},
   "source": [
    "Считаю медиану, среднее и стандартное отклонение методом np.var() для тарифа **Smart**."
   ]
  },
  {
   "cell_type": "code",
   "execution_count": 80,
   "metadata": {},
   "outputs": [
    {
     "name": "stdout",
     "output_type": "stream",
     "text": [
      "Медиана: 16508.64\n",
      "Среднее арифметическое: 16222.943242029643\n",
      "Стандартное отклонение: 5852.96580638762\n"
     ]
    }
   ],
   "source": [
    "print('Медиана:', norm_traffic_smart['mb_used'].median())\n",
    "print('Среднее арифметическое:', norm_traffic_smart['mb_used'].mean())\n",
    "print('Стандартное отклонение:',np.std(norm_traffic_smart['mb_used'], ddof = 1))"
   ]
  },
  {
   "cell_type": "markdown",
   "metadata": {},
   "source": [
    "Для тарифа Smart медианное значение близко к среднему, как и для тарифа Ultra.  \n",
    "Строю диаграмму размаха."
   ]
  },
  {
   "cell_type": "code",
   "execution_count": 81,
   "metadata": {
    "scrolled": true
   },
   "outputs": [
    {
     "data": {
      "image/png": "[encoded data removed]",
      "text/plain": [
       "<Figure size 432x288 with 1 Axes>"
      ]
     },
     "metadata": {
      "needs_background": "light"
     },
     "output_type": "display_data"
    }
   ],
   "source": [
    "norm_traffic_smart.boxplot('mb_used');"
   ]
  },
  {
   "cell_type": "markdown",
   "metadata": {},
   "source": [
    "Для тарифа Smart аномальные значения есть как с левой (нижней), так и с правой(верхней) стороны графика."
   ]
  },
  {
   "cell_type": "markdown",
   "metadata": {},
   "source": [
    "#### Гистограммы"
   ]
  },
  {
   "cell_type": "markdown",
   "metadata": {},
   "source": [
    "##### Тариф Ultra"
   ]
  },
  {
   "cell_type": "code",
   "execution_count": 82,
   "metadata": {},
   "outputs": [
    {
     "data": {
      "image/png": "[encoded data removed]",
      "text/plain": [
       "<Figure size 432x288 with 1 Axes>"
      ]
     },
     "metadata": {
      "needs_background": "light"
     },
     "output_type": "display_data"
    }
   ],
   "source": [
    "norm_traffic_ultra['mb_used'].plot(kind='hist', title = 'Потребление трафика на тарифе Ultra', grid = True);\n",
    "plt.xlabel('Потраченный трафик в месяц', color='green')\n",
    "plt.ylabel('Частота появления значения', color='green');"
   ]
  },
  {
   "cell_type": "markdown",
   "metadata": {},
   "source": [
    "Распределение похоже на нормальное с небольшой скошенностью влево."
   ]
  },
  {
   "cell_type": "markdown",
   "metadata": {},
   "source": [
    "##### Тариф Smart"
   ]
  },
  {
   "cell_type": "code",
   "execution_count": 83,
   "metadata": {},
   "outputs": [
    {
     "data": {
      "image/png": "[encoded data removed]",
      "text/plain": [
       "<Figure size 432x288 with 1 Axes>"
      ]
     },
     "metadata": {
      "needs_background": "light"
     },
     "output_type": "display_data"
    }
   ],
   "source": [
    "norm_traffic_smart['mb_used'].plot(kind='hist', title = 'Потребность в трафике на тарифе Smart', grid = True);\n",
    "plt.xlabel('Потраченный трафик в месяц', color='green')\n",
    "plt.ylabel('Частота появления значения', color='green');"
   ]
  },
  {
   "cell_type": "markdown",
   "metadata": {},
   "source": [
    "Для тарифа Smart распределение нормальное с небольшой скошенностью влево."
   ]
  },
  {
   "cell_type": "code",
   "execution_count": 84,
   "metadata": {
    "scrolled": true
   },
   "outputs": [
    {
     "name": "stdout",
     "output_type": "stream",
     "text": [
      "Пользователям тарифа Ultra в среднем нужно 19409.025 МБ из 30720 МБ в месяц.\n",
      "Пользователям тарифа Smart в среднем нужно 16508.64 МБ из 15360 МБ в месяц.\n"
     ]
    }
   ],
   "source": [
    "print('Пользователям тарифа Ultra в среднем нужно',\n",
    "      norm_traffic_ultra['mb_used'].median(),\n",
    "      'МБ из',\n",
    "      df_tariffs['mb_per_month_included'].loc[1],\n",
    "      'МБ в месяц.')\n",
    "print('Пользователям тарифа Smart в среднем нужно',\n",
    "      norm_traffic_smart['mb_used'].median(),\n",
    "      'МБ из',\n",
    "      df_tariffs['mb_per_month_included'].loc[0],\n",
    "      'МБ в месяц.')"
   ]
  },
  {
   "cell_type": "markdown",
   "metadata": {},
   "source": [
    "#### Дисперсия для интернет-трафика\n",
    "Считаю дисперсию для интернет-трафика по тарифам."
   ]
  },
  {
   "cell_type": "code",
   "execution_count": 85,
   "metadata": {},
   "outputs": [
    {
     "name": "stdout",
     "output_type": "stream",
     "text": [
      "Дисперсия по тарифу Ultra: 98567864.32835983\n",
      "Стандартное отклонение по тарифу Ultra: 9928.134987416308\n",
      "\n",
      "Дисперсия по тарифу Smart: 34257208.730742685\n",
      "Стандартное отклонение по тарифу Smart: 5852.96580638762\n"
     ]
    }
   ],
   "source": [
    "print('Дисперсия по тарифу Ultra:', np.var(norm_traffic_ultra['mb_used'], ddof = 1))\n",
    "print('Стандартное отклонение по тарифу Ultra:', np.std(norm_traffic_ultra['mb_used'], ddof = 1))\n",
    "print()\n",
    "print('Дисперсия по тарифу Smart:', np.var(norm_traffic_smart['mb_used'], ddof = 1))\n",
    "print('Стандартное отклонение по тарифу Smart:', np.std(norm_traffic_smart['mb_used'], ddof = 1))"
   ]
  },
  {
   "cell_type": "markdown",
   "metadata": {},
   "source": [
    "Воспользовавшись правилом трех сигм ищу верхнюю границу для большинства пользователей по использованию интернета."
   ]
  },
  {
   "cell_type": "code",
   "execution_count": 86,
   "metadata": {},
   "outputs": [
    {
     "name": "stdout",
     "output_type": "stream",
     "text": [
      "З сигмы для Ultra по интернет-трафику: 49473.08374048302\n",
      "З сигмы для Smart по интернет-трафику: 33781.8406611925\n"
     ]
    }
   ],
   "source": [
    "print('З сигмы для Ultra по интернет-трафику:',\n",
    "      (norm_traffic_ultra['mb_used'].mean() + 3*np.std(norm_traffic_ultra['mb_used'], ddof = 1)))\n",
    "print('З сигмы для Smart по интернет-трафику:',\n",
    "      (norm_traffic_smart['mb_used'].mean() + 3*np.std(norm_traffic_smart['mb_used'], ddof = 1)))"
   ]
  },
  {
   "cell_type": "markdown",
   "metadata": {},
   "source": [
    "#### Перерасход трафика"
   ]
  },
  {
   "cell_type": "code",
   "execution_count": 87,
   "metadata": {},
   "outputs": [
    {
     "name": "stdout",
     "output_type": "stream",
     "text": [
      "1438 месяца из 4536 пользователи не укладывались в тарифы по объему израсходованного интернета.\n",
      "Из которых на тарифе Ultra было 134 месяцев с перерасходом, что составило 10% от всех месяцев по тарифу Ultra\n",
      "А на тарифе Smart было 1304 месяцев с перерасходом, что составило 41% от всех месяцев по тарифу Smart\n"
     ]
    }
   ],
   "source": [
    "a = df.query('extra_traffic >0')['user_id'].count()\n",
    "b = df.query('extra_traffic >0 and tariff_name==\"smart\"')['user_id'].count()\n",
    "c = df.query('extra_traffic >0 and tariff_name==\"ultra\"')['user_id'].count()\n",
    "print(f'{a} месяца из {ultra + smart} пользователи не укладывались в тарифы по объему израсходованного интернета.')\n",
    "print(f'Из которых на тарифе Ultra было {c} месяцев с перерасходом, что составило {c/ultra:.0%} от всех месяцев по тарифу Ultra')\n",
    "print(f'А на тарифе Smart было {b} месяцев с перерасходом, что составило {b/smart:.0%} от всех месяцев по тарифу Smart')"
   ]
  },
  {
   "cell_type": "markdown",
   "metadata": {},
   "source": [
    "#### Вывод\n",
    "Для пользователей тарифа Ultra в среднем достаточно **19409 МБ** из **30720 МБ** в месяц.  \n",
    "Для пользователей Smart - **16508 МБ** из **15360 МБ**.\n",
    "Среднее по тарифу Smart не укладывается в лимит.\n",
    "\n",
    "268 пользователей хотя бы один месяц не пользовались интернетом.  \n",
    "29% строк для обоих тарифов содержат информации о том, что пользователь ни разу за месяц не воспользовался интернетом.  \n",
    "\n",
    "Гистограммы для обоих тарифов выглядят как нормальное распределение.  \n",
    "На диаграмме размаха видно, что по тарифу Smart больше аномальных значений, чем по тарифу Ultra.\n",
    "\n",
    "Дисперсия и стандартное отклонение по тарифу Ultra больше, чем по тарифу Smart:\n",
    "* Ultra: дисперсия 98567864, стандартное отклонение 9928\n",
    "* Smart: дисперсия 34257208, стандартное отклонение 5852\n",
    "\n",
    "Рассчитав по правилу трех сигм по обоим тарифам верхний предел использования интернет-трафика для 99% значений, выяснила, что пользователи и тарифа Ultra, и тарифа Smart будут регулярно переплачивать за интернет.\n",
    "\n",
    "По обоим тарифам был перерасход интернет-трафика, 10% месяцев пользователи выходили за лимит по тарифу Ultra и 41% месяцев по тарифу Smart."
   ]
  },
  {
   "cell_type": "markdown",
   "metadata": {},
   "source": [
    "### Дисперсия, стандартное отклонение и гистограммы по выручке"
   ]
  },
  {
   "cell_type": "code",
   "execution_count": 88,
   "metadata": {
    "scrolled": false
   },
   "outputs": [
    {
     "name": "stdout",
     "output_type": "stream",
     "text": [
      "Дисперсия по тарифу Ultra: 103862.35557094947\n",
      "Стандартное отклонение по тарифу Ultra: 322.2768306455639\n",
      "\n",
      "Дисперсия по тарифу Smart: 584257.2338462953\n",
      "Стандартное отклонение по тарифу Smart: 764.3672113888032\n"
     ]
    }
   ],
   "source": [
    "ultra_total_cost = df.query('tariff_name==\"ultra\"')['total_cost']\n",
    "smart_total_cost = df.query('tariff_name==\"smart\"')['total_cost']\n",
    "\n",
    "print('Дисперсия по тарифу Ultra:', np.var(ultra_total_cost, ddof = 1))\n",
    "print('Стандартное отклонение по тарифу Ultra:', np.std(ultra_total_cost, ddof = 1))\n",
    "print()\n",
    "print('Дисперсия по тарифу Smart:', np.var(smart_total_cost, ddof = 1))\n",
    "print('Стандартное отклонение по тарифу Smart:', np.std(smart_total_cost, ddof = 1))"
   ]
  },
  {
   "cell_type": "markdown",
   "metadata": {},
   "source": [
    "У пользователей Ultra стандартное отклонение меньше в 2 раза, чем по тарифу Smart, это означает, что пользователи Ultra в большинстве своем платят одну и ту же сумму, в то время как пользователи Smart платят разную сумму за услуги. Так как заплатить меньше абонентской платы нельзя, то платят они больше.  \n",
    "Строю гистограммы по тарифам."
   ]
  },
  {
   "cell_type": "code",
   "execution_count": 89,
   "metadata": {},
   "outputs": [
    {
     "data": {
      "text/html": [
       "<div>\n",
       "<style scoped>\n",
       "    .dataframe tbody tr th:only-of-type {\n",
       "        vertical-align: middle;\n",
       "    }\n",
       "\n",
       "    .dataframe tbody tr th {\n",
       "        vertical-align: top;\n",
       "    }\n",
       "\n",
       "    .dataframe thead th {\n",
       "        text-align: right;\n",
       "    }\n",
       "</style>\n",
       "<table border=\"1\" class=\"dataframe\">\n",
       "  <thead>\n",
       "    <tr style=\"text-align: right;\">\n",
       "      <th></th>\n",
       "      <th>messages_included</th>\n",
       "      <th>mb_per_month_included</th>\n",
       "      <th>minutes_included</th>\n",
       "      <th>rub_monthly_fee</th>\n",
       "      <th>rub_per_gb</th>\n",
       "      <th>rub_per_message</th>\n",
       "      <th>rub_per_minute</th>\n",
       "      <th>tariff_name</th>\n",
       "    </tr>\n",
       "  </thead>\n",
       "  <tbody>\n",
       "    <tr>\n",
       "      <th>0</th>\n",
       "      <td>50</td>\n",
       "      <td>15360</td>\n",
       "      <td>500</td>\n",
       "      <td>550</td>\n",
       "      <td>200</td>\n",
       "      <td>3</td>\n",
       "      <td>3</td>\n",
       "      <td>smart</td>\n",
       "    </tr>\n",
       "    <tr>\n",
       "      <th>1</th>\n",
       "      <td>1000</td>\n",
       "      <td>30720</td>\n",
       "      <td>3000</td>\n",
       "      <td>1950</td>\n",
       "      <td>150</td>\n",
       "      <td>1</td>\n",
       "      <td>1</td>\n",
       "      <td>ultra</td>\n",
       "    </tr>\n",
       "  </tbody>\n",
       "</table>\n",
       "</div>"
      ],
      "text/plain": [
       "   messages_included  mb_per_month_included  minutes_included  \\\n",
       "0                 50                  15360               500   \n",
       "1               1000                  30720              3000   \n",
       "\n",
       "   rub_monthly_fee  rub_per_gb  rub_per_message  rub_per_minute tariff_name  \n",
       "0              550         200                3               3       smart  \n",
       "1             1950         150                1               1       ultra  "
      ]
     },
     "execution_count": 89,
     "metadata": {},
     "output_type": "execute_result"
    }
   ],
   "source": [
    "df_tariffs"
   ]
  },
  {
   "cell_type": "code",
   "execution_count": 90,
   "metadata": {
    "scrolled": false
   },
   "outputs": [
    {
     "data": {
      "image/png": "[encoded data removed]",
      "text/plain": [
       "<Figure size 432x288 with 1 Axes>"
      ]
     },
     "metadata": {
      "needs_background": "light"
     },
     "output_type": "display_data"
    }
   ],
   "source": [
    "ultra_total_cost.plot(kind='hist', title = 'Полученная выручка на тарифе Ultra', grid = True);\n",
    "plt.xlabel('Оплата в рублях', color='green')\n",
    "plt.ylabel('Частота появления значения', color='green');"
   ]
  },
  {
   "cell_type": "markdown",
   "metadata": {},
   "source": [
    "Из графика видно, что пользователи тарифа Ultra не так часто и не так много переплачивают за услуги сверх лимитов сверх абонентской платы в 1950 рублей."
   ]
  },
  {
   "cell_type": "code",
   "execution_count": 91,
   "metadata": {},
   "outputs": [
    {
     "data": {
      "image/png": "[encoded data removed]",
      "text/plain": [
       "<Figure size 432x288 with 1 Axes>"
      ]
     },
     "metadata": {
      "needs_background": "light"
     },
     "output_type": "display_data"
    }
   ],
   "source": [
    "smart_total_cost.plot(kind='hist', title = 'Полученная выручка на тарифе Smart', grid = True);\n",
    "plt.xlabel('Оплата в рублях', color='green')\n",
    "plt.ylabel('Частота появления значения', color='green');"
   ]
  },
  {
   "cell_type": "markdown",
   "metadata": {},
   "source": [
    "Из графика видно, что пользователи часто переплачивают сверх 550 рублей абонентской платы в несколько раз."
   ]
  },
  {
   "cell_type": "markdown",
   "metadata": {},
   "source": [
    "Накладываю два графика друг на друга, чтобы сравнить."
   ]
  },
  {
   "cell_type": "markdown",
   "metadata": {},
   "source": [
    "### Вывод по анализу данных\n",
    "По продолжительности телефонных звонков и количеству сообщений происходит перерасход по тарифу Smart, пользователи тарифа Ultra не выходят за лимит тарифа по этим показателям. По интернет-трафику пользователи обоих тарифов выходят за установленные лимиты, тем не менее, пользователи тарифа Smart выходят за пределы установленного лимита чаще.  \n",
    "\n",
    "Тариф Ultra позволяет укладываться в лимиты, в то время как тарифа Smart в 41% случаев не хватает для использования интернета, в 15% случаев не хватает сообщений и в 24% случаев не хватает звонков.\n",
    "\n",
    "По всем трем параметрам в обоих тарифах большое стандартное отклонение, что говорит о том, что данные неоднородны, множество пользователей используют больший или меньший объем звонков, сообщений и трафика в месяц.\n",
    "\n",
    "В 30% (Ultra) и 31% (Smart) случаев пользователи ни разу за месяц никому не позвонили,  \n",
    "в 18% случаев по обоим тарифам пользователи не отправили ни одного сообщения,  \n",
    "в 29% случаев по обоим тарифам пользователи не пользовались интернетом.  \n",
    "\n",
    "Для обоих тарифов было бы хорошо поднять лимит по интернет-трафику или создать еще один тариф, средний между Smart и Ultra по звонкам и сообщениям, но с большим лимитом интернет-трафика.\n",
    "\n",
    "Дисперсия и стандартное отклонение по выручке по тарифу Ultra меньше, чем по тарифу Smart. Значит тариф Ultra больше подходит своим пользователям, их траты более стабильные от месяца к месяцу."
   ]
  },
  {
   "cell_type": "markdown",
   "metadata": {},
   "source": [
    "## Проверка гипотез\n",
    "Нужно проверить две гипотезы:\n",
    "* средняя выручка пользователей тарифов «Ультра» и «Смарт» различаются;\n",
    "* средняя выручка пользователей из Москвы отличается от выручки пользователей из других регионов."
   ]
  },
  {
   "cell_type": "code",
   "execution_count": 92,
   "metadata": {},
   "outputs": [
    {
     "data": {
      "text/html": [
       "<div>\n",
       "<style scoped>\n",
       "    .dataframe tbody tr th:only-of-type {\n",
       "        vertical-align: middle;\n",
       "    }\n",
       "\n",
       "    .dataframe tbody tr th {\n",
       "        vertical-align: top;\n",
       "    }\n",
       "\n",
       "    .dataframe thead th {\n",
       "        text-align: right;\n",
       "    }\n",
       "</style>\n",
       "<table border=\"1\" class=\"dataframe\">\n",
       "  <thead>\n",
       "    <tr style=\"text-align: right;\">\n",
       "      <th></th>\n",
       "      <th>user_id</th>\n",
       "      <th>month</th>\n",
       "      <th>calls_count</th>\n",
       "      <th>calls_duration</th>\n",
       "      <th>messages</th>\n",
       "      <th>mb_used</th>\n",
       "      <th>age</th>\n",
       "      <th>churn_date</th>\n",
       "      <th>city</th>\n",
       "      <th>first_name</th>\n",
       "      <th>last_name</th>\n",
       "      <th>reg_date</th>\n",
       "      <th>tariff</th>\n",
       "      <th>messages_included</th>\n",
       "      <th>mb_per_month_included</th>\n",
       "      <th>minutes_included</th>\n",
       "      <th>rub_monthly_fee</th>\n",
       "      <th>rub_per_gb</th>\n",
       "      <th>rub_per_message</th>\n",
       "      <th>rub_per_minute</th>\n",
       "      <th>tariff_name</th>\n",
       "      <th>extra_minutes</th>\n",
       "      <th>extra_messages</th>\n",
       "      <th>extra_traffic</th>\n",
       "      <th>total_cost</th>\n",
       "    </tr>\n",
       "  </thead>\n",
       "  <tbody>\n",
       "    <tr>\n",
       "      <th>0</th>\n",
       "      <td>1000</td>\n",
       "      <td>2018-05-01</td>\n",
       "      <td>22</td>\n",
       "      <td>159</td>\n",
       "      <td>22</td>\n",
       "      <td>2253.49</td>\n",
       "      <td>52</td>\n",
       "      <td>NaN</td>\n",
       "      <td>Краснодар</td>\n",
       "      <td>Рафаил</td>\n",
       "      <td>Верещагин</td>\n",
       "      <td>2018-05-25</td>\n",
       "      <td>ultra</td>\n",
       "      <td>1000</td>\n",
       "      <td>30720</td>\n",
       "      <td>3000</td>\n",
       "      <td>1950</td>\n",
       "      <td>150</td>\n",
       "      <td>1</td>\n",
       "      <td>1</td>\n",
       "      <td>ultra</td>\n",
       "      <td>0</td>\n",
       "      <td>0</td>\n",
       "      <td>0.0</td>\n",
       "      <td>1950.0</td>\n",
       "    </tr>\n",
       "    <tr>\n",
       "      <th>1</th>\n",
       "      <td>1000</td>\n",
       "      <td>2018-06-01</td>\n",
       "      <td>43</td>\n",
       "      <td>172</td>\n",
       "      <td>43</td>\n",
       "      <td>23233.77</td>\n",
       "      <td>52</td>\n",
       "      <td>NaN</td>\n",
       "      <td>Краснодар</td>\n",
       "      <td>Рафаил</td>\n",
       "      <td>Верещагин</td>\n",
       "      <td>2018-05-25</td>\n",
       "      <td>ultra</td>\n",
       "      <td>1000</td>\n",
       "      <td>30720</td>\n",
       "      <td>3000</td>\n",
       "      <td>1950</td>\n",
       "      <td>150</td>\n",
       "      <td>1</td>\n",
       "      <td>1</td>\n",
       "      <td>ultra</td>\n",
       "      <td>0</td>\n",
       "      <td>0</td>\n",
       "      <td>0.0</td>\n",
       "      <td>1950.0</td>\n",
       "    </tr>\n",
       "    <tr>\n",
       "      <th>2</th>\n",
       "      <td>1000</td>\n",
       "      <td>2018-07-01</td>\n",
       "      <td>47</td>\n",
       "      <td>340</td>\n",
       "      <td>47</td>\n",
       "      <td>14003.64</td>\n",
       "      <td>52</td>\n",
       "      <td>NaN</td>\n",
       "      <td>Краснодар</td>\n",
       "      <td>Рафаил</td>\n",
       "      <td>Верещагин</td>\n",
       "      <td>2018-05-25</td>\n",
       "      <td>ultra</td>\n",
       "      <td>1000</td>\n",
       "      <td>30720</td>\n",
       "      <td>3000</td>\n",
       "      <td>1950</td>\n",
       "      <td>150</td>\n",
       "      <td>1</td>\n",
       "      <td>1</td>\n",
       "      <td>ultra</td>\n",
       "      <td>0</td>\n",
       "      <td>0</td>\n",
       "      <td>0.0</td>\n",
       "      <td>1950.0</td>\n",
       "    </tr>\n",
       "    <tr>\n",
       "      <th>3</th>\n",
       "      <td>1000</td>\n",
       "      <td>2018-08-01</td>\n",
       "      <td>52</td>\n",
       "      <td>408</td>\n",
       "      <td>53</td>\n",
       "      <td>14055.93</td>\n",
       "      <td>52</td>\n",
       "      <td>NaN</td>\n",
       "      <td>Краснодар</td>\n",
       "      <td>Рафаил</td>\n",
       "      <td>Верещагин</td>\n",
       "      <td>2018-05-25</td>\n",
       "      <td>ultra</td>\n",
       "      <td>1000</td>\n",
       "      <td>30720</td>\n",
       "      <td>3000</td>\n",
       "      <td>1950</td>\n",
       "      <td>150</td>\n",
       "      <td>1</td>\n",
       "      <td>1</td>\n",
       "      <td>ultra</td>\n",
       "      <td>0</td>\n",
       "      <td>0</td>\n",
       "      <td>0.0</td>\n",
       "      <td>1950.0</td>\n",
       "    </tr>\n",
       "    <tr>\n",
       "      <th>4</th>\n",
       "      <td>1000</td>\n",
       "      <td>2018-09-01</td>\n",
       "      <td>58</td>\n",
       "      <td>466</td>\n",
       "      <td>59</td>\n",
       "      <td>14568.91</td>\n",
       "      <td>52</td>\n",
       "      <td>NaN</td>\n",
       "      <td>Краснодар</td>\n",
       "      <td>Рафаил</td>\n",
       "      <td>Верещагин</td>\n",
       "      <td>2018-05-25</td>\n",
       "      <td>ultra</td>\n",
       "      <td>1000</td>\n",
       "      <td>30720</td>\n",
       "      <td>3000</td>\n",
       "      <td>1950</td>\n",
       "      <td>150</td>\n",
       "      <td>1</td>\n",
       "      <td>1</td>\n",
       "      <td>ultra</td>\n",
       "      <td>0</td>\n",
       "      <td>0</td>\n",
       "      <td>0.0</td>\n",
       "      <td>1950.0</td>\n",
       "    </tr>\n",
       "  </tbody>\n",
       "</table>\n",
       "</div>"
      ],
      "text/plain": [
       "   user_id      month  calls_count  calls_duration  messages   mb_used  age  \\\n",
       "0     1000 2018-05-01           22             159        22   2253.49   52   \n",
       "1     1000 2018-06-01           43             172        43  23233.77   52   \n",
       "2     1000 2018-07-01           47             340        47  14003.64   52   \n",
       "3     1000 2018-08-01           52             408        53  14055.93   52   \n",
       "4     1000 2018-09-01           58             466        59  14568.91   52   \n",
       "\n",
       "  churn_date       city first_name  last_name   reg_date tariff  \\\n",
       "0        NaN  Краснодар     Рафаил  Верещагин 2018-05-25  ultra   \n",
       "1        NaN  Краснодар     Рафаил  Верещагин 2018-05-25  ultra   \n",
       "2        NaN  Краснодар     Рафаил  Верещагин 2018-05-25  ultra   \n",
       "3        NaN  Краснодар     Рафаил  Верещагин 2018-05-25  ultra   \n",
       "4        NaN  Краснодар     Рафаил  Верещагин 2018-05-25  ultra   \n",
       "\n",
       "   messages_included  mb_per_month_included  minutes_included  \\\n",
       "0               1000                  30720              3000   \n",
       "1               1000                  30720              3000   \n",
       "2               1000                  30720              3000   \n",
       "3               1000                  30720              3000   \n",
       "4               1000                  30720              3000   \n",
       "\n",
       "   rub_monthly_fee  rub_per_gb  rub_per_message  rub_per_minute tariff_name  \\\n",
       "0             1950         150                1               1       ultra   \n",
       "1             1950         150                1               1       ultra   \n",
       "2             1950         150                1               1       ultra   \n",
       "3             1950         150                1               1       ultra   \n",
       "4             1950         150                1               1       ultra   \n",
       "\n",
       "   extra_minutes  extra_messages  extra_traffic  total_cost  \n",
       "0              0               0            0.0      1950.0  \n",
       "1              0               0            0.0      1950.0  \n",
       "2              0               0            0.0      1950.0  \n",
       "3              0               0            0.0      1950.0  \n",
       "4              0               0            0.0      1950.0  "
      ]
     },
     "execution_count": 92,
     "metadata": {},
     "output_type": "execute_result"
    }
   ],
   "source": [
    "df.head()"
   ]
  },
  {
   "cell_type": "markdown",
   "metadata": {},
   "source": [
    "### Проверка гипотезы \"средняя выручка пользователей тарифов «Ультра» и «Смарт» различаются\"\n",
    "\n",
    "Нулевая гипотеза: Средняя выручка пользователей тарифов Ultra и Smart равна.  \n",
    "Альтернативная гипотеза: Средняя выручка пользователей тарифов Ultra и Smart не равна.\n",
    "\n",
    "Гипотеза является двусторонней, так как выручка может быть как больше, так и меньше. Проверить гипотезу можно с помощью t-теста для гипотезы о равенстве двух генеральных совокупностей.  \n",
    "Первая совокупность - это все данные о выручке по тарифу Ultra.  \n",
    "Вторая совокупность - это все данные о выручке по тарифу Smart."
   ]
  },
  {
   "cell_type": "code",
   "execution_count": 93,
   "metadata": {
    "scrolled": true
   },
   "outputs": [
    {
     "name": "stdout",
     "output_type": "stream",
     "text": [
      "p-значение:  0.0\n",
      "Отвергаем нулевую гипотезу\n"
     ]
    }
   ],
   "source": [
    "ultra_total_cost = df.query('tariff_name==\"ultra\"')['total_cost']\n",
    "smart_total_cost = df.query('tariff_name==\"smart\"')['total_cost']\n",
    "\n",
    "results = st.ttest_ind(ultra_total_cost,smart_total_cost)\n",
    "alpha = 0.05\n",
    "print('p-значение: ', results.pvalue)\n",
    "\n",
    "if results.pvalue < alpha:\n",
    "    print(\"Отвергаем нулевую гипотезу\")\n",
    "else:\n",
    "    print(\"Не получилось отвергнуть нулевую гипотезу\")"
   ]
  },
  {
   "cell_type": "markdown",
   "metadata": {},
   "source": [
    "Гипотеза о том, что средняя выручка пользователей тарифов равна отвергнута.  \n",
    "Считаем верной альтернативную гипотезу, что средняя выручка на тарифах Ultra и Smart не равна.\n",
    "\n",
    "Меня очень смущает p-значение:  0.0, смотрю среднюю выручку по тарифам в выборках."
   ]
  },
  {
   "cell_type": "code",
   "execution_count": 94,
   "metadata": {},
   "outputs": [
    {
     "data": {
      "text/plain": [
       "2035.6987690079652"
      ]
     },
     "execution_count": 94,
     "metadata": {},
     "output_type": "execute_result"
    }
   ],
   "source": [
    "ultra_total_cost.mean()"
   ]
  },
  {
   "cell_type": "code",
   "execution_count": 95,
   "metadata": {
    "scrolled": true
   },
   "outputs": [
    {
     "data": {
      "text/plain": [
       "1074.9194928684628"
      ]
     },
     "execution_count": 95,
     "metadata": {},
     "output_type": "execute_result"
    }
   ],
   "source": [
    "smart_total_cost.mean()"
   ]
  },
  {
   "cell_type": "markdown",
   "metadata": {},
   "source": [
    "Средняя выручка не равна."
   ]
  },
  {
   "cell_type": "markdown",
   "metadata": {},
   "source": [
    "### Проверка гипотезы \"средняя выручка пользователей из Москвы отличается от выручки пользователей из других регионов\"\n",
    "\n",
    "Нулевая гипотеза: Средняя выручка пользователей из Москвы и других регионов равна.  \n",
    "Альтернативная гипотеза: Средняя выручка пользователей из Москвы и других регионов не равна.\n",
    "\n",
    "Гипотеза является двусторонней, так как выручка может быть как больше, так и меньше. Проверить гипотезу можно с помощью t-теста для гипотезы о равенстве двух генеральных совокупностей.  \n",
    "Первая совокупность - это все данные о выручке по Москве.  \n",
    "Вторая совокупность - это все данные о выручке всем регионам кроме Москвы."
   ]
  },
  {
   "cell_type": "code",
   "execution_count": 96,
   "metadata": {},
   "outputs": [
    {
     "name": "stdout",
     "output_type": "stream",
     "text": [
      "p-значение:  0.7653675827660593\n",
      "Не получилось отвергнуть нулевую гипотезу\n"
     ]
    }
   ],
   "source": [
    "moscow_total_cost = df.query('city==\"Москва\"')['total_cost']\n",
    "other_total_cost = df.query('city!=\"Москва\"')['total_cost']\n",
    "\n",
    "results = st.ttest_ind(moscow_total_cost,other_total_cost)\n",
    "alpha = 0.05\n",
    "print('p-значение: ', results.pvalue)\n",
    "\n",
    "if results.pvalue < alpha:\n",
    "    print(\"Отвергаем нулевую гипотезу\")\n",
    "else:\n",
    "    print(\"Не получилось отвергнуть нулевую гипотезу\")"
   ]
  },
  {
   "cell_type": "markdown",
   "metadata": {},
   "source": [
    "Гипотезу о том, что средняя выручка пользователей из Москвы равна средней выручке пользователей из других регионов, не получилось отвергнуть.  \n",
    "Считаю среднюю выручку по Москве и другим регионам в выборках."
   ]
  },
  {
   "cell_type": "code",
   "execution_count": 97,
   "metadata": {},
   "outputs": [
    {
     "data": {
      "text/plain": [
       "1360.2269099201824"
      ]
     },
     "execution_count": 97,
     "metadata": {},
     "output_type": "execute_result"
    }
   ],
   "source": [
    "moscow_total_cost.mean()"
   ]
  },
  {
   "cell_type": "code",
   "execution_count": 98,
   "metadata": {},
   "outputs": [
    {
     "data": {
      "text/plain": [
       "1369.1587865537033"
      ]
     },
     "execution_count": 98,
     "metadata": {},
     "output_type": "execute_result"
    }
   ],
   "source": [
    "other_total_cost.mean()"
   ]
  },
  {
   "cell_type": "markdown",
   "metadata": {},
   "source": [
    "Средняя выручка практически равна."
   ]
  },
  {
   "cell_type": "markdown",
   "metadata": {},
   "source": [
    "## Вывод"
   ]
  },
  {
   "cell_type": "markdown",
   "metadata": {},
   "source": [
    "Пользователи тарифа **Smart** чаще выходят за лимит по своему тарифу, чем пользователи тарифа Ultra.\n",
    "24 % - не хватает звонков на тарифе **Smart**.\n",
    "15% не хватает сообщений на тарифе **Smart**.\n",
    "41% не хватает интернет-трафика на тарифе **Smart**.\n",
    "10% - не хватает интернета на тарифе **Ultra**.\n",
    "\n",
    "**Выручка по тарифу Ultra больше, чем по тарифу Smart.**\n",
    "\n",
    "Мне необходимо сделать вывод, какой тариф лучше.  \n",
    "\n",
    "С точки зрения пользователя оба тарифа не очень удобные, так как пользователь Ultra сразу переплачивает за услуги, которыми не пользуется, а пользователь тарифа Smart постоянно переплачивает за услуги, которые не входят в лимиты по тарифу.\n",
    "\n",
    "С точки зрения компании «Мегалайн» в краткосрочной перспективе тариф Ultra лушче, он приносит больше денег.  \n",
    "Но как только у конкурентов появится тариф с лимитами:  \n",
    "1500 минут, 200 сообщений и 50 гигабайт интернета за сумму, меньшую, чем абонентская плата по тарифу Ultra,  \n",
    "пользователи могут покинуть оператора.\n",
    "\n",
    "Конкурентным преимуществом является достаточное количество интернета, так как пользователи обоих тарифов испытывают нехватку установленного тарифами лимита."
   ]
  },
  {
   "cell_type": "code",
   "execution_count": null,
   "metadata": {},
   "outputs": [],
   "source": []
  }
 ],
 "metadata": {
  "ExecuteTimeLog": [
   {
    "duration": 592,
    "start_time": "2022-03-09T09:21:13.709Z"
   },
   {
    "duration": 191,
    "start_time": "2022-03-09T09:21:16.415Z"
   },
   {
    "duration": 147,
    "start_time": "2022-03-09T09:21:32.522Z"
   },
   {
    "duration": 92,
    "start_time": "2022-03-09T09:21:39.521Z"
   },
   {
    "duration": 22,
    "start_time": "2022-03-09T09:21:47.439Z"
   },
   {
    "duration": 51,
    "start_time": "2022-03-09T09:21:56.889Z"
   },
   {
    "duration": 514,
    "start_time": "2022-03-09T09:22:08.173Z"
   },
   {
    "duration": 181,
    "start_time": "2022-03-09T09:22:08.689Z"
   },
   {
    "duration": 152,
    "start_time": "2022-03-09T09:22:08.873Z"
   },
   {
    "duration": 97,
    "start_time": "2022-03-09T09:22:09.027Z"
   },
   {
    "duration": 22,
    "start_time": "2022-03-09T09:22:09.125Z"
   },
   {
    "duration": 41,
    "start_time": "2022-03-09T09:22:09.149Z"
   },
   {
    "duration": 106,
    "start_time": "2022-03-09T09:22:09.193Z"
   },
   {
    "duration": 81,
    "start_time": "2022-03-09T09:22:09.301Z"
   },
   {
    "duration": 42,
    "start_time": "2022-03-09T09:22:09.383Z"
   },
   {
    "duration": 14,
    "start_time": "2022-03-09T09:22:09.427Z"
   },
   {
    "duration": 45,
    "start_time": "2022-03-09T09:22:09.443Z"
   },
   {
    "duration": 6,
    "start_time": "2022-03-09T09:22:09.489Z"
   },
   {
    "duration": 45,
    "start_time": "2022-03-09T09:22:09.497Z"
   },
   {
    "duration": 52,
    "start_time": "2022-03-09T09:22:09.544Z"
   },
   {
    "duration": -2363,
    "start_time": "2022-03-09T09:22:11.961Z"
   },
   {
    "duration": -2365,
    "start_time": "2022-03-09T09:22:11.964Z"
   },
   {
    "duration": -2370,
    "start_time": "2022-03-09T09:22:11.970Z"
   },
   {
    "duration": -2372,
    "start_time": "2022-03-09T09:22:11.973Z"
   },
   {
    "duration": -2374,
    "start_time": "2022-03-09T09:22:11.976Z"
   },
   {
    "duration": -2376,
    "start_time": "2022-03-09T09:22:11.979Z"
   },
   {
    "duration": -2379,
    "start_time": "2022-03-09T09:22:11.983Z"
   },
   {
    "duration": 34,
    "start_time": "2022-03-09T09:22:23.247Z"
   },
   {
    "duration": 3,
    "start_time": "2022-03-09T09:22:33.569Z"
   },
   {
    "duration": 177,
    "start_time": "2022-03-09T09:22:33.574Z"
   },
   {
    "duration": 144,
    "start_time": "2022-03-09T09:22:33.754Z"
   },
   {
    "duration": 114,
    "start_time": "2022-03-09T09:22:33.900Z"
   },
   {
    "duration": 27,
    "start_time": "2022-03-09T09:22:34.016Z"
   },
   {
    "duration": 41,
    "start_time": "2022-03-09T09:22:34.045Z"
   },
   {
    "duration": 101,
    "start_time": "2022-03-09T09:22:34.089Z"
   },
   {
    "duration": 72,
    "start_time": "2022-03-09T09:22:34.193Z"
   },
   {
    "duration": 42,
    "start_time": "2022-03-09T09:22:34.267Z"
   },
   {
    "duration": 28,
    "start_time": "2022-03-09T09:22:34.311Z"
   },
   {
    "duration": 40,
    "start_time": "2022-03-09T09:22:34.341Z"
   },
   {
    "duration": 6,
    "start_time": "2022-03-09T09:22:34.383Z"
   },
   {
    "duration": 18,
    "start_time": "2022-03-09T09:22:34.391Z"
   },
   {
    "duration": 32,
    "start_time": "2022-03-09T09:22:34.438Z"
   },
   {
    "duration": 7,
    "start_time": "2022-03-09T09:22:34.472Z"
   },
   {
    "duration": 16,
    "start_time": "2022-03-09T09:22:34.480Z"
   },
   {
    "duration": 59,
    "start_time": "2022-03-09T09:22:34.498Z"
   },
   {
    "duration": 6,
    "start_time": "2022-03-09T09:22:34.558Z"
   },
   {
    "duration": 20,
    "start_time": "2022-03-09T09:22:34.566Z"
   },
   {
    "duration": 24,
    "start_time": "2022-03-09T09:22:34.588Z"
   },
   {
    "duration": 9,
    "start_time": "2022-03-09T09:22:34.614Z"
   },
   {
    "duration": 3,
    "start_time": "2022-03-09T09:27:59.967Z"
   },
   {
    "duration": 202,
    "start_time": "2022-03-09T09:30:12.644Z"
   },
   {
    "duration": 3,
    "start_time": "2022-03-09T09:34:01.764Z"
   },
   {
    "duration": 370,
    "start_time": "2022-03-09T09:34:01.769Z"
   },
   {
    "duration": 158,
    "start_time": "2022-03-09T09:34:02.141Z"
   },
   {
    "duration": 110,
    "start_time": "2022-03-09T09:34:02.301Z"
   },
   {
    "duration": 31,
    "start_time": "2022-03-09T09:34:02.413Z"
   },
   {
    "duration": 49,
    "start_time": "2022-03-09T09:34:02.446Z"
   },
   {
    "duration": 111,
    "start_time": "2022-03-09T09:34:02.498Z"
   },
   {
    "duration": 76,
    "start_time": "2022-03-09T09:34:02.612Z"
   },
   {
    "duration": 135,
    "start_time": "2022-03-09T09:34:02.690Z"
   },
   {
    "duration": 8,
    "start_time": "2022-03-09T09:34:02.828Z"
   },
   {
    "duration": 102,
    "start_time": "2022-03-09T09:34:02.838Z"
   },
   {
    "duration": 10,
    "start_time": "2022-03-09T09:34:02.942Z"
   },
   {
    "duration": 27,
    "start_time": "2022-03-09T09:34:02.954Z"
   },
   {
    "duration": 136,
    "start_time": "2022-03-09T09:34:04.884Z"
   },
   {
    "duration": 135,
    "start_time": "2022-03-09T09:36:08.757Z"
   },
   {
    "duration": 162,
    "start_time": "2022-03-09T09:38:52.858Z"
   },
   {
    "duration": 898,
    "start_time": "2022-03-09T09:43:29.048Z"
   },
   {
    "duration": -2352,
    "start_time": "2022-03-09T09:45:34.283Z"
   },
   {
    "duration": 976,
    "start_time": "2022-03-09T09:47:06.404Z"
   },
   {
    "duration": 3,
    "start_time": "2022-03-09T09:54:15.253Z"
   },
   {
    "duration": 4,
    "start_time": "2022-03-09T09:54:40.354Z"
   },
   {
    "duration": 13,
    "start_time": "2022-03-09T09:54:56.792Z"
   },
   {
    "duration": 11,
    "start_time": "2022-03-09T09:59:31.295Z"
   },
   {
    "duration": 1546,
    "start_time": "2022-03-09T10:04:43.204Z"
   },
   {
    "duration": 7,
    "start_time": "2022-03-09T10:10:27.246Z"
   },
   {
    "duration": 11,
    "start_time": "2022-03-09T10:17:32.085Z"
   },
   {
    "duration": 3,
    "start_time": "2022-03-09T10:19:02.606Z"
   },
   {
    "duration": 180,
    "start_time": "2022-03-09T10:19:02.611Z"
   },
   {
    "duration": 161,
    "start_time": "2022-03-09T10:19:02.793Z"
   },
   {
    "duration": 104,
    "start_time": "2022-03-09T10:19:02.956Z"
   },
   {
    "duration": 19,
    "start_time": "2022-03-09T10:19:03.062Z"
   },
   {
    "duration": 59,
    "start_time": "2022-03-09T10:19:03.083Z"
   },
   {
    "duration": 94,
    "start_time": "2022-03-09T10:19:03.145Z"
   },
   {
    "duration": 54,
    "start_time": "2022-03-09T10:19:03.242Z"
   },
   {
    "duration": 62,
    "start_time": "2022-03-09T10:19:03.298Z"
   },
   {
    "duration": 8,
    "start_time": "2022-03-09T10:19:03.362Z"
   },
   {
    "duration": 41,
    "start_time": "2022-03-09T10:19:03.372Z"
   },
   {
    "duration": 24,
    "start_time": "2022-03-09T10:19:03.415Z"
   },
   {
    "duration": 18,
    "start_time": "2022-03-09T10:19:03.441Z"
   },
   {
    "duration": 11,
    "start_time": "2022-03-09T10:19:03.461Z"
   },
   {
    "duration": 78,
    "start_time": "2022-03-09T10:19:03.474Z"
   },
   {
    "duration": 8,
    "start_time": "2022-03-09T10:19:03.554Z"
   },
   {
    "duration": 18,
    "start_time": "2022-03-09T10:19:03.565Z"
   },
   {
    "duration": 56,
    "start_time": "2022-03-09T10:19:03.585Z"
   },
   {
    "duration": 7,
    "start_time": "2022-03-09T10:19:03.645Z"
   },
   {
    "duration": 12,
    "start_time": "2022-03-09T10:19:03.655Z"
   },
   {
    "duration": 13,
    "start_time": "2022-03-09T10:19:03.669Z"
   },
   {
    "duration": 5,
    "start_time": "2022-03-09T10:19:32.795Z"
   },
   {
    "duration": 9,
    "start_time": "2022-03-09T10:32:13.618Z"
   },
   {
    "duration": 3185,
    "start_time": "2022-03-09T10:32:46.240Z"
   },
   {
    "duration": 3101,
    "start_time": "2022-03-09T10:32:53.719Z"
   },
   {
    "duration": 34,
    "start_time": "2022-03-09T10:33:17.904Z"
   },
   {
    "duration": 127,
    "start_time": "2022-03-09T10:33:24.305Z"
   },
   {
    "duration": 34,
    "start_time": "2022-03-09T10:33:30.111Z"
   },
   {
    "duration": 29,
    "start_time": "2022-03-09T10:36:20.697Z"
   },
   {
    "duration": 153,
    "start_time": "2022-03-09T10:41:18.413Z"
   },
   {
    "duration": 76,
    "start_time": "2022-03-09T10:41:55.394Z"
   },
   {
    "duration": 63,
    "start_time": "2022-03-09T10:45:09.695Z"
   },
   {
    "duration": 81,
    "start_time": "2022-03-09T10:45:13.795Z"
   },
   {
    "duration": 2,
    "start_time": "2022-03-09T10:47:10.036Z"
   },
   {
    "duration": 29,
    "start_time": "2022-03-09T10:47:32.063Z"
   },
   {
    "duration": 68,
    "start_time": "2022-03-09T10:47:34.212Z"
   },
   {
    "duration": 79,
    "start_time": "2022-03-09T10:49:00.668Z"
   },
   {
    "duration": 138,
    "start_time": "2022-03-09T10:53:45.740Z"
   },
   {
    "duration": 135,
    "start_time": "2022-03-09T10:53:52.020Z"
   },
   {
    "duration": 138,
    "start_time": "2022-03-09T10:54:34.176Z"
   },
   {
    "duration": 4,
    "start_time": "2022-03-09T10:54:45.714Z"
   },
   {
    "duration": 36,
    "start_time": "2022-03-09T10:54:52.193Z"
   },
   {
    "duration": 133,
    "start_time": "2022-03-09T10:55:10.383Z"
   },
   {
    "duration": 76,
    "start_time": "2022-03-09T10:55:25.975Z"
   },
   {
    "duration": 115,
    "start_time": "2022-03-09T10:55:29.312Z"
   },
   {
    "duration": 30,
    "start_time": "2022-03-09T10:55:59.379Z"
   },
   {
    "duration": 23,
    "start_time": "2022-03-09T10:56:45.175Z"
   },
   {
    "duration": 2,
    "start_time": "2022-03-09T10:57:46.855Z"
   },
   {
    "duration": 38,
    "start_time": "2022-03-09T11:03:49.352Z"
   },
   {
    "duration": 51,
    "start_time": "2022-03-09T11:05:17.705Z"
   },
   {
    "duration": 135,
    "start_time": "2022-03-09T11:05:45.139Z"
   },
   {
    "duration": 118,
    "start_time": "2022-03-09T11:05:51.817Z"
   },
   {
    "duration": 600,
    "start_time": "2022-03-09T11:13:43.821Z"
   },
   {
    "duration": 181,
    "start_time": "2022-03-09T11:13:44.423Z"
   },
   {
    "duration": 154,
    "start_time": "2022-03-09T11:13:44.606Z"
   },
   {
    "duration": 107,
    "start_time": "2022-03-09T11:13:44.762Z"
   },
   {
    "duration": 20,
    "start_time": "2022-03-09T11:13:44.871Z"
   },
   {
    "duration": 45,
    "start_time": "2022-03-09T11:13:44.892Z"
   },
   {
    "duration": 133,
    "start_time": "2022-03-09T11:13:44.938Z"
   },
   {
    "duration": 90,
    "start_time": "2022-03-09T11:13:45.074Z"
   },
   {
    "duration": 45,
    "start_time": "2022-03-09T11:13:45.166Z"
   },
   {
    "duration": 26,
    "start_time": "2022-03-09T11:13:45.213Z"
   },
   {
    "duration": 39,
    "start_time": "2022-03-09T11:13:45.241Z"
   },
   {
    "duration": 7,
    "start_time": "2022-03-09T11:13:45.282Z"
   },
   {
    "duration": 23,
    "start_time": "2022-03-09T11:13:45.291Z"
   },
   {
    "duration": 12,
    "start_time": "2022-03-09T11:13:45.338Z"
   },
   {
    "duration": 31,
    "start_time": "2022-03-09T11:13:45.351Z"
   },
   {
    "duration": 6,
    "start_time": "2022-03-09T11:13:45.384Z"
   },
   {
    "duration": 51,
    "start_time": "2022-03-09T11:13:45.392Z"
   },
   {
    "duration": 26,
    "start_time": "2022-03-09T11:13:45.445Z"
   },
   {
    "duration": 6,
    "start_time": "2022-03-09T11:13:45.473Z"
   },
   {
    "duration": 9,
    "start_time": "2022-03-09T11:13:45.480Z"
   },
   {
    "duration": 12,
    "start_time": "2022-03-09T11:13:45.491Z"
   },
   {
    "duration": 80,
    "start_time": "2022-03-09T11:13:47.595Z"
   },
   {
    "duration": 205,
    "start_time": "2022-03-09T11:15:37.509Z"
   },
   {
    "duration": 569,
    "start_time": "2022-03-09T11:15:43.044Z"
   },
   {
    "duration": 185,
    "start_time": "2022-03-09T11:15:43.615Z"
   },
   {
    "duration": 143,
    "start_time": "2022-03-09T11:15:43.802Z"
   },
   {
    "duration": 114,
    "start_time": "2022-03-09T11:15:43.947Z"
   },
   {
    "duration": 19,
    "start_time": "2022-03-09T11:15:44.063Z"
   },
   {
    "duration": 36,
    "start_time": "2022-03-09T11:15:44.084Z"
   },
   {
    "duration": 119,
    "start_time": "2022-03-09T11:15:44.122Z"
   },
   {
    "duration": 58,
    "start_time": "2022-03-09T11:15:44.243Z"
   },
   {
    "duration": 69,
    "start_time": "2022-03-09T11:15:44.303Z"
   },
   {
    "duration": 6,
    "start_time": "2022-03-09T11:15:44.374Z"
   },
   {
    "duration": 39,
    "start_time": "2022-03-09T11:15:44.382Z"
   },
   {
    "duration": 20,
    "start_time": "2022-03-09T11:15:44.423Z"
   },
   {
    "duration": 21,
    "start_time": "2022-03-09T11:15:44.445Z"
   },
   {
    "duration": 11,
    "start_time": "2022-03-09T11:15:44.467Z"
   },
   {
    "duration": 59,
    "start_time": "2022-03-09T11:15:44.479Z"
   },
   {
    "duration": 7,
    "start_time": "2022-03-09T11:15:44.539Z"
   },
   {
    "duration": 13,
    "start_time": "2022-03-09T11:15:44.547Z"
   },
   {
    "duration": 24,
    "start_time": "2022-03-09T11:15:44.561Z"
   },
   {
    "duration": 5,
    "start_time": "2022-03-09T11:15:44.587Z"
   },
   {
    "duration": 49,
    "start_time": "2022-03-09T11:15:44.594Z"
   },
   {
    "duration": 13,
    "start_time": "2022-03-09T11:15:44.645Z"
   },
   {
    "duration": 95,
    "start_time": "2022-03-09T11:15:44.660Z"
   },
   {
    "duration": 176,
    "start_time": "2022-03-09T11:15:46.762Z"
   },
   {
    "duration": 1046,
    "start_time": "2022-03-09T11:17:45.601Z"
   },
   {
    "duration": 216,
    "start_time": "2022-03-09T11:17:53.718Z"
   },
   {
    "duration": 552,
    "start_time": "2022-03-09T11:17:58.259Z"
   },
   {
    "duration": 179,
    "start_time": "2022-03-09T11:17:58.813Z"
   },
   {
    "duration": 148,
    "start_time": "2022-03-09T11:17:58.994Z"
   },
   {
    "duration": 102,
    "start_time": "2022-03-09T11:17:59.143Z"
   },
   {
    "duration": 20,
    "start_time": "2022-03-09T11:17:59.246Z"
   },
   {
    "duration": 36,
    "start_time": "2022-03-09T11:17:59.267Z"
   },
   {
    "duration": 112,
    "start_time": "2022-03-09T11:17:59.305Z"
   },
   {
    "duration": 66,
    "start_time": "2022-03-09T11:17:59.420Z"
   },
   {
    "duration": 63,
    "start_time": "2022-03-09T11:17:59.488Z"
   },
   {
    "duration": 8,
    "start_time": "2022-03-09T11:17:59.553Z"
   },
   {
    "duration": 49,
    "start_time": "2022-03-09T11:17:59.563Z"
   },
   {
    "duration": 24,
    "start_time": "2022-03-09T11:17:59.614Z"
   },
   {
    "duration": 15,
    "start_time": "2022-03-09T11:17:59.640Z"
   },
   {
    "duration": 9,
    "start_time": "2022-03-09T11:17:59.657Z"
   },
   {
    "duration": 30,
    "start_time": "2022-03-09T11:17:59.668Z"
   },
   {
    "duration": 44,
    "start_time": "2022-03-09T11:17:59.699Z"
   },
   {
    "duration": 18,
    "start_time": "2022-03-09T11:17:59.745Z"
   },
   {
    "duration": 27,
    "start_time": "2022-03-09T11:17:59.764Z"
   },
   {
    "duration": 6,
    "start_time": "2022-03-09T11:17:59.793Z"
   },
   {
    "duration": 8,
    "start_time": "2022-03-09T11:17:59.801Z"
   },
   {
    "duration": 6,
    "start_time": "2022-03-09T11:17:59.838Z"
   },
   {
    "duration": 94,
    "start_time": "2022-03-09T11:17:59.846Z"
   },
   {
    "duration": 215,
    "start_time": "2022-03-09T11:18:01.839Z"
   },
   {
    "duration": 835,
    "start_time": "2022-03-09T13:08:42.053Z"
   },
   {
    "duration": 265,
    "start_time": "2022-03-09T13:08:42.891Z"
   },
   {
    "duration": 232,
    "start_time": "2022-03-09T13:08:43.160Z"
   },
   {
    "duration": 142,
    "start_time": "2022-03-09T13:08:43.396Z"
   },
   {
    "duration": 48,
    "start_time": "2022-03-09T13:08:43.540Z"
   },
   {
    "duration": 39,
    "start_time": "2022-03-09T13:08:43.591Z"
   },
   {
    "duration": 166,
    "start_time": "2022-03-09T13:08:43.632Z"
   },
   {
    "duration": 135,
    "start_time": "2022-03-09T13:08:43.803Z"
   },
   {
    "duration": 74,
    "start_time": "2022-03-09T13:08:43.942Z"
   },
   {
    "duration": 10,
    "start_time": "2022-03-09T13:08:44.019Z"
   },
   {
    "duration": 77,
    "start_time": "2022-03-09T13:08:44.053Z"
   },
   {
    "duration": 24,
    "start_time": "2022-03-09T13:08:44.133Z"
   },
   {
    "duration": 37,
    "start_time": "2022-03-09T13:08:44.160Z"
   },
   {
    "duration": 16,
    "start_time": "2022-03-09T13:08:44.199Z"
   },
   {
    "duration": 68,
    "start_time": "2022-03-09T13:08:44.217Z"
   },
   {
    "duration": 9,
    "start_time": "2022-03-09T13:08:44.288Z"
   },
   {
    "duration": 21,
    "start_time": "2022-03-09T13:08:44.299Z"
   },
   {
    "duration": 82,
    "start_time": "2022-03-09T13:08:44.322Z"
   },
   {
    "duration": 11,
    "start_time": "2022-03-09T13:08:44.407Z"
   },
   {
    "duration": 36,
    "start_time": "2022-03-09T13:08:44.421Z"
   },
   {
    "duration": 27,
    "start_time": "2022-03-09T13:08:44.459Z"
   },
   {
    "duration": 15,
    "start_time": "2022-03-09T13:10:52.129Z"
   },
   {
    "duration": 482,
    "start_time": "2022-03-09T13:11:57.605Z"
   },
   {
    "duration": 351,
    "start_time": "2022-03-09T13:12:11.873Z"
   },
   {
    "duration": 329,
    "start_time": "2022-03-09T13:12:17.737Z"
   },
   {
    "duration": 315,
    "start_time": "2022-03-09T13:12:42.180Z"
   },
   {
    "duration": 315,
    "start_time": "2022-03-09T13:12:57.368Z"
   },
   {
    "duration": 465,
    "start_time": "2022-03-09T13:13:05.893Z"
   },
   {
    "duration": 147,
    "start_time": "2022-03-09T13:14:05.139Z"
   },
   {
    "duration": 132,
    "start_time": "2022-03-09T13:14:23.202Z"
   },
   {
    "duration": 301,
    "start_time": "2022-03-09T13:17:31.957Z"
   },
   {
    "duration": 288,
    "start_time": "2022-03-09T13:17:41.272Z"
   },
   {
    "duration": 93,
    "start_time": "2022-03-09T13:17:52.493Z"
   },
   {
    "duration": 107,
    "start_time": "2022-03-09T13:17:59.419Z"
   },
   {
    "duration": 102,
    "start_time": "2022-03-09T13:18:08.921Z"
   },
   {
    "duration": 99,
    "start_time": "2022-03-09T13:18:15.831Z"
   },
   {
    "duration": 131,
    "start_time": "2022-03-09T13:18:22.317Z"
   },
   {
    "duration": 263,
    "start_time": "2022-03-09T13:18:57.214Z"
   },
   {
    "duration": 435,
    "start_time": "2022-03-09T13:19:25.404Z"
   },
   {
    "duration": 272,
    "start_time": "2022-03-09T13:19:37.772Z"
   },
   {
    "duration": 242,
    "start_time": "2022-03-09T13:23:25.676Z"
   },
   {
    "duration": 274,
    "start_time": "2022-03-09T13:23:32.061Z"
   },
   {
    "duration": 13,
    "start_time": "2022-03-09T13:26:32.010Z"
   },
   {
    "duration": 3,
    "start_time": "2022-03-09T13:26:58.502Z"
   },
   {
    "duration": 31,
    "start_time": "2022-03-09T13:28:05.646Z"
   },
   {
    "duration": 40,
    "start_time": "2022-03-09T13:28:15.013Z"
   },
   {
    "duration": 34,
    "start_time": "2022-03-09T13:29:26.593Z"
   },
   {
    "duration": 31,
    "start_time": "2022-03-09T13:31:36.763Z"
   },
   {
    "duration": 327,
    "start_time": "2022-03-09T13:34:09.483Z"
   },
   {
    "duration": 291,
    "start_time": "2022-03-09T13:34:38.607Z"
   },
   {
    "duration": 314,
    "start_time": "2022-03-09T13:35:01.764Z"
   },
   {
    "duration": 173,
    "start_time": "2022-03-09T13:35:28.137Z"
   },
   {
    "duration": 728,
    "start_time": "2022-03-09T13:35:50.421Z"
   },
   {
    "duration": 304,
    "start_time": "2022-03-09T13:36:02.215Z"
   },
   {
    "duration": 339,
    "start_time": "2022-03-09T13:41:05.878Z"
   },
   {
    "duration": 298,
    "start_time": "2022-03-09T13:41:27.557Z"
   },
   {
    "duration": 2085,
    "start_time": "2022-03-09T13:43:57.692Z"
   },
   {
    "duration": 2152,
    "start_time": "2022-03-09T13:44:14.283Z"
   },
   {
    "duration": 386,
    "start_time": "2022-03-09T13:45:52.601Z"
   },
   {
    "duration": 745,
    "start_time": "2022-03-09T13:46:00.703Z"
   },
   {
    "duration": 246,
    "start_time": "2022-03-09T13:46:01.452Z"
   },
   {
    "duration": 273,
    "start_time": "2022-03-09T13:46:01.702Z"
   },
   {
    "duration": 190,
    "start_time": "2022-03-09T13:46:01.978Z"
   },
   {
    "duration": 27,
    "start_time": "2022-03-09T13:46:02.171Z"
   },
   {
    "duration": 48,
    "start_time": "2022-03-09T13:46:02.200Z"
   },
   {
    "duration": 148,
    "start_time": "2022-03-09T13:46:02.251Z"
   },
   {
    "duration": 139,
    "start_time": "2022-03-09T13:46:02.404Z"
   },
   {
    "duration": 59,
    "start_time": "2022-03-09T13:46:02.551Z"
   },
   {
    "duration": 8,
    "start_time": "2022-03-09T13:46:02.613Z"
   },
   {
    "duration": 77,
    "start_time": "2022-03-09T13:46:02.624Z"
   },
   {
    "duration": 11,
    "start_time": "2022-03-09T13:46:02.703Z"
   },
   {
    "duration": 44,
    "start_time": "2022-03-09T13:46:02.716Z"
   },
   {
    "duration": 13,
    "start_time": "2022-03-09T13:46:02.762Z"
   },
   {
    "duration": 40,
    "start_time": "2022-03-09T13:46:02.777Z"
   },
   {
    "duration": 69,
    "start_time": "2022-03-09T13:46:02.820Z"
   },
   {
    "duration": 9,
    "start_time": "2022-03-09T13:46:02.891Z"
   },
   {
    "duration": 24,
    "start_time": "2022-03-09T13:46:02.903Z"
   },
   {
    "duration": 55,
    "start_time": "2022-03-09T13:46:02.929Z"
   },
   {
    "duration": 36,
    "start_time": "2022-03-09T13:46:02.986Z"
   },
   {
    "duration": 29,
    "start_time": "2022-03-09T13:46:03.025Z"
   },
   {
    "duration": 28,
    "start_time": "2022-03-09T13:46:03.056Z"
   },
   {
    "duration": 11,
    "start_time": "2022-03-09T13:46:03.088Z"
   },
   {
    "duration": 10,
    "start_time": "2022-03-09T13:46:03.101Z"
   },
   {
    "duration": 52,
    "start_time": "2022-03-09T13:46:03.113Z"
   },
   {
    "duration": 195,
    "start_time": "2022-03-09T13:46:05.163Z"
   },
   {
    "duration": 394,
    "start_time": "2022-03-09T13:46:10.813Z"
   },
   {
    "duration": 966,
    "start_time": "2022-03-09T13:48:11.863Z"
   },
   {
    "duration": 100,
    "start_time": "2022-03-09T13:50:39.651Z"
   },
   {
    "duration": 133,
    "start_time": "2022-03-09T13:50:44.562Z"
   },
   {
    "duration": 101,
    "start_time": "2022-03-09T13:51:17.157Z"
   },
   {
    "duration": 378,
    "start_time": "2022-03-09T13:52:00.524Z"
   },
   {
    "duration": 327,
    "start_time": "2022-03-09T13:52:27.366Z"
   },
   {
    "duration": 149,
    "start_time": "2022-03-09T13:52:42.248Z"
   },
   {
    "duration": 333,
    "start_time": "2022-03-09T13:52:52.615Z"
   },
   {
    "duration": 136,
    "start_time": "2022-03-09T13:53:15.688Z"
   },
   {
    "duration": 945,
    "start_time": "2022-03-09T13:53:51.527Z"
   },
   {
    "duration": 754,
    "start_time": "2022-03-09T13:54:26.087Z"
   },
   {
    "duration": 237,
    "start_time": "2022-03-09T13:54:26.844Z"
   },
   {
    "duration": 266,
    "start_time": "2022-03-09T13:54:27.085Z"
   },
   {
    "duration": 175,
    "start_time": "2022-03-09T13:54:27.354Z"
   },
   {
    "duration": 37,
    "start_time": "2022-03-09T13:54:27.532Z"
   },
   {
    "duration": 55,
    "start_time": "2022-03-09T13:54:27.571Z"
   },
   {
    "duration": 176,
    "start_time": "2022-03-09T13:54:27.628Z"
   },
   {
    "duration": 131,
    "start_time": "2022-03-09T13:54:27.809Z"
   },
   {
    "duration": 68,
    "start_time": "2022-03-09T13:54:27.944Z"
   },
   {
    "duration": 11,
    "start_time": "2022-03-09T13:54:28.015Z"
   },
   {
    "duration": 58,
    "start_time": "2022-03-09T13:54:28.052Z"
   },
   {
    "duration": 38,
    "start_time": "2022-03-09T13:54:28.113Z"
   },
   {
    "duration": 22,
    "start_time": "2022-03-09T13:54:28.154Z"
   },
   {
    "duration": 15,
    "start_time": "2022-03-09T13:54:28.179Z"
   },
   {
    "duration": 73,
    "start_time": "2022-03-09T13:54:28.197Z"
   },
   {
    "duration": 61,
    "start_time": "2022-03-09T13:54:28.273Z"
   },
   {
    "duration": 11,
    "start_time": "2022-03-09T13:54:28.352Z"
   },
   {
    "duration": 19,
    "start_time": "2022-03-09T13:54:28.366Z"
   },
   {
    "duration": 73,
    "start_time": "2022-03-09T13:54:28.387Z"
   },
   {
    "duration": 38,
    "start_time": "2022-03-09T13:54:28.462Z"
   },
   {
    "duration": 10,
    "start_time": "2022-03-09T13:54:28.503Z"
   },
   {
    "duration": 59,
    "start_time": "2022-03-09T13:54:28.516Z"
   },
   {
    "duration": 11,
    "start_time": "2022-03-09T13:54:28.579Z"
   },
   {
    "duration": 9,
    "start_time": "2022-03-09T13:54:28.593Z"
   },
   {
    "duration": 47,
    "start_time": "2022-03-09T13:54:28.605Z"
   },
   {
    "duration": 417,
    "start_time": "2022-03-09T13:55:00.769Z"
   },
   {
    "duration": 31,
    "start_time": "2022-03-09T13:55:14.199Z"
   },
   {
    "duration": 28,
    "start_time": "2022-03-09T13:55:22.885Z"
   },
   {
    "duration": 22,
    "start_time": "2022-03-09T13:55:31.237Z"
   },
   {
    "duration": 344,
    "start_time": "2022-03-09T13:55:36.300Z"
   },
   {
    "duration": 990,
    "start_time": "2022-03-09T13:55:39.974Z"
   },
   {
    "duration": 301,
    "start_time": "2022-03-09T13:56:04.927Z"
   },
   {
    "duration": 22,
    "start_time": "2022-03-09T13:56:20.004Z"
   },
   {
    "duration": 359,
    "start_time": "2022-03-09T13:56:38.432Z"
   },
   {
    "duration": 21,
    "start_time": "2022-03-09T13:56:48.216Z"
   },
   {
    "duration": 14,
    "start_time": "2022-03-09T13:57:36.633Z"
   },
   {
    "duration": 909,
    "start_time": "2022-03-09T13:58:02.616Z"
   },
   {
    "duration": 577,
    "start_time": "2022-03-09T13:58:37.887Z"
   },
   {
    "duration": 593,
    "start_time": "2022-03-09T13:58:47.644Z"
   },
   {
    "duration": 904,
    "start_time": "2022-03-09T13:59:09.765Z"
   },
   {
    "duration": 269,
    "start_time": "2022-03-09T14:00:11.092Z"
   },
   {
    "duration": 796,
    "start_time": "2022-03-09T14:00:30.334Z"
   },
   {
    "duration": 253,
    "start_time": "2022-03-09T14:00:31.133Z"
   },
   {
    "duration": 207,
    "start_time": "2022-03-09T14:00:31.389Z"
   },
   {
    "duration": 140,
    "start_time": "2022-03-09T14:00:31.599Z"
   },
   {
    "duration": 36,
    "start_time": "2022-03-09T14:00:31.741Z"
   },
   {
    "duration": 54,
    "start_time": "2022-03-09T14:00:31.779Z"
   },
   {
    "duration": 142,
    "start_time": "2022-03-09T14:00:31.835Z"
   },
   {
    "duration": 113,
    "start_time": "2022-03-09T14:00:31.981Z"
   },
   {
    "duration": 77,
    "start_time": "2022-03-09T14:00:32.097Z"
   },
   {
    "duration": 9,
    "start_time": "2022-03-09T14:00:32.177Z"
   },
   {
    "duration": 74,
    "start_time": "2022-03-09T14:00:32.188Z"
   },
   {
    "duration": 10,
    "start_time": "2022-03-09T14:00:32.264Z"
   },
   {
    "duration": 20,
    "start_time": "2022-03-09T14:00:32.277Z"
   },
   {
    "duration": 15,
    "start_time": "2022-03-09T14:00:32.299Z"
   },
   {
    "duration": 40,
    "start_time": "2022-03-09T14:00:32.352Z"
   },
   {
    "duration": 59,
    "start_time": "2022-03-09T14:00:32.394Z"
   },
   {
    "duration": 12,
    "start_time": "2022-03-09T14:00:32.455Z"
   },
   {
    "duration": 19,
    "start_time": "2022-03-09T14:00:32.470Z"
   },
   {
    "duration": 74,
    "start_time": "2022-03-09T14:00:32.492Z"
   },
   {
    "duration": 40,
    "start_time": "2022-03-09T14:00:32.569Z"
   },
   {
    "duration": 11,
    "start_time": "2022-03-09T14:00:32.612Z"
   },
   {
    "duration": 30,
    "start_time": "2022-03-09T14:00:32.652Z"
   },
   {
    "duration": 14,
    "start_time": "2022-03-09T14:00:32.687Z"
   },
   {
    "duration": 16,
    "start_time": "2022-03-09T14:00:32.703Z"
   },
   {
    "duration": 14,
    "start_time": "2022-03-09T14:00:32.751Z"
   },
   {
    "duration": 112,
    "start_time": "2022-03-09T14:06:37.680Z"
   },
   {
    "duration": 132,
    "start_time": "2022-03-09T14:06:43.465Z"
   },
   {
    "duration": 787,
    "start_time": "2022-03-09T14:07:34.029Z"
   },
   {
    "duration": 235,
    "start_time": "2022-03-09T14:07:34.818Z"
   },
   {
    "duration": 219,
    "start_time": "2022-03-09T14:07:35.056Z"
   },
   {
    "duration": 145,
    "start_time": "2022-03-09T14:07:35.278Z"
   },
   {
    "duration": 34,
    "start_time": "2022-03-09T14:07:35.426Z"
   },
   {
    "duration": 41,
    "start_time": "2022-03-09T14:07:35.463Z"
   },
   {
    "duration": 188,
    "start_time": "2022-03-09T14:07:35.507Z"
   },
   {
    "duration": 134,
    "start_time": "2022-03-09T14:07:35.700Z"
   },
   {
    "duration": 82,
    "start_time": "2022-03-09T14:07:35.838Z"
   },
   {
    "duration": 32,
    "start_time": "2022-03-09T14:07:35.923Z"
   },
   {
    "duration": 74,
    "start_time": "2022-03-09T14:07:35.958Z"
   },
   {
    "duration": 25,
    "start_time": "2022-03-09T14:07:36.035Z"
   },
   {
    "duration": 21,
    "start_time": "2022-03-09T14:07:36.063Z"
   },
   {
    "duration": 15,
    "start_time": "2022-03-09T14:07:36.087Z"
   },
   {
    "duration": 84,
    "start_time": "2022-03-09T14:07:36.105Z"
   },
   {
    "duration": 42,
    "start_time": "2022-03-09T14:07:36.191Z"
   },
   {
    "duration": 10,
    "start_time": "2022-03-09T14:07:36.252Z"
   },
   {
    "duration": 18,
    "start_time": "2022-03-09T14:07:36.264Z"
   },
   {
    "duration": 71,
    "start_time": "2022-03-09T14:07:36.284Z"
   },
   {
    "duration": 36,
    "start_time": "2022-03-09T14:07:36.358Z"
   },
   {
    "duration": 9,
    "start_time": "2022-03-09T14:07:36.397Z"
   },
   {
    "duration": 62,
    "start_time": "2022-03-09T14:07:36.408Z"
   },
   {
    "duration": 13,
    "start_time": "2022-03-09T14:07:36.474Z"
   },
   {
    "duration": 20,
    "start_time": "2022-03-09T14:07:36.490Z"
   },
   {
    "duration": 45,
    "start_time": "2022-03-09T14:07:36.512Z"
   },
   {
    "duration": 490,
    "start_time": "2022-03-09T14:08:39.828Z"
   },
   {
    "duration": 465,
    "start_time": "2022-03-09T14:09:00.674Z"
   },
   {
    "duration": 179,
    "start_time": "2022-03-09T14:12:24.598Z"
   },
   {
    "duration": 108,
    "start_time": "2022-03-09T14:13:08.119Z"
   },
   {
    "duration": 196,
    "start_time": "2022-03-09T14:13:17.307Z"
   },
   {
    "duration": 189,
    "start_time": "2022-03-09T14:14:23.878Z"
   },
   {
    "duration": 910,
    "start_time": "2022-03-09T14:14:44.367Z"
   },
   {
    "duration": 238,
    "start_time": "2022-03-09T14:14:45.280Z"
   },
   {
    "duration": 203,
    "start_time": "2022-03-09T14:14:45.521Z"
   },
   {
    "duration": 136,
    "start_time": "2022-03-09T14:14:45.727Z"
   },
   {
    "duration": 25,
    "start_time": "2022-03-09T14:14:45.866Z"
   },
   {
    "duration": 44,
    "start_time": "2022-03-09T14:14:45.893Z"
   },
   {
    "duration": 138,
    "start_time": "2022-03-09T14:14:45.951Z"
   },
   {
    "duration": 113,
    "start_time": "2022-03-09T14:14:46.095Z"
   },
   {
    "duration": 69,
    "start_time": "2022-03-09T14:14:46.212Z"
   },
   {
    "duration": 10,
    "start_time": "2022-03-09T14:14:46.283Z"
   },
   {
    "duration": 77,
    "start_time": "2022-03-09T14:14:46.296Z"
   },
   {
    "duration": 10,
    "start_time": "2022-03-09T14:14:46.376Z"
   },
   {
    "duration": 19,
    "start_time": "2022-03-09T14:14:46.389Z"
   },
   {
    "duration": 50,
    "start_time": "2022-03-09T14:14:46.411Z"
   },
   {
    "duration": 41,
    "start_time": "2022-03-09T14:14:46.464Z"
   },
   {
    "duration": 10,
    "start_time": "2022-03-09T14:14:46.508Z"
   },
   {
    "duration": 17,
    "start_time": "2022-03-09T14:14:46.551Z"
   },
   {
    "duration": 37,
    "start_time": "2022-03-09T14:14:46.572Z"
   },
   {
    "duration": 40,
    "start_time": "2022-03-09T14:14:46.612Z"
   },
   {
    "duration": 11,
    "start_time": "2022-03-09T14:14:46.655Z"
   },
   {
    "duration": 35,
    "start_time": "2022-03-09T14:14:46.668Z"
   },
   {
    "duration": 33,
    "start_time": "2022-03-09T14:14:46.705Z"
   },
   {
    "duration": 203,
    "start_time": "2022-03-09T14:14:50.156Z"
   },
   {
    "duration": 272,
    "start_time": "2022-03-09T14:15:41.471Z"
   },
   {
    "duration": 252,
    "start_time": "2022-03-09T14:15:45.595Z"
   },
   {
    "duration": 103,
    "start_time": "2022-03-09T14:25:55.838Z"
   },
   {
    "duration": 23,
    "start_time": "2022-03-09T14:26:10.512Z"
   },
   {
    "duration": 28,
    "start_time": "2022-03-09T14:26:20.038Z"
   },
   {
    "duration": 56,
    "start_time": "2022-03-09T14:26:40.587Z"
   },
   {
    "duration": 33,
    "start_time": "2022-03-09T14:27:26.950Z"
   },
   {
    "duration": 47,
    "start_time": "2022-03-09T14:27:32.499Z"
   },
   {
    "duration": 35,
    "start_time": "2022-03-09T14:27:39.601Z"
   },
   {
    "duration": 34,
    "start_time": "2022-03-09T14:27:48.681Z"
   },
   {
    "duration": 469,
    "start_time": "2022-03-09T14:28:18.704Z"
   },
   {
    "duration": 26,
    "start_time": "2022-03-09T14:28:25.313Z"
   },
   {
    "duration": 51,
    "start_time": "2022-03-09T14:29:38.832Z"
   },
   {
    "duration": 103,
    "start_time": "2022-03-09T14:32:35.794Z"
   },
   {
    "duration": 305,
    "start_time": "2022-03-09T14:33:02.899Z"
   },
   {
    "duration": 268,
    "start_time": "2022-03-09T14:33:15.825Z"
   },
   {
    "duration": 716,
    "start_time": "2022-03-09T14:33:41.539Z"
   },
   {
    "duration": 449,
    "start_time": "2022-03-09T14:34:20.586Z"
   },
   {
    "duration": 500,
    "start_time": "2022-03-09T14:34:28.260Z"
   },
   {
    "duration": 246,
    "start_time": "2022-03-09T14:35:09.274Z"
   },
   {
    "duration": 577,
    "start_time": "2022-03-09T14:36:52.146Z"
   },
   {
    "duration": 993,
    "start_time": "2022-03-09T14:39:02.221Z"
   },
   {
    "duration": 336,
    "start_time": "2022-03-09T14:39:03.217Z"
   },
   {
    "duration": 221,
    "start_time": "2022-03-09T14:39:03.557Z"
   },
   {
    "duration": 146,
    "start_time": "2022-03-09T14:39:03.781Z"
   },
   {
    "duration": 31,
    "start_time": "2022-03-09T14:39:03.930Z"
   },
   {
    "duration": 44,
    "start_time": "2022-03-09T14:39:03.963Z"
   },
   {
    "duration": 147,
    "start_time": "2022-03-09T14:39:04.010Z"
   },
   {
    "duration": 112,
    "start_time": "2022-03-09T14:39:04.160Z"
   },
   {
    "duration": 61,
    "start_time": "2022-03-09T14:39:04.276Z"
   },
   {
    "duration": 12,
    "start_time": "2022-03-09T14:39:04.353Z"
   },
   {
    "duration": 55,
    "start_time": "2022-03-09T14:39:04.367Z"
   },
   {
    "duration": 12,
    "start_time": "2022-03-09T14:39:04.452Z"
   },
   {
    "duration": 21,
    "start_time": "2022-03-09T14:39:04.467Z"
   },
   {
    "duration": 15,
    "start_time": "2022-03-09T14:39:04.491Z"
   },
   {
    "duration": 82,
    "start_time": "2022-03-09T14:39:04.509Z"
   },
   {
    "duration": 11,
    "start_time": "2022-03-09T14:39:04.595Z"
   },
   {
    "duration": 55,
    "start_time": "2022-03-09T14:39:04.609Z"
   },
   {
    "duration": 35,
    "start_time": "2022-03-09T14:39:04.666Z"
   },
   {
    "duration": 8,
    "start_time": "2022-03-09T14:39:04.704Z"
   },
   {
    "duration": 40,
    "start_time": "2022-03-09T14:39:04.715Z"
   },
   {
    "duration": 10,
    "start_time": "2022-03-09T14:39:04.758Z"
   },
   {
    "duration": 14,
    "start_time": "2022-03-09T14:39:04.771Z"
   },
   {
    "duration": 568,
    "start_time": "2022-03-09T14:39:24.069Z"
   },
   {
    "duration": 91,
    "start_time": "2022-03-09T14:39:54.698Z"
   },
   {
    "duration": 612,
    "start_time": "2022-03-09T14:43:53.086Z"
   },
   {
    "duration": 40,
    "start_time": "2022-03-09T14:47:31.739Z"
   },
   {
    "duration": 104,
    "start_time": "2022-03-09T14:47:35.073Z"
   },
   {
    "duration": 5,
    "start_time": "2022-03-09T14:48:12.117Z"
   },
   {
    "duration": 66,
    "start_time": "2022-03-09T14:48:24.282Z"
   },
   {
    "duration": 39,
    "start_time": "2022-03-09T14:48:28.747Z"
   },
   {
    "duration": 58,
    "start_time": "2022-03-09T14:48:38.236Z"
   },
   {
    "duration": 404,
    "start_time": "2022-03-09T14:49:23.706Z"
   },
   {
    "duration": 315,
    "start_time": "2022-03-09T14:49:32.081Z"
   },
   {
    "duration": 47,
    "start_time": "2022-03-09T14:50:20.597Z"
   },
   {
    "duration": 677,
    "start_time": "2022-03-09T14:50:26.324Z"
   },
   {
    "duration": 127,
    "start_time": "2022-03-09T14:50:36.308Z"
   },
   {
    "duration": 762,
    "start_time": "2022-03-09T14:51:12.019Z"
   },
   {
    "duration": 230,
    "start_time": "2022-03-09T14:51:12.783Z"
   },
   {
    "duration": 189,
    "start_time": "2022-03-09T14:51:13.016Z"
   },
   {
    "duration": 128,
    "start_time": "2022-03-09T14:51:13.207Z"
   },
   {
    "duration": 29,
    "start_time": "2022-03-09T14:51:13.337Z"
   },
   {
    "duration": 33,
    "start_time": "2022-03-09T14:51:13.368Z"
   },
   {
    "duration": 151,
    "start_time": "2022-03-09T14:51:13.404Z"
   },
   {
    "duration": 98,
    "start_time": "2022-03-09T14:51:13.560Z"
   },
   {
    "duration": 57,
    "start_time": "2022-03-09T14:51:13.661Z"
   },
   {
    "duration": 33,
    "start_time": "2022-03-09T14:51:13.720Z"
   },
   {
    "duration": 50,
    "start_time": "2022-03-09T14:51:13.755Z"
   },
   {
    "duration": 10,
    "start_time": "2022-03-09T14:51:13.808Z"
   },
   {
    "duration": 43,
    "start_time": "2022-03-09T14:51:13.820Z"
   },
   {
    "duration": 13,
    "start_time": "2022-03-09T14:51:13.865Z"
   },
   {
    "duration": 42,
    "start_time": "2022-03-09T14:51:13.880Z"
   },
   {
    "duration": 11,
    "start_time": "2022-03-09T14:51:13.951Z"
   },
   {
    "duration": 17,
    "start_time": "2022-03-09T14:51:13.965Z"
   },
   {
    "duration": 33,
    "start_time": "2022-03-09T14:51:13.984Z"
   },
   {
    "duration": 8,
    "start_time": "2022-03-09T14:51:14.052Z"
   },
   {
    "duration": 13,
    "start_time": "2022-03-09T14:51:14.062Z"
   },
   {
    "duration": 7,
    "start_time": "2022-03-09T14:51:14.078Z"
   },
   {
    "duration": 72,
    "start_time": "2022-03-09T14:51:14.087Z"
   },
   {
    "duration": 134,
    "start_time": "2022-03-09T14:51:14.163Z"
   },
   {
    "duration": 112,
    "start_time": "2022-03-09T14:51:14.301Z"
   },
   {
    "duration": 40,
    "start_time": "2022-03-09T14:51:14.416Z"
   },
   {
    "duration": 55,
    "start_time": "2022-03-09T14:51:14.459Z"
   },
   {
    "duration": 80,
    "start_time": "2022-03-09T14:51:18.763Z"
   },
   {
    "duration": 711,
    "start_time": "2022-03-09T14:51:26.682Z"
   },
   {
    "duration": 30,
    "start_time": "2022-03-09T14:51:42.684Z"
   },
   {
    "duration": 24,
    "start_time": "2022-03-09T14:52:29.197Z"
   },
   {
    "duration": 29,
    "start_time": "2022-03-09T14:53:08.814Z"
   },
   {
    "duration": 37,
    "start_time": "2022-03-09T14:54:42.450Z"
   },
   {
    "duration": 42,
    "start_time": "2022-03-09T14:55:03.371Z"
   },
   {
    "duration": 392,
    "start_time": "2022-03-09T14:57:34.828Z"
   },
   {
    "duration": 42,
    "start_time": "2022-03-09T14:59:22.438Z"
   },
   {
    "duration": 422,
    "start_time": "2022-03-09T14:59:58.865Z"
   },
   {
    "duration": 3,
    "start_time": "2022-03-09T15:01:44.414Z"
   },
   {
    "duration": 110,
    "start_time": "2022-03-09T15:05:01.146Z"
   },
   {
    "duration": 411,
    "start_time": "2022-03-09T15:05:18.227Z"
   },
   {
    "duration": 304,
    "start_time": "2022-03-09T15:05:47.627Z"
   },
   {
    "duration": 343,
    "start_time": "2022-03-09T15:06:06.179Z"
   },
   {
    "duration": 41,
    "start_time": "2022-03-09T15:06:12.279Z"
   },
   {
    "duration": 453,
    "start_time": "2022-03-09T15:06:59.875Z"
   },
   {
    "duration": 359,
    "start_time": "2022-03-09T15:07:08.841Z"
   },
   {
    "duration": 314,
    "start_time": "2022-03-09T15:07:26.386Z"
   },
   {
    "duration": 334,
    "start_time": "2022-03-09T15:07:34.216Z"
   },
   {
    "duration": 44,
    "start_time": "2022-03-09T15:07:44.295Z"
   },
   {
    "duration": 25,
    "start_time": "2022-03-09T15:08:08.691Z"
   },
   {
    "duration": 47,
    "start_time": "2022-03-09T15:08:41.051Z"
   },
   {
    "duration": 27,
    "start_time": "2022-03-09T15:09:27.532Z"
   },
   {
    "duration": 42,
    "start_time": "2022-03-09T15:09:34.346Z"
   },
   {
    "duration": 43,
    "start_time": "2022-03-09T15:10:02.351Z"
   },
   {
    "duration": 16,
    "start_time": "2022-03-09T15:10:54.711Z"
   },
   {
    "duration": 24,
    "start_time": "2022-03-09T15:11:00.100Z"
   },
   {
    "duration": 24,
    "start_time": "2022-03-09T15:11:13.539Z"
   },
   {
    "duration": 19,
    "start_time": "2022-03-09T15:11:21.932Z"
   },
   {
    "duration": 22,
    "start_time": "2022-03-09T15:11:26.490Z"
   },
   {
    "duration": 24,
    "start_time": "2022-03-09T15:11:43.828Z"
   },
   {
    "duration": 22,
    "start_time": "2022-03-09T15:12:21.344Z"
   },
   {
    "duration": 25,
    "start_time": "2022-03-09T15:12:27.853Z"
   },
   {
    "duration": 22,
    "start_time": "2022-03-09T15:14:12.095Z"
   },
   {
    "duration": 13,
    "start_time": "2022-03-09T15:16:39.539Z"
   },
   {
    "duration": 23,
    "start_time": "2022-03-09T15:17:05.098Z"
   },
   {
    "duration": 39,
    "start_time": "2022-03-09T15:17:10.178Z"
   },
   {
    "duration": 33,
    "start_time": "2022-03-09T15:17:17.192Z"
   },
   {
    "duration": 22,
    "start_time": "2022-03-09T15:18:06.892Z"
   },
   {
    "duration": 23,
    "start_time": "2022-03-09T15:18:28.183Z"
   },
   {
    "duration": 28,
    "start_time": "2022-03-09T15:20:37.693Z"
   },
   {
    "duration": 22,
    "start_time": "2022-03-09T15:20:49.277Z"
   },
   {
    "duration": 25,
    "start_time": "2022-03-09T15:21:08.995Z"
   },
   {
    "duration": 20,
    "start_time": "2022-03-09T15:21:22.531Z"
   },
   {
    "duration": 383,
    "start_time": "2022-03-09T15:24:31.411Z"
   },
   {
    "duration": 46,
    "start_time": "2022-03-09T15:24:41.615Z"
   },
   {
    "duration": 44,
    "start_time": "2022-03-09T15:25:37.653Z"
   },
   {
    "duration": 35,
    "start_time": "2022-03-09T15:26:41.853Z"
   },
   {
    "duration": 44,
    "start_time": "2022-03-09T15:26:47.585Z"
   },
   {
    "duration": 529,
    "start_time": "2022-03-11T07:39:51.032Z"
   },
   {
    "duration": 171,
    "start_time": "2022-03-11T07:39:51.562Z"
   },
   {
    "duration": 131,
    "start_time": "2022-03-11T07:39:51.735Z"
   },
   {
    "duration": 93,
    "start_time": "2022-03-11T07:39:51.867Z"
   },
   {
    "duration": 22,
    "start_time": "2022-03-11T07:39:51.962Z"
   },
   {
    "duration": 48,
    "start_time": "2022-03-11T07:39:51.986Z"
   },
   {
    "duration": 90,
    "start_time": "2022-03-11T07:39:52.035Z"
   },
   {
    "duration": 49,
    "start_time": "2022-03-11T07:39:52.127Z"
   },
   {
    "duration": 50,
    "start_time": "2022-03-11T07:39:52.178Z"
   },
   {
    "duration": 5,
    "start_time": "2022-03-11T07:39:52.230Z"
   },
   {
    "duration": 42,
    "start_time": "2022-03-11T07:39:52.236Z"
   },
   {
    "duration": 6,
    "start_time": "2022-03-11T07:39:52.279Z"
   },
   {
    "duration": 14,
    "start_time": "2022-03-11T07:39:52.301Z"
   },
   {
    "duration": 7,
    "start_time": "2022-03-11T07:39:52.317Z"
   },
   {
    "duration": 26,
    "start_time": "2022-03-11T07:39:52.326Z"
   },
   {
    "duration": 5,
    "start_time": "2022-03-11T07:39:52.354Z"
   },
   {
    "duration": 43,
    "start_time": "2022-03-11T07:39:52.360Z"
   },
   {
    "duration": 25,
    "start_time": "2022-03-11T07:39:52.404Z"
   },
   {
    "duration": 7,
    "start_time": "2022-03-11T07:39:52.431Z"
   },
   {
    "duration": 9,
    "start_time": "2022-03-11T07:39:52.439Z"
   },
   {
    "duration": 8,
    "start_time": "2022-03-11T07:39:52.450Z"
   },
   {
    "duration": 55,
    "start_time": "2022-03-11T07:39:52.459Z"
   },
   {
    "duration": 35,
    "start_time": "2022-03-11T07:39:52.516Z"
   },
   {
    "duration": 28,
    "start_time": "2022-03-11T07:39:52.552Z"
   },
   {
    "duration": 34,
    "start_time": "2022-03-11T07:39:52.582Z"
   },
   {
    "duration": 7,
    "start_time": "2022-03-11T07:39:52.618Z"
   },
   {
    "duration": 23,
    "start_time": "2022-03-11T07:39:52.627Z"
   },
   {
    "duration": 16,
    "start_time": "2022-03-11T07:39:52.652Z"
   },
   {
    "duration": 50,
    "start_time": "2022-03-11T07:39:52.670Z"
   },
   {
    "duration": 35,
    "start_time": "2022-03-11T07:45:09.009Z"
   },
   {
    "duration": 7,
    "start_time": "2022-03-11T07:45:13.185Z"
   },
   {
    "duration": 24,
    "start_time": "2022-03-11T07:47:22.576Z"
   },
   {
    "duration": 28,
    "start_time": "2022-03-11T07:48:16.389Z"
   },
   {
    "duration": 84,
    "start_time": "2022-03-11T07:50:41.533Z"
   },
   {
    "duration": 63,
    "start_time": "2022-03-11T07:50:49.814Z"
   },
   {
    "duration": 26,
    "start_time": "2022-03-11T07:51:04.849Z"
   },
   {
    "duration": 3,
    "start_time": "2022-03-11T07:51:56.469Z"
   },
   {
    "duration": 211,
    "start_time": "2022-03-11T07:51:56.474Z"
   },
   {
    "duration": 132,
    "start_time": "2022-03-11T07:51:56.687Z"
   },
   {
    "duration": 91,
    "start_time": "2022-03-11T07:51:56.820Z"
   },
   {
    "duration": 24,
    "start_time": "2022-03-11T07:51:56.912Z"
   },
   {
    "duration": 91,
    "start_time": "2022-03-11T07:51:56.938Z"
   },
   {
    "duration": 63,
    "start_time": "2022-03-11T07:51:57.030Z"
   },
   {
    "duration": 43,
    "start_time": "2022-03-11T07:51:57.096Z"
   },
   {
    "duration": 33,
    "start_time": "2022-03-11T07:51:57.142Z"
   },
   {
    "duration": 26,
    "start_time": "2022-03-11T07:51:57.176Z"
   },
   {
    "duration": 35,
    "start_time": "2022-03-11T07:51:57.203Z"
   },
   {
    "duration": 7,
    "start_time": "2022-03-11T07:51:57.240Z"
   },
   {
    "duration": 14,
    "start_time": "2022-03-11T07:51:57.248Z"
   },
   {
    "duration": 39,
    "start_time": "2022-03-11T07:51:57.263Z"
   },
   {
    "duration": 27,
    "start_time": "2022-03-11T07:51:57.304Z"
   },
   {
    "duration": 6,
    "start_time": "2022-03-11T07:51:57.333Z"
   },
   {
    "duration": 12,
    "start_time": "2022-03-11T07:51:57.341Z"
   },
   {
    "duration": 51,
    "start_time": "2022-03-11T07:51:57.355Z"
   },
   {
    "duration": 6,
    "start_time": "2022-03-11T07:51:57.408Z"
   },
   {
    "duration": 8,
    "start_time": "2022-03-11T07:51:57.416Z"
   },
   {
    "duration": 8,
    "start_time": "2022-03-11T07:51:57.425Z"
   },
   {
    "duration": 27,
    "start_time": "2022-03-11T07:51:57.434Z"
   },
   {
    "duration": 60,
    "start_time": "2022-03-11T07:51:57.464Z"
   },
   {
    "duration": 28,
    "start_time": "2022-03-11T07:51:57.526Z"
   },
   {
    "duration": 17,
    "start_time": "2022-03-11T07:51:57.555Z"
   },
   {
    "duration": 28,
    "start_time": "2022-03-11T07:51:57.574Z"
   },
   {
    "duration": 21,
    "start_time": "2022-03-11T07:51:57.603Z"
   },
   {
    "duration": 17,
    "start_time": "2022-03-11T07:51:57.626Z"
   },
   {
    "duration": 26,
    "start_time": "2022-03-11T07:53:20.256Z"
   },
   {
    "duration": 308,
    "start_time": "2022-03-11T07:53:47.216Z"
   },
   {
    "duration": 83,
    "start_time": "2022-03-11T07:54:17.249Z"
   },
   {
    "duration": 78,
    "start_time": "2022-03-11T07:54:54.391Z"
   },
   {
    "duration": 44,
    "start_time": "2022-03-11T07:54:59.339Z"
   },
   {
    "duration": 28,
    "start_time": "2022-03-11T07:56:08.431Z"
   },
   {
    "duration": 34,
    "start_time": "2022-03-11T07:56:29.659Z"
   },
   {
    "duration": 2,
    "start_time": "2022-03-11T07:56:48.833Z"
   },
   {
    "duration": 177,
    "start_time": "2022-03-11T07:56:48.840Z"
   },
   {
    "duration": 130,
    "start_time": "2022-03-11T07:56:49.019Z"
   },
   {
    "duration": 90,
    "start_time": "2022-03-11T07:56:49.151Z"
   },
   {
    "duration": 24,
    "start_time": "2022-03-11T07:56:49.243Z"
   },
   {
    "duration": 74,
    "start_time": "2022-03-11T07:56:49.268Z"
   },
   {
    "duration": 74,
    "start_time": "2022-03-11T07:56:49.344Z"
   },
   {
    "duration": 51,
    "start_time": "2022-03-11T07:56:49.420Z"
   },
   {
    "duration": 48,
    "start_time": "2022-03-11T07:56:49.473Z"
   },
   {
    "duration": 6,
    "start_time": "2022-03-11T07:56:49.523Z"
   },
   {
    "duration": 54,
    "start_time": "2022-03-11T07:56:49.530Z"
   },
   {
    "duration": 7,
    "start_time": "2022-03-11T07:56:49.585Z"
   },
   {
    "duration": 27,
    "start_time": "2022-03-11T07:56:49.593Z"
   },
   {
    "duration": 24,
    "start_time": "2022-03-11T07:56:49.621Z"
   },
   {
    "duration": 58,
    "start_time": "2022-03-11T07:56:49.646Z"
   },
   {
    "duration": 6,
    "start_time": "2022-03-11T07:56:49.705Z"
   },
   {
    "duration": 27,
    "start_time": "2022-03-11T07:56:49.712Z"
   },
   {
    "duration": 39,
    "start_time": "2022-03-11T07:56:49.741Z"
   },
   {
    "duration": 5,
    "start_time": "2022-03-11T07:56:49.782Z"
   },
   {
    "duration": 30,
    "start_time": "2022-03-11T07:56:49.788Z"
   },
   {
    "duration": 46,
    "start_time": "2022-03-11T07:56:49.820Z"
   },
   {
    "duration": 85,
    "start_time": "2022-03-11T07:56:49.868Z"
   },
   {
    "duration": 71,
    "start_time": "2022-03-11T07:56:49.955Z"
   },
   {
    "duration": 34,
    "start_time": "2022-03-11T07:56:50.029Z"
   },
   {
    "duration": 18,
    "start_time": "2022-03-11T07:56:50.065Z"
   },
   {
    "duration": 24,
    "start_time": "2022-03-11T07:56:50.085Z"
   },
   {
    "duration": 52,
    "start_time": "2022-03-11T07:56:50.110Z"
   },
   {
    "duration": 20,
    "start_time": "2022-03-11T07:56:50.164Z"
   },
   {
    "duration": 26,
    "start_time": "2022-03-11T07:56:52.256Z"
   },
   {
    "duration": 45,
    "start_time": "2022-03-11T07:57:14.251Z"
   },
   {
    "duration": 28,
    "start_time": "2022-03-11T07:57:28.151Z"
   },
   {
    "duration": 18,
    "start_time": "2022-03-11T07:59:44.057Z"
   },
   {
    "duration": 49,
    "start_time": "2022-03-11T07:59:47.636Z"
   },
   {
    "duration": 27,
    "start_time": "2022-03-11T08:00:17.397Z"
   },
   {
    "duration": 275,
    "start_time": "2022-03-11T08:01:25.581Z"
   },
   {
    "duration": 13,
    "start_time": "2022-03-11T08:01:53.575Z"
   },
   {
    "duration": 13,
    "start_time": "2022-03-11T08:02:10.652Z"
   },
   {
    "duration": 590,
    "start_time": "2022-03-11T08:02:24.185Z"
   },
   {
    "duration": 184,
    "start_time": "2022-03-11T08:02:24.777Z"
   },
   {
    "duration": 139,
    "start_time": "2022-03-11T08:02:24.963Z"
   },
   {
    "duration": 95,
    "start_time": "2022-03-11T08:02:25.104Z"
   },
   {
    "duration": 25,
    "start_time": "2022-03-11T08:02:25.200Z"
   },
   {
    "duration": 59,
    "start_time": "2022-03-11T08:02:25.227Z"
   },
   {
    "duration": 88,
    "start_time": "2022-03-11T08:02:25.287Z"
   },
   {
    "duration": 57,
    "start_time": "2022-03-11T08:02:25.377Z"
   },
   {
    "duration": 39,
    "start_time": "2022-03-11T08:02:25.436Z"
   },
   {
    "duration": 6,
    "start_time": "2022-03-11T08:02:25.476Z"
   },
   {
    "duration": 52,
    "start_time": "2022-03-11T08:02:25.483Z"
   },
   {
    "duration": 6,
    "start_time": "2022-03-11T08:02:25.537Z"
   },
   {
    "duration": 14,
    "start_time": "2022-03-11T08:02:25.545Z"
   },
   {
    "duration": 9,
    "start_time": "2022-03-11T08:02:25.561Z"
   },
   {
    "duration": 51,
    "start_time": "2022-03-11T08:02:25.571Z"
   },
   {
    "duration": 5,
    "start_time": "2022-03-11T08:02:25.624Z"
   },
   {
    "duration": 13,
    "start_time": "2022-03-11T08:02:25.631Z"
   },
   {
    "duration": 23,
    "start_time": "2022-03-11T08:02:25.645Z"
   },
   {
    "duration": 33,
    "start_time": "2022-03-11T08:02:25.670Z"
   },
   {
    "duration": 7,
    "start_time": "2022-03-11T08:02:25.705Z"
   },
   {
    "duration": 6,
    "start_time": "2022-03-11T08:02:25.714Z"
   },
   {
    "duration": 110,
    "start_time": "2022-03-11T08:02:25.722Z"
   },
   {
    "duration": 79,
    "start_time": "2022-03-11T08:02:25.835Z"
   },
   {
    "duration": 34,
    "start_time": "2022-03-11T08:02:25.916Z"
   },
   {
    "duration": 17,
    "start_time": "2022-03-11T08:02:25.951Z"
   },
   {
    "duration": 8,
    "start_time": "2022-03-11T08:02:25.970Z"
   },
   {
    "duration": 42,
    "start_time": "2022-03-11T08:02:25.980Z"
   },
   {
    "duration": 17,
    "start_time": "2022-03-11T08:02:26.024Z"
   },
   {
    "duration": 29,
    "start_time": "2022-03-11T08:02:26.043Z"
   },
   {
    "duration": 13,
    "start_time": "2022-03-11T08:02:29.219Z"
   },
   {
    "duration": 325,
    "start_time": "2022-03-11T08:02:46.107Z"
   },
   {
    "duration": 290,
    "start_time": "2022-03-11T08:03:01.955Z"
   },
   {
    "duration": 7,
    "start_time": "2022-03-11T08:03:34.076Z"
   },
   {
    "duration": 22,
    "start_time": "2022-03-11T08:04:04.033Z"
   },
   {
    "duration": 32,
    "start_time": "2022-03-11T08:04:30.699Z"
   },
   {
    "duration": 267,
    "start_time": "2022-03-11T08:05:09.145Z"
   },
   {
    "duration": 290,
    "start_time": "2022-03-11T08:06:30.074Z"
   },
   {
    "duration": 30,
    "start_time": "2022-03-11T08:06:54.412Z"
   },
   {
    "duration": 270,
    "start_time": "2022-03-11T08:07:15.109Z"
   },
   {
    "duration": 31,
    "start_time": "2022-03-11T08:07:19.547Z"
   },
   {
    "duration": 39,
    "start_time": "2022-03-11T08:08:01.277Z"
   },
   {
    "duration": 570,
    "start_time": "2022-03-11T08:08:13.963Z"
   },
   {
    "duration": 168,
    "start_time": "2022-03-11T08:08:14.535Z"
   },
   {
    "duration": 133,
    "start_time": "2022-03-11T08:08:14.704Z"
   },
   {
    "duration": 92,
    "start_time": "2022-03-11T08:08:14.839Z"
   },
   {
    "duration": 22,
    "start_time": "2022-03-11T08:08:14.933Z"
   },
   {
    "duration": 80,
    "start_time": "2022-03-11T08:08:14.956Z"
   },
   {
    "duration": 89,
    "start_time": "2022-03-11T08:08:15.037Z"
   },
   {
    "duration": 50,
    "start_time": "2022-03-11T08:08:15.129Z"
   },
   {
    "duration": 48,
    "start_time": "2022-03-11T08:08:15.181Z"
   },
   {
    "duration": 7,
    "start_time": "2022-03-11T08:08:15.230Z"
   },
   {
    "duration": 38,
    "start_time": "2022-03-11T08:08:15.238Z"
   },
   {
    "duration": 25,
    "start_time": "2022-03-11T08:08:15.277Z"
   },
   {
    "duration": 16,
    "start_time": "2022-03-11T08:08:15.303Z"
   },
   {
    "duration": 9,
    "start_time": "2022-03-11T08:08:15.320Z"
   },
   {
    "duration": 27,
    "start_time": "2022-03-11T08:08:15.330Z"
   },
   {
    "duration": 6,
    "start_time": "2022-03-11T08:08:15.358Z"
   },
   {
    "duration": 40,
    "start_time": "2022-03-11T08:08:15.365Z"
   },
   {
    "duration": 22,
    "start_time": "2022-03-11T08:08:15.406Z"
   },
   {
    "duration": 5,
    "start_time": "2022-03-11T08:08:15.429Z"
   },
   {
    "duration": 7,
    "start_time": "2022-03-11T08:08:15.436Z"
   },
   {
    "duration": 11,
    "start_time": "2022-03-11T08:08:15.445Z"
   },
   {
    "duration": 117,
    "start_time": "2022-03-11T08:08:15.458Z"
   },
   {
    "duration": 78,
    "start_time": "2022-03-11T08:08:15.578Z"
   },
   {
    "duration": 43,
    "start_time": "2022-03-11T08:08:15.658Z"
   },
   {
    "duration": 16,
    "start_time": "2022-03-11T08:08:15.703Z"
   },
   {
    "duration": 7,
    "start_time": "2022-03-11T08:08:15.721Z"
   },
   {
    "duration": 21,
    "start_time": "2022-03-11T08:08:15.730Z"
   },
   {
    "duration": 16,
    "start_time": "2022-03-11T08:08:15.752Z"
   },
   {
    "duration": 53,
    "start_time": "2022-03-11T08:08:15.769Z"
   },
   {
    "duration": 11,
    "start_time": "2022-03-11T08:08:15.823Z"
   },
   {
    "duration": 18,
    "start_time": "2022-03-11T08:08:15.835Z"
   },
   {
    "duration": 6,
    "start_time": "2022-03-11T08:08:15.854Z"
   },
   {
    "duration": 33,
    "start_time": "2022-03-11T08:10:16.359Z"
   },
   {
    "duration": 3,
    "start_time": "2022-03-11T08:22:42.095Z"
   },
   {
    "duration": 105,
    "start_time": "2022-03-11T08:24:06.891Z"
   },
   {
    "duration": 105,
    "start_time": "2022-03-11T08:24:23.219Z"
   },
   {
    "duration": 3,
    "start_time": "2022-03-11T08:24:26.219Z"
   },
   {
    "duration": 106,
    "start_time": "2022-03-11T08:24:27.754Z"
   },
   {
    "duration": 30,
    "start_time": "2022-03-11T08:24:52.795Z"
   },
   {
    "duration": 3,
    "start_time": "2022-03-11T08:28:29.475Z"
   },
   {
    "duration": 3,
    "start_time": "2022-03-11T08:31:24.430Z"
   },
   {
    "duration": 323,
    "start_time": "2022-03-11T08:32:10.156Z"
   },
   {
    "duration": 301,
    "start_time": "2022-03-11T08:32:18.384Z"
   },
   {
    "duration": 558,
    "start_time": "2022-03-11T08:32:40.795Z"
   },
   {
    "duration": 2,
    "start_time": "2022-03-11T08:33:07.538Z"
   },
   {
    "duration": 883,
    "start_time": "2022-03-11T08:33:09.824Z"
   },
   {
    "duration": 113,
    "start_time": "2022-03-11T08:33:57.950Z"
   },
   {
    "duration": 114,
    "start_time": "2022-03-11T08:34:20.878Z"
   },
   {
    "duration": 126,
    "start_time": "2022-03-11T08:34:58.097Z"
   },
   {
    "duration": 121,
    "start_time": "2022-03-11T08:35:11.788Z"
   },
   {
    "duration": 172,
    "start_time": "2022-03-11T08:35:34.821Z"
   },
   {
    "duration": 163,
    "start_time": "2022-03-11T08:35:40.625Z"
   },
   {
    "duration": 3,
    "start_time": "2022-03-11T08:40:25.591Z"
   },
   {
    "duration": 552,
    "start_time": "2022-03-11T08:41:18.718Z"
   },
   {
    "duration": 3,
    "start_time": "2022-03-11T08:41:31.098Z"
   },
   {
    "duration": 105,
    "start_time": "2022-03-11T08:41:33.389Z"
   },
   {
    "duration": 104,
    "start_time": "2022-03-11T08:41:54.017Z"
   },
   {
    "duration": 3,
    "start_time": "2022-03-11T08:42:35.943Z"
   },
   {
    "duration": 145,
    "start_time": "2022-03-11T08:42:44.262Z"
   },
   {
    "duration": 295,
    "start_time": "2022-03-11T08:44:14.016Z"
   },
   {
    "duration": 288,
    "start_time": "2022-03-11T08:44:44.223Z"
   },
   {
    "duration": 28,
    "start_time": "2022-03-11T08:46:06.278Z"
   },
   {
    "duration": 34,
    "start_time": "2022-03-11T08:46:25.189Z"
   },
   {
    "duration": 79,
    "start_time": "2022-03-11T08:46:58.617Z"
   },
   {
    "duration": 28,
    "start_time": "2022-03-11T08:52:03.677Z"
   },
   {
    "duration": 42,
    "start_time": "2022-03-11T08:55:30.953Z"
   },
   {
    "duration": 28,
    "start_time": "2022-03-11T08:55:58.959Z"
   },
   {
    "duration": 10,
    "start_time": "2022-03-11T08:56:35.429Z"
   },
   {
    "duration": 29,
    "start_time": "2022-03-11T08:56:43.798Z"
   },
   {
    "duration": 8,
    "start_time": "2022-03-11T08:57:05.619Z"
   },
   {
    "duration": 31,
    "start_time": "2022-03-11T08:57:22.705Z"
   },
   {
    "duration": 21,
    "start_time": "2022-03-11T08:57:44.719Z"
   },
   {
    "duration": 99,
    "start_time": "2022-03-11T08:57:53.417Z"
   },
   {
    "duration": 106,
    "start_time": "2022-03-11T08:58:00.736Z"
   },
   {
    "duration": 98,
    "start_time": "2022-03-11T08:58:09.425Z"
   },
   {
    "duration": 9,
    "start_time": "2022-03-11T08:59:05.588Z"
   },
   {
    "duration": 8,
    "start_time": "2022-03-11T08:59:18.947Z"
   },
   {
    "duration": 13,
    "start_time": "2022-03-11T09:01:06.377Z"
   },
   {
    "duration": 14,
    "start_time": "2022-03-11T09:03:43.157Z"
   },
   {
    "duration": 13,
    "start_time": "2022-03-11T09:04:43.709Z"
   },
   {
    "duration": 13,
    "start_time": "2022-03-11T09:05:48.839Z"
   },
   {
    "duration": 488,
    "start_time": "2022-03-14T10:39:25.896Z"
   },
   {
    "duration": 202,
    "start_time": "2022-03-14T10:39:26.386Z"
   },
   {
    "duration": 203,
    "start_time": "2022-03-14T10:39:26.591Z"
   },
   {
    "duration": 99,
    "start_time": "2022-03-14T10:39:26.796Z"
   },
   {
    "duration": 18,
    "start_time": "2022-03-14T10:39:26.897Z"
   },
   {
    "duration": 29,
    "start_time": "2022-03-14T10:39:26.916Z"
   },
   {
    "duration": 104,
    "start_time": "2022-03-14T10:39:26.946Z"
   },
   {
    "duration": 58,
    "start_time": "2022-03-14T10:39:27.052Z"
   },
   {
    "duration": 55,
    "start_time": "2022-03-14T10:39:27.112Z"
   },
   {
    "duration": 6,
    "start_time": "2022-03-14T10:39:27.168Z"
   },
   {
    "duration": 35,
    "start_time": "2022-03-14T10:39:27.175Z"
   },
   {
    "duration": 22,
    "start_time": "2022-03-14T10:39:27.211Z"
   },
   {
    "duration": 16,
    "start_time": "2022-03-14T10:39:27.235Z"
   },
   {
    "duration": 10,
    "start_time": "2022-03-14T10:39:27.252Z"
   },
   {
    "duration": 27,
    "start_time": "2022-03-14T10:39:27.263Z"
   },
   {
    "duration": 5,
    "start_time": "2022-03-14T10:39:27.292Z"
   },
   {
    "duration": 44,
    "start_time": "2022-03-14T10:39:27.299Z"
   },
   {
    "duration": 24,
    "start_time": "2022-03-14T10:39:27.345Z"
   },
   {
    "duration": 6,
    "start_time": "2022-03-14T10:39:27.370Z"
   },
   {
    "duration": 10,
    "start_time": "2022-03-14T10:39:27.377Z"
   },
   {
    "duration": 8,
    "start_time": "2022-03-14T10:39:27.388Z"
   },
   {
    "duration": 126,
    "start_time": "2022-03-14T10:39:27.397Z"
   },
   {
    "duration": 75,
    "start_time": "2022-03-14T10:39:27.526Z"
   },
   {
    "duration": 43,
    "start_time": "2022-03-14T10:39:27.602Z"
   },
   {
    "duration": 17,
    "start_time": "2022-03-14T10:39:27.646Z"
   },
   {
    "duration": 7,
    "start_time": "2022-03-14T10:39:27.665Z"
   },
   {
    "duration": 29,
    "start_time": "2022-03-14T10:39:27.673Z"
   },
   {
    "duration": 39,
    "start_time": "2022-03-14T10:39:27.704Z"
   },
   {
    "duration": 28,
    "start_time": "2022-03-14T10:39:27.744Z"
   },
   {
    "duration": 12,
    "start_time": "2022-03-14T10:39:27.773Z"
   },
   {
    "duration": 21,
    "start_time": "2022-03-14T10:39:27.787Z"
   },
   {
    "duration": 28,
    "start_time": "2022-03-14T10:39:27.809Z"
   },
   {
    "duration": 43,
    "start_time": "2022-03-14T10:39:27.839Z"
   },
   {
    "duration": 3,
    "start_time": "2022-03-14T10:39:27.884Z"
   },
   {
    "duration": 114,
    "start_time": "2022-03-14T10:39:27.888Z"
   },
   {
    "duration": 3,
    "start_time": "2022-03-14T10:39:28.003Z"
   },
   {
    "duration": 118,
    "start_time": "2022-03-14T10:39:28.008Z"
   },
   {
    "duration": 5,
    "start_time": "2022-03-14T10:39:28.128Z"
   },
   {
    "duration": 111,
    "start_time": "2022-03-14T10:39:28.134Z"
   },
   {
    "duration": 19,
    "start_time": "2022-03-14T10:39:28.247Z"
   },
   {
    "duration": 21,
    "start_time": "2022-03-14T10:39:28.267Z"
   },
   {
    "duration": 14,
    "start_time": "2022-03-14T10:39:30.849Z"
   },
   {
    "duration": 19,
    "start_time": "2022-03-14T10:53:22.860Z"
   },
   {
    "duration": 4,
    "start_time": "2022-03-14T10:53:55.805Z"
   },
   {
    "duration": 6,
    "start_time": "2022-03-14T10:54:44.869Z"
   },
   {
    "duration": 5,
    "start_time": "2022-03-14T10:55:05.773Z"
   },
   {
    "duration": 4,
    "start_time": "2022-03-14T10:55:10.784Z"
   },
   {
    "duration": 7,
    "start_time": "2022-03-14T10:55:53.997Z"
   },
   {
    "duration": 12,
    "start_time": "2022-03-14T10:56:05.228Z"
   },
   {
    "duration": 8,
    "start_time": "2022-03-14T10:57:04.317Z"
   },
   {
    "duration": 4,
    "start_time": "2022-03-14T10:58:38.417Z"
   },
   {
    "duration": 4,
    "start_time": "2022-03-14T10:58:48.331Z"
   },
   {
    "duration": 14,
    "start_time": "2022-03-14T11:00:16.711Z"
   },
   {
    "duration": 12,
    "start_time": "2022-03-14T11:00:40.195Z"
   },
   {
    "duration": 12,
    "start_time": "2022-03-14T11:00:54.590Z"
   },
   {
    "duration": 11,
    "start_time": "2022-03-14T11:01:25.580Z"
   },
   {
    "duration": 12,
    "start_time": "2022-03-14T11:01:41.899Z"
   },
   {
    "duration": 12,
    "start_time": "2022-03-14T11:01:48.861Z"
   },
   {
    "duration": 11,
    "start_time": "2022-03-14T11:02:28.876Z"
   },
   {
    "duration": 7,
    "start_time": "2022-03-14T11:03:43.555Z"
   },
   {
    "duration": 16,
    "start_time": "2022-03-14T11:04:20.931Z"
   },
   {
    "duration": 97,
    "start_time": "2022-03-14T11:09:03.058Z"
   },
   {
    "duration": 89,
    "start_time": "2022-03-14T11:09:14.241Z"
   },
   {
    "duration": 7,
    "start_time": "2022-03-14T11:10:00.425Z"
   },
   {
    "duration": 527,
    "start_time": "2022-03-14T11:10:42.963Z"
   },
   {
    "duration": 179,
    "start_time": "2022-03-14T11:10:43.491Z"
   },
   {
    "duration": 139,
    "start_time": "2022-03-14T11:10:43.672Z"
   },
   {
    "duration": 110,
    "start_time": "2022-03-14T11:10:43.813Z"
   },
   {
    "duration": 19,
    "start_time": "2022-03-14T11:10:43.924Z"
   },
   {
    "duration": 25,
    "start_time": "2022-03-14T11:10:43.945Z"
   },
   {
    "duration": 100,
    "start_time": "2022-03-14T11:10:43.972Z"
   },
   {
    "duration": 69,
    "start_time": "2022-03-14T11:10:44.075Z"
   },
   {
    "duration": 39,
    "start_time": "2022-03-14T11:10:44.146Z"
   },
   {
    "duration": 6,
    "start_time": "2022-03-14T11:10:44.186Z"
   },
   {
    "duration": 59,
    "start_time": "2022-03-14T11:10:44.194Z"
   },
   {
    "duration": 7,
    "start_time": "2022-03-14T11:10:44.254Z"
   },
   {
    "duration": 19,
    "start_time": "2022-03-14T11:10:44.262Z"
   },
   {
    "duration": 8,
    "start_time": "2022-03-14T11:10:44.283Z"
   },
   {
    "duration": 48,
    "start_time": "2022-03-14T11:10:44.293Z"
   },
   {
    "duration": 6,
    "start_time": "2022-03-14T11:10:44.342Z"
   },
   {
    "duration": 15,
    "start_time": "2022-03-14T11:10:44.349Z"
   },
   {
    "duration": 23,
    "start_time": "2022-03-14T11:10:44.365Z"
   },
   {
    "duration": 5,
    "start_time": "2022-03-14T11:10:44.390Z"
   },
   {
    "duration": 9,
    "start_time": "2022-03-14T11:10:44.397Z"
   },
   {
    "duration": 5,
    "start_time": "2022-03-14T11:10:44.433Z"
   },
   {
    "duration": 110,
    "start_time": "2022-03-14T11:10:44.440Z"
   },
   {
    "duration": 81,
    "start_time": "2022-03-14T11:10:44.553Z"
   },
   {
    "duration": 35,
    "start_time": "2022-03-14T11:10:44.636Z"
   },
   {
    "duration": 18,
    "start_time": "2022-03-14T11:10:44.673Z"
   },
   {
    "duration": 8,
    "start_time": "2022-03-14T11:10:44.692Z"
   },
   {
    "duration": 49,
    "start_time": "2022-03-14T11:10:44.701Z"
   },
   {
    "duration": 18,
    "start_time": "2022-03-14T11:10:44.752Z"
   },
   {
    "duration": 26,
    "start_time": "2022-03-14T11:10:44.771Z"
   },
   {
    "duration": 36,
    "start_time": "2022-03-14T11:10:44.798Z"
   },
   {
    "duration": 21,
    "start_time": "2022-03-14T11:10:44.836Z"
   },
   {
    "duration": 7,
    "start_time": "2022-03-14T11:10:44.858Z"
   },
   {
    "duration": 37,
    "start_time": "2022-03-14T11:10:44.867Z"
   },
   {
    "duration": 7,
    "start_time": "2022-03-14T11:11:05.541Z"
   },
   {
    "duration": 59,
    "start_time": "2022-03-14T11:13:13.143Z"
   },
   {
    "duration": 9,
    "start_time": "2022-03-14T11:14:15.117Z"
   },
   {
    "duration": 10,
    "start_time": "2022-03-14T11:14:37.096Z"
   },
   {
    "duration": 3,
    "start_time": "2022-03-14T11:14:49.299Z"
   },
   {
    "duration": 207,
    "start_time": "2022-03-14T11:14:49.304Z"
   },
   {
    "duration": 139,
    "start_time": "2022-03-14T11:14:49.513Z"
   },
   {
    "duration": 99,
    "start_time": "2022-03-14T11:14:49.653Z"
   },
   {
    "duration": 20,
    "start_time": "2022-03-14T11:14:49.753Z"
   },
   {
    "duration": 34,
    "start_time": "2022-03-14T11:14:49.774Z"
   },
   {
    "duration": 78,
    "start_time": "2022-03-14T11:14:49.810Z"
   },
   {
    "duration": 58,
    "start_time": "2022-03-14T11:14:49.890Z"
   },
   {
    "duration": 37,
    "start_time": "2022-03-14T11:14:49.951Z"
   },
   {
    "duration": 6,
    "start_time": "2022-03-14T11:14:49.990Z"
   },
   {
    "duration": 60,
    "start_time": "2022-03-14T11:14:49.997Z"
   },
   {
    "duration": 7,
    "start_time": "2022-03-14T11:14:50.059Z"
   },
   {
    "duration": 22,
    "start_time": "2022-03-14T11:14:50.068Z"
   },
   {
    "duration": 10,
    "start_time": "2022-03-14T11:14:50.092Z"
   },
   {
    "duration": 47,
    "start_time": "2022-03-14T11:14:50.103Z"
   },
   {
    "duration": 6,
    "start_time": "2022-03-14T11:14:50.151Z"
   },
   {
    "duration": 13,
    "start_time": "2022-03-14T11:14:50.159Z"
   },
   {
    "duration": 24,
    "start_time": "2022-03-14T11:14:50.174Z"
   },
   {
    "duration": 34,
    "start_time": "2022-03-14T11:14:50.200Z"
   },
   {
    "duration": 8,
    "start_time": "2022-03-14T11:14:50.236Z"
   },
   {
    "duration": 10,
    "start_time": "2022-03-14T11:14:50.245Z"
   },
   {
    "duration": 100,
    "start_time": "2022-03-14T11:14:50.256Z"
   },
   {
    "duration": 74,
    "start_time": "2022-03-14T11:14:50.360Z"
   },
   {
    "duration": 35,
    "start_time": "2022-03-14T11:14:50.436Z"
   },
   {
    "duration": 18,
    "start_time": "2022-03-14T11:14:50.473Z"
   },
   {
    "duration": 9,
    "start_time": "2022-03-14T11:14:50.493Z"
   },
   {
    "duration": 50,
    "start_time": "2022-03-14T11:14:50.504Z"
   },
   {
    "duration": 16,
    "start_time": "2022-03-14T11:14:50.555Z"
   },
   {
    "duration": 27,
    "start_time": "2022-03-14T11:14:50.573Z"
   },
   {
    "duration": 37,
    "start_time": "2022-03-14T11:14:50.602Z"
   },
   {
    "duration": 21,
    "start_time": "2022-03-14T11:14:50.640Z"
   },
   {
    "duration": 6,
    "start_time": "2022-03-14T11:14:50.662Z"
   },
   {
    "duration": 38,
    "start_time": "2022-03-14T11:14:50.670Z"
   },
   {
    "duration": 28,
    "start_time": "2022-03-14T11:14:50.709Z"
   },
   {
    "duration": 9,
    "start_time": "2022-03-14T11:14:50.738Z"
   },
   {
    "duration": 4,
    "start_time": "2022-03-14T11:14:50.749Z"
   },
   {
    "duration": 124,
    "start_time": "2022-03-14T11:14:50.754Z"
   },
   {
    "duration": 3,
    "start_time": "2022-03-14T11:14:50.879Z"
   },
   {
    "duration": 118,
    "start_time": "2022-03-14T11:14:50.883Z"
   },
   {
    "duration": 3,
    "start_time": "2022-03-14T11:14:51.003Z"
   },
   {
    "duration": 127,
    "start_time": "2022-03-14T11:14:51.007Z"
   },
   {
    "duration": 24,
    "start_time": "2022-03-14T11:14:51.136Z"
   },
   {
    "duration": 24,
    "start_time": "2022-03-14T11:14:51.162Z"
   },
   {
    "duration": 8,
    "start_time": "2022-03-14T11:14:51.187Z"
   },
   {
    "duration": 42,
    "start_time": "2022-03-14T11:14:51.196Z"
   },
   {
    "duration": 17,
    "start_time": "2022-03-14T11:14:51.240Z"
   },
   {
    "duration": 10,
    "start_time": "2022-03-14T11:14:51.259Z"
   },
   {
    "duration": 10,
    "start_time": "2022-03-14T11:14:51.270Z"
   },
   {
    "duration": 6,
    "start_time": "2022-03-14T11:14:51.282Z"
   },
   {
    "duration": 11,
    "start_time": "2022-03-14T11:14:56.676Z"
   },
   {
    "duration": 11,
    "start_time": "2022-03-14T11:14:58.917Z"
   },
   {
    "duration": 10,
    "start_time": "2022-03-14T11:19:35.989Z"
   },
   {
    "duration": 10,
    "start_time": "2022-03-14T11:21:08.378Z"
   },
   {
    "duration": 192,
    "start_time": "2022-03-14T11:25:34.467Z"
   },
   {
    "duration": 205,
    "start_time": "2022-03-14T11:25:47.182Z"
   },
   {
    "duration": 173,
    "start_time": "2022-03-14T11:26:16.242Z"
   },
   {
    "duration": 10,
    "start_time": "2022-03-14T11:27:43.266Z"
   },
   {
    "duration": 120,
    "start_time": "2022-03-14T11:28:04.722Z"
   },
   {
    "duration": 9,
    "start_time": "2022-03-14T11:28:26.113Z"
   },
   {
    "duration": 123,
    "start_time": "2022-03-14T11:28:34.563Z"
   },
   {
    "duration": 12,
    "start_time": "2022-03-14T11:48:09.582Z"
   },
   {
    "duration": 11,
    "start_time": "2022-03-14T11:48:35.100Z"
   },
   {
    "duration": 11,
    "start_time": "2022-03-14T11:48:42.787Z"
   },
   {
    "duration": 10,
    "start_time": "2022-03-14T11:50:15.839Z"
   },
   {
    "duration": 9,
    "start_time": "2022-03-14T11:50:25.899Z"
   },
   {
    "duration": 123,
    "start_time": "2022-03-14T11:51:07.168Z"
   },
   {
    "duration": 133,
    "start_time": "2022-03-14T11:51:15.802Z"
   },
   {
    "duration": 8,
    "start_time": "2022-03-14T11:52:24.721Z"
   },
   {
    "duration": 2026,
    "start_time": "2022-03-14T12:01:24.438Z"
   },
   {
    "duration": 175,
    "start_time": "2022-03-14T12:01:47.359Z"
   },
   {
    "duration": 156,
    "start_time": "2022-03-14T12:02:52.974Z"
   },
   {
    "duration": 174,
    "start_time": "2022-03-14T12:03:03.543Z"
   },
   {
    "duration": 166,
    "start_time": "2022-03-14T12:03:17.534Z"
   },
   {
    "duration": 155,
    "start_time": "2022-03-14T12:03:21.990Z"
   },
   {
    "duration": 164,
    "start_time": "2022-03-14T12:05:54.077Z"
   },
   {
    "duration": 175,
    "start_time": "2022-03-14T12:06:06.578Z"
   },
   {
    "duration": 172,
    "start_time": "2022-03-14T12:06:08.573Z"
   },
   {
    "duration": 243,
    "start_time": "2022-03-14T12:10:16.991Z"
   },
   {
    "duration": 176,
    "start_time": "2022-03-14T12:10:26.349Z"
   },
   {
    "duration": 399,
    "start_time": "2022-03-14T12:24:16.310Z"
   },
   {
    "duration": 168,
    "start_time": "2022-03-14T12:24:22.142Z"
   },
   {
    "duration": 30,
    "start_time": "2022-03-14T13:12:15.008Z"
   },
   {
    "duration": 9,
    "start_time": "2022-03-14T13:12:20.129Z"
   },
   {
    "duration": 188,
    "start_time": "2022-03-14T13:15:05.829Z"
   },
   {
    "duration": 176,
    "start_time": "2022-03-14T13:15:16.000Z"
   },
   {
    "duration": 172,
    "start_time": "2022-03-14T13:17:13.838Z"
   },
   {
    "duration": 12,
    "start_time": "2022-03-14T13:20:48.452Z"
   },
   {
    "duration": 11,
    "start_time": "2022-03-14T13:21:13.349Z"
   },
   {
    "duration": 29,
    "start_time": "2022-03-14T13:22:11.188Z"
   },
   {
    "duration": 8,
    "start_time": "2022-03-14T13:22:26.180Z"
   },
   {
    "duration": 8,
    "start_time": "2022-03-14T13:22:30.877Z"
   },
   {
    "duration": 30,
    "start_time": "2022-03-14T13:22:38.339Z"
   },
   {
    "duration": 17,
    "start_time": "2022-03-14T13:23:25.979Z"
   },
   {
    "duration": 567,
    "start_time": "2022-03-14T13:24:11.450Z"
   },
   {
    "duration": 378,
    "start_time": "2022-03-14T13:24:22.816Z"
   },
   {
    "duration": 168,
    "start_time": "2022-03-14T13:24:32.693Z"
   },
   {
    "duration": 12,
    "start_time": "2022-03-14T13:24:38.684Z"
   },
   {
    "duration": 2,
    "start_time": "2022-03-14T13:25:11.231Z"
   },
   {
    "duration": 182,
    "start_time": "2022-03-14T13:25:11.235Z"
   },
   {
    "duration": 150,
    "start_time": "2022-03-14T13:25:11.419Z"
   },
   {
    "duration": 94,
    "start_time": "2022-03-14T13:25:11.570Z"
   },
   {
    "duration": 18,
    "start_time": "2022-03-14T13:25:11.666Z"
   },
   {
    "duration": 32,
    "start_time": "2022-03-14T13:25:11.686Z"
   },
   {
    "duration": 95,
    "start_time": "2022-03-14T13:25:11.719Z"
   },
   {
    "duration": 70,
    "start_time": "2022-03-14T13:25:11.817Z"
   },
   {
    "duration": 47,
    "start_time": "2022-03-14T13:25:11.889Z"
   },
   {
    "duration": 7,
    "start_time": "2022-03-14T13:25:11.938Z"
   },
   {
    "duration": 39,
    "start_time": "2022-03-14T13:25:11.946Z"
   },
   {
    "duration": 6,
    "start_time": "2022-03-14T13:25:11.993Z"
   },
   {
    "duration": 36,
    "start_time": "2022-03-14T13:25:12.001Z"
   },
   {
    "duration": 10,
    "start_time": "2022-03-14T13:25:12.039Z"
   },
   {
    "duration": 30,
    "start_time": "2022-03-14T13:25:12.050Z"
   },
   {
    "duration": 6,
    "start_time": "2022-03-14T13:25:12.082Z"
   },
   {
    "duration": 43,
    "start_time": "2022-03-14T13:25:12.090Z"
   },
   {
    "duration": 25,
    "start_time": "2022-03-14T13:25:12.135Z"
   },
   {
    "duration": 7,
    "start_time": "2022-03-14T13:25:12.162Z"
   },
   {
    "duration": 7,
    "start_time": "2022-03-14T13:25:12.171Z"
   },
   {
    "duration": 7,
    "start_time": "2022-03-14T13:25:12.180Z"
   },
   {
    "duration": 128,
    "start_time": "2022-03-14T13:25:12.188Z"
   },
   {
    "duration": 81,
    "start_time": "2022-03-14T13:25:12.320Z"
   },
   {
    "duration": 46,
    "start_time": "2022-03-14T13:25:12.403Z"
   },
   {
    "duration": 17,
    "start_time": "2022-03-14T13:25:12.450Z"
   },
   {
    "duration": 7,
    "start_time": "2022-03-14T13:25:12.469Z"
   },
   {
    "duration": 30,
    "start_time": "2022-03-14T13:25:12.478Z"
   },
   {
    "duration": 32,
    "start_time": "2022-03-14T13:25:12.509Z"
   },
   {
    "duration": 27,
    "start_time": "2022-03-14T13:25:12.543Z"
   },
   {
    "duration": 12,
    "start_time": "2022-03-14T13:25:12.572Z"
   },
   {
    "duration": 20,
    "start_time": "2022-03-14T13:25:12.586Z"
   },
   {
    "duration": 32,
    "start_time": "2022-03-14T13:25:12.607Z"
   },
   {
    "duration": 32,
    "start_time": "2022-03-14T13:25:12.641Z"
   },
   {
    "duration": 9,
    "start_time": "2022-03-14T13:25:12.675Z"
   },
   {
    "duration": 11,
    "start_time": "2022-03-14T13:25:12.686Z"
   },
   {
    "duration": 34,
    "start_time": "2022-03-14T13:25:12.699Z"
   },
   {
    "duration": 116,
    "start_time": "2022-03-14T13:25:12.735Z"
   },
   {
    "duration": 3,
    "start_time": "2022-03-14T13:25:12.853Z"
   },
   {
    "duration": 120,
    "start_time": "2022-03-14T13:25:12.858Z"
   },
   {
    "duration": 3,
    "start_time": "2022-03-14T13:25:12.981Z"
   },
   {
    "duration": 119,
    "start_time": "2022-03-14T13:25:12.986Z"
   },
   {
    "duration": 34,
    "start_time": "2022-03-14T13:25:13.107Z"
   },
   {
    "duration": 25,
    "start_time": "2022-03-14T13:25:13.143Z"
   },
   {
    "duration": 9,
    "start_time": "2022-03-14T13:25:13.170Z"
   },
   {
    "duration": 13,
    "start_time": "2022-03-14T13:25:13.181Z"
   },
   {
    "duration": 45,
    "start_time": "2022-03-14T13:25:13.196Z"
   },
   {
    "duration": 6,
    "start_time": "2022-03-14T13:25:13.243Z"
   },
   {
    "duration": 14,
    "start_time": "2022-03-14T13:25:13.252Z"
   },
   {
    "duration": 10,
    "start_time": "2022-03-14T13:25:13.268Z"
   },
   {
    "duration": 54,
    "start_time": "2022-03-14T13:25:13.280Z"
   },
   {
    "duration": 16,
    "start_time": "2022-03-14T13:25:13.335Z"
   },
   {
    "duration": 221,
    "start_time": "2022-03-14T13:25:13.352Z"
   },
   {
    "duration": 11,
    "start_time": "2022-03-14T13:25:13.574Z"
   },
   {
    "duration": 187,
    "start_time": "2022-03-14T13:25:13.587Z"
   },
   {
    "duration": 188,
    "start_time": "2022-03-14T13:25:13.776Z"
   },
   {
    "duration": 197,
    "start_time": "2022-03-14T13:25:13.966Z"
   },
   {
    "duration": 183,
    "start_time": "2022-03-14T13:25:14.165Z"
   },
   {
    "duration": 137,
    "start_time": "2022-03-14T13:27:37.740Z"
   },
   {
    "duration": 11,
    "start_time": "2022-03-14T13:28:50.850Z"
   },
   {
    "duration": 129,
    "start_time": "2022-03-14T13:29:11.370Z"
   },
   {
    "duration": 66,
    "start_time": "2022-03-14T13:29:32.714Z"
   },
   {
    "duration": 12,
    "start_time": "2022-03-14T13:29:41.050Z"
   },
   {
    "duration": 14,
    "start_time": "2022-03-14T13:30:21.378Z"
   },
   {
    "duration": 12,
    "start_time": "2022-03-14T13:30:40.837Z"
   },
   {
    "duration": 56,
    "start_time": "2022-03-14T13:32:16.472Z"
   },
   {
    "duration": 7,
    "start_time": "2022-03-14T13:32:39.537Z"
   },
   {
    "duration": 7,
    "start_time": "2022-03-14T13:32:55.560Z"
   },
   {
    "duration": 170,
    "start_time": "2022-03-14T13:34:06.639Z"
   },
   {
    "duration": 8,
    "start_time": "2022-03-14T13:34:42.535Z"
   },
   {
    "duration": 28,
    "start_time": "2022-03-14T13:37:31.968Z"
   },
   {
    "duration": 8,
    "start_time": "2022-03-14T13:59:36.354Z"
   },
   {
    "duration": 8,
    "start_time": "2022-03-14T13:59:40.858Z"
   },
   {
    "duration": 7,
    "start_time": "2022-03-14T13:59:55.628Z"
   },
   {
    "duration": 31,
    "start_time": "2022-03-14T14:01:29.898Z"
   },
   {
    "duration": 20,
    "start_time": "2022-03-14T14:01:47.596Z"
   },
   {
    "duration": 11,
    "start_time": "2022-03-14T14:03:57.809Z"
   },
   {
    "duration": 9,
    "start_time": "2022-03-14T14:05:42.216Z"
   },
   {
    "duration": 10,
    "start_time": "2022-03-14T14:05:54.208Z"
   },
   {
    "duration": 9,
    "start_time": "2022-03-14T14:06:00.153Z"
   },
   {
    "duration": 21,
    "start_time": "2022-03-14T14:06:31.225Z"
   },
   {
    "duration": 22,
    "start_time": "2022-03-14T14:07:19.264Z"
   },
   {
    "duration": 308,
    "start_time": "2022-03-14T14:09:25.356Z"
   },
   {
    "duration": 8,
    "start_time": "2022-03-14T14:09:39.799Z"
   },
   {
    "duration": 22,
    "start_time": "2022-03-14T14:09:44.966Z"
   },
   {
    "duration": 240,
    "start_time": "2022-03-14T14:10:03.503Z"
   },
   {
    "duration": 53,
    "start_time": "2022-03-14T14:10:24.702Z"
   },
   {
    "duration": 10,
    "start_time": "2022-03-14T14:10:32.326Z"
   },
   {
    "duration": 10,
    "start_time": "2022-03-14T14:11:01.894Z"
   },
   {
    "duration": 8,
    "start_time": "2022-03-14T14:11:07.726Z"
   },
   {
    "duration": 8,
    "start_time": "2022-03-14T14:11:41.917Z"
   },
   {
    "duration": 172,
    "start_time": "2022-03-14T14:15:51.267Z"
   },
   {
    "duration": 10,
    "start_time": "2022-03-14T14:17:40.124Z"
   },
   {
    "duration": 8,
    "start_time": "2022-03-14T14:17:48.535Z"
   },
   {
    "duration": 11,
    "start_time": "2022-03-14T14:17:59.386Z"
   },
   {
    "duration": 8,
    "start_time": "2022-03-14T14:18:06.355Z"
   },
   {
    "duration": 10,
    "start_time": "2022-03-14T14:18:32.698Z"
   },
   {
    "duration": 11,
    "start_time": "2022-03-14T14:18:44.134Z"
   },
   {
    "duration": 8,
    "start_time": "2022-03-14T14:19:08.620Z"
   },
   {
    "duration": 6,
    "start_time": "2022-03-14T14:19:39.746Z"
   },
   {
    "duration": 8,
    "start_time": "2022-03-14T14:19:47.449Z"
   },
   {
    "duration": 131,
    "start_time": "2022-03-14T14:19:53.362Z"
   },
   {
    "duration": 7,
    "start_time": "2022-03-14T14:20:27.401Z"
   },
   {
    "duration": 6,
    "start_time": "2022-03-14T14:20:57.412Z"
   },
   {
    "duration": 6,
    "start_time": "2022-03-14T14:21:02.010Z"
   },
   {
    "duration": 8,
    "start_time": "2022-03-14T14:21:08.552Z"
   },
   {
    "duration": 131,
    "start_time": "2022-03-14T14:21:12.547Z"
   },
   {
    "duration": 178,
    "start_time": "2022-03-14T14:21:27.841Z"
   },
   {
    "duration": 228,
    "start_time": "2022-03-14T14:21:35.898Z"
   },
   {
    "duration": 6,
    "start_time": "2022-03-14T14:21:59.457Z"
   },
   {
    "duration": 8,
    "start_time": "2022-03-14T14:22:06.746Z"
   },
   {
    "duration": 8,
    "start_time": "2022-03-14T14:23:15.153Z"
   },
   {
    "duration": 2,
    "start_time": "2022-03-14T14:23:25.648Z"
   },
   {
    "duration": 181,
    "start_time": "2022-03-14T14:23:25.652Z"
   },
   {
    "duration": 142,
    "start_time": "2022-03-14T14:23:25.835Z"
   },
   {
    "duration": 94,
    "start_time": "2022-03-14T14:23:25.979Z"
   },
   {
    "duration": 17,
    "start_time": "2022-03-14T14:23:26.075Z"
   },
   {
    "duration": 33,
    "start_time": "2022-03-14T14:23:26.094Z"
   },
   {
    "duration": 71,
    "start_time": "2022-03-14T14:23:26.129Z"
   },
   {
    "duration": 57,
    "start_time": "2022-03-14T14:23:26.202Z"
   },
   {
    "duration": 34,
    "start_time": "2022-03-14T14:23:26.261Z"
   },
   {
    "duration": 8,
    "start_time": "2022-03-14T14:23:26.297Z"
   },
   {
    "duration": 55,
    "start_time": "2022-03-14T14:23:26.307Z"
   },
   {
    "duration": 5,
    "start_time": "2022-03-14T14:23:26.364Z"
   },
   {
    "duration": 14,
    "start_time": "2022-03-14T14:23:26.371Z"
   },
   {
    "duration": 11,
    "start_time": "2022-03-14T14:23:26.386Z"
   },
   {
    "duration": 55,
    "start_time": "2022-03-14T14:23:26.399Z"
   },
   {
    "duration": 6,
    "start_time": "2022-03-14T14:23:26.455Z"
   },
   {
    "duration": 12,
    "start_time": "2022-03-14T14:23:26.462Z"
   },
   {
    "duration": 22,
    "start_time": "2022-03-14T14:23:26.476Z"
   },
   {
    "duration": 35,
    "start_time": "2022-03-14T14:23:26.501Z"
   },
   {
    "duration": 7,
    "start_time": "2022-03-14T14:23:26.538Z"
   },
   {
    "duration": 6,
    "start_time": "2022-03-14T14:23:26.547Z"
   },
   {
    "duration": 103,
    "start_time": "2022-03-14T14:23:26.555Z"
   },
   {
    "duration": 74,
    "start_time": "2022-03-14T14:23:26.660Z"
   },
   {
    "duration": 34,
    "start_time": "2022-03-14T14:23:26.735Z"
   },
   {
    "duration": 18,
    "start_time": "2022-03-14T14:23:26.770Z"
   },
   {
    "duration": 8,
    "start_time": "2022-03-14T14:23:26.789Z"
   },
   {
    "duration": 48,
    "start_time": "2022-03-14T14:23:26.798Z"
   },
   {
    "duration": 14,
    "start_time": "2022-03-14T14:23:26.848Z"
   },
   {
    "duration": 27,
    "start_time": "2022-03-14T14:23:26.863Z"
   },
   {
    "duration": 11,
    "start_time": "2022-03-14T14:23:26.892Z"
   },
   {
    "duration": 48,
    "start_time": "2022-03-14T14:23:26.904Z"
   },
   {
    "duration": 6,
    "start_time": "2022-03-14T14:23:26.954Z"
   },
   {
    "duration": 31,
    "start_time": "2022-03-14T14:23:26.961Z"
   },
   {
    "duration": 7,
    "start_time": "2022-03-14T14:23:26.993Z"
   },
   {
    "duration": 33,
    "start_time": "2022-03-14T14:23:27.001Z"
   },
   {
    "duration": 2,
    "start_time": "2022-03-14T14:23:27.035Z"
   },
   {
    "duration": 120,
    "start_time": "2022-03-14T14:23:27.039Z"
   },
   {
    "duration": 3,
    "start_time": "2022-03-14T14:23:27.161Z"
   },
   {
    "duration": 110,
    "start_time": "2022-03-14T14:23:27.166Z"
   },
   {
    "duration": 3,
    "start_time": "2022-03-14T14:23:27.278Z"
   },
   {
    "duration": 112,
    "start_time": "2022-03-14T14:23:27.282Z"
   },
   {
    "duration": 20,
    "start_time": "2022-03-14T14:23:27.396Z"
   },
   {
    "duration": 35,
    "start_time": "2022-03-14T14:23:27.418Z"
   },
   {
    "duration": 7,
    "start_time": "2022-03-14T14:23:27.455Z"
   },
   {
    "duration": 13,
    "start_time": "2022-03-14T14:23:27.464Z"
   },
   {
    "duration": 16,
    "start_time": "2022-03-14T14:23:27.478Z"
   },
   {
    "duration": 38,
    "start_time": "2022-03-14T14:23:27.496Z"
   },
   {
    "duration": 10,
    "start_time": "2022-03-14T14:23:27.536Z"
   },
   {
    "duration": 8,
    "start_time": "2022-03-14T14:23:27.548Z"
   },
   {
    "duration": 19,
    "start_time": "2022-03-14T14:23:27.558Z"
   },
   {
    "duration": 7,
    "start_time": "2022-03-14T14:23:27.578Z"
   },
   {
    "duration": 7,
    "start_time": "2022-03-14T14:23:27.587Z"
   },
   {
    "duration": 175,
    "start_time": "2022-03-14T14:23:27.596Z"
   },
   {
    "duration": 9,
    "start_time": "2022-03-14T14:23:27.773Z"
   },
   {
    "duration": 8,
    "start_time": "2022-03-14T14:23:27.786Z"
   },
   {
    "duration": 9,
    "start_time": "2022-03-14T14:23:27.796Z"
   },
   {
    "duration": 154,
    "start_time": "2022-03-14T14:23:27.807Z"
   },
   {
    "duration": 181,
    "start_time": "2022-03-14T14:23:27.962Z"
   },
   {
    "duration": 186,
    "start_time": "2022-03-14T14:23:28.144Z"
   },
   {
    "duration": 6,
    "start_time": "2022-03-14T14:23:28.332Z"
   },
   {
    "duration": 8,
    "start_time": "2022-03-14T14:23:28.339Z"
   },
   {
    "duration": 11,
    "start_time": "2022-03-14T14:23:28.349Z"
   },
   {
    "duration": 10,
    "start_time": "2022-03-14T14:23:28.361Z"
   },
   {
    "duration": 154,
    "start_time": "2022-03-14T14:23:28.372Z"
   },
   {
    "duration": 10,
    "start_time": "2022-03-14T14:23:28.532Z"
   },
   {
    "duration": 28,
    "start_time": "2022-03-14T14:34:18.476Z"
   },
   {
    "duration": 48,
    "start_time": "2022-03-14T14:34:35.468Z"
   },
   {
    "duration": 9,
    "start_time": "2022-03-14T14:34:40.019Z"
   },
   {
    "duration": 6,
    "start_time": "2022-03-14T14:35:52.389Z"
   },
   {
    "duration": 9,
    "start_time": "2022-03-14T14:36:56.469Z"
   },
   {
    "duration": 17,
    "start_time": "2022-03-14T14:37:10.146Z"
   },
   {
    "duration": 19,
    "start_time": "2022-03-14T14:37:38.587Z"
   },
   {
    "duration": 18,
    "start_time": "2022-03-14T14:38:18.985Z"
   },
   {
    "duration": 16,
    "start_time": "2022-03-14T14:38:40.306Z"
   },
   {
    "duration": 7,
    "start_time": "2022-03-14T14:40:18.593Z"
   },
   {
    "duration": 27,
    "start_time": "2022-03-14T14:40:22.841Z"
   },
   {
    "duration": 6,
    "start_time": "2022-03-14T14:40:29.467Z"
   },
   {
    "duration": 9,
    "start_time": "2022-03-14T14:40:47.297Z"
   },
   {
    "duration": 8,
    "start_time": "2022-03-14T14:40:54.770Z"
   },
   {
    "duration": 128,
    "start_time": "2022-03-14T14:41:07.929Z"
   },
   {
    "duration": 9,
    "start_time": "2022-03-14T14:41:23.698Z"
   },
   {
    "duration": 124,
    "start_time": "2022-03-14T14:41:29.114Z"
   },
   {
    "duration": 194,
    "start_time": "2022-03-14T14:41:48.538Z"
   },
   {
    "duration": 170,
    "start_time": "2022-03-14T14:41:51.058Z"
   },
   {
    "duration": 7,
    "start_time": "2022-03-14T14:42:12.178Z"
   },
   {
    "duration": 7,
    "start_time": "2022-03-14T14:42:42.041Z"
   },
   {
    "duration": 42,
    "start_time": "2022-03-14T14:50:11.863Z"
   },
   {
    "duration": 47,
    "start_time": "2022-03-14T14:53:49.820Z"
   },
   {
    "duration": 51,
    "start_time": "2022-03-14T14:53:55.541Z"
   },
   {
    "duration": 54,
    "start_time": "2022-03-14T14:54:04.164Z"
   },
   {
    "duration": 11,
    "start_time": "2022-03-14T14:54:31.555Z"
   },
   {
    "duration": 10,
    "start_time": "2022-03-14T14:54:47.309Z"
   },
   {
    "duration": 636,
    "start_time": "2022-03-14T14:57:38.727Z"
   },
   {
    "duration": 168,
    "start_time": "2022-03-14T14:57:39.365Z"
   },
   {
    "duration": 140,
    "start_time": "2022-03-14T14:57:39.535Z"
   },
   {
    "duration": 93,
    "start_time": "2022-03-14T14:57:39.677Z"
   },
   {
    "duration": 18,
    "start_time": "2022-03-14T14:57:39.772Z"
   },
   {
    "duration": 26,
    "start_time": "2022-03-14T14:57:39.792Z"
   },
   {
    "duration": 103,
    "start_time": "2022-03-14T14:57:39.820Z"
   },
   {
    "duration": 82,
    "start_time": "2022-03-14T14:57:39.925Z"
   },
   {
    "duration": 68,
    "start_time": "2022-03-14T14:57:40.009Z"
   },
   {
    "duration": 7,
    "start_time": "2022-03-14T14:57:40.079Z"
   },
   {
    "duration": 60,
    "start_time": "2022-03-14T14:57:40.087Z"
   },
   {
    "duration": 6,
    "start_time": "2022-03-14T14:57:40.149Z"
   },
   {
    "duration": 17,
    "start_time": "2022-03-14T14:57:40.157Z"
   },
   {
    "duration": 10,
    "start_time": "2022-03-14T14:57:40.175Z"
   },
   {
    "duration": 53,
    "start_time": "2022-03-14T14:57:40.187Z"
   },
   {
    "duration": 6,
    "start_time": "2022-03-14T14:57:40.241Z"
   },
   {
    "duration": 12,
    "start_time": "2022-03-14T14:57:40.249Z"
   },
   {
    "duration": 24,
    "start_time": "2022-03-14T14:57:40.262Z"
   },
   {
    "duration": 5,
    "start_time": "2022-03-14T14:57:40.288Z"
   },
   {
    "duration": 40,
    "start_time": "2022-03-14T14:57:40.295Z"
   },
   {
    "duration": 6,
    "start_time": "2022-03-14T14:57:40.337Z"
   },
   {
    "duration": 110,
    "start_time": "2022-03-14T14:57:40.345Z"
   },
   {
    "duration": 80,
    "start_time": "2022-03-14T14:57:40.459Z"
   },
   {
    "duration": 35,
    "start_time": "2022-03-14T14:57:40.541Z"
   },
   {
    "duration": 17,
    "start_time": "2022-03-14T14:57:40.578Z"
   },
   {
    "duration": 8,
    "start_time": "2022-03-14T14:57:40.596Z"
   },
   {
    "duration": 47,
    "start_time": "2022-03-14T14:57:40.606Z"
   },
   {
    "duration": 18,
    "start_time": "2022-03-14T14:57:40.655Z"
   },
   {
    "duration": 28,
    "start_time": "2022-03-14T14:57:40.674Z"
   },
   {
    "duration": 37,
    "start_time": "2022-03-14T14:57:40.703Z"
   },
   {
    "duration": 19,
    "start_time": "2022-03-14T14:57:40.742Z"
   },
   {
    "duration": 7,
    "start_time": "2022-03-14T14:57:40.763Z"
   },
   {
    "duration": 32,
    "start_time": "2022-03-14T14:57:40.772Z"
   },
   {
    "duration": 31,
    "start_time": "2022-03-14T14:57:40.806Z"
   },
   {
    "duration": 9,
    "start_time": "2022-03-14T14:57:40.839Z"
   },
   {
    "duration": 3,
    "start_time": "2022-03-14T14:57:40.850Z"
   },
   {
    "duration": 121,
    "start_time": "2022-03-14T14:57:40.855Z"
   },
   {
    "duration": 2,
    "start_time": "2022-03-14T14:57:40.978Z"
   },
   {
    "duration": 113,
    "start_time": "2022-03-14T14:57:40.982Z"
   },
   {
    "duration": 3,
    "start_time": "2022-03-14T14:57:41.097Z"
   },
   {
    "duration": 114,
    "start_time": "2022-03-14T14:57:41.102Z"
   },
   {
    "duration": 25,
    "start_time": "2022-03-14T14:57:41.218Z"
   },
   {
    "duration": 22,
    "start_time": "2022-03-14T14:57:41.244Z"
   },
   {
    "duration": 8,
    "start_time": "2022-03-14T14:57:41.268Z"
   },
   {
    "duration": 20,
    "start_time": "2022-03-14T14:57:41.277Z"
   },
   {
    "duration": 42,
    "start_time": "2022-03-14T14:57:41.298Z"
   },
   {
    "duration": 7,
    "start_time": "2022-03-14T14:57:41.341Z"
   },
   {
    "duration": 12,
    "start_time": "2022-03-14T14:57:44.218Z"
   },
   {
    "duration": 11,
    "start_time": "2022-03-14T14:57:50.220Z"
   },
   {
    "duration": 3,
    "start_time": "2022-03-14T14:59:25.443Z"
   },
   {
    "duration": 168,
    "start_time": "2022-03-14T14:59:25.447Z"
   },
   {
    "duration": 140,
    "start_time": "2022-03-14T14:59:25.634Z"
   },
   {
    "duration": 95,
    "start_time": "2022-03-14T14:59:25.776Z"
   },
   {
    "duration": 18,
    "start_time": "2022-03-14T14:59:25.872Z"
   },
   {
    "duration": 27,
    "start_time": "2022-03-14T14:59:25.892Z"
   },
   {
    "duration": 79,
    "start_time": "2022-03-14T14:59:25.920Z"
   },
   {
    "duration": 63,
    "start_time": "2022-03-14T14:59:26.001Z"
   },
   {
    "duration": 38,
    "start_time": "2022-03-14T14:59:26.066Z"
   },
   {
    "duration": 6,
    "start_time": "2022-03-14T14:59:26.106Z"
   },
   {
    "duration": 49,
    "start_time": "2022-03-14T14:59:26.114Z"
   },
   {
    "duration": 5,
    "start_time": "2022-03-14T14:59:26.165Z"
   },
   {
    "duration": 17,
    "start_time": "2022-03-14T14:59:26.172Z"
   },
   {
    "duration": 8,
    "start_time": "2022-03-14T14:59:26.191Z"
   },
   {
    "duration": 52,
    "start_time": "2022-03-14T14:59:26.200Z"
   },
   {
    "duration": 6,
    "start_time": "2022-03-14T14:59:26.254Z"
   },
   {
    "duration": 15,
    "start_time": "2022-03-14T14:59:26.261Z"
   },
   {
    "duration": 23,
    "start_time": "2022-03-14T14:59:26.278Z"
   },
   {
    "duration": 30,
    "start_time": "2022-03-14T14:59:26.305Z"
   },
   {
    "duration": 7,
    "start_time": "2022-03-14T14:59:26.338Z"
   },
   {
    "duration": 8,
    "start_time": "2022-03-14T14:59:26.347Z"
   },
   {
    "duration": 96,
    "start_time": "2022-03-14T14:59:26.357Z"
   },
   {
    "duration": 80,
    "start_time": "2022-03-14T14:59:26.454Z"
   },
   {
    "duration": 34,
    "start_time": "2022-03-14T14:59:26.535Z"
   },
   {
    "duration": 17,
    "start_time": "2022-03-14T14:59:26.571Z"
   },
   {
    "duration": 7,
    "start_time": "2022-03-14T14:59:26.589Z"
   },
   {
    "duration": 45,
    "start_time": "2022-03-14T14:59:26.598Z"
   },
   {
    "duration": 15,
    "start_time": "2022-03-14T14:59:26.645Z"
   },
   {
    "duration": 26,
    "start_time": "2022-03-14T14:59:26.662Z"
   },
   {
    "duration": 12,
    "start_time": "2022-03-14T14:59:26.689Z"
   },
   {
    "duration": 49,
    "start_time": "2022-03-14T14:59:26.702Z"
   },
   {
    "duration": 7,
    "start_time": "2022-03-14T14:59:26.752Z"
   },
   {
    "duration": 34,
    "start_time": "2022-03-14T14:59:26.760Z"
   },
   {
    "duration": 6,
    "start_time": "2022-03-14T14:59:26.796Z"
   },
   {
    "duration": 31,
    "start_time": "2022-03-14T14:59:26.803Z"
   },
   {
    "duration": 2,
    "start_time": "2022-03-14T14:59:26.836Z"
   },
   {
    "duration": 108,
    "start_time": "2022-03-14T14:59:26.839Z"
   },
   {
    "duration": 2,
    "start_time": "2022-03-14T14:59:26.949Z"
   },
   {
    "duration": 112,
    "start_time": "2022-03-14T14:59:26.953Z"
   },
   {
    "duration": 3,
    "start_time": "2022-03-14T14:59:27.067Z"
   },
   {
    "duration": 115,
    "start_time": "2022-03-14T14:59:27.071Z"
   },
   {
    "duration": 19,
    "start_time": "2022-03-14T14:59:27.188Z"
   },
   {
    "duration": 41,
    "start_time": "2022-03-14T14:59:27.208Z"
   },
   {
    "duration": 7,
    "start_time": "2022-03-14T14:59:27.250Z"
   },
   {
    "duration": 12,
    "start_time": "2022-03-14T14:59:27.259Z"
   },
   {
    "duration": 16,
    "start_time": "2022-03-14T14:59:27.272Z"
   },
   {
    "duration": 7,
    "start_time": "2022-03-14T14:59:27.290Z"
   },
   {
    "duration": 40,
    "start_time": "2022-03-14T14:59:27.298Z"
   },
   {
    "duration": 7,
    "start_time": "2022-03-14T14:59:27.340Z"
   },
   {
    "duration": 22,
    "start_time": "2022-03-14T14:59:27.348Z"
   },
   {
    "duration": 7,
    "start_time": "2022-03-14T14:59:27.372Z"
   },
   {
    "duration": 8,
    "start_time": "2022-03-14T14:59:27.381Z"
   },
   {
    "duration": 255,
    "start_time": "2022-03-14T14:59:27.391Z"
   },
   {
    "duration": 10,
    "start_time": "2022-03-14T14:59:27.647Z"
   },
   {
    "duration": 7,
    "start_time": "2022-03-14T14:59:27.662Z"
   },
   {
    "duration": 19,
    "start_time": "2022-03-14T14:59:27.670Z"
   },
   {
    "duration": 144,
    "start_time": "2022-03-14T14:59:27.691Z"
   },
   {
    "duration": 183,
    "start_time": "2022-03-14T14:59:27.837Z"
   },
   {
    "duration": 189,
    "start_time": "2022-03-14T14:59:28.022Z"
   },
   {
    "duration": 7,
    "start_time": "2022-03-14T14:59:28.212Z"
   },
   {
    "duration": 17,
    "start_time": "2022-03-14T14:59:28.220Z"
   },
   {
    "duration": 22,
    "start_time": "2022-03-14T14:59:28.239Z"
   },
   {
    "duration": 9,
    "start_time": "2022-03-14T14:59:28.263Z"
   },
   {
    "duration": 8,
    "start_time": "2022-03-14T14:59:28.273Z"
   },
   {
    "duration": 140,
    "start_time": "2022-03-14T14:59:28.282Z"
   },
   {
    "duration": 13,
    "start_time": "2022-03-14T14:59:28.424Z"
   },
   {
    "duration": 135,
    "start_time": "2022-03-14T14:59:28.439Z"
   },
   {
    "duration": 169,
    "start_time": "2022-03-14T14:59:28.575Z"
   },
   {
    "duration": 176,
    "start_time": "2022-03-14T14:59:28.746Z"
   },
   {
    "duration": 13,
    "start_time": "2022-03-14T14:59:28.923Z"
   },
   {
    "duration": 11,
    "start_time": "2022-03-14T14:59:46.063Z"
   },
   {
    "duration": 10,
    "start_time": "2022-03-14T14:59:49.440Z"
   },
   {
    "duration": 18,
    "start_time": "2022-03-14T15:01:27.148Z"
   },
   {
    "duration": 116,
    "start_time": "2022-03-14T15:02:00.148Z"
   },
   {
    "duration": 8,
    "start_time": "2022-03-14T15:02:52.588Z"
   },
   {
    "duration": 8,
    "start_time": "2022-03-14T15:03:00.843Z"
   },
   {
    "duration": 120,
    "start_time": "2022-03-14T15:03:06.546Z"
   },
   {
    "duration": 8,
    "start_time": "2022-03-14T15:03:16.537Z"
   },
   {
    "duration": 133,
    "start_time": "2022-03-14T15:03:24.099Z"
   },
   {
    "duration": 168,
    "start_time": "2022-03-14T15:03:39.202Z"
   },
   {
    "duration": 233,
    "start_time": "2022-03-14T15:03:46.771Z"
   },
   {
    "duration": 60,
    "start_time": "2022-03-14T15:05:08.940Z"
   },
   {
    "duration": 54,
    "start_time": "2022-03-14T15:07:02.546Z"
   },
   {
    "duration": 47,
    "start_time": "2022-03-14T15:08:40.308Z"
   },
   {
    "duration": 6,
    "start_time": "2022-03-14T15:10:17.080Z"
   },
   {
    "duration": 6,
    "start_time": "2022-03-14T15:11:30.649Z"
   },
   {
    "duration": 7,
    "start_time": "2022-03-14T15:11:47.394Z"
   },
   {
    "duration": 4,
    "start_time": "2022-03-14T15:18:09.829Z"
   },
   {
    "duration": 4,
    "start_time": "2022-03-14T15:18:50.774Z"
   },
   {
    "duration": 6,
    "start_time": "2022-03-14T15:21:21.907Z"
   },
   {
    "duration": 6,
    "start_time": "2022-03-14T15:22:04.517Z"
   },
   {
    "duration": 11,
    "start_time": "2022-03-14T15:23:01.133Z"
   },
   {
    "duration": 11,
    "start_time": "2022-03-14T15:23:26.956Z"
   },
   {
    "duration": 11,
    "start_time": "2022-03-14T15:24:41.116Z"
   },
   {
    "duration": 11,
    "start_time": "2022-03-14T15:25:14.140Z"
   },
   {
    "duration": 10,
    "start_time": "2022-03-14T15:25:54.220Z"
   },
   {
    "duration": 11,
    "start_time": "2022-03-14T15:26:17.139Z"
   },
   {
    "duration": 10,
    "start_time": "2022-03-14T15:29:54.266Z"
   },
   {
    "duration": 244,
    "start_time": "2022-03-14T15:30:02.794Z"
   },
   {
    "duration": 10,
    "start_time": "2022-03-14T15:30:08.083Z"
   },
   {
    "duration": 11,
    "start_time": "2022-03-14T15:30:38.795Z"
   },
   {
    "duration": 188,
    "start_time": "2022-03-14T15:33:12.068Z"
   },
   {
    "duration": 11,
    "start_time": "2022-03-14T15:34:08.943Z"
   },
   {
    "duration": 13,
    "start_time": "2022-03-14T15:34:22.998Z"
   },
   {
    "duration": 18,
    "start_time": "2022-03-14T15:34:48.929Z"
   },
   {
    "duration": 1089,
    "start_time": "2022-03-14T15:35:06.256Z"
   },
   {
    "duration": 18,
    "start_time": "2022-03-14T15:35:13.143Z"
   },
   {
    "duration": 16,
    "start_time": "2022-03-14T15:35:50.756Z"
   },
   {
    "duration": 17,
    "start_time": "2022-03-14T15:35:56.624Z"
   },
   {
    "duration": 199,
    "start_time": "2022-03-14T15:38:16.176Z"
   },
   {
    "duration": 18,
    "start_time": "2022-03-14T15:38:22.215Z"
   },
   {
    "duration": 17,
    "start_time": "2022-03-14T15:38:36.911Z"
   },
   {
    "duration": 42,
    "start_time": "2022-03-14T15:39:27.223Z"
   },
   {
    "duration": 17,
    "start_time": "2022-03-14T15:40:18.166Z"
   },
   {
    "duration": 13,
    "start_time": "2022-03-14T15:45:41.084Z"
   },
   {
    "duration": 15,
    "start_time": "2022-03-14T15:45:44.991Z"
   },
   {
    "duration": 6,
    "start_time": "2022-03-14T15:46:33.684Z"
   },
   {
    "duration": 5,
    "start_time": "2022-03-14T15:46:58.789Z"
   },
   {
    "duration": 5,
    "start_time": "2022-03-14T15:47:54.446Z"
   },
   {
    "duration": 4,
    "start_time": "2022-03-14T15:54:26.634Z"
   },
   {
    "duration": 5,
    "start_time": "2022-03-14T15:54:37.505Z"
   },
   {
    "duration": 7,
    "start_time": "2022-03-14T15:54:55.299Z"
   },
   {
    "duration": 6,
    "start_time": "2022-03-14T15:55:00.754Z"
   },
   {
    "duration": 5,
    "start_time": "2022-03-14T15:55:06.019Z"
   },
   {
    "duration": 4,
    "start_time": "2022-03-14T15:55:49.908Z"
   },
   {
    "duration": 5,
    "start_time": "2022-03-14T15:56:25.002Z"
   },
   {
    "duration": 7,
    "start_time": "2022-03-14T15:56:58.969Z"
   },
   {
    "duration": 6,
    "start_time": "2022-03-14T15:57:26.401Z"
   },
   {
    "duration": 8,
    "start_time": "2022-03-14T15:58:56.289Z"
   },
   {
    "duration": 8,
    "start_time": "2022-03-14T15:59:08.529Z"
   },
   {
    "duration": 53,
    "start_time": "2022-03-14T16:02:49.688Z"
   },
   {
    "duration": 8,
    "start_time": "2022-03-14T16:05:51.383Z"
   },
   {
    "duration": 8,
    "start_time": "2022-03-14T16:06:30.390Z"
   },
   {
    "duration": 8,
    "start_time": "2022-03-14T16:06:42.014Z"
   },
   {
    "duration": 9,
    "start_time": "2022-03-14T16:07:37.871Z"
   },
   {
    "duration": 9,
    "start_time": "2022-03-14T16:07:56.846Z"
   },
   {
    "duration": 7,
    "start_time": "2022-03-14T16:08:13.518Z"
   },
   {
    "duration": 8,
    "start_time": "2022-03-14T16:09:06.854Z"
   },
   {
    "duration": 8,
    "start_time": "2022-03-14T16:09:19.749Z"
   },
   {
    "duration": 8,
    "start_time": "2022-03-14T16:11:18.628Z"
   },
   {
    "duration": 272,
    "start_time": "2022-03-15T05:30:54.951Z"
   },
   {
    "duration": 766,
    "start_time": "2022-03-15T05:38:06.849Z"
   },
   {
    "duration": 229,
    "start_time": "2022-03-15T05:38:07.618Z"
   },
   {
    "duration": 207,
    "start_time": "2022-03-15T05:38:07.850Z"
   },
   {
    "duration": 133,
    "start_time": "2022-03-15T05:38:08.060Z"
   },
   {
    "duration": 25,
    "start_time": "2022-03-15T05:38:08.196Z"
   },
   {
    "duration": 47,
    "start_time": "2022-03-15T05:38:08.223Z"
   },
   {
    "duration": 136,
    "start_time": "2022-03-15T05:38:08.272Z"
   },
   {
    "duration": 108,
    "start_time": "2022-03-15T05:38:08.410Z"
   },
   {
    "duration": 71,
    "start_time": "2022-03-15T05:38:08.522Z"
   },
   {
    "duration": 8,
    "start_time": "2022-03-15T05:38:08.596Z"
   },
   {
    "duration": 69,
    "start_time": "2022-03-15T05:38:08.607Z"
   },
   {
    "duration": 10,
    "start_time": "2022-03-15T05:38:08.678Z"
   },
   {
    "duration": 35,
    "start_time": "2022-03-15T05:38:08.691Z"
   },
   {
    "duration": 13,
    "start_time": "2022-03-15T05:38:08.728Z"
   },
   {
    "duration": 61,
    "start_time": "2022-03-15T05:38:08.743Z"
   },
   {
    "duration": 8,
    "start_time": "2022-03-15T05:38:08.807Z"
   },
   {
    "duration": 16,
    "start_time": "2022-03-15T05:38:08.818Z"
   },
   {
    "duration": 62,
    "start_time": "2022-03-15T05:38:08.837Z"
   },
   {
    "duration": 9,
    "start_time": "2022-03-15T05:38:08.901Z"
   },
   {
    "duration": 17,
    "start_time": "2022-03-15T05:38:08.912Z"
   },
   {
    "duration": 26,
    "start_time": "2022-03-15T05:38:08.931Z"
   },
   {
    "duration": 158,
    "start_time": "2022-03-15T05:38:08.960Z"
   },
   {
    "duration": 110,
    "start_time": "2022-03-15T05:38:09.121Z"
   },
   {
    "duration": 68,
    "start_time": "2022-03-15T05:38:09.233Z"
   },
   {
    "duration": 26,
    "start_time": "2022-03-15T05:38:09.303Z"
   },
   {
    "duration": 12,
    "start_time": "2022-03-15T05:38:09.332Z"
   },
   {
    "duration": 61,
    "start_time": "2022-03-15T05:38:09.350Z"
   },
   {
    "duration": 23,
    "start_time": "2022-03-15T05:38:09.415Z"
   },
   {
    "duration": 68,
    "start_time": "2022-03-15T05:38:09.441Z"
   },
   {
    "duration": 19,
    "start_time": "2022-03-15T05:38:09.511Z"
   },
   {
    "duration": 55,
    "start_time": "2022-03-15T05:38:09.533Z"
   },
   {
    "duration": 11,
    "start_time": "2022-03-15T05:38:09.590Z"
   },
   {
    "duration": 55,
    "start_time": "2022-03-15T05:38:09.603Z"
   },
   {
    "duration": 28,
    "start_time": "2022-03-15T05:38:09.661Z"
   },
   {
    "duration": 14,
    "start_time": "2022-03-15T05:38:09.691Z"
   },
   {
    "duration": 5,
    "start_time": "2022-03-15T05:38:09.707Z"
   },
   {
    "duration": 202,
    "start_time": "2022-03-15T05:38:09.714Z"
   },
   {
    "duration": 4,
    "start_time": "2022-03-15T05:38:09.919Z"
   },
   {
    "duration": 180,
    "start_time": "2022-03-15T05:38:09.925Z"
   },
   {
    "duration": 4,
    "start_time": "2022-03-15T05:38:10.108Z"
   },
   {
    "duration": 202,
    "start_time": "2022-03-15T05:38:10.114Z"
   },
   {
    "duration": 35,
    "start_time": "2022-03-15T05:38:10.318Z"
   },
   {
    "duration": 61,
    "start_time": "2022-03-15T05:38:10.355Z"
   },
   {
    "duration": 12,
    "start_time": "2022-03-15T05:38:10.419Z"
   },
   {
    "duration": 19,
    "start_time": "2022-03-15T05:38:10.433Z"
   },
   {
    "duration": 54,
    "start_time": "2022-03-15T05:38:10.455Z"
   },
   {
    "duration": 14,
    "start_time": "2022-03-15T05:38:10.511Z"
   },
   {
    "duration": 17,
    "start_time": "2022-03-15T05:38:10.527Z"
   },
   {
    "duration": 47,
    "start_time": "2022-03-15T05:38:10.546Z"
   },
   {
    "duration": 12,
    "start_time": "2022-03-15T05:38:10.596Z"
   },
   {
    "duration": 12,
    "start_time": "2022-03-15T05:38:10.610Z"
   },
   {
    "duration": 336,
    "start_time": "2022-03-15T05:38:10.625Z"
   },
   {
    "duration": 24,
    "start_time": "2022-03-15T05:38:10.963Z"
   },
   {
    "duration": 12,
    "start_time": "2022-03-15T05:38:10.990Z"
   },
   {
    "duration": 12,
    "start_time": "2022-03-15T05:38:11.004Z"
   },
   {
    "duration": 293,
    "start_time": "2022-03-15T05:38:11.019Z"
   },
   {
    "duration": 9,
    "start_time": "2022-03-15T05:38:11.315Z"
   },
   {
    "duration": 17,
    "start_time": "2022-03-15T05:38:11.327Z"
   },
   {
    "duration": 321,
    "start_time": "2022-03-15T05:38:11.346Z"
   },
   {
    "duration": 307,
    "start_time": "2022-03-15T05:38:11.670Z"
   },
   {
    "duration": 12,
    "start_time": "2022-03-15T05:38:11.979Z"
   },
   {
    "duration": 32,
    "start_time": "2022-03-15T05:38:11.993Z"
   },
   {
    "duration": 13,
    "start_time": "2022-03-15T05:38:12.027Z"
   },
   {
    "duration": 42,
    "start_time": "2022-03-15T05:38:12.042Z"
   },
   {
    "duration": 223,
    "start_time": "2022-03-15T05:38:12.087Z"
   },
   {
    "duration": 12,
    "start_time": "2022-03-15T05:38:12.313Z"
   },
   {
    "duration": 233,
    "start_time": "2022-03-15T05:38:12.328Z"
   },
   {
    "duration": 20,
    "start_time": "2022-03-15T05:38:12.564Z"
   },
   {
    "duration": 289,
    "start_time": "2022-03-15T05:38:12.586Z"
   },
   {
    "duration": 304,
    "start_time": "2022-03-15T05:38:12.878Z"
   },
   {
    "duration": 13,
    "start_time": "2022-03-15T05:38:13.185Z"
   },
   {
    "duration": 27,
    "start_time": "2022-03-15T05:38:13.200Z"
   },
   {
    "duration": 12,
    "start_time": "2022-03-15T05:38:13.230Z"
   },
   {
    "duration": 45,
    "start_time": "2022-03-15T05:38:13.245Z"
   },
   {
    "duration": 252,
    "start_time": "2022-03-15T05:38:13.293Z"
   },
   {
    "duration": 12,
    "start_time": "2022-03-15T05:38:13.547Z"
   },
   {
    "duration": 245,
    "start_time": "2022-03-15T05:38:13.562Z"
   },
   {
    "duration": 315,
    "start_time": "2022-03-15T05:38:13.809Z"
   },
   {
    "duration": 303,
    "start_time": "2022-03-15T05:38:14.126Z"
   },
   {
    "duration": 9,
    "start_time": "2022-03-15T05:38:14.432Z"
   },
   {
    "duration": 34,
    "start_time": "2022-03-15T05:38:14.449Z"
   },
   {
    "duration": 47,
    "start_time": "2022-03-15T05:51:18.269Z"
   },
   {
    "duration": 79,
    "start_time": "2022-03-15T05:51:34.810Z"
   },
   {
    "duration": 271,
    "start_time": "2022-03-15T05:51:42.148Z"
   },
   {
    "duration": 26,
    "start_time": "2022-03-15T05:51:46.948Z"
   },
   {
    "duration": 13,
    "start_time": "2022-03-15T05:55:10.435Z"
   },
   {
    "duration": 302,
    "start_time": "2022-03-15T05:55:19.394Z"
   },
   {
    "duration": 17,
    "start_time": "2022-03-15T05:55:35.228Z"
   },
   {
    "duration": 10,
    "start_time": "2022-03-15T05:55:46.220Z"
   },
   {
    "duration": 89,
    "start_time": "2022-03-15T05:57:00.667Z"
   },
   {
    "duration": 80,
    "start_time": "2022-03-15T05:57:11.602Z"
   },
   {
    "duration": 145,
    "start_time": "2022-03-15T05:57:19.955Z"
   },
   {
    "duration": 10,
    "start_time": "2022-03-15T05:57:43.580Z"
   },
   {
    "duration": 10,
    "start_time": "2022-03-15T05:58:20.163Z"
   },
   {
    "duration": 20,
    "start_time": "2022-03-15T06:01:37.683Z"
   },
   {
    "duration": 18,
    "start_time": "2022-03-15T06:01:50.201Z"
   },
   {
    "duration": 26,
    "start_time": "2022-03-15T06:02:06.432Z"
   },
   {
    "duration": 25,
    "start_time": "2022-03-15T06:02:15.922Z"
   },
   {
    "duration": 20,
    "start_time": "2022-03-15T06:02:58.073Z"
   },
   {
    "duration": 20,
    "start_time": "2022-03-15T06:03:06.305Z"
   },
   {
    "duration": 19,
    "start_time": "2022-03-15T06:03:12.647Z"
   },
   {
    "duration": 20,
    "start_time": "2022-03-15T06:45:27.868Z"
   },
   {
    "duration": 4,
    "start_time": "2022-03-15T06:45:41.408Z"
   },
   {
    "duration": 244,
    "start_time": "2022-03-15T06:45:41.414Z"
   },
   {
    "duration": 197,
    "start_time": "2022-03-15T06:45:41.661Z"
   },
   {
    "duration": 122,
    "start_time": "2022-03-15T06:45:41.861Z"
   },
   {
    "duration": 27,
    "start_time": "2022-03-15T06:45:41.985Z"
   },
   {
    "duration": 34,
    "start_time": "2022-03-15T06:45:42.015Z"
   },
   {
    "duration": 133,
    "start_time": "2022-03-15T06:45:42.052Z"
   },
   {
    "duration": 77,
    "start_time": "2022-03-15T06:45:42.188Z"
   },
   {
    "duration": 51,
    "start_time": "2022-03-15T06:45:42.284Z"
   },
   {
    "duration": 11,
    "start_time": "2022-03-15T06:45:42.339Z"
   },
   {
    "duration": 79,
    "start_time": "2022-03-15T06:45:42.353Z"
   },
   {
    "duration": 11,
    "start_time": "2022-03-15T06:45:42.435Z"
   },
   {
    "duration": 51,
    "start_time": "2022-03-15T06:45:42.448Z"
   },
   {
    "duration": 13,
    "start_time": "2022-03-15T06:45:42.502Z"
   },
   {
    "duration": 68,
    "start_time": "2022-03-15T06:45:42.517Z"
   },
   {
    "duration": 8,
    "start_time": "2022-03-15T06:45:42.587Z"
   },
   {
    "duration": 17,
    "start_time": "2022-03-15T06:45:42.598Z"
   },
   {
    "duration": 33,
    "start_time": "2022-03-15T06:45:42.617Z"
   },
   {
    "duration": 9,
    "start_time": "2022-03-15T06:45:42.683Z"
   },
   {
    "duration": 11,
    "start_time": "2022-03-15T06:45:42.694Z"
   },
   {
    "duration": 9,
    "start_time": "2022-03-15T06:45:42.707Z"
   },
   {
    "duration": 157,
    "start_time": "2022-03-15T06:45:42.718Z"
   },
   {
    "duration": 91,
    "start_time": "2022-03-15T06:45:42.882Z"
   },
   {
    "duration": 55,
    "start_time": "2022-03-15T06:45:42.983Z"
   },
   {
    "duration": 46,
    "start_time": "2022-03-15T06:45:43.040Z"
   },
   {
    "duration": 13,
    "start_time": "2022-03-15T06:45:43.090Z"
   },
   {
    "duration": 31,
    "start_time": "2022-03-15T06:45:43.110Z"
   },
   {
    "duration": 50,
    "start_time": "2022-03-15T06:45:43.144Z"
   },
   {
    "duration": 41,
    "start_time": "2022-03-15T06:45:43.197Z"
   },
   {
    "duration": 43,
    "start_time": "2022-03-15T06:45:43.240Z"
   },
   {
    "duration": 33,
    "start_time": "2022-03-15T06:45:43.285Z"
   },
   {
    "duration": 10,
    "start_time": "2022-03-15T06:45:43.320Z"
   },
   {
    "duration": 79,
    "start_time": "2022-03-15T06:45:43.333Z"
   },
   {
    "duration": 11,
    "start_time": "2022-03-15T06:45:43.414Z"
   },
   {
    "duration": 14,
    "start_time": "2022-03-15T06:45:43.428Z"
   },
   {
    "duration": 5,
    "start_time": "2022-03-15T06:45:43.445Z"
   },
   {
    "duration": 190,
    "start_time": "2022-03-15T06:45:43.482Z"
   },
   {
    "duration": 8,
    "start_time": "2022-03-15T06:45:43.675Z"
   },
   {
    "duration": 182,
    "start_time": "2022-03-15T06:45:43.686Z"
   },
   {
    "duration": 4,
    "start_time": "2022-03-15T06:45:43.871Z"
   },
   {
    "duration": 186,
    "start_time": "2022-03-15T06:45:43.882Z"
   },
   {
    "duration": 39,
    "start_time": "2022-03-15T06:45:44.071Z"
   },
   {
    "duration": 37,
    "start_time": "2022-03-15T06:45:44.113Z"
   },
   {
    "duration": 39,
    "start_time": "2022-03-15T06:45:44.153Z"
   },
   {
    "duration": 21,
    "start_time": "2022-03-15T06:45:44.195Z"
   },
   {
    "duration": 27,
    "start_time": "2022-03-15T06:45:44.219Z"
   },
   {
    "duration": 12,
    "start_time": "2022-03-15T06:45:44.283Z"
   },
   {
    "duration": 18,
    "start_time": "2022-03-15T06:45:44.297Z"
   },
   {
    "duration": 14,
    "start_time": "2022-03-15T06:45:44.317Z"
   },
   {
    "duration": 48,
    "start_time": "2022-03-15T06:45:44.334Z"
   },
   {
    "duration": 10,
    "start_time": "2022-03-15T06:45:44.385Z"
   },
   {
    "duration": 237,
    "start_time": "2022-03-15T06:45:44.398Z"
   },
   {
    "duration": 18,
    "start_time": "2022-03-15T06:45:44.638Z"
   },
   {
    "duration": 27,
    "start_time": "2022-03-15T06:45:44.658Z"
   },
   {
    "duration": 14,
    "start_time": "2022-03-15T06:45:44.687Z"
   },
   {
    "duration": 256,
    "start_time": "2022-03-15T06:45:44.703Z"
   },
   {
    "duration": 25,
    "start_time": "2022-03-15T06:45:44.962Z"
   },
   {
    "duration": 15,
    "start_time": "2022-03-15T06:45:44.990Z"
   },
   {
    "duration": 305,
    "start_time": "2022-03-15T06:45:45.009Z"
   },
   {
    "duration": 316,
    "start_time": "2022-03-15T06:45:45.317Z"
   },
   {
    "duration": 13,
    "start_time": "2022-03-15T06:45:45.636Z"
   },
   {
    "duration": 43,
    "start_time": "2022-03-15T06:45:45.651Z"
   },
   {
    "duration": 26,
    "start_time": "2022-03-15T06:45:45.697Z"
   },
   {
    "duration": 13,
    "start_time": "2022-03-15T06:45:45.725Z"
   },
   {
    "duration": 44,
    "start_time": "2022-03-15T06:45:45.740Z"
   },
   {
    "duration": 211,
    "start_time": "2022-03-15T06:45:45.787Z"
   },
   {
    "duration": 11,
    "start_time": "2022-03-15T06:45:46.001Z"
   },
   {
    "duration": 234,
    "start_time": "2022-03-15T06:45:46.015Z"
   },
   {
    "duration": 9,
    "start_time": "2022-03-15T06:45:46.252Z"
   },
   {
    "duration": 294,
    "start_time": "2022-03-15T06:45:46.264Z"
   },
   {
    "duration": 297,
    "start_time": "2022-03-15T06:45:46.561Z"
   },
   {
    "duration": 21,
    "start_time": "2022-03-15T06:45:46.861Z"
   },
   {
    "duration": 20,
    "start_time": "2022-03-15T06:45:49.203Z"
   },
   {
    "duration": 23,
    "start_time": "2022-03-15T06:48:02.865Z"
   },
   {
    "duration": 21,
    "start_time": "2022-03-15T06:48:06.826Z"
   },
   {
    "duration": 23,
    "start_time": "2022-03-15T06:50:10.544Z"
   },
   {
    "duration": 47,
    "start_time": "2022-03-15T06:50:17.063Z"
   },
   {
    "duration": 22,
    "start_time": "2022-03-15T06:50:34.899Z"
   },
   {
    "duration": 19,
    "start_time": "2022-03-15T06:52:13.831Z"
   },
   {
    "duration": 19,
    "start_time": "2022-03-15T06:52:37.969Z"
   },
   {
    "duration": 85,
    "start_time": "2022-03-15T07:36:09.786Z"
   },
   {
    "duration": 15,
    "start_time": "2022-03-15T09:07:13.348Z"
   },
   {
    "duration": 10,
    "start_time": "2022-03-15T09:07:23.317Z"
   },
   {
    "duration": 8,
    "start_time": "2022-03-15T09:08:27.942Z"
   },
   {
    "duration": 9,
    "start_time": "2022-03-15T09:08:41.783Z"
   },
   {
    "duration": 9,
    "start_time": "2022-03-15T09:08:48.471Z"
   },
   {
    "duration": 11,
    "start_time": "2022-03-15T09:17:37.501Z"
   },
   {
    "duration": 4,
    "start_time": "2022-03-15T09:18:19.334Z"
   },
   {
    "duration": 262,
    "start_time": "2022-03-15T09:18:19.340Z"
   },
   {
    "duration": 193,
    "start_time": "2022-03-15T09:18:19.605Z"
   },
   {
    "duration": 132,
    "start_time": "2022-03-15T09:18:19.801Z"
   },
   {
    "duration": 26,
    "start_time": "2022-03-15T09:18:19.936Z"
   },
   {
    "duration": 41,
    "start_time": "2022-03-15T09:18:19.965Z"
   },
   {
    "duration": 141,
    "start_time": "2022-03-15T09:18:20.010Z"
   },
   {
    "duration": 91,
    "start_time": "2022-03-15T09:18:20.154Z"
   },
   {
    "duration": 63,
    "start_time": "2022-03-15T09:18:20.248Z"
   },
   {
    "duration": 9,
    "start_time": "2022-03-15T09:18:20.314Z"
   },
   {
    "duration": 78,
    "start_time": "2022-03-15T09:18:20.326Z"
   },
   {
    "duration": 8,
    "start_time": "2022-03-15T09:18:20.407Z"
   },
   {
    "duration": 25,
    "start_time": "2022-03-15T09:18:20.418Z"
   },
   {
    "duration": 40,
    "start_time": "2022-03-15T09:18:20.445Z"
   },
   {
    "duration": 43,
    "start_time": "2022-03-15T09:18:20.487Z"
   },
   {
    "duration": 10,
    "start_time": "2022-03-15T09:18:20.532Z"
   },
   {
    "duration": 47,
    "start_time": "2022-03-15T09:18:20.544Z"
   },
   {
    "duration": 36,
    "start_time": "2022-03-15T09:18:20.594Z"
   },
   {
    "duration": 8,
    "start_time": "2022-03-15T09:18:20.636Z"
   },
   {
    "duration": 42,
    "start_time": "2022-03-15T09:18:20.648Z"
   },
   {
    "duration": 13,
    "start_time": "2022-03-15T09:18:20.692Z"
   },
   {
    "duration": 146,
    "start_time": "2022-03-15T09:18:20.708Z"
   },
   {
    "duration": 103,
    "start_time": "2022-03-15T09:18:20.857Z"
   },
   {
    "duration": 62,
    "start_time": "2022-03-15T09:18:20.963Z"
   },
   {
    "duration": 26,
    "start_time": "2022-03-15T09:18:21.028Z"
   },
   {
    "duration": 33,
    "start_time": "2022-03-15T09:18:21.056Z"
   },
   {
    "duration": 40,
    "start_time": "2022-03-15T09:18:21.091Z"
   },
   {
    "duration": 24,
    "start_time": "2022-03-15T09:18:21.134Z"
   },
   {
    "duration": 43,
    "start_time": "2022-03-15T09:18:21.183Z"
   },
   {
    "duration": 19,
    "start_time": "2022-03-15T09:18:21.228Z"
   },
   {
    "duration": 66,
    "start_time": "2022-03-15T09:18:21.249Z"
   },
   {
    "duration": 10,
    "start_time": "2022-03-15T09:18:21.317Z"
   },
   {
    "duration": 70,
    "start_time": "2022-03-15T09:18:21.329Z"
   },
   {
    "duration": 10,
    "start_time": "2022-03-15T09:18:21.401Z"
   },
   {
    "duration": 15,
    "start_time": "2022-03-15T09:18:21.414Z"
   },
   {
    "duration": 4,
    "start_time": "2022-03-15T09:18:21.432Z"
   },
   {
    "duration": 201,
    "start_time": "2022-03-15T09:18:21.438Z"
   },
   {
    "duration": 4,
    "start_time": "2022-03-15T09:18:21.641Z"
   },
   {
    "duration": 266,
    "start_time": "2022-03-15T09:18:21.648Z"
   },
   {
    "duration": 4,
    "start_time": "2022-03-15T09:18:21.917Z"
   },
   {
    "duration": 194,
    "start_time": "2022-03-15T09:18:21.923Z"
   },
   {
    "duration": 35,
    "start_time": "2022-03-15T09:18:22.120Z"
   },
   {
    "duration": 59,
    "start_time": "2022-03-15T09:18:22.157Z"
   },
   {
    "duration": 11,
    "start_time": "2022-03-15T09:18:22.218Z"
   },
   {
    "duration": 21,
    "start_time": "2022-03-15T09:18:22.232Z"
   },
   {
    "duration": 30,
    "start_time": "2022-03-15T09:18:22.283Z"
   },
   {
    "duration": 14,
    "start_time": "2022-03-15T09:18:22.316Z"
   },
   {
    "duration": 16,
    "start_time": "2022-03-15T09:18:22.332Z"
   },
   {
    "duration": 46,
    "start_time": "2022-03-15T09:18:22.351Z"
   },
   {
    "duration": 8,
    "start_time": "2022-03-15T09:18:22.399Z"
   },
   {
    "duration": 10,
    "start_time": "2022-03-15T09:18:22.409Z"
   },
   {
    "duration": 260,
    "start_time": "2022-03-15T09:18:22.422Z"
   },
   {
    "duration": 16,
    "start_time": "2022-03-15T09:18:22.685Z"
   },
   {
    "duration": 8,
    "start_time": "2022-03-15T09:18:22.703Z"
   },
   {
    "duration": 9,
    "start_time": "2022-03-15T09:18:22.719Z"
   },
   {
    "duration": 256,
    "start_time": "2022-03-15T09:18:22.731Z"
   },
   {
    "duration": 8,
    "start_time": "2022-03-15T09:18:22.990Z"
   },
   {
    "duration": 11,
    "start_time": "2022-03-15T09:18:23.001Z"
   },
   {
    "duration": 316,
    "start_time": "2022-03-15T09:18:23.015Z"
   },
   {
    "duration": 297,
    "start_time": "2022-03-15T09:18:23.334Z"
   },
   {
    "duration": 14,
    "start_time": "2022-03-15T09:18:23.634Z"
   },
   {
    "duration": 45,
    "start_time": "2022-03-15T09:18:23.650Z"
   },
   {
    "duration": 26,
    "start_time": "2022-03-15T09:18:23.698Z"
   },
   {
    "duration": 12,
    "start_time": "2022-03-15T09:18:23.727Z"
   },
   {
    "duration": 11,
    "start_time": "2022-03-15T09:18:23.741Z"
   },
   {
    "duration": 228,
    "start_time": "2022-03-15T09:18:23.783Z"
   },
   {
    "duration": 12,
    "start_time": "2022-03-15T09:18:24.014Z"
   },
   {
    "duration": 236,
    "start_time": "2022-03-15T09:18:24.029Z"
   },
   {
    "duration": 20,
    "start_time": "2022-03-15T09:18:24.268Z"
   },
   {
    "duration": 297,
    "start_time": "2022-03-15T09:18:24.290Z"
   },
   {
    "duration": 332,
    "start_time": "2022-03-15T09:18:24.590Z"
   },
   {
    "duration": 13,
    "start_time": "2022-03-15T09:18:24.925Z"
   },
   {
    "duration": 42,
    "start_time": "2022-03-15T09:18:24.941Z"
   },
   {
    "duration": 27,
    "start_time": "2022-03-15T09:18:24.986Z"
   },
   {
    "duration": 12,
    "start_time": "2022-03-15T09:18:25.016Z"
   },
   {
    "duration": 27,
    "start_time": "2022-03-15T09:18:25.031Z"
   },
   {
    "duration": 237,
    "start_time": "2022-03-15T09:18:25.060Z"
   },
   {
    "duration": 9,
    "start_time": "2022-03-15T09:18:25.299Z"
   },
   {
    "duration": 265,
    "start_time": "2022-03-15T09:18:25.310Z"
   },
   {
    "duration": 293,
    "start_time": "2022-03-15T09:18:25.578Z"
   },
   {
    "duration": 324,
    "start_time": "2022-03-15T09:18:25.873Z"
   },
   {
    "duration": 11,
    "start_time": "2022-03-15T09:18:26.200Z"
   },
   {
    "duration": 15,
    "start_time": "2022-03-15T09:18:26.213Z"
   },
   {
    "duration": 52,
    "start_time": "2022-03-15T09:18:26.230Z"
   },
   {
    "duration": 4,
    "start_time": "2022-03-15T09:19:01.347Z"
   },
   {
    "duration": 516,
    "start_time": "2022-03-15T09:42:40.383Z"
   },
   {
    "duration": 744,
    "start_time": "2022-03-15T09:43:10.467Z"
   },
   {
    "duration": 299,
    "start_time": "2022-03-15T09:43:18.883Z"
   },
   {
    "duration": 32,
    "start_time": "2022-03-15T10:05:55.802Z"
   },
   {
    "duration": 7,
    "start_time": "2022-03-15T10:06:20.689Z"
   },
   {
    "duration": 79,
    "start_time": "2022-03-15T10:06:48.836Z"
   },
   {
    "duration": 224,
    "start_time": "2022-03-15T10:08:15.896Z"
   },
   {
    "duration": 10,
    "start_time": "2022-03-15T10:08:27.211Z"
   },
   {
    "duration": 444,
    "start_time": "2022-03-15T10:14:40.352Z"
   },
   {
    "duration": 9,
    "start_time": "2022-03-15T10:15:04.511Z"
   },
   {
    "duration": 10,
    "start_time": "2022-03-15T10:15:11.458Z"
   },
   {
    "duration": 8,
    "start_time": "2022-03-15T10:17:46.368Z"
   },
   {
    "duration": 33,
    "start_time": "2022-03-15T10:17:54.927Z"
   },
   {
    "duration": 11,
    "start_time": "2022-03-15T10:19:33.219Z"
   },
   {
    "duration": 9,
    "start_time": "2022-03-15T10:20:34.982Z"
   },
   {
    "duration": 10,
    "start_time": "2022-03-15T10:20:48.824Z"
   },
   {
    "duration": 11,
    "start_time": "2022-03-15T10:21:01.429Z"
   },
   {
    "duration": 11,
    "start_time": "2022-03-15T10:21:30.708Z"
   },
   {
    "duration": 12,
    "start_time": "2022-03-15T10:21:35.448Z"
   },
   {
    "duration": 282,
    "start_time": "2022-03-15T10:28:26.165Z"
   },
   {
    "duration": 244,
    "start_time": "2022-03-15T10:28:32.656Z"
   },
   {
    "duration": 272,
    "start_time": "2022-03-15T10:28:40.189Z"
   },
   {
    "duration": 280,
    "start_time": "2022-03-15T10:29:02.252Z"
   },
   {
    "duration": 289,
    "start_time": "2022-03-15T10:29:47.051Z"
   },
   {
    "duration": 290,
    "start_time": "2022-03-15T10:30:01.812Z"
   },
   {
    "duration": 287,
    "start_time": "2022-03-15T10:30:11.852Z"
   },
   {
    "duration": 271,
    "start_time": "2022-03-15T10:30:49.390Z"
   },
   {
    "duration": 15,
    "start_time": "2022-03-15T10:47:33.652Z"
   },
   {
    "duration": 230,
    "start_time": "2022-03-15T10:49:01.510Z"
   },
   {
    "duration": 310,
    "start_time": "2022-03-15T10:49:24.006Z"
   },
   {
    "duration": 7,
    "start_time": "2022-03-15T10:50:11.103Z"
   },
   {
    "duration": 15,
    "start_time": "2022-03-15T10:50:28.484Z"
   },
   {
    "duration": 7,
    "start_time": "2022-03-15T10:50:43.517Z"
   },
   {
    "duration": 6,
    "start_time": "2022-03-15T10:52:34.022Z"
   },
   {
    "duration": 15,
    "start_time": "2022-03-15T10:52:50.142Z"
   },
   {
    "duration": 16,
    "start_time": "2022-03-15T10:52:59.043Z"
   },
   {
    "duration": 127,
    "start_time": "2022-03-15T10:53:24.542Z"
   },
   {
    "duration": 12,
    "start_time": "2022-03-15T11:05:26.841Z"
   },
   {
    "duration": 16,
    "start_time": "2022-03-15T11:06:48.047Z"
   },
   {
    "duration": 16,
    "start_time": "2022-03-15T11:08:31.647Z"
   },
   {
    "duration": 17,
    "start_time": "2022-03-15T11:08:39.560Z"
   },
   {
    "duration": 16,
    "start_time": "2022-03-15T11:12:10.249Z"
   },
   {
    "duration": 16,
    "start_time": "2022-03-15T11:18:49.876Z"
   },
   {
    "duration": 16,
    "start_time": "2022-03-15T11:18:54.819Z"
   },
   {
    "duration": 6,
    "start_time": "2022-03-15T11:19:50.444Z"
   },
   {
    "duration": 7,
    "start_time": "2022-03-15T11:19:58.020Z"
   },
   {
    "duration": 1210,
    "start_time": "2022-03-15T11:20:52.578Z"
   },
   {
    "duration": 232,
    "start_time": "2022-03-15T11:20:53.791Z"
   },
   {
    "duration": 199,
    "start_time": "2022-03-15T11:20:54.026Z"
   },
   {
    "duration": 135,
    "start_time": "2022-03-15T11:20:54.228Z"
   },
   {
    "duration": 30,
    "start_time": "2022-03-15T11:20:54.365Z"
   },
   {
    "duration": 33,
    "start_time": "2022-03-15T11:20:54.398Z"
   },
   {
    "duration": 154,
    "start_time": "2022-03-15T11:20:54.434Z"
   },
   {
    "duration": 109,
    "start_time": "2022-03-15T11:20:54.592Z"
   },
   {
    "duration": 61,
    "start_time": "2022-03-15T11:20:54.704Z"
   },
   {
    "duration": 20,
    "start_time": "2022-03-15T11:20:54.768Z"
   },
   {
    "duration": 60,
    "start_time": "2022-03-15T11:20:54.791Z"
   },
   {
    "duration": 28,
    "start_time": "2022-03-15T11:20:54.853Z"
   },
   {
    "duration": 21,
    "start_time": "2022-03-15T11:20:54.884Z"
   },
   {
    "duration": 14,
    "start_time": "2022-03-15T11:20:54.907Z"
   },
   {
    "duration": 78,
    "start_time": "2022-03-15T11:20:54.923Z"
   },
   {
    "duration": 13,
    "start_time": "2022-03-15T11:20:55.004Z"
   },
   {
    "duration": 70,
    "start_time": "2022-03-15T11:20:55.020Z"
   },
   {
    "duration": 34,
    "start_time": "2022-03-15T11:20:55.092Z"
   },
   {
    "duration": 9,
    "start_time": "2022-03-15T11:20:55.128Z"
   },
   {
    "duration": 10,
    "start_time": "2022-03-15T11:20:55.140Z"
   },
   {
    "duration": 10,
    "start_time": "2022-03-15T11:20:55.152Z"
   },
   {
    "duration": 150,
    "start_time": "2022-03-15T11:20:55.164Z"
   },
   {
    "duration": 120,
    "start_time": "2022-03-15T11:20:55.319Z"
   },
   {
    "duration": 61,
    "start_time": "2022-03-15T11:20:55.442Z"
   },
   {
    "duration": 24,
    "start_time": "2022-03-15T11:20:55.506Z"
   },
   {
    "duration": 13,
    "start_time": "2022-03-15T11:20:55.533Z"
   },
   {
    "duration": 43,
    "start_time": "2022-03-15T11:20:55.548Z"
   },
   {
    "duration": 29,
    "start_time": "2022-03-15T11:20:55.594Z"
   },
   {
    "duration": 60,
    "start_time": "2022-03-15T11:20:55.625Z"
   },
   {
    "duration": 22,
    "start_time": "2022-03-15T11:20:55.688Z"
   },
   {
    "duration": 35,
    "start_time": "2022-03-15T11:20:55.712Z"
   },
   {
    "duration": 10,
    "start_time": "2022-03-15T11:20:55.750Z"
   },
   {
    "duration": 71,
    "start_time": "2022-03-15T11:20:55.763Z"
   },
   {
    "duration": 9,
    "start_time": "2022-03-15T11:20:55.837Z"
   },
   {
    "duration": 14,
    "start_time": "2022-03-15T11:20:55.849Z"
   },
   {
    "duration": 4,
    "start_time": "2022-03-15T11:20:55.865Z"
   },
   {
    "duration": 227,
    "start_time": "2022-03-15T11:20:55.871Z"
   },
   {
    "duration": 4,
    "start_time": "2022-03-15T11:20:56.100Z"
   },
   {
    "duration": 387,
    "start_time": "2022-03-15T11:20:56.107Z"
   },
   {
    "duration": 4,
    "start_time": "2022-03-15T11:20:56.496Z"
   },
   {
    "duration": 335,
    "start_time": "2022-03-15T11:20:56.503Z"
   },
   {
    "duration": 45,
    "start_time": "2022-03-15T11:20:56.841Z"
   },
   {
    "duration": 39,
    "start_time": "2022-03-15T11:20:56.889Z"
   },
   {
    "duration": 13,
    "start_time": "2022-03-15T11:20:56.931Z"
   },
   {
    "duration": 33,
    "start_time": "2022-03-15T11:20:56.946Z"
   },
   {
    "duration": 35,
    "start_time": "2022-03-15T11:20:56.983Z"
   },
   {
    "duration": 10,
    "start_time": "2022-03-15T11:20:57.021Z"
   },
   {
    "duration": 20,
    "start_time": "2022-03-15T11:20:57.033Z"
   },
   {
    "duration": 15,
    "start_time": "2022-03-15T11:20:57.055Z"
   },
   {
    "duration": 27,
    "start_time": "2022-03-15T11:20:57.072Z"
   },
   {
    "duration": 15,
    "start_time": "2022-03-15T11:20:57.102Z"
   },
   {
    "duration": 505,
    "start_time": "2022-03-15T11:20:57.120Z"
   },
   {
    "duration": 75,
    "start_time": "2022-03-15T11:20:57.628Z"
   },
   {
    "duration": 9,
    "start_time": "2022-03-15T11:20:57.705Z"
   },
   {
    "duration": 68,
    "start_time": "2022-03-15T11:20:57.716Z"
   },
   {
    "duration": 234,
    "start_time": "2022-03-15T11:20:57.787Z"
   },
   {
    "duration": 10,
    "start_time": "2022-03-15T11:20:58.023Z"
   },
   {
    "duration": 11,
    "start_time": "2022-03-15T11:20:58.035Z"
   },
   {
    "duration": 427,
    "start_time": "2022-03-15T11:20:58.048Z"
   },
   {
    "duration": 304,
    "start_time": "2022-03-15T11:20:58.478Z"
   },
   {
    "duration": 11,
    "start_time": "2022-03-15T11:20:58.784Z"
   },
   {
    "duration": 25,
    "start_time": "2022-03-15T11:20:58.798Z"
   },
   {
    "duration": 25,
    "start_time": "2022-03-15T11:20:58.825Z"
   },
   {
    "duration": 13,
    "start_time": "2022-03-15T11:20:58.883Z"
   },
   {
    "duration": 14,
    "start_time": "2022-03-15T11:20:58.898Z"
   },
   {
    "duration": 238,
    "start_time": "2022-03-15T11:20:58.915Z"
   },
   {
    "duration": 10,
    "start_time": "2022-03-15T11:20:59.156Z"
   },
   {
    "duration": 210,
    "start_time": "2022-03-15T11:20:59.186Z"
   },
   {
    "duration": 11,
    "start_time": "2022-03-15T11:20:59.399Z"
   },
   {
    "duration": 313,
    "start_time": "2022-03-15T11:20:59.413Z"
   },
   {
    "duration": 370,
    "start_time": "2022-03-15T11:20:59.729Z"
   },
   {
    "duration": 12,
    "start_time": "2022-03-15T11:21:00.102Z"
   },
   {
    "duration": 23,
    "start_time": "2022-03-15T11:21:00.117Z"
   },
   {
    "duration": 56,
    "start_time": "2022-03-15T11:21:00.142Z"
   },
   {
    "duration": 16,
    "start_time": "2022-03-15T11:21:00.200Z"
   },
   {
    "duration": 25,
    "start_time": "2022-03-15T11:21:00.218Z"
   },
   {
    "duration": 230,
    "start_time": "2022-03-15T11:21:00.246Z"
   },
   {
    "duration": 9,
    "start_time": "2022-03-15T11:21:00.483Z"
   },
   {
    "duration": 262,
    "start_time": "2022-03-15T11:21:00.495Z"
   },
   {
    "duration": 297,
    "start_time": "2022-03-15T11:21:00.759Z"
   },
   {
    "duration": 311,
    "start_time": "2022-03-15T11:21:01.059Z"
   },
   {
    "duration": 15,
    "start_time": "2022-03-15T11:21:01.373Z"
   },
   {
    "duration": 17,
    "start_time": "2022-03-15T11:21:01.392Z"
   },
   {
    "duration": 33,
    "start_time": "2022-03-15T11:21:01.412Z"
   },
   {
    "duration": 38,
    "start_time": "2022-03-15T11:21:01.448Z"
   },
   {
    "duration": 6,
    "start_time": "2022-03-15T11:23:44.067Z"
   },
   {
    "duration": 6,
    "start_time": "2022-03-15T11:23:50.931Z"
   },
   {
    "duration": 19,
    "start_time": "2022-03-15T11:24:18.533Z"
   },
   {
    "duration": 6,
    "start_time": "2022-03-15T11:24:22.634Z"
   },
   {
    "duration": 6,
    "start_time": "2022-03-15T11:24:24.651Z"
   },
   {
    "duration": 16,
    "start_time": "2022-03-15T11:24:36.943Z"
   },
   {
    "duration": 27,
    "start_time": "2022-03-15T11:27:04.626Z"
   },
   {
    "duration": 14,
    "start_time": "2022-03-15T11:27:41.041Z"
   },
   {
    "duration": 6,
    "start_time": "2022-03-15T11:27:48.105Z"
   },
   {
    "duration": 13,
    "start_time": "2022-03-15T11:27:59.426Z"
   },
   {
    "duration": 15,
    "start_time": "2022-03-15T11:28:15.370Z"
   },
   {
    "duration": 473,
    "start_time": "2022-03-15T11:37:35.704Z"
   },
   {
    "duration": 265,
    "start_time": "2022-03-15T11:37:46.895Z"
   },
   {
    "duration": 17,
    "start_time": "2022-03-15T11:42:45.228Z"
   },
   {
    "duration": 17,
    "start_time": "2022-03-15T11:43:34.966Z"
   },
   {
    "duration": 17,
    "start_time": "2022-03-15T11:43:50.286Z"
   },
   {
    "duration": 275,
    "start_time": "2022-03-15T11:58:03.433Z"
   },
   {
    "duration": 260,
    "start_time": "2022-03-15T11:58:18.385Z"
   },
   {
    "duration": 269,
    "start_time": "2022-03-15T12:00:54.696Z"
   },
   {
    "duration": 12,
    "start_time": "2022-03-15T12:00:57.489Z"
   },
   {
    "duration": 15,
    "start_time": "2022-03-15T12:11:11.653Z"
   },
   {
    "duration": 27,
    "start_time": "2022-03-15T12:39:11.460Z"
   },
   {
    "duration": 238,
    "start_time": "2022-03-15T12:39:58.876Z"
   },
   {
    "duration": 5,
    "start_time": "2022-03-15T12:40:03.437Z"
   },
   {
    "duration": 28,
    "start_time": "2022-03-15T12:40:08.131Z"
   },
   {
    "duration": 302,
    "start_time": "2022-03-15T12:42:11.428Z"
   },
   {
    "duration": 288,
    "start_time": "2022-03-15T12:42:42.196Z"
   },
   {
    "duration": 277,
    "start_time": "2022-03-15T12:43:44.077Z"
   },
   {
    "duration": 285,
    "start_time": "2022-03-15T12:43:55.410Z"
   },
   {
    "duration": 10,
    "start_time": "2022-03-15T12:44:12.237Z"
   },
   {
    "duration": 10,
    "start_time": "2022-03-15T12:44:17.016Z"
   },
   {
    "duration": 10,
    "start_time": "2022-03-15T12:44:39.142Z"
   },
   {
    "duration": 10,
    "start_time": "2022-03-15T12:44:41.714Z"
   },
   {
    "duration": 10,
    "start_time": "2022-03-15T12:45:01.706Z"
   },
   {
    "duration": 10,
    "start_time": "2022-03-15T12:45:12.105Z"
   },
   {
    "duration": 11,
    "start_time": "2022-03-15T12:45:13.810Z"
   },
   {
    "duration": 11,
    "start_time": "2022-03-15T12:47:51.946Z"
   },
   {
    "duration": 11,
    "start_time": "2022-03-15T12:47:56.202Z"
   },
   {
    "duration": 11,
    "start_time": "2022-03-15T12:48:01.009Z"
   },
   {
    "duration": 11,
    "start_time": "2022-03-15T12:48:04.689Z"
   },
   {
    "duration": 11,
    "start_time": "2022-03-15T12:48:08.833Z"
   },
   {
    "duration": 10,
    "start_time": "2022-03-15T12:48:15.889Z"
   },
   {
    "duration": 11,
    "start_time": "2022-03-15T12:49:13.673Z"
   },
   {
    "duration": 10,
    "start_time": "2022-03-15T12:49:16.811Z"
   },
   {
    "duration": 10,
    "start_time": "2022-03-15T12:49:49.489Z"
   },
   {
    "duration": 4,
    "start_time": "2022-03-15T12:50:41.349Z"
   },
   {
    "duration": 363,
    "start_time": "2022-03-15T12:50:41.355Z"
   },
   {
    "duration": 196,
    "start_time": "2022-03-15T12:50:41.721Z"
   },
   {
    "duration": 125,
    "start_time": "2022-03-15T12:50:41.920Z"
   },
   {
    "duration": 37,
    "start_time": "2022-03-15T12:50:42.047Z"
   },
   {
    "duration": 34,
    "start_time": "2022-03-15T12:50:42.086Z"
   },
   {
    "duration": 126,
    "start_time": "2022-03-15T12:50:42.124Z"
   },
   {
    "duration": 92,
    "start_time": "2022-03-15T12:50:42.253Z"
   },
   {
    "duration": 74,
    "start_time": "2022-03-15T12:50:42.348Z"
   },
   {
    "duration": 10,
    "start_time": "2022-03-15T12:50:42.425Z"
   },
   {
    "duration": 72,
    "start_time": "2022-03-15T12:50:42.437Z"
   },
   {
    "duration": 11,
    "start_time": "2022-03-15T12:50:42.512Z"
   },
   {
    "duration": 20,
    "start_time": "2022-03-15T12:50:42.525Z"
   },
   {
    "duration": 45,
    "start_time": "2022-03-15T12:50:42.548Z"
   },
   {
    "duration": 40,
    "start_time": "2022-03-15T12:50:42.596Z"
   },
   {
    "duration": 10,
    "start_time": "2022-03-15T12:50:42.638Z"
   },
   {
    "duration": 46,
    "start_time": "2022-03-15T12:50:42.651Z"
   },
   {
    "duration": 33,
    "start_time": "2022-03-15T12:50:42.700Z"
   },
   {
    "duration": 8,
    "start_time": "2022-03-15T12:50:42.738Z"
   },
   {
    "duration": 12,
    "start_time": "2022-03-15T12:50:42.783Z"
   },
   {
    "duration": 12,
    "start_time": "2022-03-15T12:50:42.797Z"
   },
   {
    "duration": 159,
    "start_time": "2022-03-15T12:50:42.812Z"
   },
   {
    "duration": 93,
    "start_time": "2022-03-15T12:50:42.974Z"
   },
   {
    "duration": 57,
    "start_time": "2022-03-15T12:50:43.082Z"
   },
   {
    "duration": 47,
    "start_time": "2022-03-15T12:50:43.141Z"
   },
   {
    "duration": 12,
    "start_time": "2022-03-15T12:50:43.191Z"
   },
   {
    "duration": 40,
    "start_time": "2022-03-15T12:50:43.206Z"
   },
   {
    "duration": 47,
    "start_time": "2022-03-15T12:50:43.249Z"
   },
   {
    "duration": 46,
    "start_time": "2022-03-15T12:50:43.299Z"
   },
   {
    "duration": 45,
    "start_time": "2022-03-15T12:50:43.347Z"
   },
   {
    "duration": 35,
    "start_time": "2022-03-15T12:50:43.394Z"
   },
   {
    "duration": 10,
    "start_time": "2022-03-15T12:50:43.432Z"
   },
   {
    "duration": 82,
    "start_time": "2022-03-15T12:50:43.444Z"
   },
   {
    "duration": 10,
    "start_time": "2022-03-15T12:50:43.529Z"
   },
   {
    "duration": 21,
    "start_time": "2022-03-15T12:50:43.541Z"
   },
   {
    "duration": 21,
    "start_time": "2022-03-15T12:50:43.564Z"
   },
   {
    "duration": 216,
    "start_time": "2022-03-15T12:50:43.587Z"
   },
   {
    "duration": 5,
    "start_time": "2022-03-15T12:50:43.806Z"
   },
   {
    "duration": 209,
    "start_time": "2022-03-15T12:50:43.813Z"
   },
   {
    "duration": 4,
    "start_time": "2022-03-15T12:50:44.024Z"
   },
   {
    "duration": 200,
    "start_time": "2022-03-15T12:50:44.030Z"
   },
   {
    "duration": 50,
    "start_time": "2022-03-15T12:50:44.232Z"
   },
   {
    "duration": 39,
    "start_time": "2022-03-15T12:50:44.285Z"
   },
   {
    "duration": 11,
    "start_time": "2022-03-15T12:50:44.327Z"
   },
   {
    "duration": 51,
    "start_time": "2022-03-15T12:50:44.341Z"
   },
   {
    "duration": 48,
    "start_time": "2022-03-15T12:50:44.395Z"
   },
   {
    "duration": 15,
    "start_time": "2022-03-15T12:50:44.446Z"
   },
   {
    "duration": 27,
    "start_time": "2022-03-15T12:50:44.463Z"
   },
   {
    "duration": 32,
    "start_time": "2022-03-15T12:50:44.493Z"
   },
   {
    "duration": 10,
    "start_time": "2022-03-15T12:50:44.527Z"
   },
   {
    "duration": 42,
    "start_time": "2022-03-15T12:50:44.539Z"
   },
   {
    "duration": 230,
    "start_time": "2022-03-15T12:50:44.583Z"
   },
   {
    "duration": 18,
    "start_time": "2022-03-15T12:50:44.815Z"
   },
   {
    "duration": 11,
    "start_time": "2022-03-15T12:50:44.836Z"
   },
   {
    "duration": 38,
    "start_time": "2022-03-15T12:50:44.855Z"
   },
   {
    "duration": 241,
    "start_time": "2022-03-15T12:50:44.896Z"
   },
   {
    "duration": 9,
    "start_time": "2022-03-15T12:50:45.140Z"
   },
   {
    "duration": 47,
    "start_time": "2022-03-15T12:50:45.151Z"
   },
   {
    "duration": 329,
    "start_time": "2022-03-15T12:50:45.200Z"
   },
   {
    "duration": 322,
    "start_time": "2022-03-15T12:50:45.531Z"
   },
   {
    "duration": 31,
    "start_time": "2022-03-15T12:50:45.856Z"
   },
   {
    "duration": 38,
    "start_time": "2022-03-15T12:50:45.889Z"
   },
   {
    "duration": 40,
    "start_time": "2022-03-15T12:50:45.931Z"
   },
   {
    "duration": 133,
    "start_time": "2022-03-15T12:50:45.974Z"
   },
   {
    "duration": -167,
    "start_time": "2022-03-15T12:50:46.277Z"
   },
   {
    "duration": -169,
    "start_time": "2022-03-15T12:50:46.280Z"
   },
   {
    "duration": -172,
    "start_time": "2022-03-15T12:50:46.284Z"
   },
   {
    "duration": -174,
    "start_time": "2022-03-15T12:50:46.288Z"
   },
   {
    "duration": 1225,
    "start_time": "2022-03-15T12:51:03.749Z"
   },
   {
    "duration": 236,
    "start_time": "2022-03-15T12:51:04.977Z"
   },
   {
    "duration": 205,
    "start_time": "2022-03-15T12:51:05.216Z"
   },
   {
    "duration": 137,
    "start_time": "2022-03-15T12:51:05.424Z"
   },
   {
    "duration": 30,
    "start_time": "2022-03-15T12:51:05.564Z"
   },
   {
    "duration": 58,
    "start_time": "2022-03-15T12:51:05.596Z"
   },
   {
    "duration": 129,
    "start_time": "2022-03-15T12:51:05.657Z"
   },
   {
    "duration": 111,
    "start_time": "2022-03-15T12:51:05.790Z"
   },
   {
    "duration": 59,
    "start_time": "2022-03-15T12:51:05.904Z"
   },
   {
    "duration": 22,
    "start_time": "2022-03-15T12:51:05.965Z"
   },
   {
    "duration": 56,
    "start_time": "2022-03-15T12:51:05.989Z"
   },
   {
    "duration": 35,
    "start_time": "2022-03-15T12:51:06.048Z"
   },
   {
    "duration": 20,
    "start_time": "2022-03-15T12:51:06.085Z"
   },
   {
    "duration": 12,
    "start_time": "2022-03-15T12:51:06.108Z"
   },
   {
    "duration": 83,
    "start_time": "2022-03-15T12:51:06.123Z"
   },
   {
    "duration": 11,
    "start_time": "2022-03-15T12:51:06.208Z"
   },
   {
    "duration": 18,
    "start_time": "2022-03-15T12:51:06.222Z"
   },
   {
    "duration": 72,
    "start_time": "2022-03-15T12:51:06.243Z"
   },
   {
    "duration": 11,
    "start_time": "2022-03-15T12:51:06.318Z"
   },
   {
    "duration": 12,
    "start_time": "2022-03-15T12:51:06.332Z"
   },
   {
    "duration": 39,
    "start_time": "2022-03-15T12:51:06.347Z"
   },
   {
    "duration": 161,
    "start_time": "2022-03-15T12:51:06.388Z"
   },
   {
    "duration": 111,
    "start_time": "2022-03-15T12:51:06.556Z"
   },
   {
    "duration": 58,
    "start_time": "2022-03-15T12:51:06.671Z"
   },
   {
    "duration": 25,
    "start_time": "2022-03-15T12:51:06.732Z"
   },
   {
    "duration": 13,
    "start_time": "2022-03-15T12:51:06.781Z"
   },
   {
    "duration": 39,
    "start_time": "2022-03-15T12:51:06.796Z"
   },
   {
    "duration": 49,
    "start_time": "2022-03-15T12:51:06.837Z"
   },
   {
    "duration": 43,
    "start_time": "2022-03-15T12:51:06.888Z"
   },
   {
    "duration": 19,
    "start_time": "2022-03-15T12:51:06.933Z"
   },
   {
    "duration": 56,
    "start_time": "2022-03-15T12:51:06.955Z"
   },
   {
    "duration": 10,
    "start_time": "2022-03-15T12:51:07.013Z"
   },
   {
    "duration": 80,
    "start_time": "2022-03-15T12:51:07.026Z"
   },
   {
    "duration": 10,
    "start_time": "2022-03-15T12:51:07.109Z"
   },
   {
    "duration": 15,
    "start_time": "2022-03-15T12:51:07.121Z"
   },
   {
    "duration": 10,
    "start_time": "2022-03-15T12:51:07.139Z"
   },
   {
    "duration": 195,
    "start_time": "2022-03-15T12:51:07.183Z"
   },
   {
    "duration": 11,
    "start_time": "2022-03-15T12:51:07.380Z"
   },
   {
    "duration": 247,
    "start_time": "2022-03-15T12:51:07.394Z"
   },
   {
    "duration": 4,
    "start_time": "2022-03-15T12:51:07.644Z"
   },
   {
    "duration": 196,
    "start_time": "2022-03-15T12:51:07.650Z"
   },
   {
    "duration": 47,
    "start_time": "2022-03-15T12:51:07.849Z"
   },
   {
    "duration": 35,
    "start_time": "2022-03-15T12:51:07.898Z"
   },
   {
    "duration": 14,
    "start_time": "2022-03-15T12:51:07.936Z"
   },
   {
    "duration": 22,
    "start_time": "2022-03-15T12:51:07.983Z"
   },
   {
    "duration": 48,
    "start_time": "2022-03-15T12:51:08.007Z"
   },
   {
    "duration": 16,
    "start_time": "2022-03-15T12:51:08.057Z"
   },
   {
    "duration": 25,
    "start_time": "2022-03-15T12:51:08.075Z"
   },
   {
    "duration": 27,
    "start_time": "2022-03-15T12:51:08.102Z"
   },
   {
    "duration": 29,
    "start_time": "2022-03-15T12:51:08.131Z"
   },
   {
    "duration": 19,
    "start_time": "2022-03-15T12:51:08.163Z"
   },
   {
    "duration": 341,
    "start_time": "2022-03-15T12:51:08.184Z"
   },
   {
    "duration": 15,
    "start_time": "2022-03-15T12:51:08.528Z"
   },
   {
    "duration": 18,
    "start_time": "2022-03-15T12:51:08.545Z"
   },
   {
    "duration": 27,
    "start_time": "2022-03-15T12:51:08.565Z"
   },
   {
    "duration": 238,
    "start_time": "2022-03-15T12:51:08.595Z"
   },
   {
    "duration": 9,
    "start_time": "2022-03-15T12:51:08.835Z"
   },
   {
    "duration": 35,
    "start_time": "2022-03-15T12:51:08.846Z"
   },
   {
    "duration": 316,
    "start_time": "2022-03-15T12:51:08.883Z"
   },
   {
    "duration": 305,
    "start_time": "2022-03-15T12:51:09.201Z"
   },
   {
    "duration": 13,
    "start_time": "2022-03-15T12:51:09.509Z"
   },
   {
    "duration": 28,
    "start_time": "2022-03-15T12:51:09.525Z"
   },
   {
    "duration": 53,
    "start_time": "2022-03-15T12:51:09.555Z"
   },
   {
    "duration": 41,
    "start_time": "2022-03-15T12:51:09.611Z"
   },
   {
    "duration": 27,
    "start_time": "2022-03-15T12:51:09.654Z"
   },
   {
    "duration": 28,
    "start_time": "2022-03-15T12:51:09.683Z"
   },
   {
    "duration": 19,
    "start_time": "2022-03-15T12:51:09.713Z"
   },
   {
    "duration": 10,
    "start_time": "2022-03-15T12:51:23.256Z"
   },
   {
    "duration": 15,
    "start_time": "2022-03-15T12:51:39.863Z"
   },
   {
    "duration": 33,
    "start_time": "2022-03-15T12:55:46.583Z"
   },
   {
    "duration": 1331,
    "start_time": "2022-03-15T12:57:12.385Z"
   },
   {
    "duration": 240,
    "start_time": "2022-03-15T12:57:13.719Z"
   },
   {
    "duration": 209,
    "start_time": "2022-03-15T12:57:13.962Z"
   },
   {
    "duration": 139,
    "start_time": "2022-03-15T12:57:14.174Z"
   },
   {
    "duration": 26,
    "start_time": "2022-03-15T12:57:14.317Z"
   },
   {
    "duration": 57,
    "start_time": "2022-03-15T12:57:14.346Z"
   },
   {
    "duration": 196,
    "start_time": "2022-03-15T12:57:14.407Z"
   },
   {
    "duration": 113,
    "start_time": "2022-03-15T12:57:14.607Z"
   },
   {
    "duration": 77,
    "start_time": "2022-03-15T12:57:14.723Z"
   },
   {
    "duration": 9,
    "start_time": "2022-03-15T12:57:14.802Z"
   },
   {
    "duration": 79,
    "start_time": "2022-03-15T12:57:14.814Z"
   },
   {
    "duration": 10,
    "start_time": "2022-03-15T12:57:14.896Z"
   },
   {
    "duration": 26,
    "start_time": "2022-03-15T12:57:14.909Z"
   },
   {
    "duration": 45,
    "start_time": "2022-03-15T12:57:14.939Z"
   },
   {
    "duration": 46,
    "start_time": "2022-03-15T12:57:14.987Z"
   },
   {
    "duration": 12,
    "start_time": "2022-03-15T12:57:15.036Z"
   },
   {
    "duration": 18,
    "start_time": "2022-03-15T12:57:15.083Z"
   },
   {
    "duration": 38,
    "start_time": "2022-03-15T12:57:15.104Z"
   },
   {
    "duration": 39,
    "start_time": "2022-03-15T12:57:15.145Z"
   },
   {
    "duration": 17,
    "start_time": "2022-03-15T12:57:15.187Z"
   },
   {
    "duration": 12,
    "start_time": "2022-03-15T12:57:15.207Z"
   },
   {
    "duration": 184,
    "start_time": "2022-03-15T12:57:15.222Z"
   },
   {
    "duration": 177,
    "start_time": "2022-03-15T12:57:15.413Z"
   },
   {
    "duration": 61,
    "start_time": "2022-03-15T12:57:15.594Z"
   },
   {
    "duration": 52,
    "start_time": "2022-03-15T12:57:15.659Z"
   },
   {
    "duration": 17,
    "start_time": "2022-03-15T12:57:15.714Z"
   },
   {
    "duration": 46,
    "start_time": "2022-03-15T12:57:15.733Z"
   },
   {
    "duration": 24,
    "start_time": "2022-03-15T12:57:15.788Z"
   },
   {
    "duration": 57,
    "start_time": "2022-03-15T12:57:15.814Z"
   },
   {
    "duration": 26,
    "start_time": "2022-03-15T12:57:15.873Z"
   },
   {
    "duration": 35,
    "start_time": "2022-03-15T12:57:15.902Z"
   },
   {
    "duration": 10,
    "start_time": "2022-03-15T12:57:15.939Z"
   },
   {
    "duration": 64,
    "start_time": "2022-03-15T12:57:15.951Z"
   },
   {
    "duration": 12,
    "start_time": "2022-03-15T12:57:16.018Z"
   },
   {
    "duration": 15,
    "start_time": "2022-03-15T12:57:16.032Z"
   },
   {
    "duration": 5,
    "start_time": "2022-03-15T12:57:16.050Z"
   },
   {
    "duration": 234,
    "start_time": "2022-03-15T12:57:16.058Z"
   },
   {
    "duration": 4,
    "start_time": "2022-03-15T12:57:16.295Z"
   },
   {
    "duration": 410,
    "start_time": "2022-03-15T12:57:16.301Z"
   },
   {
    "duration": 5,
    "start_time": "2022-03-15T12:57:16.714Z"
   },
   {
    "duration": 338,
    "start_time": "2022-03-15T12:57:16.722Z"
   },
   {
    "duration": 34,
    "start_time": "2022-03-15T12:57:17.082Z"
   },
   {
    "duration": 85,
    "start_time": "2022-03-15T12:57:17.118Z"
   },
   {
    "duration": 12,
    "start_time": "2022-03-15T12:57:17.206Z"
   },
   {
    "duration": 64,
    "start_time": "2022-03-15T12:57:17.221Z"
   },
   {
    "duration": 34,
    "start_time": "2022-03-15T12:57:17.288Z"
   },
   {
    "duration": 67,
    "start_time": "2022-03-15T12:57:17.325Z"
   },
   {
    "duration": 29,
    "start_time": "2022-03-15T12:57:17.395Z"
   },
   {
    "duration": 70,
    "start_time": "2022-03-15T12:57:17.426Z"
   },
   {
    "duration": 29,
    "start_time": "2022-03-15T12:57:17.498Z"
   },
   {
    "duration": 57,
    "start_time": "2022-03-15T12:57:17.529Z"
   },
   {
    "duration": 335,
    "start_time": "2022-03-15T12:57:17.589Z"
   },
   {
    "duration": 17,
    "start_time": "2022-03-15T12:57:17.926Z"
   },
   {
    "duration": 34,
    "start_time": "2022-03-15T12:57:17.946Z"
   },
   {
    "duration": 27,
    "start_time": "2022-03-15T12:57:17.982Z"
   },
   {
    "duration": 221,
    "start_time": "2022-03-15T12:57:18.011Z"
   },
   {
    "duration": 11,
    "start_time": "2022-03-15T12:57:18.235Z"
   },
   {
    "duration": 36,
    "start_time": "2022-03-15T12:57:18.249Z"
   },
   {
    "duration": 304,
    "start_time": "2022-03-15T12:57:18.288Z"
   },
   {
    "duration": 304,
    "start_time": "2022-03-15T12:57:18.595Z"
   },
   {
    "duration": 13,
    "start_time": "2022-03-15T12:57:18.901Z"
   },
   {
    "duration": 46,
    "start_time": "2022-03-15T12:57:18.916Z"
   },
   {
    "duration": 31,
    "start_time": "2022-03-15T12:57:18.964Z"
   },
   {
    "duration": 23,
    "start_time": "2022-03-15T12:57:18.997Z"
   },
   {
    "duration": 15,
    "start_time": "2022-03-15T12:57:19.022Z"
   },
   {
    "duration": 212,
    "start_time": "2022-03-15T12:57:19.040Z"
   },
   {
    "duration": 10,
    "start_time": "2022-03-15T12:57:19.255Z"
   },
   {
    "duration": 220,
    "start_time": "2022-03-15T12:57:19.287Z"
   },
   {
    "duration": 9,
    "start_time": "2022-03-15T12:57:19.510Z"
   },
   {
    "duration": 292,
    "start_time": "2022-03-15T12:57:19.521Z"
   },
   {
    "duration": 382,
    "start_time": "2022-03-15T12:57:19.815Z"
   },
   {
    "duration": 13,
    "start_time": "2022-03-15T12:57:20.199Z"
   },
   {
    "duration": 46,
    "start_time": "2022-03-15T12:57:20.214Z"
   },
   {
    "duration": 36,
    "start_time": "2022-03-15T12:57:20.262Z"
   },
   {
    "duration": 16,
    "start_time": "2022-03-15T12:57:20.300Z"
   },
   {
    "duration": 24,
    "start_time": "2022-03-15T12:57:20.319Z"
   },
   {
    "duration": 226,
    "start_time": "2022-03-15T12:57:20.345Z"
   },
   {
    "duration": 12,
    "start_time": "2022-03-15T12:57:20.574Z"
   },
   {
    "duration": 232,
    "start_time": "2022-03-15T12:57:20.588Z"
   },
   {
    "duration": 294,
    "start_time": "2022-03-15T12:57:20.823Z"
   },
   {
    "duration": 330,
    "start_time": "2022-03-15T12:57:21.119Z"
   },
   {
    "duration": 9,
    "start_time": "2022-03-15T12:57:21.452Z"
   },
   {
    "duration": 33,
    "start_time": "2022-03-15T12:57:21.464Z"
   },
   {
    "duration": 19,
    "start_time": "2022-03-15T12:57:21.499Z"
   },
   {
    "duration": 17,
    "start_time": "2022-03-15T12:57:21.521Z"
   },
   {
    "duration": 41,
    "start_time": "2022-03-15T12:57:21.541Z"
   },
   {
    "duration": 310,
    "start_time": "2022-03-15T12:57:21.584Z"
   },
   {
    "duration": 279,
    "start_time": "2022-03-15T12:57:21.897Z"
   },
   {
    "duration": 30,
    "start_time": "2022-03-15T12:57:22.178Z"
   },
   {
    "duration": 15,
    "start_time": "2022-03-15T12:57:22.211Z"
   },
   {
    "duration": 16,
    "start_time": "2022-03-15T12:57:24.800Z"
   },
   {
    "duration": 7,
    "start_time": "2022-03-15T12:58:54.472Z"
   },
   {
    "duration": 7,
    "start_time": "2022-03-15T12:59:05.113Z"
   },
   {
    "duration": 7,
    "start_time": "2022-03-15T13:00:07.771Z"
   },
   {
    "duration": 6,
    "start_time": "2022-03-15T13:00:12.481Z"
   },
   {
    "duration": 5,
    "start_time": "2022-03-15T13:00:17.825Z"
   },
   {
    "duration": 6,
    "start_time": "2022-03-15T13:00:23.112Z"
   },
   {
    "duration": 6,
    "start_time": "2022-03-15T13:01:21.138Z"
   },
   {
    "duration": 6,
    "start_time": "2022-03-15T13:01:29.208Z"
   },
   {
    "duration": 41,
    "start_time": "2022-03-15T13:43:27.379Z"
   },
   {
    "duration": 1231,
    "start_time": "2022-03-15T13:43:47.460Z"
   },
   {
    "duration": 242,
    "start_time": "2022-03-15T13:43:48.694Z"
   },
   {
    "duration": 279,
    "start_time": "2022-03-15T13:43:48.939Z"
   },
   {
    "duration": 187,
    "start_time": "2022-03-15T13:43:49.221Z"
   },
   {
    "duration": 28,
    "start_time": "2022-03-15T13:43:49.411Z"
   },
   {
    "duration": 52,
    "start_time": "2022-03-15T13:43:49.442Z"
   },
   {
    "duration": 146,
    "start_time": "2022-03-15T13:43:49.497Z"
   },
   {
    "duration": 106,
    "start_time": "2022-03-15T13:43:49.647Z"
   },
   {
    "duration": 61,
    "start_time": "2022-03-15T13:43:49.756Z"
   },
   {
    "duration": 9,
    "start_time": "2022-03-15T13:43:49.819Z"
   },
   {
    "duration": 73,
    "start_time": "2022-03-15T13:43:49.830Z"
   },
   {
    "duration": 11,
    "start_time": "2022-03-15T13:43:49.905Z"
   },
   {
    "duration": 22,
    "start_time": "2022-03-15T13:43:49.919Z"
   },
   {
    "duration": 50,
    "start_time": "2022-03-15T13:43:49.944Z"
   },
   {
    "duration": 32,
    "start_time": "2022-03-15T13:43:51.938Z"
   },
   {
    "duration": 1525,
    "start_time": "2022-03-15T13:44:37.046Z"
   },
   {
    "duration": 332,
    "start_time": "2022-03-15T13:44:38.574Z"
   },
   {
    "duration": 207,
    "start_time": "2022-03-15T13:44:38.909Z"
   },
   {
    "duration": 140,
    "start_time": "2022-03-15T13:44:39.119Z"
   },
   {
    "duration": 29,
    "start_time": "2022-03-15T13:44:39.262Z"
   },
   {
    "duration": 37,
    "start_time": "2022-03-15T13:44:39.294Z"
   },
   {
    "duration": 156,
    "start_time": "2022-03-15T13:44:39.334Z"
   },
   {
    "duration": 121,
    "start_time": "2022-03-15T13:44:39.493Z"
   },
   {
    "duration": 70,
    "start_time": "2022-03-15T13:44:39.618Z"
   },
   {
    "duration": 9,
    "start_time": "2022-03-15T13:44:39.690Z"
   },
   {
    "duration": 53,
    "start_time": "2022-03-15T13:44:39.702Z"
   },
   {
    "duration": 31,
    "start_time": "2022-03-15T13:44:39.757Z"
   },
   {
    "duration": 20,
    "start_time": "2022-03-15T13:44:39.790Z"
   },
   {
    "duration": 15,
    "start_time": "2022-03-15T13:44:39.813Z"
   },
   {
    "duration": 4,
    "start_time": "2022-03-15T13:44:59.506Z"
   },
   {
    "duration": 290,
    "start_time": "2022-03-15T13:44:59.512Z"
   },
   {
    "duration": 212,
    "start_time": "2022-03-15T13:44:59.805Z"
   },
   {
    "duration": 147,
    "start_time": "2022-03-15T13:45:00.020Z"
   },
   {
    "duration": 33,
    "start_time": "2022-03-15T13:45:00.181Z"
   },
   {
    "duration": 74,
    "start_time": "2022-03-15T13:45:00.216Z"
   },
   {
    "duration": 134,
    "start_time": "2022-03-15T13:45:00.292Z"
   },
   {
    "duration": 121,
    "start_time": "2022-03-15T13:45:00.431Z"
   },
   {
    "duration": 67,
    "start_time": "2022-03-15T13:45:00.555Z"
   },
   {
    "duration": 10,
    "start_time": "2022-03-15T13:45:00.625Z"
   },
   {
    "duration": 107,
    "start_time": "2022-03-15T13:45:00.638Z"
   },
   {
    "duration": 9,
    "start_time": "2022-03-15T13:45:00.748Z"
   },
   {
    "duration": 51,
    "start_time": "2022-03-15T13:45:00.759Z"
   },
   {
    "duration": 42,
    "start_time": "2022-03-15T13:45:00.812Z"
   },
   {
    "duration": 59,
    "start_time": "2022-03-15T13:45:00.856Z"
   },
   {
    "duration": 9,
    "start_time": "2022-03-15T13:45:00.918Z"
   },
   {
    "duration": 39,
    "start_time": "2022-03-15T13:45:00.929Z"
   },
   {
    "duration": 61,
    "start_time": "2022-03-15T13:45:00.970Z"
   },
   {
    "duration": 36,
    "start_time": "2022-03-15T13:45:01.035Z"
   },
   {
    "duration": 47,
    "start_time": "2022-03-15T13:45:01.074Z"
   },
   {
    "duration": 35,
    "start_time": "2022-03-15T13:45:01.124Z"
   },
   {
    "duration": 189,
    "start_time": "2022-03-15T13:45:01.163Z"
   },
   {
    "duration": 109,
    "start_time": "2022-03-15T13:45:01.358Z"
   },
   {
    "duration": 78,
    "start_time": "2022-03-15T13:45:01.473Z"
   },
   {
    "duration": 46,
    "start_time": "2022-03-15T13:45:01.554Z"
   },
   {
    "duration": 12,
    "start_time": "2022-03-15T13:45:01.603Z"
   },
   {
    "duration": 85,
    "start_time": "2022-03-15T13:45:01.617Z"
   },
   {
    "duration": 24,
    "start_time": "2022-03-15T13:45:01.704Z"
   },
   {
    "duration": 70,
    "start_time": "2022-03-15T13:45:01.731Z"
   },
   {
    "duration": 20,
    "start_time": "2022-03-15T13:45:01.803Z"
   },
   {
    "duration": 57,
    "start_time": "2022-03-15T13:45:01.825Z"
   },
   {
    "duration": 11,
    "start_time": "2022-03-15T13:45:01.884Z"
   },
   {
    "duration": 70,
    "start_time": "2022-03-15T13:45:01.898Z"
   },
   {
    "duration": 10,
    "start_time": "2022-03-15T13:45:01.982Z"
   },
   {
    "duration": 32,
    "start_time": "2022-03-15T13:45:01.995Z"
   },
   {
    "duration": 25,
    "start_time": "2022-03-15T13:45:02.030Z"
   },
   {
    "duration": 214,
    "start_time": "2022-03-15T13:45:02.057Z"
   },
   {
    "duration": 10,
    "start_time": "2022-03-15T13:45:02.273Z"
   },
   {
    "duration": 299,
    "start_time": "2022-03-15T13:45:02.286Z"
   },
   {
    "duration": 4,
    "start_time": "2022-03-15T13:45:02.588Z"
   },
   {
    "duration": 236,
    "start_time": "2022-03-15T13:45:02.595Z"
   },
   {
    "duration": 32,
    "start_time": "2022-03-15T13:45:02.834Z"
   },
   {
    "duration": 39,
    "start_time": "2022-03-15T13:45:02.883Z"
   },
   {
    "duration": 15,
    "start_time": "2022-03-15T13:45:02.925Z"
   },
   {
    "duration": 53,
    "start_time": "2022-03-15T13:45:02.942Z"
   },
   {
    "duration": 32,
    "start_time": "2022-03-15T13:45:02.997Z"
   },
   {
    "duration": 11,
    "start_time": "2022-03-15T13:45:03.032Z"
   },
   {
    "duration": 37,
    "start_time": "2022-03-15T13:45:03.046Z"
   },
   {
    "duration": 42,
    "start_time": "2022-03-15T13:45:03.086Z"
   },
   {
    "duration": 18,
    "start_time": "2022-03-15T13:45:03.131Z"
   },
   {
    "duration": 37,
    "start_time": "2022-03-15T13:45:03.151Z"
   },
   {
    "duration": 343,
    "start_time": "2022-03-15T13:45:03.191Z"
   },
   {
    "duration": 21,
    "start_time": "2022-03-15T13:45:03.537Z"
   },
   {
    "duration": 29,
    "start_time": "2022-03-15T13:45:03.561Z"
   },
   {
    "duration": 32,
    "start_time": "2022-03-15T13:45:03.593Z"
   },
   {
    "duration": 241,
    "start_time": "2022-03-15T13:45:03.628Z"
   },
   {
    "duration": 16,
    "start_time": "2022-03-15T13:45:03.872Z"
   },
   {
    "duration": 15,
    "start_time": "2022-03-15T13:45:03.891Z"
   },
   {
    "duration": 364,
    "start_time": "2022-03-15T13:45:03.909Z"
   },
   {
    "duration": 335,
    "start_time": "2022-03-15T13:45:04.276Z"
   },
   {
    "duration": 17,
    "start_time": "2022-03-15T13:45:04.614Z"
   },
   {
    "duration": 48,
    "start_time": "2022-03-15T13:45:04.634Z"
   },
   {
    "duration": 30,
    "start_time": "2022-03-15T13:45:04.685Z"
   },
   {
    "duration": 12,
    "start_time": "2022-03-15T13:45:04.717Z"
   },
   {
    "duration": 18,
    "start_time": "2022-03-15T13:45:04.732Z"
   },
   {
    "duration": 220,
    "start_time": "2022-03-15T13:45:04.782Z"
   },
   {
    "duration": 11,
    "start_time": "2022-03-15T13:45:05.004Z"
   },
   {
    "duration": 312,
    "start_time": "2022-03-15T13:45:05.024Z"
   },
   {
    "duration": 11,
    "start_time": "2022-03-15T13:45:05.339Z"
   },
   {
    "duration": 313,
    "start_time": "2022-03-15T13:45:05.353Z"
   },
   {
    "duration": 386,
    "start_time": "2022-03-15T13:45:05.668Z"
   },
   {
    "duration": 12,
    "start_time": "2022-03-15T13:45:06.058Z"
   },
   {
    "duration": 20,
    "start_time": "2022-03-15T13:45:06.083Z"
   },
   {
    "duration": 25,
    "start_time": "2022-03-15T13:45:06.106Z"
   },
   {
    "duration": 48,
    "start_time": "2022-03-15T13:45:06.134Z"
   },
   {
    "duration": 9,
    "start_time": "2022-03-15T13:45:06.185Z"
   },
   {
    "duration": 229,
    "start_time": "2022-03-15T13:45:06.196Z"
   },
   {
    "duration": 8,
    "start_time": "2022-03-15T13:45:06.428Z"
   },
   {
    "duration": 263,
    "start_time": "2022-03-15T13:45:06.439Z"
   },
   {
    "duration": 307,
    "start_time": "2022-03-15T13:45:06.705Z"
   },
   {
    "duration": 322,
    "start_time": "2022-03-15T13:45:07.014Z"
   },
   {
    "duration": 11,
    "start_time": "2022-03-15T13:45:07.338Z"
   },
   {
    "duration": 35,
    "start_time": "2022-03-15T13:45:07.351Z"
   },
   {
    "duration": 28,
    "start_time": "2022-03-15T13:45:07.389Z"
   },
   {
    "duration": 21,
    "start_time": "2022-03-15T13:45:07.420Z"
   },
   {
    "duration": 41,
    "start_time": "2022-03-15T13:45:07.444Z"
   },
   {
    "duration": 322,
    "start_time": "2022-03-15T13:45:07.488Z"
   },
   {
    "duration": 292,
    "start_time": "2022-03-15T13:45:07.813Z"
   },
   {
    "duration": 30,
    "start_time": "2022-03-15T13:45:08.108Z"
   },
   {
    "duration": 57,
    "start_time": "2022-03-15T13:45:08.141Z"
   },
   {
    "duration": 6,
    "start_time": "2022-03-15T13:45:08.201Z"
   },
   {
    "duration": 9,
    "start_time": "2022-03-15T13:45:08.210Z"
   },
   {
    "duration": 33,
    "start_time": "2022-03-15T13:45:08.222Z"
   },
   {
    "duration": 25,
    "start_time": "2022-03-15T13:45:08.259Z"
   },
   {
    "duration": 8,
    "start_time": "2022-03-15T13:45:08.286Z"
   },
   {
    "duration": 10,
    "start_time": "2022-03-15T13:52:04.985Z"
   },
   {
    "duration": 28,
    "start_time": "2022-03-15T13:56:33.366Z"
   },
   {
    "duration": 68,
    "start_time": "2022-03-15T13:57:57.665Z"
   },
   {
    "duration": 6,
    "start_time": "2022-03-15T13:58:27.591Z"
   },
   {
    "duration": 1196,
    "start_time": "2022-03-15T14:02:21.308Z"
   },
   {
    "duration": 301,
    "start_time": "2022-03-15T14:14:46.804Z"
   },
   {
    "duration": 299,
    "start_time": "2022-03-15T14:15:16.951Z"
   },
   {
    "duration": 303,
    "start_time": "2022-03-15T14:15:32.518Z"
   },
   {
    "duration": 392,
    "start_time": "2022-03-15T14:15:49.616Z"
   },
   {
    "duration": 301,
    "start_time": "2022-03-15T14:16:06.330Z"
   },
   {
    "duration": 303,
    "start_time": "2022-03-15T14:16:14.136Z"
   },
   {
    "duration": 314,
    "start_time": "2022-03-15T14:16:18.688Z"
   },
   {
    "duration": 290,
    "start_time": "2022-03-15T14:16:32.510Z"
   },
   {
    "duration": 3241,
    "start_time": "2022-03-15T14:17:57.137Z"
   },
   {
    "duration": 345,
    "start_time": "2022-03-15T14:18:11.856Z"
   },
   {
    "duration": 28,
    "start_time": "2022-03-15T14:18:54.400Z"
   },
   {
    "duration": 237,
    "start_time": "2022-03-15T14:19:20.161Z"
   },
   {
    "duration": 72,
    "start_time": "2022-03-15T14:19:32.630Z"
   },
   {
    "duration": 355,
    "start_time": "2022-03-15T14:19:38.903Z"
   },
   {
    "duration": 2055,
    "start_time": "2022-03-15T14:20:03.855Z"
   },
   {
    "duration": 419,
    "start_time": "2022-03-15T14:20:18.255Z"
   },
   {
    "duration": 430,
    "start_time": "2022-03-15T14:20:54.439Z"
   },
   {
    "duration": 365,
    "start_time": "2022-03-15T14:21:03.543Z"
   },
   {
    "duration": 363,
    "start_time": "2022-03-15T14:21:12.279Z"
   },
   {
    "duration": 383,
    "start_time": "2022-03-15T14:21:35.246Z"
   },
   {
    "duration": 389,
    "start_time": "2022-03-15T14:22:16.863Z"
   },
   {
    "duration": 311,
    "start_time": "2022-03-15T14:22:35.111Z"
   },
   {
    "duration": 385,
    "start_time": "2022-03-15T14:22:43.679Z"
   },
   {
    "duration": 325,
    "start_time": "2022-03-15T14:22:55.201Z"
   },
   {
    "duration": 3293,
    "start_time": "2022-03-15T14:23:22.879Z"
   },
   {
    "duration": 652,
    "start_time": "2022-03-15T14:23:32.760Z"
   },
   {
    "duration": 1643,
    "start_time": "2022-03-15T14:23:49.614Z"
   },
   {
    "duration": 631,
    "start_time": "2022-03-15T14:23:59.600Z"
   },
   {
    "duration": 948,
    "start_time": "2022-03-15T14:24:20.861Z"
   },
   {
    "duration": 344,
    "start_time": "2022-03-15T14:24:34.319Z"
   },
   {
    "duration": 452,
    "start_time": "2022-03-15T14:24:39.462Z"
   },
   {
    "duration": 6,
    "start_time": "2022-03-15T14:32:49.541Z"
   },
   {
    "duration": 79,
    "start_time": "2022-03-15T14:34:48.579Z"
   },
   {
    "duration": 7,
    "start_time": "2022-03-15T14:34:54.619Z"
   },
   {
    "duration": 7,
    "start_time": "2022-03-15T14:35:02.290Z"
   },
   {
    "duration": 89,
    "start_time": "2022-03-15T14:35:53.738Z"
   },
   {
    "duration": 5,
    "start_time": "2022-03-15T14:36:32.674Z"
   },
   {
    "duration": 8,
    "start_time": "2022-03-15T14:37:00.322Z"
   },
   {
    "duration": 84,
    "start_time": "2022-03-15T14:42:18.370Z"
   },
   {
    "duration": 8,
    "start_time": "2022-03-15T14:43:06.545Z"
   },
   {
    "duration": 8,
    "start_time": "2022-03-15T14:43:35.265Z"
   },
   {
    "duration": 8,
    "start_time": "2022-03-15T14:48:00.472Z"
   },
   {
    "duration": 9,
    "start_time": "2022-03-15T14:48:31.919Z"
   },
   {
    "duration": 10,
    "start_time": "2022-03-15T14:49:17.181Z"
   },
   {
    "duration": 8,
    "start_time": "2022-03-15T14:49:37.329Z"
   },
   {
    "duration": 8,
    "start_time": "2022-03-15T14:49:56.246Z"
   },
   {
    "duration": 8,
    "start_time": "2022-03-15T14:50:07.286Z"
   },
   {
    "duration": 9,
    "start_time": "2022-03-15T14:50:26.787Z"
   },
   {
    "duration": 9,
    "start_time": "2022-03-15T14:50:38.302Z"
   },
   {
    "duration": 1305,
    "start_time": "2022-03-15T15:10:49.983Z"
   },
   {
    "duration": 240,
    "start_time": "2022-03-15T15:10:51.291Z"
   },
   {
    "duration": 203,
    "start_time": "2022-03-15T15:10:51.535Z"
   },
   {
    "duration": 142,
    "start_time": "2022-03-15T15:10:51.741Z"
   },
   {
    "duration": 25,
    "start_time": "2022-03-15T15:10:51.886Z"
   },
   {
    "duration": 42,
    "start_time": "2022-03-15T15:10:51.913Z"
   },
   {
    "duration": 153,
    "start_time": "2022-03-15T15:10:51.959Z"
   },
   {
    "duration": 121,
    "start_time": "2022-03-15T15:10:52.116Z"
   },
   {
    "duration": 68,
    "start_time": "2022-03-15T15:10:52.240Z"
   },
   {
    "duration": 9,
    "start_time": "2022-03-15T15:10:52.310Z"
   },
   {
    "duration": 79,
    "start_time": "2022-03-15T15:10:52.321Z"
   },
   {
    "duration": 12,
    "start_time": "2022-03-15T15:10:52.403Z"
   },
   {
    "duration": 30,
    "start_time": "2022-03-15T15:10:52.418Z"
   },
   {
    "duration": 36,
    "start_time": "2022-03-15T15:10:52.452Z"
   },
   {
    "duration": 44,
    "start_time": "2022-03-15T15:10:52.491Z"
   },
   {
    "duration": 9,
    "start_time": "2022-03-15T15:10:52.538Z"
   },
   {
    "duration": 52,
    "start_time": "2022-03-15T15:10:52.549Z"
   },
   {
    "duration": 37,
    "start_time": "2022-03-15T15:10:52.608Z"
   },
   {
    "duration": 8,
    "start_time": "2022-03-15T15:10:52.647Z"
   },
   {
    "duration": 11,
    "start_time": "2022-03-15T15:10:52.683Z"
   },
   {
    "duration": 23,
    "start_time": "2022-03-15T15:10:52.697Z"
   },
   {
    "duration": 159,
    "start_time": "2022-03-15T15:10:52.723Z"
   },
   {
    "duration": 135,
    "start_time": "2022-03-15T15:10:52.890Z"
   },
   {
    "duration": 83,
    "start_time": "2022-03-15T15:10:53.030Z"
   },
   {
    "duration": 35,
    "start_time": "2022-03-15T15:10:53.115Z"
   },
   {
    "duration": 33,
    "start_time": "2022-03-15T15:10:53.153Z"
   },
   {
    "duration": 48,
    "start_time": "2022-03-15T15:10:53.189Z"
   },
   {
    "duration": 47,
    "start_time": "2022-03-15T15:10:53.240Z"
   },
   {
    "duration": 58,
    "start_time": "2022-03-15T15:10:53.289Z"
   },
   {
    "duration": 46,
    "start_time": "2022-03-15T15:10:53.350Z"
   },
   {
    "duration": 36,
    "start_time": "2022-03-15T15:10:53.399Z"
   },
   {
    "duration": 45,
    "start_time": "2022-03-15T15:10:53.438Z"
   },
   {
    "duration": 52,
    "start_time": "2022-03-15T15:10:53.486Z"
   },
   {
    "duration": 41,
    "start_time": "2022-03-15T15:10:53.541Z"
   },
   {
    "duration": 16,
    "start_time": "2022-03-15T15:10:53.584Z"
   },
   {
    "duration": 8,
    "start_time": "2022-03-15T15:10:53.603Z"
   },
   {
    "duration": 208,
    "start_time": "2022-03-15T15:10:53.613Z"
   },
   {
    "duration": 5,
    "start_time": "2022-03-15T15:10:53.825Z"
   },
   {
    "duration": 252,
    "start_time": "2022-03-15T15:10:53.833Z"
   },
   {
    "duration": 5,
    "start_time": "2022-03-15T15:10:54.088Z"
   },
   {
    "duration": 194,
    "start_time": "2022-03-15T15:10:54.095Z"
   },
   {
    "duration": 41,
    "start_time": "2022-03-15T15:10:54.291Z"
   },
   {
    "duration": 64,
    "start_time": "2022-03-15T15:10:54.335Z"
   },
   {
    "duration": 11,
    "start_time": "2022-03-15T15:10:54.402Z"
   },
   {
    "duration": 33,
    "start_time": "2022-03-15T15:10:54.416Z"
   },
   {
    "duration": 36,
    "start_time": "2022-03-15T15:10:54.452Z"
   },
   {
    "duration": 34,
    "start_time": "2022-03-15T15:10:54.491Z"
   },
   {
    "duration": 34,
    "start_time": "2022-03-15T15:10:54.528Z"
   },
   {
    "duration": 44,
    "start_time": "2022-03-15T15:10:54.564Z"
   },
   {
    "duration": 10,
    "start_time": "2022-03-15T15:10:54.611Z"
   },
   {
    "duration": 13,
    "start_time": "2022-03-15T15:10:54.624Z"
   },
   {
    "duration": 347,
    "start_time": "2022-03-15T15:10:54.640Z"
   },
   {
    "duration": 18,
    "start_time": "2022-03-15T15:10:54.990Z"
   },
   {
    "duration": 8,
    "start_time": "2022-03-15T15:10:55.011Z"
   },
   {
    "duration": 12,
    "start_time": "2022-03-15T15:10:55.022Z"
   },
   {
    "duration": 264,
    "start_time": "2022-03-15T15:10:55.038Z"
   },
   {
    "duration": 8,
    "start_time": "2022-03-15T15:10:55.305Z"
   },
   {
    "duration": 14,
    "start_time": "2022-03-15T15:10:55.317Z"
   },
   {
    "duration": 357,
    "start_time": "2022-03-15T15:10:55.333Z"
   },
   {
    "duration": 314,
    "start_time": "2022-03-15T15:10:55.693Z"
   },
   {
    "duration": 14,
    "start_time": "2022-03-15T15:10:56.010Z"
   },
   {
    "duration": 9,
    "start_time": "2022-03-15T15:10:56.027Z"
   },
   {
    "duration": 54,
    "start_time": "2022-03-15T15:10:56.039Z"
   },
   {
    "duration": 33,
    "start_time": "2022-03-15T15:10:56.095Z"
   },
   {
    "duration": 12,
    "start_time": "2022-03-15T15:10:56.131Z"
   },
   {
    "duration": 36,
    "start_time": "2022-03-15T15:10:56.146Z"
   },
   {
    "duration": 325,
    "start_time": "2022-03-15T15:10:56.185Z"
   },
   {
    "duration": 11,
    "start_time": "2022-03-15T15:10:56.518Z"
   },
   {
    "duration": 418,
    "start_time": "2022-03-15T15:10:56.532Z"
   },
   {
    "duration": 9,
    "start_time": "2022-03-15T15:10:56.953Z"
   },
   {
    "duration": 301,
    "start_time": "2022-03-15T15:10:56.964Z"
   },
   {
    "duration": 371,
    "start_time": "2022-03-15T15:10:57.268Z"
   },
   {
    "duration": 14,
    "start_time": "2022-03-15T15:10:57.642Z"
   },
   {
    "duration": 31,
    "start_time": "2022-03-15T15:10:57.659Z"
   },
   {
    "duration": 28,
    "start_time": "2022-03-15T15:10:57.693Z"
   },
   {
    "duration": 30,
    "start_time": "2022-03-15T15:10:57.723Z"
   },
   {
    "duration": 33,
    "start_time": "2022-03-15T15:10:57.755Z"
   },
   {
    "duration": 7,
    "start_time": "2022-03-15T15:10:57.791Z"
   },
   {
    "duration": 230,
    "start_time": "2022-03-15T15:10:57.800Z"
   },
   {
    "duration": 8,
    "start_time": "2022-03-15T15:10:58.032Z"
   },
   {
    "duration": 274,
    "start_time": "2022-03-15T15:10:58.043Z"
   },
   {
    "duration": 365,
    "start_time": "2022-03-15T15:10:58.320Z"
   },
   {
    "duration": 429,
    "start_time": "2022-03-15T15:10:58.687Z"
   },
   {
    "duration": 11,
    "start_time": "2022-03-15T15:10:59.118Z"
   },
   {
    "duration": 20,
    "start_time": "2022-03-15T15:10:59.131Z"
   },
   {
    "duration": 39,
    "start_time": "2022-03-15T15:10:59.154Z"
   },
   {
    "duration": 26,
    "start_time": "2022-03-15T15:10:59.197Z"
   },
   {
    "duration": 18,
    "start_time": "2022-03-15T15:10:59.225Z"
   },
   {
    "duration": 47,
    "start_time": "2022-03-15T15:10:59.246Z"
   },
   {
    "duration": 335,
    "start_time": "2022-03-15T15:10:59.296Z"
   },
   {
    "duration": 337,
    "start_time": "2022-03-15T15:10:59.634Z"
   },
   {
    "duration": 35,
    "start_time": "2022-03-15T15:10:59.973Z"
   },
   {
    "duration": 16,
    "start_time": "2022-03-15T15:11:00.011Z"
   },
   {
    "duration": 11,
    "start_time": "2022-03-15T15:11:00.030Z"
   },
   {
    "duration": 8,
    "start_time": "2022-03-15T15:11:00.087Z"
   },
   {
    "duration": 22,
    "start_time": "2022-03-15T15:11:00.097Z"
   },
   {
    "duration": 12,
    "start_time": "2022-03-15T15:11:00.122Z"
   },
   {
    "duration": 15,
    "start_time": "2022-03-15T15:11:00.137Z"
   },
   {
    "duration": 794,
    "start_time": "2022-03-25T21:45:40.692Z"
   },
   {
    "duration": 177,
    "start_time": "2022-03-25T21:45:41.488Z"
   },
   {
    "duration": 149,
    "start_time": "2022-03-25T21:45:41.667Z"
   },
   {
    "duration": 100,
    "start_time": "2022-03-25T21:45:41.818Z"
   },
   {
    "duration": 25,
    "start_time": "2022-03-25T21:45:41.919Z"
   },
   {
    "duration": 37,
    "start_time": "2022-03-25T21:45:41.946Z"
   },
   {
    "duration": 102,
    "start_time": "2022-03-25T21:45:41.985Z"
   },
   {
    "duration": 61,
    "start_time": "2022-03-25T21:45:42.089Z"
   },
   {
    "duration": 55,
    "start_time": "2022-03-25T21:45:42.151Z"
   },
   {
    "duration": 5,
    "start_time": "2022-03-25T21:45:42.209Z"
   },
   {
    "duration": 46,
    "start_time": "2022-03-25T21:45:42.216Z"
   },
   {
    "duration": 18,
    "start_time": "2022-03-25T21:45:42.264Z"
   },
   {
    "duration": 13,
    "start_time": "2022-03-25T21:45:42.283Z"
   },
   {
    "duration": 8,
    "start_time": "2022-03-25T21:45:42.298Z"
   },
   {
    "duration": 33,
    "start_time": "2022-03-25T21:45:42.307Z"
   },
   {
    "duration": 5,
    "start_time": "2022-03-25T21:45:42.341Z"
   },
   {
    "duration": 40,
    "start_time": "2022-03-25T21:45:42.347Z"
   },
   {
    "duration": 27,
    "start_time": "2022-03-25T21:45:42.388Z"
   },
   {
    "duration": 4,
    "start_time": "2022-03-25T21:45:42.417Z"
   },
   {
    "duration": 10,
    "start_time": "2022-03-25T21:45:42.422Z"
   },
   {
    "duration": 6,
    "start_time": "2022-03-25T21:45:42.434Z"
   },
   {
    "duration": 116,
    "start_time": "2022-03-25T21:45:42.441Z"
   },
   {
    "duration": 35,
    "start_time": "2022-03-25T21:45:42.559Z"
   },
   {
    "duration": 32,
    "start_time": "2022-03-25T21:45:42.596Z"
   },
   {
    "duration": 16,
    "start_time": "2022-03-25T21:45:42.630Z"
   },
   {
    "duration": 7,
    "start_time": "2022-03-25T21:45:42.648Z"
   },
   {
    "duration": 43,
    "start_time": "2022-03-25T21:45:42.657Z"
   },
   {
    "duration": 15,
    "start_time": "2022-03-25T21:45:42.704Z"
   },
   {
    "duration": 23,
    "start_time": "2022-03-25T21:45:42.720Z"
   },
   {
    "duration": 12,
    "start_time": "2022-03-25T21:45:42.744Z"
   },
   {
    "duration": 21,
    "start_time": "2022-03-25T21:45:42.781Z"
   },
   {
    "duration": 6,
    "start_time": "2022-03-25T21:45:42.803Z"
   },
   {
    "duration": 29,
    "start_time": "2022-03-25T21:45:42.811Z"
   },
   {
    "duration": 7,
    "start_time": "2022-03-25T21:45:42.842Z"
   },
   {
    "duration": 35,
    "start_time": "2022-03-25T21:45:42.851Z"
   },
   {
    "duration": 3,
    "start_time": "2022-03-25T21:45:42.887Z"
   },
   {
    "duration": 71,
    "start_time": "2022-03-25T21:45:42.891Z"
   },
   {
    "duration": 3,
    "start_time": "2022-03-25T21:45:42.963Z"
   },
   {
    "duration": 72,
    "start_time": "2022-03-25T21:45:42.967Z"
   },
   {
    "duration": 3,
    "start_time": "2022-03-25T21:45:43.040Z"
   },
   {
    "duration": 73,
    "start_time": "2022-03-25T21:45:43.044Z"
   },
   {
    "duration": 18,
    "start_time": "2022-03-25T21:45:43.119Z"
   },
   {
    "duration": 19,
    "start_time": "2022-03-25T21:45:43.139Z"
   },
   {
    "duration": 24,
    "start_time": "2022-03-25T21:45:43.159Z"
   },
   {
    "duration": 12,
    "start_time": "2022-03-25T21:45:43.184Z"
   },
   {
    "duration": 15,
    "start_time": "2022-03-25T21:45:43.197Z"
   },
   {
    "duration": 10,
    "start_time": "2022-03-25T21:45:43.213Z"
   },
   {
    "duration": 10,
    "start_time": "2022-03-25T21:45:43.225Z"
   },
   {
    "duration": 10,
    "start_time": "2022-03-25T21:45:43.236Z"
   },
   {
    "duration": 6,
    "start_time": "2022-03-25T21:45:43.247Z"
   },
   {
    "duration": 26,
    "start_time": "2022-03-25T21:45:43.255Z"
   },
   {
    "duration": 531,
    "start_time": "2022-03-25T21:45:43.283Z"
   },
   {
    "duration": 11,
    "start_time": "2022-03-25T21:45:43.816Z"
   },
   {
    "duration": 8,
    "start_time": "2022-03-25T21:45:43.828Z"
   },
   {
    "duration": 10,
    "start_time": "2022-03-25T21:45:43.837Z"
   },
   {
    "duration": 98,
    "start_time": "2022-03-25T21:45:43.848Z"
   },
   {
    "duration": 6,
    "start_time": "2022-03-25T21:45:43.947Z"
   },
   {
    "duration": 13,
    "start_time": "2022-03-25T21:45:43.954Z"
   },
   {
    "duration": 127,
    "start_time": "2022-03-25T21:45:43.968Z"
   },
   {
    "duration": 124,
    "start_time": "2022-03-25T21:45:44.096Z"
   },
   {
    "duration": 8,
    "start_time": "2022-03-25T21:45:44.221Z"
   },
   {
    "duration": 15,
    "start_time": "2022-03-25T21:45:44.231Z"
   },
   {
    "duration": 12,
    "start_time": "2022-03-25T21:45:44.248Z"
   },
   {
    "duration": 28,
    "start_time": "2022-03-25T21:45:44.261Z"
   },
   {
    "duration": 8,
    "start_time": "2022-03-25T21:45:44.291Z"
   },
   {
    "duration": 7,
    "start_time": "2022-03-25T21:45:44.300Z"
   },
   {
    "duration": 97,
    "start_time": "2022-03-25T21:45:44.309Z"
   },
   {
    "duration": 7,
    "start_time": "2022-03-25T21:45:44.408Z"
   },
   {
    "duration": 97,
    "start_time": "2022-03-25T21:45:44.417Z"
   },
   {
    "duration": 6,
    "start_time": "2022-03-25T21:45:44.515Z"
   },
   {
    "duration": 112,
    "start_time": "2022-03-25T21:45:44.522Z"
   },
   {
    "duration": 176,
    "start_time": "2022-03-25T21:45:44.635Z"
   },
   {
    "duration": 9,
    "start_time": "2022-03-25T21:45:44.813Z"
   },
   {
    "duration": 9,
    "start_time": "2022-03-25T21:45:44.823Z"
   },
   {
    "duration": 12,
    "start_time": "2022-03-25T21:45:44.834Z"
   },
   {
    "duration": 34,
    "start_time": "2022-03-25T21:45:44.848Z"
   },
   {
    "duration": 9,
    "start_time": "2022-03-25T21:45:44.883Z"
   },
   {
    "duration": 6,
    "start_time": "2022-03-25T21:45:44.893Z"
   },
   {
    "duration": 104,
    "start_time": "2022-03-25T21:45:44.901Z"
   },
   {
    "duration": 6,
    "start_time": "2022-03-25T21:45:45.006Z"
   },
   {
    "duration": 110,
    "start_time": "2022-03-25T21:45:45.013Z"
   },
   {
    "duration": 129,
    "start_time": "2022-03-25T21:45:45.128Z"
   },
   {
    "duration": 156,
    "start_time": "2022-03-25T21:45:45.258Z"
   },
   {
    "duration": 5,
    "start_time": "2022-03-25T21:45:45.416Z"
   },
   {
    "duration": 8,
    "start_time": "2022-03-25T21:45:45.423Z"
   },
   {
    "duration": 6,
    "start_time": "2022-03-25T21:45:45.433Z"
   },
   {
    "duration": 13,
    "start_time": "2022-03-25T21:45:45.440Z"
   },
   {
    "duration": 30,
    "start_time": "2022-03-25T21:45:45.454Z"
   },
   {
    "duration": 7,
    "start_time": "2022-03-25T21:45:45.486Z"
   },
   {
    "duration": 115,
    "start_time": "2022-03-25T21:45:45.494Z"
   },
   {
    "duration": 107,
    "start_time": "2022-03-25T21:45:45.611Z"
   },
   {
    "duration": 17,
    "start_time": "2022-03-25T21:45:45.719Z"
   },
   {
    "duration": 13,
    "start_time": "2022-03-25T21:45:45.738Z"
   },
   {
    "duration": 4,
    "start_time": "2022-03-25T21:45:45.753Z"
   },
   {
    "duration": 26,
    "start_time": "2022-03-25T21:45:45.759Z"
   },
   {
    "duration": 15,
    "start_time": "2022-03-25T21:45:45.786Z"
   },
   {
    "duration": 5,
    "start_time": "2022-03-25T21:45:45.802Z"
   },
   {
    "duration": 6,
    "start_time": "2022-03-25T21:45:45.808Z"
   },
   {
    "duration": 17,
    "start_time": "2022-03-25T21:47:41.427Z"
   },
   {
    "duration": 106,
    "start_time": "2022-03-25T21:48:47.668Z"
   },
   {
    "duration": 105,
    "start_time": "2022-03-25T21:48:50.649Z"
   },
   {
    "duration": 113,
    "start_time": "2022-03-26T06:12:52.484Z"
   },
   {
    "duration": 1199,
    "start_time": "2022-03-26T06:12:57.739Z"
   },
   {
    "duration": 277,
    "start_time": "2022-03-26T06:12:58.941Z"
   },
   {
    "duration": 203,
    "start_time": "2022-03-26T06:12:59.220Z"
   },
   {
    "duration": 143,
    "start_time": "2022-03-26T06:12:59.427Z"
   },
   {
    "duration": 34,
    "start_time": "2022-03-26T06:12:59.573Z"
   },
   {
    "duration": 55,
    "start_time": "2022-03-26T06:12:59.610Z"
   },
   {
    "duration": 154,
    "start_time": "2022-03-26T06:12:59.667Z"
   },
   {
    "duration": 128,
    "start_time": "2022-03-26T06:12:59.824Z"
   },
   {
    "duration": 74,
    "start_time": "2022-03-26T06:12:59.955Z"
   },
   {
    "duration": 9,
    "start_time": "2022-03-26T06:13:00.045Z"
   },
   {
    "duration": 91,
    "start_time": "2022-03-26T06:13:00.056Z"
   },
   {
    "duration": 10,
    "start_time": "2022-03-26T06:13:00.149Z"
   },
   {
    "duration": 30,
    "start_time": "2022-03-26T06:13:00.161Z"
   },
   {
    "duration": 14,
    "start_time": "2022-03-26T06:13:00.194Z"
   },
   {
    "duration": 87,
    "start_time": "2022-03-26T06:13:00.210Z"
   },
   {
    "duration": 9,
    "start_time": "2022-03-26T06:13:00.299Z"
   },
   {
    "duration": 33,
    "start_time": "2022-03-26T06:13:00.311Z"
   },
   {
    "duration": 45,
    "start_time": "2022-03-26T06:13:00.347Z"
   },
   {
    "duration": 8,
    "start_time": "2022-03-26T06:13:00.395Z"
   },
   {
    "duration": 49,
    "start_time": "2022-03-26T06:13:00.405Z"
   },
   {
    "duration": 24,
    "start_time": "2022-03-26T06:13:00.457Z"
   },
   {
    "duration": 151,
    "start_time": "2022-03-26T06:13:00.484Z"
   },
   {
    "duration": 45,
    "start_time": "2022-03-26T06:13:00.642Z"
   },
   {
    "duration": 84,
    "start_time": "2022-03-26T06:13:00.689Z"
   },
   {
    "duration": 28,
    "start_time": "2022-03-26T06:13:00.777Z"
   },
   {
    "duration": 12,
    "start_time": "2022-03-26T06:13:00.808Z"
   },
   {
    "duration": 40,
    "start_time": "2022-03-26T06:13:00.843Z"
   },
   {
    "duration": 24,
    "start_time": "2022-03-26T06:13:00.888Z"
   },
   {
    "duration": 41,
    "start_time": "2022-03-26T06:13:00.944Z"
   },
   {
    "duration": 24,
    "start_time": "2022-03-26T06:13:00.988Z"
   },
   {
    "duration": 66,
    "start_time": "2022-03-26T06:13:01.014Z"
   },
   {
    "duration": 12,
    "start_time": "2022-03-26T06:13:01.082Z"
   },
   {
    "duration": 77,
    "start_time": "2022-03-26T06:13:01.096Z"
   },
   {
    "duration": 13,
    "start_time": "2022-03-26T06:13:01.175Z"
   },
   {
    "duration": 21,
    "start_time": "2022-03-26T06:13:01.191Z"
   },
   {
    "duration": 29,
    "start_time": "2022-03-26T06:13:01.214Z"
   },
   {
    "duration": 153,
    "start_time": "2022-03-26T06:13:01.246Z"
   },
   {
    "duration": 4,
    "start_time": "2022-03-26T06:13:01.401Z"
   },
   {
    "duration": 132,
    "start_time": "2022-03-26T06:13:01.407Z"
   },
   {
    "duration": 88,
    "start_time": "2022-03-26T06:13:04.422Z"
   },
   {
    "duration": 10,
    "start_time": "2022-03-26T06:13:15.832Z"
   },
   {
    "duration": 44,
    "start_time": "2022-03-26T06:13:23.678Z"
   },
   {
    "duration": 11,
    "start_time": "2022-03-26T06:26:14.443Z"
   },
   {
    "duration": 10,
    "start_time": "2022-03-26T06:26:22.193Z"
   },
   {
    "duration": 4,
    "start_time": "2022-03-26T06:26:30.090Z"
   },
   {
    "duration": 349,
    "start_time": "2022-03-26T06:26:30.098Z"
   },
   {
    "duration": 217,
    "start_time": "2022-03-26T06:26:30.450Z"
   },
   {
    "duration": 166,
    "start_time": "2022-03-26T06:26:30.671Z"
   },
   {
    "duration": 36,
    "start_time": "2022-03-26T06:26:30.843Z"
   },
   {
    "duration": 55,
    "start_time": "2022-03-26T06:26:30.881Z"
   },
   {
    "duration": 160,
    "start_time": "2022-03-26T06:26:30.940Z"
   },
   {
    "duration": 130,
    "start_time": "2022-03-26T06:26:31.102Z"
   },
   {
    "duration": 112,
    "start_time": "2022-03-26T06:26:31.237Z"
   },
   {
    "duration": 14,
    "start_time": "2022-03-26T06:26:31.352Z"
   },
   {
    "duration": 127,
    "start_time": "2022-03-26T06:26:31.369Z"
   },
   {
    "duration": 9,
    "start_time": "2022-03-26T06:26:31.499Z"
   },
   {
    "duration": 38,
    "start_time": "2022-03-26T06:26:31.511Z"
   },
   {
    "duration": 15,
    "start_time": "2022-03-26T06:26:31.551Z"
   },
   {
    "duration": 80,
    "start_time": "2022-03-26T06:26:31.568Z"
   },
   {
    "duration": 8,
    "start_time": "2022-03-26T06:26:31.650Z"
   },
   {
    "duration": 27,
    "start_time": "2022-03-26T06:26:31.660Z"
   },
   {
    "duration": 79,
    "start_time": "2022-03-26T06:26:31.690Z"
   },
   {
    "duration": 11,
    "start_time": "2022-03-26T06:26:31.772Z"
   },
   {
    "duration": 37,
    "start_time": "2022-03-26T06:26:31.786Z"
   },
   {
    "duration": 41,
    "start_time": "2022-03-26T06:26:31.826Z"
   },
   {
    "duration": 201,
    "start_time": "2022-03-26T06:26:31.869Z"
   },
   {
    "duration": 44,
    "start_time": "2022-03-26T06:26:32.073Z"
   },
   {
    "duration": 74,
    "start_time": "2022-03-26T06:26:32.123Z"
   },
   {
    "duration": 44,
    "start_time": "2022-03-26T06:26:32.199Z"
   },
   {
    "duration": 13,
    "start_time": "2022-03-26T06:26:32.245Z"
   },
   {
    "duration": 44,
    "start_time": "2022-03-26T06:26:32.260Z"
   },
   {
    "duration": 47,
    "start_time": "2022-03-26T06:26:32.307Z"
   },
   {
    "duration": 43,
    "start_time": "2022-03-26T06:26:32.356Z"
   },
   {
    "duration": 43,
    "start_time": "2022-03-26T06:26:32.401Z"
   },
   {
    "duration": 39,
    "start_time": "2022-03-26T06:26:32.446Z"
   },
   {
    "duration": 13,
    "start_time": "2022-03-26T06:26:32.487Z"
   },
   {
    "duration": 79,
    "start_time": "2022-03-26T06:26:32.502Z"
   },
   {
    "duration": 19,
    "start_time": "2022-03-26T06:26:32.583Z"
   },
   {
    "duration": 40,
    "start_time": "2022-03-26T06:26:32.604Z"
   },
   {
    "duration": 5,
    "start_time": "2022-03-26T06:26:32.646Z"
   },
   {
    "duration": 141,
    "start_time": "2022-03-26T06:26:32.654Z"
   },
   {
    "duration": 5,
    "start_time": "2022-03-26T06:26:32.797Z"
   },
   {
    "duration": 137,
    "start_time": "2022-03-26T06:26:32.803Z"
   },
   {
    "duration": 4,
    "start_time": "2022-03-26T06:26:32.946Z"
   },
   {
    "duration": 143,
    "start_time": "2022-03-26T06:26:32.952Z"
   },
   {
    "duration": 46,
    "start_time": "2022-03-26T06:26:33.097Z"
   },
   {
    "duration": 47,
    "start_time": "2022-03-26T06:26:33.145Z"
   },
   {
    "duration": 13,
    "start_time": "2022-03-26T06:26:33.194Z"
   },
   {
    "duration": 40,
    "start_time": "2022-03-26T06:26:33.210Z"
   },
   {
    "duration": 36,
    "start_time": "2022-03-26T06:26:33.253Z"
   },
   {
    "duration": 12,
    "start_time": "2022-03-26T06:26:33.291Z"
   },
   {
    "duration": 48,
    "start_time": "2022-03-26T06:26:33.305Z"
   },
   {
    "duration": 20,
    "start_time": "2022-03-26T06:26:33.356Z"
   },
   {
    "duration": 23,
    "start_time": "2022-03-26T06:26:33.378Z"
   },
   {
    "duration": 20,
    "start_time": "2022-03-26T06:26:33.403Z"
   },
   {
    "duration": 977,
    "start_time": "2022-03-26T06:26:33.425Z"
   },
   {
    "duration": 18,
    "start_time": "2022-03-26T06:26:34.404Z"
   },
   {
    "duration": 12,
    "start_time": "2022-03-26T06:26:34.424Z"
   },
   {
    "duration": 13,
    "start_time": "2022-03-26T06:26:34.443Z"
   },
   {
    "duration": 191,
    "start_time": "2022-03-26T06:26:34.459Z"
   },
   {
    "duration": 10,
    "start_time": "2022-03-26T06:26:34.653Z"
   },
   {
    "duration": 16,
    "start_time": "2022-03-26T06:26:34.665Z"
   },
   {
    "duration": 234,
    "start_time": "2022-03-26T06:26:34.683Z"
   },
   {
    "duration": 244,
    "start_time": "2022-03-26T06:26:34.919Z"
   },
   {
    "duration": 12,
    "start_time": "2022-03-26T06:26:35.165Z"
   },
   {
    "duration": 65,
    "start_time": "2022-03-26T06:26:35.179Z"
   },
   {
    "duration": 22,
    "start_time": "2022-03-26T06:26:35.247Z"
   },
   {
    "duration": 85,
    "start_time": "2022-03-26T06:26:35.271Z"
   },
   {
    "duration": 14,
    "start_time": "2022-03-26T06:26:35.358Z"
   },
   {
    "duration": 11,
    "start_time": "2022-03-26T06:26:35.374Z"
   },
   {
    "duration": 364,
    "start_time": "2022-03-26T06:26:35.388Z"
   },
   {
    "duration": 13,
    "start_time": "2022-03-26T06:26:35.754Z"
   },
   {
    "duration": 281,
    "start_time": "2022-03-26T06:26:35.776Z"
   },
   {
    "duration": 9,
    "start_time": "2022-03-26T06:26:36.059Z"
   },
   {
    "duration": 372,
    "start_time": "2022-03-26T06:26:36.071Z"
   },
   {
    "duration": 343,
    "start_time": "2022-03-26T06:26:36.446Z"
   },
   {
    "duration": 11,
    "start_time": "2022-03-26T06:26:36.791Z"
   },
   {
    "duration": 8,
    "start_time": "2022-03-26T06:26:36.804Z"
   },
   {
    "duration": 44,
    "start_time": "2022-03-26T06:26:36.813Z"
   },
   {
    "duration": 27,
    "start_time": "2022-03-26T06:26:36.860Z"
   },
   {
    "duration": 14,
    "start_time": "2022-03-26T06:26:36.889Z"
   },
   {
    "duration": 10,
    "start_time": "2022-03-26T06:26:36.942Z"
   },
   {
    "duration": 191,
    "start_time": "2022-03-26T06:26:36.955Z"
   },
   {
    "duration": 9,
    "start_time": "2022-03-26T06:26:37.148Z"
   },
   {
    "duration": 201,
    "start_time": "2022-03-26T06:26:37.159Z"
   },
   {
    "duration": 248,
    "start_time": "2022-03-26T06:26:37.362Z"
   },
   {
    "duration": 292,
    "start_time": "2022-03-26T06:26:37.613Z"
   },
   {
    "duration": 9,
    "start_time": "2022-03-26T06:26:37.907Z"
   },
   {
    "duration": 30,
    "start_time": "2022-03-26T06:26:37.918Z"
   },
   {
    "duration": 11,
    "start_time": "2022-03-26T06:26:37.950Z"
   },
   {
    "duration": 21,
    "start_time": "2022-03-26T06:26:37.963Z"
   },
   {
    "duration": 57,
    "start_time": "2022-03-26T06:26:37.987Z"
   },
   {
    "duration": 11,
    "start_time": "2022-03-26T06:26:38.047Z"
   },
   {
    "duration": 232,
    "start_time": "2022-03-26T06:26:38.061Z"
   },
   {
    "duration": 212,
    "start_time": "2022-03-26T06:26:38.296Z"
   },
   {
    "duration": 36,
    "start_time": "2022-03-26T06:26:38.510Z"
   },
   {
    "duration": 16,
    "start_time": "2022-03-26T06:26:38.548Z"
   },
   {
    "duration": 7,
    "start_time": "2022-03-26T06:26:38.566Z"
   },
   {
    "duration": 7,
    "start_time": "2022-03-26T06:26:38.575Z"
   },
   {
    "duration": 65,
    "start_time": "2022-03-26T06:26:38.584Z"
   },
   {
    "duration": 9,
    "start_time": "2022-03-26T06:26:38.652Z"
   },
   {
    "duration": 7,
    "start_time": "2022-03-26T06:26:38.664Z"
   },
   {
    "duration": 221,
    "start_time": "2022-03-26T06:26:52.359Z"
   },
   {
    "duration": 198,
    "start_time": "2022-03-26T06:26:58.185Z"
   },
   {
    "duration": 175,
    "start_time": "2022-03-26T06:28:28.195Z"
   },
   {
    "duration": 125,
    "start_time": "2022-03-26T06:28:57.650Z"
   },
   {
    "duration": 120,
    "start_time": "2022-03-26T06:29:04.473Z"
   },
   {
    "duration": 257,
    "start_time": "2022-03-26T06:29:17.065Z"
   },
   {
    "duration": 5,
    "start_time": "2022-03-26T06:32:05.276Z"
   },
   {
    "duration": 328,
    "start_time": "2022-03-26T06:32:05.284Z"
   },
   {
    "duration": 202,
    "start_time": "2022-03-26T06:32:05.643Z"
   },
   {
    "duration": 205,
    "start_time": "2022-03-26T06:32:05.847Z"
   },
   {
    "duration": 44,
    "start_time": "2022-03-26T06:32:06.056Z"
   },
   {
    "duration": 89,
    "start_time": "2022-03-26T06:32:06.103Z"
   },
   {
    "duration": 192,
    "start_time": "2022-03-26T06:32:06.195Z"
   },
   {
    "duration": 122,
    "start_time": "2022-03-26T06:32:06.389Z"
   },
   {
    "duration": 79,
    "start_time": "2022-03-26T06:32:06.513Z"
   },
   {
    "duration": 10,
    "start_time": "2022-03-26T06:32:06.595Z"
   },
   {
    "duration": 133,
    "start_time": "2022-03-26T06:32:06.610Z"
   },
   {
    "duration": 12,
    "start_time": "2022-03-26T06:32:06.745Z"
   },
   {
    "duration": 18,
    "start_time": "2022-03-26T06:32:06.760Z"
   },
   {
    "duration": 15,
    "start_time": "2022-03-26T06:32:06.780Z"
   },
   {
    "duration": 99,
    "start_time": "2022-03-26T06:32:06.797Z"
   },
   {
    "duration": 9,
    "start_time": "2022-03-26T06:32:06.898Z"
   },
   {
    "duration": 44,
    "start_time": "2022-03-26T06:32:06.909Z"
   },
   {
    "duration": 44,
    "start_time": "2022-03-26T06:32:06.956Z"
   },
   {
    "duration": 8,
    "start_time": "2022-03-26T06:32:07.002Z"
   },
   {
    "duration": 46,
    "start_time": "2022-03-26T06:32:07.012Z"
   },
   {
    "duration": 11,
    "start_time": "2022-03-26T06:32:07.060Z"
   },
   {
    "duration": 200,
    "start_time": "2022-03-26T06:32:07.074Z"
   },
   {
    "duration": 48,
    "start_time": "2022-03-26T06:32:07.276Z"
   },
   {
    "duration": 72,
    "start_time": "2022-03-26T06:32:07.326Z"
   },
   {
    "duration": 50,
    "start_time": "2022-03-26T06:32:07.400Z"
   },
   {
    "duration": 13,
    "start_time": "2022-03-26T06:32:07.452Z"
   },
   {
    "duration": 34,
    "start_time": "2022-03-26T06:32:07.468Z"
   },
   {
    "duration": 78,
    "start_time": "2022-03-26T06:32:07.504Z"
   },
   {
    "duration": 36,
    "start_time": "2022-03-26T06:32:07.588Z"
   },
   {
    "duration": 0,
    "start_time": "2022-03-26T06:32:07.627Z"
   },
   {
    "duration": 0,
    "start_time": "2022-03-26T06:32:07.628Z"
   },
   {
    "duration": 0,
    "start_time": "2022-03-26T06:32:07.630Z"
   },
   {
    "duration": 0,
    "start_time": "2022-03-26T06:32:07.631Z"
   },
   {
    "duration": 0,
    "start_time": "2022-03-26T06:32:07.632Z"
   },
   {
    "duration": 0,
    "start_time": "2022-03-26T06:32:07.634Z"
   },
   {
    "duration": 0,
    "start_time": "2022-03-26T06:32:07.643Z"
   },
   {
    "duration": 0,
    "start_time": "2022-03-26T06:32:07.645Z"
   },
   {
    "duration": 0,
    "start_time": "2022-03-26T06:32:07.646Z"
   },
   {
    "duration": 0,
    "start_time": "2022-03-26T06:32:07.647Z"
   },
   {
    "duration": 0,
    "start_time": "2022-03-26T06:32:07.649Z"
   },
   {
    "duration": 0,
    "start_time": "2022-03-26T06:32:07.650Z"
   },
   {
    "duration": 0,
    "start_time": "2022-03-26T06:32:07.652Z"
   },
   {
    "duration": 0,
    "start_time": "2022-03-26T06:32:07.653Z"
   },
   {
    "duration": 0,
    "start_time": "2022-03-26T06:32:07.654Z"
   },
   {
    "duration": 0,
    "start_time": "2022-03-26T06:32:07.656Z"
   },
   {
    "duration": 0,
    "start_time": "2022-03-26T06:32:07.657Z"
   },
   {
    "duration": 0,
    "start_time": "2022-03-26T06:32:07.659Z"
   },
   {
    "duration": 0,
    "start_time": "2022-03-26T06:32:07.660Z"
   },
   {
    "duration": 0,
    "start_time": "2022-03-26T06:32:07.662Z"
   },
   {
    "duration": 0,
    "start_time": "2022-03-26T06:32:07.663Z"
   },
   {
    "duration": 0,
    "start_time": "2022-03-26T06:32:07.665Z"
   },
   {
    "duration": 0,
    "start_time": "2022-03-26T06:32:07.667Z"
   },
   {
    "duration": 0,
    "start_time": "2022-03-26T06:32:07.668Z"
   },
   {
    "duration": 0,
    "start_time": "2022-03-26T06:32:07.670Z"
   },
   {
    "duration": 0,
    "start_time": "2022-03-26T06:32:07.672Z"
   },
   {
    "duration": 0,
    "start_time": "2022-03-26T06:32:07.673Z"
   },
   {
    "duration": 0,
    "start_time": "2022-03-26T06:32:07.675Z"
   },
   {
    "duration": 0,
    "start_time": "2022-03-26T06:32:07.677Z"
   },
   {
    "duration": 0,
    "start_time": "2022-03-26T06:32:07.678Z"
   },
   {
    "duration": 0,
    "start_time": "2022-03-26T06:32:07.680Z"
   },
   {
    "duration": 0,
    "start_time": "2022-03-26T06:32:07.744Z"
   },
   {
    "duration": 0,
    "start_time": "2022-03-26T06:32:07.746Z"
   },
   {
    "duration": 0,
    "start_time": "2022-03-26T06:32:07.748Z"
   },
   {
    "duration": 1,
    "start_time": "2022-03-26T06:32:07.749Z"
   },
   {
    "duration": 0,
    "start_time": "2022-03-26T06:32:07.752Z"
   },
   {
    "duration": 0,
    "start_time": "2022-03-26T06:32:07.754Z"
   },
   {
    "duration": 0,
    "start_time": "2022-03-26T06:32:07.755Z"
   },
   {
    "duration": 0,
    "start_time": "2022-03-26T06:32:07.757Z"
   },
   {
    "duration": 0,
    "start_time": "2022-03-26T06:32:07.759Z"
   },
   {
    "duration": 0,
    "start_time": "2022-03-26T06:32:07.761Z"
   },
   {
    "duration": 0,
    "start_time": "2022-03-26T06:32:07.763Z"
   },
   {
    "duration": 0,
    "start_time": "2022-03-26T06:32:07.764Z"
   },
   {
    "duration": 0,
    "start_time": "2022-03-26T06:32:07.767Z"
   },
   {
    "duration": 0,
    "start_time": "2022-03-26T06:32:07.768Z"
   },
   {
    "duration": 0,
    "start_time": "2022-03-26T06:32:07.770Z"
   },
   {
    "duration": 0,
    "start_time": "2022-03-26T06:32:07.772Z"
   },
   {
    "duration": 0,
    "start_time": "2022-03-26T06:32:07.774Z"
   },
   {
    "duration": 0,
    "start_time": "2022-03-26T06:32:07.776Z"
   },
   {
    "duration": 0,
    "start_time": "2022-03-26T06:32:07.778Z"
   },
   {
    "duration": 0,
    "start_time": "2022-03-26T06:32:07.780Z"
   },
   {
    "duration": 1,
    "start_time": "2022-03-26T06:32:07.843Z"
   },
   {
    "duration": 0,
    "start_time": "2022-03-26T06:32:07.845Z"
   },
   {
    "duration": 0,
    "start_time": "2022-03-26T06:32:07.848Z"
   },
   {
    "duration": 0,
    "start_time": "2022-03-26T06:32:07.850Z"
   },
   {
    "duration": 0,
    "start_time": "2022-03-26T06:32:07.852Z"
   },
   {
    "duration": 0,
    "start_time": "2022-03-26T06:32:07.854Z"
   },
   {
    "duration": 0,
    "start_time": "2022-03-26T06:32:07.856Z"
   },
   {
    "duration": 0,
    "start_time": "2022-03-26T06:32:07.858Z"
   },
   {
    "duration": 0,
    "start_time": "2022-03-26T06:32:07.861Z"
   },
   {
    "duration": 0,
    "start_time": "2022-03-26T06:32:07.863Z"
   },
   {
    "duration": 0,
    "start_time": "2022-03-26T06:32:07.865Z"
   },
   {
    "duration": 0,
    "start_time": "2022-03-26T06:32:07.867Z"
   },
   {
    "duration": 0,
    "start_time": "2022-03-26T06:32:07.868Z"
   },
   {
    "duration": 0,
    "start_time": "2022-03-26T06:32:07.870Z"
   },
   {
    "duration": 0,
    "start_time": "2022-03-26T06:32:07.872Z"
   },
   {
    "duration": 0,
    "start_time": "2022-03-26T06:32:07.874Z"
   },
   {
    "duration": 0,
    "start_time": "2022-03-26T06:32:07.875Z"
   },
   {
    "duration": 0,
    "start_time": "2022-03-26T06:32:07.877Z"
   },
   {
    "duration": 20,
    "start_time": "2022-03-26T06:34:40.384Z"
   },
   {
    "duration": 4,
    "start_time": "2022-03-26T06:35:12.431Z"
   },
   {
    "duration": 318,
    "start_time": "2022-03-26T06:35:12.437Z"
   },
   {
    "duration": 213,
    "start_time": "2022-03-26T06:35:12.758Z"
   },
   {
    "duration": 145,
    "start_time": "2022-03-26T06:35:12.974Z"
   },
   {
    "duration": 39,
    "start_time": "2022-03-26T06:35:13.121Z"
   },
   {
    "duration": 59,
    "start_time": "2022-03-26T06:35:13.162Z"
   },
   {
    "duration": 144,
    "start_time": "2022-03-26T06:35:13.223Z"
   },
   {
    "duration": 120,
    "start_time": "2022-03-26T06:35:13.369Z"
   },
   {
    "duration": 78,
    "start_time": "2022-03-26T06:35:13.493Z"
   },
   {
    "duration": 10,
    "start_time": "2022-03-26T06:35:13.573Z"
   },
   {
    "duration": 87,
    "start_time": "2022-03-26T06:35:13.585Z"
   },
   {
    "duration": 9,
    "start_time": "2022-03-26T06:35:13.674Z"
   },
   {
    "duration": 19,
    "start_time": "2022-03-26T06:35:13.685Z"
   },
   {
    "duration": 43,
    "start_time": "2022-03-26T06:35:13.706Z"
   },
   {
    "duration": 51,
    "start_time": "2022-03-26T06:35:13.752Z"
   },
   {
    "duration": 8,
    "start_time": "2022-03-26T06:35:13.805Z"
   },
   {
    "duration": 41,
    "start_time": "2022-03-26T06:35:13.816Z"
   },
   {
    "duration": 44,
    "start_time": "2022-03-26T06:35:13.859Z"
   },
   {
    "duration": 38,
    "start_time": "2022-03-26T06:35:13.905Z"
   },
   {
    "duration": 18,
    "start_time": "2022-03-26T06:35:13.945Z"
   },
   {
    "duration": 12,
    "start_time": "2022-03-26T06:35:13.965Z"
   },
   {
    "duration": 159,
    "start_time": "2022-03-26T06:35:13.979Z"
   },
   {
    "duration": 44,
    "start_time": "2022-03-26T06:35:14.140Z"
   },
   {
    "duration": 83,
    "start_time": "2022-03-26T06:35:14.191Z"
   },
   {
    "duration": 24,
    "start_time": "2022-03-26T06:35:14.276Z"
   },
   {
    "duration": 14,
    "start_time": "2022-03-26T06:35:14.302Z"
   },
   {
    "duration": 56,
    "start_time": "2022-03-26T06:35:14.318Z"
   },
   {
    "duration": 21,
    "start_time": "2022-03-26T06:35:14.376Z"
   },
   {
    "duration": 80,
    "start_time": "2022-03-26T06:35:14.400Z"
   },
   {
    "duration": 31,
    "start_time": "2022-03-26T06:35:14.483Z"
   },
   {
    "duration": 79,
    "start_time": "2022-03-26T06:35:14.516Z"
   },
   {
    "duration": 15,
    "start_time": "2022-03-26T06:35:14.598Z"
   },
   {
    "duration": 70,
    "start_time": "2022-03-26T06:35:14.616Z"
   },
   {
    "duration": 15,
    "start_time": "2022-03-26T06:35:14.688Z"
   },
   {
    "duration": 45,
    "start_time": "2022-03-26T06:35:14.705Z"
   },
   {
    "duration": 5,
    "start_time": "2022-03-26T06:35:14.753Z"
   },
   {
    "duration": 146,
    "start_time": "2022-03-26T06:35:14.761Z"
   },
   {
    "duration": 6,
    "start_time": "2022-03-26T06:35:14.910Z"
   },
   {
    "duration": 139,
    "start_time": "2022-03-26T06:35:14.919Z"
   },
   {
    "duration": 5,
    "start_time": "2022-03-26T06:35:15.060Z"
   },
   {
    "duration": 136,
    "start_time": "2022-03-26T06:35:15.068Z"
   },
   {
    "duration": 46,
    "start_time": "2022-03-26T06:35:15.207Z"
   },
   {
    "duration": 38,
    "start_time": "2022-03-26T06:35:15.256Z"
   },
   {
    "duration": 12,
    "start_time": "2022-03-26T06:35:15.296Z"
   },
   {
    "duration": 50,
    "start_time": "2022-03-26T06:35:15.311Z"
   },
   {
    "duration": 26,
    "start_time": "2022-03-26T06:35:15.363Z"
   },
   {
    "duration": 12,
    "start_time": "2022-03-26T06:35:15.391Z"
   },
   {
    "duration": 49,
    "start_time": "2022-03-26T06:35:15.405Z"
   },
   {
    "duration": 15,
    "start_time": "2022-03-26T06:35:15.457Z"
   },
   {
    "duration": 17,
    "start_time": "2022-03-26T06:35:15.474Z"
   },
   {
    "duration": 15,
    "start_time": "2022-03-26T06:35:15.493Z"
   },
   {
    "duration": 195,
    "start_time": "2022-03-26T06:35:15.510Z"
   },
   {
    "duration": 16,
    "start_time": "2022-03-26T06:35:15.707Z"
   },
   {
    "duration": 25,
    "start_time": "2022-03-26T06:35:15.725Z"
   },
   {
    "duration": 15,
    "start_time": "2022-03-26T06:35:15.752Z"
   },
   {
    "duration": 185,
    "start_time": "2022-03-26T06:35:15.769Z"
   },
   {
    "duration": 10,
    "start_time": "2022-03-26T06:35:15.956Z"
   },
   {
    "duration": 12,
    "start_time": "2022-03-26T06:35:15.968Z"
   },
   {
    "duration": 315,
    "start_time": "2022-03-26T06:35:15.982Z"
   },
   {
    "duration": 313,
    "start_time": "2022-03-26T06:35:16.300Z"
   },
   {
    "duration": 14,
    "start_time": "2022-03-26T06:35:16.616Z"
   },
   {
    "duration": 10,
    "start_time": "2022-03-26T06:35:16.645Z"
   },
   {
    "duration": 28,
    "start_time": "2022-03-26T06:35:16.657Z"
   },
   {
    "duration": 63,
    "start_time": "2022-03-26T06:35:16.687Z"
   },
   {
    "duration": 14,
    "start_time": "2022-03-26T06:35:16.752Z"
   },
   {
    "duration": 24,
    "start_time": "2022-03-26T06:35:16.768Z"
   },
   {
    "duration": 158,
    "start_time": "2022-03-26T06:35:16.794Z"
   },
   {
    "duration": 12,
    "start_time": "2022-03-26T06:35:16.954Z"
   },
   {
    "duration": 183,
    "start_time": "2022-03-26T06:35:16.973Z"
   },
   {
    "duration": 11,
    "start_time": "2022-03-26T06:35:17.158Z"
   },
   {
    "duration": 210,
    "start_time": "2022-03-26T06:35:17.171Z"
   },
   {
    "duration": 220,
    "start_time": "2022-03-26T06:35:17.383Z"
   },
   {
    "duration": 14,
    "start_time": "2022-03-26T06:35:17.609Z"
   },
   {
    "duration": 21,
    "start_time": "2022-03-26T06:35:17.626Z"
   },
   {
    "duration": 20,
    "start_time": "2022-03-26T06:35:17.649Z"
   },
   {
    "duration": 31,
    "start_time": "2022-03-26T06:35:17.671Z"
   },
   {
    "duration": 45,
    "start_time": "2022-03-26T06:35:17.704Z"
   },
   {
    "duration": 9,
    "start_time": "2022-03-26T06:35:17.752Z"
   },
   {
    "duration": 172,
    "start_time": "2022-03-26T06:35:17.763Z"
   },
   {
    "duration": 9,
    "start_time": "2022-03-26T06:35:17.943Z"
   },
   {
    "duration": 189,
    "start_time": "2022-03-26T06:35:17.954Z"
   },
   {
    "duration": 343,
    "start_time": "2022-03-26T06:35:18.145Z"
   },
   {
    "duration": 280,
    "start_time": "2022-03-26T06:35:18.491Z"
   },
   {
    "duration": 10,
    "start_time": "2022-03-26T06:35:18.773Z"
   },
   {
    "duration": 10,
    "start_time": "2022-03-26T06:35:18.785Z"
   },
   {
    "duration": 11,
    "start_time": "2022-03-26T06:35:18.798Z"
   },
   {
    "duration": 20,
    "start_time": "2022-03-26T06:35:18.844Z"
   },
   {
    "duration": 19,
    "start_time": "2022-03-26T06:35:18.866Z"
   },
   {
    "duration": 12,
    "start_time": "2022-03-26T06:35:18.887Z"
   },
   {
    "duration": 241,
    "start_time": "2022-03-26T06:35:18.902Z"
   },
   {
    "duration": 197,
    "start_time": "2022-03-26T06:35:19.146Z"
   },
   {
    "duration": 27,
    "start_time": "2022-03-26T06:35:19.345Z"
   },
   {
    "duration": 18,
    "start_time": "2022-03-26T06:35:19.375Z"
   },
   {
    "duration": 11,
    "start_time": "2022-03-26T06:35:19.395Z"
   },
   {
    "duration": 36,
    "start_time": "2022-03-26T06:35:19.408Z"
   },
   {
    "duration": 16,
    "start_time": "2022-03-26T06:35:19.447Z"
   },
   {
    "duration": 6,
    "start_time": "2022-03-26T06:35:19.466Z"
   },
   {
    "duration": 8,
    "start_time": "2022-03-26T06:35:19.475Z"
   },
   {
    "duration": 223,
    "start_time": "2022-03-26T06:39:51.165Z"
   },
   {
    "duration": 4,
    "start_time": "2022-03-26T06:46:26.729Z"
   },
   {
    "duration": 3,
    "start_time": "2022-03-26T06:46:30.380Z"
   },
   {
    "duration": 291,
    "start_time": "2022-03-26T06:46:30.386Z"
   },
   {
    "duration": 234,
    "start_time": "2022-03-26T06:46:30.679Z"
   },
   {
    "duration": 152,
    "start_time": "2022-03-26T06:46:30.916Z"
   },
   {
    "duration": 38,
    "start_time": "2022-03-26T06:46:31.070Z"
   },
   {
    "duration": 53,
    "start_time": "2022-03-26T06:46:31.110Z"
   },
   {
    "duration": 157,
    "start_time": "2022-03-26T06:46:31.165Z"
   },
   {
    "duration": 126,
    "start_time": "2022-03-26T06:46:31.325Z"
   },
   {
    "duration": 68,
    "start_time": "2022-03-26T06:46:31.456Z"
   },
   {
    "duration": 11,
    "start_time": "2022-03-26T06:46:31.542Z"
   },
   {
    "duration": 73,
    "start_time": "2022-03-26T06:46:31.555Z"
   },
   {
    "duration": 9,
    "start_time": "2022-03-26T06:46:31.642Z"
   },
   {
    "duration": 33,
    "start_time": "2022-03-26T06:46:31.653Z"
   },
   {
    "duration": 15,
    "start_time": "2022-03-26T06:46:31.688Z"
   },
   {
    "duration": 80,
    "start_time": "2022-03-26T06:46:31.704Z"
   },
   {
    "duration": 8,
    "start_time": "2022-03-26T06:46:31.786Z"
   },
   {
    "duration": 38,
    "start_time": "2022-03-26T06:46:31.796Z"
   },
   {
    "duration": 47,
    "start_time": "2022-03-26T06:46:31.843Z"
   },
   {
    "duration": 8,
    "start_time": "2022-03-26T06:46:31.892Z"
   },
   {
    "duration": 47,
    "start_time": "2022-03-26T06:46:31.903Z"
   },
   {
    "duration": 16,
    "start_time": "2022-03-26T06:46:31.952Z"
   },
   {
    "duration": 150,
    "start_time": "2022-03-26T06:46:31.970Z"
   },
   {
    "duration": 57,
    "start_time": "2022-03-26T06:46:32.123Z"
   },
   {
    "duration": 71,
    "start_time": "2022-03-26T06:46:32.185Z"
   },
   {
    "duration": 23,
    "start_time": "2022-03-26T06:46:32.258Z"
   },
   {
    "duration": 13,
    "start_time": "2022-03-26T06:46:32.283Z"
   },
   {
    "duration": 69,
    "start_time": "2022-03-26T06:46:32.298Z"
   },
   {
    "duration": 22,
    "start_time": "2022-03-26T06:46:32.369Z"
   },
   {
    "duration": 64,
    "start_time": "2022-03-26T06:46:32.393Z"
   },
   {
    "duration": 22,
    "start_time": "2022-03-26T06:46:32.460Z"
   },
   {
    "duration": 62,
    "start_time": "2022-03-26T06:46:32.484Z"
   },
   {
    "duration": 16,
    "start_time": "2022-03-26T06:46:32.549Z"
   },
   {
    "duration": 89,
    "start_time": "2022-03-26T06:46:32.568Z"
   },
   {
    "duration": 16,
    "start_time": "2022-03-26T06:46:32.660Z"
   },
   {
    "duration": 20,
    "start_time": "2022-03-26T06:46:32.678Z"
   },
   {
    "duration": 5,
    "start_time": "2022-03-26T06:46:32.701Z"
   },
   {
    "duration": 128,
    "start_time": "2022-03-26T06:46:32.743Z"
   },
   {
    "duration": 5,
    "start_time": "2022-03-26T06:46:32.874Z"
   },
   {
    "duration": 138,
    "start_time": "2022-03-26T06:46:32.882Z"
   },
   {
    "duration": 4,
    "start_time": "2022-03-26T06:46:33.022Z"
   },
   {
    "duration": 135,
    "start_time": "2022-03-26T06:46:33.028Z"
   },
   {
    "duration": 32,
    "start_time": "2022-03-26T06:46:33.166Z"
   },
   {
    "duration": 59,
    "start_time": "2022-03-26T06:46:33.200Z"
   },
   {
    "duration": 12,
    "start_time": "2022-03-26T06:46:33.261Z"
   },
   {
    "duration": 21,
    "start_time": "2022-03-26T06:46:33.275Z"
   },
   {
    "duration": 59,
    "start_time": "2022-03-26T06:46:33.299Z"
   },
   {
    "duration": 19,
    "start_time": "2022-03-26T06:46:33.361Z"
   },
   {
    "duration": 16,
    "start_time": "2022-03-26T06:46:33.382Z"
   },
   {
    "duration": 48,
    "start_time": "2022-03-26T06:46:33.400Z"
   },
   {
    "duration": 8,
    "start_time": "2022-03-26T06:46:33.451Z"
   },
   {
    "duration": 12,
    "start_time": "2022-03-26T06:46:33.462Z"
   },
   {
    "duration": 181,
    "start_time": "2022-03-26T06:46:33.476Z"
   },
   {
    "duration": 16,
    "start_time": "2022-03-26T06:46:33.660Z"
   },
   {
    "duration": 9,
    "start_time": "2022-03-26T06:46:33.679Z"
   },
   {
    "duration": 11,
    "start_time": "2022-03-26T06:46:33.690Z"
   },
   {
    "duration": 204,
    "start_time": "2022-03-26T06:46:33.703Z"
   },
   {
    "duration": 38,
    "start_time": "2022-03-26T06:46:33.910Z"
   },
   {
    "duration": 16,
    "start_time": "2022-03-26T06:46:33.950Z"
   },
   {
    "duration": 248,
    "start_time": "2022-03-26T06:46:33.968Z"
   },
   {
    "duration": 220,
    "start_time": "2022-03-26T06:46:34.218Z"
   },
   {
    "duration": 13,
    "start_time": "2022-03-26T06:46:34.440Z"
   },
   {
    "duration": 7,
    "start_time": "2022-03-26T06:46:34.455Z"
   },
   {
    "duration": 22,
    "start_time": "2022-03-26T06:46:34.464Z"
   },
   {
    "duration": 25,
    "start_time": "2022-03-26T06:46:34.488Z"
   },
   {
    "duration": 12,
    "start_time": "2022-03-26T06:46:34.516Z"
   },
   {
    "duration": 17,
    "start_time": "2022-03-26T06:46:34.543Z"
   },
   {
    "duration": 146,
    "start_time": "2022-03-26T06:46:34.562Z"
   },
   {
    "duration": 10,
    "start_time": "2022-03-26T06:46:34.710Z"
   },
   {
    "duration": 163,
    "start_time": "2022-03-26T06:46:34.728Z"
   },
   {
    "duration": 10,
    "start_time": "2022-03-26T06:46:34.893Z"
   },
   {
    "duration": 385,
    "start_time": "2022-03-26T06:46:34.905Z"
   },
   {
    "duration": 310,
    "start_time": "2022-03-26T06:46:35.344Z"
   },
   {
    "duration": 14,
    "start_time": "2022-03-26T06:46:35.656Z"
   },
   {
    "duration": 11,
    "start_time": "2022-03-26T06:46:35.672Z"
   },
   {
    "duration": 62,
    "start_time": "2022-03-26T06:46:35.685Z"
   },
   {
    "duration": 97,
    "start_time": "2022-03-26T06:46:35.749Z"
   },
   {
    "duration": 16,
    "start_time": "2022-03-26T06:46:35.849Z"
   },
   {
    "duration": 15,
    "start_time": "2022-03-26T06:46:35.867Z"
   },
   {
    "duration": 291,
    "start_time": "2022-03-26T06:46:35.885Z"
   },
   {
    "duration": 9,
    "start_time": "2022-03-26T06:46:36.178Z"
   },
   {
    "duration": 229,
    "start_time": "2022-03-26T06:46:36.189Z"
   },
   {
    "duration": 335,
    "start_time": "2022-03-26T06:46:36.420Z"
   },
   {
    "duration": 386,
    "start_time": "2022-03-26T06:46:36.757Z"
   },
   {
    "duration": 9,
    "start_time": "2022-03-26T06:46:37.145Z"
   },
   {
    "duration": 13,
    "start_time": "2022-03-26T06:46:37.156Z"
   },
   {
    "duration": 11,
    "start_time": "2022-03-26T06:46:37.171Z"
   },
   {
    "duration": 24,
    "start_time": "2022-03-26T06:46:37.184Z"
   },
   {
    "duration": 20,
    "start_time": "2022-03-26T06:46:37.244Z"
   },
   {
    "duration": 12,
    "start_time": "2022-03-26T06:46:37.266Z"
   },
   {
    "duration": 219,
    "start_time": "2022-03-26T06:46:37.280Z"
   },
   {
    "duration": 268,
    "start_time": "2022-03-26T06:46:37.502Z"
   },
   {
    "duration": 38,
    "start_time": "2022-03-26T06:46:37.773Z"
   },
   {
    "duration": 39,
    "start_time": "2022-03-26T06:46:37.814Z"
   },
   {
    "duration": 8,
    "start_time": "2022-03-26T06:46:37.856Z"
   },
   {
    "duration": 7,
    "start_time": "2022-03-26T06:46:37.867Z"
   },
   {
    "duration": 20,
    "start_time": "2022-03-26T06:46:37.877Z"
   },
   {
    "duration": 46,
    "start_time": "2022-03-26T06:46:37.899Z"
   },
   {
    "duration": 7,
    "start_time": "2022-03-26T06:46:37.948Z"
   },
   {
    "duration": 213,
    "start_time": "2022-03-26T06:48:32.897Z"
   },
   {
    "duration": 286,
    "start_time": "2022-03-26T06:48:46.689Z"
   },
   {
    "duration": 251,
    "start_time": "2022-03-26T06:50:35.235Z"
   },
   {
    "duration": 217,
    "start_time": "2022-03-26T06:50:48.882Z"
   },
   {
    "duration": 241,
    "start_time": "2022-03-26T06:51:36.155Z"
   },
   {
    "duration": 391,
    "start_time": "2022-03-26T06:53:00.466Z"
   },
   {
    "duration": 239,
    "start_time": "2022-03-26T06:53:22.480Z"
   },
   {
    "duration": 231,
    "start_time": "2022-03-26T06:54:27.465Z"
   },
   {
    "duration": 236,
    "start_time": "2022-03-26T06:54:38.696Z"
   },
   {
    "duration": 221,
    "start_time": "2022-03-26T06:55:30.362Z"
   },
   {
    "duration": 227,
    "start_time": "2022-03-26T06:55:38.256Z"
   },
   {
    "duration": 233,
    "start_time": "2022-03-26T06:55:43.942Z"
   },
   {
    "duration": 225,
    "start_time": "2022-03-26T06:56:12.055Z"
   },
   {
    "duration": 220,
    "start_time": "2022-03-26T06:56:14.421Z"
   },
   {
    "duration": 211,
    "start_time": "2022-03-26T06:56:47.389Z"
   },
   {
    "duration": 213,
    "start_time": "2022-03-26T06:57:17.271Z"
   },
   {
    "duration": 215,
    "start_time": "2022-03-26T06:57:23.143Z"
   },
   {
    "duration": 200,
    "start_time": "2022-03-26T06:57:25.647Z"
   },
   {
    "duration": 328,
    "start_time": "2022-03-26T06:57:46.710Z"
   },
   {
    "duration": 241,
    "start_time": "2022-03-26T06:58:12.526Z"
   },
   {
    "duration": 243,
    "start_time": "2022-03-26T06:58:28.221Z"
   },
   {
    "duration": 245,
    "start_time": "2022-03-26T06:58:55.984Z"
   },
   {
    "duration": 250,
    "start_time": "2022-03-26T06:59:00.977Z"
   },
   {
    "duration": 252,
    "start_time": "2022-03-26T06:59:16.397Z"
   },
   {
    "duration": 248,
    "start_time": "2022-03-26T06:59:20.068Z"
   },
   {
    "duration": 321,
    "start_time": "2022-03-26T07:00:06.887Z"
   },
   {
    "duration": 229,
    "start_time": "2022-03-26T07:00:16.774Z"
   },
   {
    "duration": 258,
    "start_time": "2022-03-26T07:00:20.862Z"
   },
   {
    "duration": 308,
    "start_time": "2022-03-26T07:00:48.286Z"
   },
   {
    "duration": 229,
    "start_time": "2022-03-26T07:00:54.174Z"
   },
   {
    "duration": 246,
    "start_time": "2022-03-26T07:01:23.125Z"
   },
   {
    "duration": 163,
    "start_time": "2022-03-26T07:01:42.686Z"
   },
   {
    "duration": 355,
    "start_time": "2022-03-26T07:01:48.045Z"
   },
   {
    "duration": 233,
    "start_time": "2022-03-26T07:02:38.382Z"
   },
   {
    "duration": 241,
    "start_time": "2022-03-26T07:03:10.942Z"
   },
   {
    "duration": 227,
    "start_time": "2022-03-26T07:03:32.221Z"
   },
   {
    "duration": 246,
    "start_time": "2022-03-26T07:03:49.991Z"
   },
   {
    "duration": 229,
    "start_time": "2022-03-26T07:03:54.732Z"
   },
   {
    "duration": 224,
    "start_time": "2022-03-26T07:04:04.860Z"
   },
   {
    "duration": 343,
    "start_time": "2022-03-26T07:04:49.589Z"
   },
   {
    "duration": 227,
    "start_time": "2022-03-26T07:05:24.501Z"
   },
   {
    "duration": 13,
    "start_time": "2022-03-26T07:05:39.146Z"
   },
   {
    "duration": 223,
    "start_time": "2022-03-26T07:06:11.244Z"
   },
   {
    "duration": 231,
    "start_time": "2022-03-26T07:06:15.451Z"
   },
   {
    "duration": 229,
    "start_time": "2022-03-26T07:06:55.860Z"
   },
   {
    "duration": 335,
    "start_time": "2022-03-26T07:07:15.411Z"
   },
   {
    "duration": 234,
    "start_time": "2022-03-26T07:07:26.018Z"
   },
   {
    "duration": 234,
    "start_time": "2022-03-26T07:07:36.098Z"
   },
   {
    "duration": 363,
    "start_time": "2022-03-26T07:07:41.251Z"
   },
   {
    "duration": 220,
    "start_time": "2022-03-26T07:07:56.522Z"
   },
   {
    "duration": 243,
    "start_time": "2022-03-26T07:08:05.436Z"
   },
   {
    "duration": 254,
    "start_time": "2022-03-26T07:08:30.963Z"
   },
   {
    "duration": 228,
    "start_time": "2022-03-26T07:08:56.187Z"
   },
   {
    "duration": 253,
    "start_time": "2022-03-26T07:09:04.276Z"
   },
   {
    "duration": 250,
    "start_time": "2022-03-26T07:09:24.738Z"
   },
   {
    "duration": 223,
    "start_time": "2022-03-26T07:10:43.133Z"
   },
   {
    "duration": 227,
    "start_time": "2022-03-26T07:10:49.977Z"
   },
   {
    "duration": 218,
    "start_time": "2022-03-26T07:11:05.337Z"
   },
   {
    "duration": 299,
    "start_time": "2022-03-26T07:43:45.629Z"
   },
   {
    "duration": 86,
    "start_time": "2022-03-26T07:44:53.701Z"
   },
   {
    "duration": 764,
    "start_time": "2022-03-26T07:46:19.238Z"
   },
   {
    "duration": 472,
    "start_time": "2022-03-26T07:46:50.377Z"
   },
   {
    "duration": 33,
    "start_time": "2022-03-26T07:47:06.685Z"
   },
   {
    "duration": 26,
    "start_time": "2022-03-26T07:47:13.611Z"
   },
   {
    "duration": 5,
    "start_time": "2022-03-26T07:55:31.214Z"
   },
   {
    "duration": 291,
    "start_time": "2022-03-26T07:55:31.221Z"
   },
   {
    "duration": 242,
    "start_time": "2022-03-26T07:55:31.515Z"
   },
   {
    "duration": 154,
    "start_time": "2022-03-26T07:55:31.759Z"
   },
   {
    "duration": 45,
    "start_time": "2022-03-26T07:55:31.916Z"
   },
   {
    "duration": 91,
    "start_time": "2022-03-26T07:55:31.965Z"
   },
   {
    "duration": 152,
    "start_time": "2022-03-26T07:55:32.059Z"
   },
   {
    "duration": 120,
    "start_time": "2022-03-26T07:55:32.213Z"
   },
   {
    "duration": 68,
    "start_time": "2022-03-26T07:55:32.335Z"
   },
   {
    "duration": 9,
    "start_time": "2022-03-26T07:55:32.405Z"
   },
   {
    "duration": 87,
    "start_time": "2022-03-26T07:55:32.418Z"
   },
   {
    "duration": 9,
    "start_time": "2022-03-26T07:55:32.507Z"
   },
   {
    "duration": 59,
    "start_time": "2022-03-26T07:55:32.518Z"
   },
   {
    "duration": 19,
    "start_time": "2022-03-26T07:55:32.580Z"
   },
   {
    "duration": 71,
    "start_time": "2022-03-26T07:55:32.601Z"
   },
   {
    "duration": 7,
    "start_time": "2022-03-26T07:55:32.675Z"
   },
   {
    "duration": 17,
    "start_time": "2022-03-26T07:55:32.684Z"
   },
   {
    "duration": 67,
    "start_time": "2022-03-26T07:55:32.703Z"
   },
   {
    "duration": 7,
    "start_time": "2022-03-26T07:55:32.772Z"
   },
   {
    "duration": 18,
    "start_time": "2022-03-26T07:55:32.781Z"
   },
   {
    "duration": 10,
    "start_time": "2022-03-26T07:55:32.801Z"
   },
   {
    "duration": 140,
    "start_time": "2022-03-26T07:55:32.842Z"
   },
   {
    "duration": 59,
    "start_time": "2022-03-26T07:55:32.985Z"
   },
   {
    "duration": 12,
    "start_time": "2022-03-26T07:55:33.047Z"
   },
   {
    "duration": 0,
    "start_time": "2022-03-26T07:55:33.067Z"
   },
   {
    "duration": 0,
    "start_time": "2022-03-26T07:55:33.069Z"
   },
   {
    "duration": 0,
    "start_time": "2022-03-26T07:55:33.071Z"
   },
   {
    "duration": 0,
    "start_time": "2022-03-26T07:55:33.073Z"
   },
   {
    "duration": 0,
    "start_time": "2022-03-26T07:55:33.075Z"
   },
   {
    "duration": 0,
    "start_time": "2022-03-26T07:55:33.077Z"
   },
   {
    "duration": 0,
    "start_time": "2022-03-26T07:55:33.079Z"
   },
   {
    "duration": 0,
    "start_time": "2022-03-26T07:55:33.080Z"
   },
   {
    "duration": 0,
    "start_time": "2022-03-26T07:55:33.082Z"
   },
   {
    "duration": 0,
    "start_time": "2022-03-26T07:55:33.084Z"
   },
   {
    "duration": 0,
    "start_time": "2022-03-26T07:55:33.086Z"
   },
   {
    "duration": 0,
    "start_time": "2022-03-26T07:55:33.088Z"
   },
   {
    "duration": 0,
    "start_time": "2022-03-26T07:55:33.090Z"
   },
   {
    "duration": 0,
    "start_time": "2022-03-26T07:55:33.092Z"
   },
   {
    "duration": 0,
    "start_time": "2022-03-26T07:55:33.143Z"
   },
   {
    "duration": 0,
    "start_time": "2022-03-26T07:55:33.145Z"
   },
   {
    "duration": 0,
    "start_time": "2022-03-26T07:55:33.147Z"
   },
   {
    "duration": 0,
    "start_time": "2022-03-26T07:55:33.148Z"
   },
   {
    "duration": 0,
    "start_time": "2022-03-26T07:55:33.150Z"
   },
   {
    "duration": 0,
    "start_time": "2022-03-26T07:55:33.152Z"
   },
   {
    "duration": 0,
    "start_time": "2022-03-26T07:55:33.154Z"
   },
   {
    "duration": 0,
    "start_time": "2022-03-26T07:55:33.157Z"
   },
   {
    "duration": 0,
    "start_time": "2022-03-26T07:55:33.158Z"
   },
   {
    "duration": 0,
    "start_time": "2022-03-26T07:55:33.160Z"
   },
   {
    "duration": 0,
    "start_time": "2022-03-26T07:55:33.162Z"
   },
   {
    "duration": 0,
    "start_time": "2022-03-26T07:55:33.164Z"
   },
   {
    "duration": 0,
    "start_time": "2022-03-26T07:55:33.166Z"
   },
   {
    "duration": 0,
    "start_time": "2022-03-26T07:55:33.167Z"
   },
   {
    "duration": 0,
    "start_time": "2022-03-26T07:55:33.170Z"
   },
   {
    "duration": 0,
    "start_time": "2022-03-26T07:55:33.171Z"
   },
   {
    "duration": 0,
    "start_time": "2022-03-26T07:55:33.173Z"
   },
   {
    "duration": 0,
    "start_time": "2022-03-26T07:55:33.174Z"
   },
   {
    "duration": 0,
    "start_time": "2022-03-26T07:55:33.175Z"
   },
   {
    "duration": 0,
    "start_time": "2022-03-26T07:55:33.176Z"
   },
   {
    "duration": 0,
    "start_time": "2022-03-26T07:55:33.178Z"
   },
   {
    "duration": 0,
    "start_time": "2022-03-26T07:55:33.179Z"
   },
   {
    "duration": 0,
    "start_time": "2022-03-26T07:55:33.180Z"
   },
   {
    "duration": 0,
    "start_time": "2022-03-26T07:55:33.182Z"
   },
   {
    "duration": 0,
    "start_time": "2022-03-26T07:55:33.183Z"
   },
   {
    "duration": 0,
    "start_time": "2022-03-26T07:55:33.243Z"
   },
   {
    "duration": 0,
    "start_time": "2022-03-26T07:55:33.244Z"
   },
   {
    "duration": 0,
    "start_time": "2022-03-26T07:55:33.245Z"
   },
   {
    "duration": 0,
    "start_time": "2022-03-26T07:55:33.247Z"
   },
   {
    "duration": 0,
    "start_time": "2022-03-26T07:55:33.248Z"
   },
   {
    "duration": 0,
    "start_time": "2022-03-26T07:55:33.249Z"
   },
   {
    "duration": 0,
    "start_time": "2022-03-26T07:55:33.251Z"
   },
   {
    "duration": 0,
    "start_time": "2022-03-26T07:55:33.252Z"
   },
   {
    "duration": 0,
    "start_time": "2022-03-26T07:55:33.253Z"
   },
   {
    "duration": 1,
    "start_time": "2022-03-26T07:55:33.254Z"
   },
   {
    "duration": 0,
    "start_time": "2022-03-26T07:55:33.256Z"
   },
   {
    "duration": 0,
    "start_time": "2022-03-26T07:55:33.258Z"
   },
   {
    "duration": 0,
    "start_time": "2022-03-26T07:55:33.260Z"
   },
   {
    "duration": 0,
    "start_time": "2022-03-26T07:55:33.261Z"
   },
   {
    "duration": 0,
    "start_time": "2022-03-26T07:55:33.263Z"
   },
   {
    "duration": 0,
    "start_time": "2022-03-26T07:55:33.264Z"
   },
   {
    "duration": 0,
    "start_time": "2022-03-26T07:55:33.266Z"
   },
   {
    "duration": 0,
    "start_time": "2022-03-26T07:55:33.267Z"
   },
   {
    "duration": 0,
    "start_time": "2022-03-26T07:55:33.269Z"
   },
   {
    "duration": 0,
    "start_time": "2022-03-26T07:55:33.272Z"
   },
   {
    "duration": 0,
    "start_time": "2022-03-26T07:55:33.274Z"
   },
   {
    "duration": 0,
    "start_time": "2022-03-26T07:55:33.276Z"
   },
   {
    "duration": 0,
    "start_time": "2022-03-26T07:55:33.278Z"
   },
   {
    "duration": 0,
    "start_time": "2022-03-26T07:55:33.280Z"
   },
   {
    "duration": 0,
    "start_time": "2022-03-26T07:55:33.343Z"
   },
   {
    "duration": 0,
    "start_time": "2022-03-26T07:55:33.345Z"
   },
   {
    "duration": 0,
    "start_time": "2022-03-26T07:55:33.347Z"
   },
   {
    "duration": 0,
    "start_time": "2022-03-26T07:55:33.348Z"
   },
   {
    "duration": 0,
    "start_time": "2022-03-26T07:55:33.351Z"
   },
   {
    "duration": 0,
    "start_time": "2022-03-26T07:55:33.353Z"
   },
   {
    "duration": 0,
    "start_time": "2022-03-26T07:55:33.355Z"
   },
   {
    "duration": 0,
    "start_time": "2022-03-26T07:55:33.357Z"
   },
   {
    "duration": 0,
    "start_time": "2022-03-26T07:55:33.359Z"
   },
   {
    "duration": 0,
    "start_time": "2022-03-26T07:55:33.361Z"
   },
   {
    "duration": 0,
    "start_time": "2022-03-26T07:55:33.363Z"
   },
   {
    "duration": 58,
    "start_time": "2022-03-26T07:56:10.627Z"
   },
   {
    "duration": 4,
    "start_time": "2022-03-26T07:56:16.860Z"
   },
   {
    "duration": 298,
    "start_time": "2022-03-26T07:56:16.867Z"
   },
   {
    "duration": 219,
    "start_time": "2022-03-26T07:56:17.167Z"
   },
   {
    "duration": 144,
    "start_time": "2022-03-26T07:56:17.389Z"
   },
   {
    "duration": 35,
    "start_time": "2022-03-26T07:56:17.535Z"
   },
   {
    "duration": 70,
    "start_time": "2022-03-26T07:56:17.572Z"
   },
   {
    "duration": 149,
    "start_time": "2022-03-26T07:56:17.644Z"
   },
   {
    "duration": 110,
    "start_time": "2022-03-26T07:56:17.795Z"
   },
   {
    "duration": 78,
    "start_time": "2022-03-26T07:56:17.908Z"
   },
   {
    "duration": 8,
    "start_time": "2022-03-26T07:56:17.988Z"
   },
   {
    "duration": 80,
    "start_time": "2022-03-26T07:56:17.998Z"
   },
   {
    "duration": 8,
    "start_time": "2022-03-26T07:56:18.080Z"
   },
   {
    "duration": 22,
    "start_time": "2022-03-26T07:56:18.090Z"
   },
   {
    "duration": 35,
    "start_time": "2022-03-26T07:56:18.114Z"
   },
   {
    "duration": 53,
    "start_time": "2022-03-26T07:56:18.151Z"
   },
   {
    "duration": 9,
    "start_time": "2022-03-26T07:56:18.206Z"
   },
   {
    "duration": 17,
    "start_time": "2022-03-26T07:56:18.243Z"
   },
   {
    "duration": 44,
    "start_time": "2022-03-26T07:56:18.263Z"
   },
   {
    "duration": 36,
    "start_time": "2022-03-26T07:56:18.310Z"
   },
   {
    "duration": 18,
    "start_time": "2022-03-26T07:56:18.348Z"
   },
   {
    "duration": 8,
    "start_time": "2022-03-26T07:56:18.368Z"
   },
   {
    "duration": 157,
    "start_time": "2022-03-26T07:56:18.378Z"
   },
   {
    "duration": 48,
    "start_time": "2022-03-26T07:56:18.542Z"
   },
   {
    "duration": 79,
    "start_time": "2022-03-26T07:56:18.597Z"
   },
   {
    "duration": 26,
    "start_time": "2022-03-26T07:56:18.678Z"
   },
   {
    "duration": 38,
    "start_time": "2022-03-26T07:56:18.706Z"
   },
   {
    "duration": 46,
    "start_time": "2022-03-26T07:56:18.747Z"
   },
   {
    "duration": 52,
    "start_time": "2022-03-26T07:56:18.795Z"
   },
   {
    "duration": 59,
    "start_time": "2022-03-26T07:56:18.850Z"
   },
   {
    "duration": 52,
    "start_time": "2022-03-26T07:56:18.911Z"
   },
   {
    "duration": 52,
    "start_time": "2022-03-26T07:56:18.966Z"
   },
   {
    "duration": 32,
    "start_time": "2022-03-26T07:56:19.020Z"
   },
   {
    "duration": 66,
    "start_time": "2022-03-26T07:56:19.054Z"
   },
   {
    "duration": 34,
    "start_time": "2022-03-26T07:56:19.122Z"
   },
   {
    "duration": 20,
    "start_time": "2022-03-26T07:56:19.159Z"
   },
   {
    "duration": 4,
    "start_time": "2022-03-26T07:56:19.181Z"
   },
   {
    "duration": 178,
    "start_time": "2022-03-26T07:56:19.187Z"
   },
   {
    "duration": 4,
    "start_time": "2022-03-26T07:56:19.367Z"
   },
   {
    "duration": 151,
    "start_time": "2022-03-26T07:56:19.374Z"
   },
   {
    "duration": 16,
    "start_time": "2022-03-26T07:56:19.527Z"
   },
   {
    "duration": 147,
    "start_time": "2022-03-26T07:56:19.544Z"
   },
   {
    "duration": 50,
    "start_time": "2022-03-26T07:56:19.693Z"
   },
   {
    "duration": 38,
    "start_time": "2022-03-26T07:56:19.745Z"
   },
   {
    "duration": 11,
    "start_time": "2022-03-26T07:56:19.786Z"
   },
   {
    "duration": 51,
    "start_time": "2022-03-26T07:56:19.800Z"
   },
   {
    "duration": 28,
    "start_time": "2022-03-26T07:56:19.853Z"
   },
   {
    "duration": 21,
    "start_time": "2022-03-26T07:56:19.883Z"
   },
   {
    "duration": 40,
    "start_time": "2022-03-26T07:56:19.906Z"
   },
   {
    "duration": 17,
    "start_time": "2022-03-26T07:56:19.948Z"
   },
   {
    "duration": 14,
    "start_time": "2022-03-26T07:56:19.967Z"
   },
   {
    "duration": 13,
    "start_time": "2022-03-26T07:56:19.984Z"
   },
   {
    "duration": 186,
    "start_time": "2022-03-26T07:56:20.006Z"
   },
   {
    "duration": 16,
    "start_time": "2022-03-26T07:56:20.194Z"
   },
   {
    "duration": 32,
    "start_time": "2022-03-26T07:56:20.212Z"
   },
   {
    "duration": 13,
    "start_time": "2022-03-26T07:56:20.248Z"
   },
   {
    "duration": 252,
    "start_time": "2022-03-26T07:56:20.263Z"
   },
   {
    "duration": 23,
    "start_time": "2022-03-26T07:56:20.519Z"
   },
   {
    "duration": 14,
    "start_time": "2022-03-26T07:56:20.545Z"
   },
   {
    "duration": 360,
    "start_time": "2022-03-26T07:56:20.561Z"
   },
   {
    "duration": 322,
    "start_time": "2022-03-26T07:56:20.924Z"
   },
   {
    "duration": 12,
    "start_time": "2022-03-26T07:56:21.249Z"
   },
   {
    "duration": 11,
    "start_time": "2022-03-26T07:56:21.263Z"
   },
   {
    "duration": 30,
    "start_time": "2022-03-26T07:56:21.276Z"
   },
   {
    "duration": 56,
    "start_time": "2022-03-26T07:56:21.309Z"
   },
   {
    "duration": 15,
    "start_time": "2022-03-26T07:56:21.367Z"
   },
   {
    "duration": 11,
    "start_time": "2022-03-26T07:56:21.384Z"
   },
   {
    "duration": 180,
    "start_time": "2022-03-26T07:56:21.397Z"
   },
   {
    "duration": 12,
    "start_time": "2022-03-26T07:56:21.579Z"
   },
   {
    "duration": 298,
    "start_time": "2022-03-26T07:56:21.599Z"
   },
   {
    "duration": 9,
    "start_time": "2022-03-26T07:56:21.899Z"
   },
   {
    "duration": 241,
    "start_time": "2022-03-26T07:56:21.911Z"
   },
   {
    "duration": 249,
    "start_time": "2022-03-26T07:56:22.154Z"
   },
   {
    "duration": 11,
    "start_time": "2022-03-26T07:56:22.405Z"
   },
   {
    "duration": 31,
    "start_time": "2022-03-26T07:56:22.418Z"
   },
   {
    "duration": 22,
    "start_time": "2022-03-26T07:56:22.451Z"
   },
   {
    "duration": 30,
    "start_time": "2022-03-26T07:56:22.475Z"
   },
   {
    "duration": 39,
    "start_time": "2022-03-26T07:56:22.507Z"
   },
   {
    "duration": 12,
    "start_time": "2022-03-26T07:56:22.548Z"
   },
   {
    "duration": 174,
    "start_time": "2022-03-26T07:56:22.562Z"
   },
   {
    "duration": 10,
    "start_time": "2022-03-26T07:56:22.739Z"
   },
   {
    "duration": 200,
    "start_time": "2022-03-26T07:56:22.752Z"
   },
   {
    "duration": 244,
    "start_time": "2022-03-26T07:56:22.955Z"
   },
   {
    "duration": 258,
    "start_time": "2022-03-26T07:56:23.202Z"
   },
   {
    "duration": 9,
    "start_time": "2022-03-26T07:56:23.462Z"
   },
   {
    "duration": 11,
    "start_time": "2022-03-26T07:56:23.474Z"
   },
   {
    "duration": 8,
    "start_time": "2022-03-26T07:56:23.488Z"
   },
   {
    "duration": 69,
    "start_time": "2022-03-26T07:56:23.498Z"
   },
   {
    "duration": 23,
    "start_time": "2022-03-26T07:56:23.570Z"
   },
   {
    "duration": 12,
    "start_time": "2022-03-26T07:56:23.596Z"
   },
   {
    "duration": 267,
    "start_time": "2022-03-26T07:56:23.611Z"
   },
   {
    "duration": 225,
    "start_time": "2022-03-26T07:56:23.881Z"
   },
   {
    "duration": 40,
    "start_time": "2022-03-26T07:56:24.109Z"
   },
   {
    "duration": 16,
    "start_time": "2022-03-26T07:56:24.151Z"
   },
   {
    "duration": 8,
    "start_time": "2022-03-26T07:56:24.170Z"
   },
   {
    "duration": 6,
    "start_time": "2022-03-26T07:56:24.180Z"
   },
   {
    "duration": 57,
    "start_time": "2022-03-26T07:56:24.188Z"
   },
   {
    "duration": 6,
    "start_time": "2022-03-26T07:56:24.248Z"
   },
   {
    "duration": 7,
    "start_time": "2022-03-26T07:56:24.256Z"
   },
   {
    "duration": 256,
    "start_time": "2022-03-26T07:59:06.640Z"
   },
   {
    "duration": 254,
    "start_time": "2022-03-26T07:59:33.273Z"
   },
   {
    "duration": 235,
    "start_time": "2022-03-26T07:59:39.735Z"
   },
   {
    "duration": 295,
    "start_time": "2022-03-26T08:00:48.199Z"
   },
   {
    "duration": 331,
    "start_time": "2022-03-26T08:01:04.679Z"
   },
   {
    "duration": 9,
    "start_time": "2022-03-26T08:01:15.879Z"
   },
   {
    "duration": 519,
    "start_time": "2022-03-26T08:01:28.142Z"
   },
   {
    "duration": 752,
    "start_time": "2022-03-26T08:01:42.826Z"
   },
   {
    "duration": 520,
    "start_time": "2022-03-26T08:01:54.856Z"
   },
   {
    "duration": 588,
    "start_time": "2022-03-26T08:02:02.702Z"
   },
   {
    "duration": 469,
    "start_time": "2022-03-26T08:02:13.607Z"
   },
   {
    "duration": 820,
    "start_time": "2022-03-26T08:02:22.127Z"
   },
   {
    "duration": 1053,
    "start_time": "2022-03-26T08:02:47.432Z"
   },
   {
    "duration": 1071,
    "start_time": "2022-03-26T08:03:26.990Z"
   },
   {
    "duration": 856,
    "start_time": "2022-03-26T08:03:31.791Z"
   },
   {
    "duration": 447,
    "start_time": "2022-03-26T08:03:49.209Z"
   },
   {
    "duration": 628,
    "start_time": "2022-03-26T08:03:55.088Z"
   },
   {
    "duration": 481,
    "start_time": "2022-03-26T08:04:14.262Z"
   },
   {
    "duration": 493,
    "start_time": "2022-03-26T08:04:20.501Z"
   },
   {
    "duration": 908,
    "start_time": "2022-03-26T08:04:35.452Z"
   },
   {
    "duration": 441,
    "start_time": "2022-03-26T08:10:30.116Z"
   },
   {
    "duration": 604,
    "start_time": "2022-03-26T08:10:38.484Z"
   },
   {
    "duration": 511,
    "start_time": "2022-03-26T08:13:28.235Z"
   },
   {
    "duration": 639,
    "start_time": "2022-03-26T08:20:42.064Z"
   },
   {
    "duration": 631,
    "start_time": "2022-03-26T08:20:54.857Z"
   },
   {
    "duration": 602,
    "start_time": "2022-03-26T08:21:12.672Z"
   },
   {
    "duration": 1169,
    "start_time": "2022-03-26T08:21:18.960Z"
   },
   {
    "duration": 658,
    "start_time": "2022-03-26T08:21:45.767Z"
   },
   {
    "duration": 426,
    "start_time": "2022-03-26T08:22:06.073Z"
   },
   {
    "duration": 469,
    "start_time": "2022-03-26T08:23:03.783Z"
   },
   {
    "duration": 1724,
    "start_time": "2022-03-26T08:23:37.895Z"
   },
   {
    "duration": 1515,
    "start_time": "2022-03-26T08:23:47.358Z"
   },
   {
    "duration": 1466,
    "start_time": "2022-03-26T08:23:59.761Z"
   },
   {
    "duration": 1195,
    "start_time": "2022-03-26T08:24:15.015Z"
   },
   {
    "duration": 674,
    "start_time": "2022-03-26T08:24:29.664Z"
   },
   {
    "duration": 626,
    "start_time": "2022-03-26T08:24:49.536Z"
   },
   {
    "duration": 893,
    "start_time": "2022-03-26T08:25:51.159Z"
   },
   {
    "duration": 542,
    "start_time": "2022-03-26T08:27:04.767Z"
   },
   {
    "duration": 579,
    "start_time": "2022-03-26T08:27:12.691Z"
   },
   {
    "duration": 1589,
    "start_time": "2022-03-26T08:33:03.335Z"
   },
   {
    "duration": 255,
    "start_time": "2022-03-26T08:33:04.927Z"
   },
   {
    "duration": 248,
    "start_time": "2022-03-26T08:33:05.185Z"
   },
   {
    "duration": 143,
    "start_time": "2022-03-26T08:33:05.443Z"
   },
   {
    "duration": 36,
    "start_time": "2022-03-26T08:33:05.588Z"
   },
   {
    "duration": 70,
    "start_time": "2022-03-26T08:33:05.626Z"
   },
   {
    "duration": 152,
    "start_time": "2022-03-26T08:33:05.698Z"
   },
   {
    "duration": 125,
    "start_time": "2022-03-26T08:33:05.853Z"
   },
   {
    "duration": 81,
    "start_time": "2022-03-26T08:33:05.980Z"
   },
   {
    "duration": 8,
    "start_time": "2022-03-26T08:33:06.065Z"
   },
   {
    "duration": 88,
    "start_time": "2022-03-26T08:33:06.075Z"
   },
   {
    "duration": 9,
    "start_time": "2022-03-26T08:33:06.165Z"
   },
   {
    "duration": 21,
    "start_time": "2022-03-26T08:33:06.177Z"
   },
   {
    "duration": 51,
    "start_time": "2022-03-26T08:33:06.201Z"
   },
   {
    "duration": 54,
    "start_time": "2022-03-26T08:33:06.255Z"
   },
   {
    "duration": 32,
    "start_time": "2022-03-26T08:33:06.311Z"
   },
   {
    "duration": 16,
    "start_time": "2022-03-26T08:33:06.345Z"
   },
   {
    "duration": 44,
    "start_time": "2022-03-26T08:33:06.364Z"
   },
   {
    "duration": 35,
    "start_time": "2022-03-26T08:33:06.411Z"
   },
   {
    "duration": 17,
    "start_time": "2022-03-26T08:33:06.449Z"
   },
   {
    "duration": 14,
    "start_time": "2022-03-26T08:33:06.469Z"
   },
   {
    "duration": 210,
    "start_time": "2022-03-26T08:33:06.486Z"
   },
   {
    "duration": 58,
    "start_time": "2022-03-26T08:33:06.698Z"
   },
   {
    "duration": 57,
    "start_time": "2022-03-26T08:33:06.758Z"
   },
   {
    "duration": 44,
    "start_time": "2022-03-26T08:33:06.817Z"
   },
   {
    "duration": 12,
    "start_time": "2022-03-26T08:33:06.863Z"
   },
   {
    "duration": 32,
    "start_time": "2022-03-26T08:33:06.877Z"
   },
   {
    "duration": 24,
    "start_time": "2022-03-26T08:33:06.945Z"
   },
   {
    "duration": 43,
    "start_time": "2022-03-26T08:33:06.971Z"
   },
   {
    "duration": 45,
    "start_time": "2022-03-26T08:33:07.016Z"
   },
   {
    "duration": 38,
    "start_time": "2022-03-26T08:33:07.063Z"
   },
   {
    "duration": 10,
    "start_time": "2022-03-26T08:33:07.104Z"
   },
   {
    "duration": 54,
    "start_time": "2022-03-26T08:33:07.142Z"
   },
   {
    "duration": 12,
    "start_time": "2022-03-26T08:33:07.198Z"
   },
   {
    "duration": 46,
    "start_time": "2022-03-26T08:33:07.213Z"
   },
   {
    "duration": 5,
    "start_time": "2022-03-26T08:33:07.261Z"
   },
   {
    "duration": 169,
    "start_time": "2022-03-26T08:33:07.268Z"
   },
   {
    "duration": 5,
    "start_time": "2022-03-26T08:33:07.443Z"
   },
   {
    "duration": 148,
    "start_time": "2022-03-26T08:33:07.450Z"
   },
   {
    "duration": 4,
    "start_time": "2022-03-26T08:33:07.600Z"
   },
   {
    "duration": 151,
    "start_time": "2022-03-26T08:33:07.607Z"
   },
   {
    "duration": 32,
    "start_time": "2022-03-26T08:33:07.761Z"
   },
   {
    "duration": 61,
    "start_time": "2022-03-26T08:33:07.797Z"
   },
   {
    "duration": 16,
    "start_time": "2022-03-26T08:33:07.861Z"
   },
   {
    "duration": 30,
    "start_time": "2022-03-26T08:33:07.880Z"
   },
   {
    "duration": 69,
    "start_time": "2022-03-26T08:33:07.912Z"
   },
   {
    "duration": 15,
    "start_time": "2022-03-26T08:33:07.984Z"
   },
   {
    "duration": 46,
    "start_time": "2022-03-26T08:33:08.002Z"
   },
   {
    "duration": 19,
    "start_time": "2022-03-26T08:33:08.051Z"
   },
   {
    "duration": 13,
    "start_time": "2022-03-26T08:33:08.073Z"
   },
   {
    "duration": 16,
    "start_time": "2022-03-26T08:33:08.089Z"
   },
   {
    "duration": 215,
    "start_time": "2022-03-26T08:33:08.108Z"
   },
   {
    "duration": 22,
    "start_time": "2022-03-26T08:33:08.325Z"
   },
   {
    "duration": 11,
    "start_time": "2022-03-26T08:33:08.349Z"
   },
   {
    "duration": 10,
    "start_time": "2022-03-26T08:33:08.362Z"
   },
   {
    "duration": 205,
    "start_time": "2022-03-26T08:33:08.374Z"
   },
   {
    "duration": 10,
    "start_time": "2022-03-26T08:33:08.581Z"
   },
   {
    "duration": 13,
    "start_time": "2022-03-26T08:33:08.593Z"
   },
   {
    "duration": 270,
    "start_time": "2022-03-26T08:33:08.609Z"
   },
   {
    "duration": 238,
    "start_time": "2022-03-26T08:33:08.882Z"
   },
   {
    "duration": 26,
    "start_time": "2022-03-26T08:33:09.122Z"
   },
   {
    "duration": 12,
    "start_time": "2022-03-26T08:33:09.152Z"
   },
   {
    "duration": 30,
    "start_time": "2022-03-26T08:33:09.167Z"
   },
   {
    "duration": 52,
    "start_time": "2022-03-26T08:33:09.199Z"
   },
   {
    "duration": 13,
    "start_time": "2022-03-26T08:33:09.253Z"
   },
   {
    "duration": 15,
    "start_time": "2022-03-26T08:33:09.268Z"
   },
   {
    "duration": 175,
    "start_time": "2022-03-26T08:33:09.284Z"
   },
   {
    "duration": 11,
    "start_time": "2022-03-26T08:33:09.462Z"
   },
   {
    "duration": 246,
    "start_time": "2022-03-26T08:33:09.475Z"
   },
   {
    "duration": 8,
    "start_time": "2022-03-26T08:33:09.723Z"
   },
   {
    "duration": 247,
    "start_time": "2022-03-26T08:33:09.745Z"
   },
   {
    "duration": 264,
    "start_time": "2022-03-26T08:33:09.995Z"
   },
   {
    "duration": 13,
    "start_time": "2022-03-26T08:33:10.262Z"
   },
   {
    "duration": 6,
    "start_time": "2022-03-26T08:33:10.277Z"
   },
   {
    "duration": 19,
    "start_time": "2022-03-26T08:33:10.285Z"
   },
   {
    "duration": 27,
    "start_time": "2022-03-26T08:33:10.344Z"
   },
   {
    "duration": 14,
    "start_time": "2022-03-26T08:33:10.373Z"
   },
   {
    "duration": 11,
    "start_time": "2022-03-26T08:33:10.390Z"
   },
   {
    "duration": 259,
    "start_time": "2022-03-26T08:33:10.404Z"
   },
   {
    "duration": 8,
    "start_time": "2022-03-26T08:33:10.665Z"
   },
   {
    "duration": 191,
    "start_time": "2022-03-26T08:33:10.676Z"
   },
   {
    "duration": 247,
    "start_time": "2022-03-26T08:33:10.876Z"
   },
   {
    "duration": 260,
    "start_time": "2022-03-26T08:33:11.125Z"
   },
   {
    "duration": 9,
    "start_time": "2022-03-26T08:33:11.388Z"
   },
   {
    "duration": 42,
    "start_time": "2022-03-26T08:33:11.400Z"
   },
   {
    "duration": 8,
    "start_time": "2022-03-26T08:33:11.445Z"
   },
   {
    "duration": 21,
    "start_time": "2022-03-26T08:33:11.455Z"
   },
   {
    "duration": 20,
    "start_time": "2022-03-26T08:33:11.478Z"
   },
   {
    "duration": 52,
    "start_time": "2022-03-26T08:33:11.500Z"
   },
   {
    "duration": 238,
    "start_time": "2022-03-26T08:33:11.555Z"
   },
   {
    "duration": 230,
    "start_time": "2022-03-26T08:33:11.796Z"
   },
   {
    "duration": 42,
    "start_time": "2022-03-26T08:33:12.028Z"
   },
   {
    "duration": 18,
    "start_time": "2022-03-26T08:33:12.073Z"
   },
   {
    "duration": 5,
    "start_time": "2022-03-26T08:33:12.093Z"
   },
   {
    "duration": 7,
    "start_time": "2022-03-26T08:33:12.100Z"
   },
   {
    "duration": 15,
    "start_time": "2022-03-26T08:33:12.144Z"
   },
   {
    "duration": 11,
    "start_time": "2022-03-26T08:33:12.161Z"
   },
   {
    "duration": 6,
    "start_time": "2022-03-26T08:33:12.174Z"
   }
  ],
  "kernelspec": {
   "display_name": "Python 3 (ipykernel)",
   "language": "python",
   "name": "python3"
  },
  "language_info": {
   "codemirror_mode": {
    "name": "ipython",
    "version": 3
   },
   "file_extension": ".py",
   "mimetype": "text/x-python",
   "name": "python",
   "nbconvert_exporter": "python",
   "pygments_lexer": "ipython3",
   "version": "3.9.7"
  },
  "toc": {
   "base_numbering": 1,
   "nav_menu": {},
   "number_sections": true,
   "sideBar": true,
   "skip_h1_title": true,
   "title_cell": "Table of Contents",
   "title_sidebar": "Contents",
   "toc_cell": true,
   "toc_position": {
    "height": "calc(100% - 180px)",
    "left": "10px",
    "top": "150px",
    "width": "402.391px"
   },
   "toc_section_display": true,
   "toc_window_display": true
  }
 },
 "nbformat": 4,
 "nbformat_minor": 2
}
